{
 "cells": [
  {
   "cell_type": "code",
   "execution_count": 2,
   "id": "67b589da-d076-457e-b5e2-968a04e6f34c",
   "metadata": {},
   "outputs": [],
   "source": [
    "import pandas as pd\n",
    "import numpy as np\n",
    "import seaborn as sns\n",
    "import matplotlib.pyplot as plt"
   ]
  },
  {
   "cell_type": "code",
   "execution_count": 3,
   "id": "c0a6ec93-a888-444b-bcbc-eab5e34e3d92",
   "metadata": {},
   "outputs": [
    {
     "name": "stdout",
     "output_type": "stream",
     "text": [
      "done\n",
      "  Country or territory name ISO 2-character country/territory code  \\\n",
      "0               Afghanistan                                     AF   \n",
      "1               Afghanistan                                     AF   \n",
      "2               Afghanistan                                     AF   \n",
      "3               Afghanistan                                     AF   \n",
      "4               Afghanistan                                     AF   \n",
      "\n",
      "  ISO 3-character country/territory code  ISO numeric country/territory code  \\\n",
      "0                                    AFG                                   4   \n",
      "1                                    AFG                                   4   \n",
      "2                                    AFG                                   4   \n",
      "3                                    AFG                                   4   \n",
      "4                                    AFG                                   4   \n",
      "\n",
      "  Region  Year  Estimated total population number  \\\n",
      "0    EMR  1990                           11731193   \n",
      "1    EMR  1991                           12612043   \n",
      "2    EMR  1992                           13811876   \n",
      "3    EMR  1993                           15175325   \n",
      "4    EMR  1994                           16485018   \n",
      "\n",
      "   Estimated prevalence of TB (all forms) per 100 000 population  \\\n",
      "0                                              306.0               \n",
      "1                                              343.0               \n",
      "2                                              371.0               \n",
      "3                                              392.0               \n",
      "4                                              410.0               \n",
      "\n",
      "   Estimated prevalence of TB (all forms) per 100 000 population, low bound  \\\n",
      "0                                              156.0                          \n",
      "1                                              178.0                          \n",
      "2                                              189.0                          \n",
      "3                                              194.0                          \n",
      "4                                              198.0                          \n",
      "\n",
      "   Estimated prevalence of TB (all forms) per 100 000 population, high bound  \\\n",
      "0                                              506.0                           \n",
      "1                                              562.0                           \n",
      "2                                              614.0                           \n",
      "3                                              657.0                           \n",
      "4                                              697.0                           \n",
      "\n",
      "   ...  \\\n",
      "0  ...   \n",
      "1  ...   \n",
      "2  ...   \n",
      "3  ...   \n",
      "4  ...   \n",
      "\n",
      "   Estimated incidence of TB cases who are HIV-positive per 100 000 population  \\\n",
      "0                                               0.11                             \n",
      "1                                               0.13                             \n",
      "2                                               0.16                             \n",
      "3                                               0.19                             \n",
      "4                                               0.21                             \n",
      "\n",
      "   Estimated incidence of TB cases who are HIV-positive per 100 000 population, low bound  \\\n",
      "0                                               0.08                                        \n",
      "1                                               0.11                                        \n",
      "2                                               0.14                                        \n",
      "3                                               0.17                                        \n",
      "4                                               0.18                                        \n",
      "\n",
      "   Estimated incidence of TB cases who are HIV-positive per 100 000 population, high bound  \\\n",
      "0                                               0.14                                         \n",
      "1                                               0.16                                         \n",
      "2                                               0.18                                         \n",
      "3                                               0.21                                         \n",
      "4                                               0.24                                         \n",
      "\n",
      "  Estimated incidence of TB cases who are HIV-positive  \\\n",
      "0                                               12.0     \n",
      "1                                               17.0     \n",
      "2                                               22.0     \n",
      "3                                               28.0     \n",
      "4                                               35.0     \n",
      "\n",
      "   Estimated incidence of TB cases who are HIV-positive, low bound  \\\n",
      "0                                                9.4                 \n",
      "1                                               14.0                 \n",
      "2                                               19.0                 \n",
      "3                                               25.0                 \n",
      "4                                               30.0                 \n",
      "\n",
      "   Estimated incidence of TB cases who are HIV-positive, high bound  \\\n",
      "0                                               16.0                  \n",
      "1                                               20.0                  \n",
      "2                                               24.0                  \n",
      "3                                               31.0                  \n",
      "4                                               39.0                  \n",
      "\n",
      "   Method to derive TBHIV estimates  Case detection rate (all forms), percent  \\\n",
      "0                               NaN                                      20.0   \n",
      "1                               NaN                                      96.0   \n",
      "2                               NaN                                       NaN   \n",
      "3                               NaN                                       NaN   \n",
      "4                               NaN                                       NaN   \n",
      "\n",
      "   Case detection rate (all forms), percent, low bound  \\\n",
      "0                                               15.0     \n",
      "1                                               80.0     \n",
      "2                                                NaN     \n",
      "3                                                NaN     \n",
      "4                                                NaN     \n",
      "\n",
      "   Case detection rate (all forms), percent, high bound  \n",
      "0                                               24.0     \n",
      "1                                              110.0     \n",
      "2                                                NaN     \n",
      "3                                                NaN     \n",
      "4                                                NaN     \n",
      "\n",
      "[5 rows x 47 columns]\n"
     ]
    }
   ],
   "source": [
    "df = pd.read_csv('TB_Burden_Country.csv')\n",
    "print('done')\n",
    "print(df.head())"
   ]
  },
  {
   "cell_type": "code",
   "execution_count": 4,
   "id": "5d7e12a6-f6db-47b6-9fc7-df58807a95af",
   "metadata": {},
   "outputs": [
    {
     "data": {
      "text/plain": [
       "(5120, 47)"
      ]
     },
     "execution_count": 4,
     "metadata": {},
     "output_type": "execute_result"
    }
   ],
   "source": [
    "df.shape"
   ]
  },
  {
   "cell_type": "code",
   "execution_count": 5,
   "id": "a90765cd-a015-47ab-a562-2d3499a3e3d0",
   "metadata": {},
   "outputs": [
    {
     "data": {
      "text/plain": [
       "Index(['Country or territory name', 'ISO 2-character country/territory code',\n",
       "       'ISO 3-character country/territory code',\n",
       "       'ISO numeric country/territory code', 'Region', 'Year',\n",
       "       'Estimated total population number',\n",
       "       'Estimated prevalence of TB (all forms) per 100 000 population',\n",
       "       'Estimated prevalence of TB (all forms) per 100 000 population, low bound',\n",
       "       'Estimated prevalence of TB (all forms) per 100 000 population, high bound',\n",
       "       'Estimated prevalence of TB (all forms)',\n",
       "       'Estimated prevalence of TB (all forms), low bound',\n",
       "       'Estimated prevalence of TB (all forms), high bound',\n",
       "       'Method to derive prevalence estimates',\n",
       "       'Estimated mortality of TB cases (all forms, excluding HIV) per 100 000 population',\n",
       "       'Estimated mortality of TB cases (all forms, excluding HIV), per 100 000 population, low bound',\n",
       "       'Estimated mortality of TB cases (all forms, excluding HIV), per 100 000 population, high bound',\n",
       "       'Estimated number of deaths from TB (all forms, excluding HIV)',\n",
       "       'Estimated number of deaths from TB (all forms, excluding HIV), low bound',\n",
       "       'Estimated number of deaths from TB (all forms, excluding HIV), high bound',\n",
       "       'Estimated mortality of TB cases who are HIV-positive, per 100 000 population',\n",
       "       'Estimated mortality of TB cases who are HIV-positive, per 100 000 population, low bound',\n",
       "       'Estimated mortality of TB cases who are HIV-positive, per 100 000 population, high bound',\n",
       "       'Estimated number of deaths from TB in people who are HIV-positive',\n",
       "       'Estimated number of deaths from TB in people who are HIV-positive, low bound',\n",
       "       'Estimated number of deaths from TB in people who are HIV-positive, high bound',\n",
       "       'Method to derive mortality estimates',\n",
       "       'Estimated incidence (all forms) per 100 000 population',\n",
       "       'Estimated incidence (all forms) per 100 000 population, low bound',\n",
       "       'Estimated incidence (all forms) per 100 000 population, high bound',\n",
       "       'Estimated number of incident cases (all forms)',\n",
       "       'Estimated number of incident cases (all forms), low bound',\n",
       "       'Estimated number of incident cases (all forms), high bound',\n",
       "       'Method to derive incidence estimates',\n",
       "       'Estimated HIV in incident TB (percent)',\n",
       "       'Estimated HIV in incident TB (percent), low bound',\n",
       "       'Estimated HIV in incident TB (percent), high bound',\n",
       "       'Estimated incidence of TB cases who are HIV-positive per 100 000 population',\n",
       "       'Estimated incidence of TB cases who are HIV-positive per 100 000 population, low bound',\n",
       "       'Estimated incidence of TB cases who are HIV-positive per 100 000 population, high bound',\n",
       "       'Estimated incidence of TB cases who are HIV-positive',\n",
       "       'Estimated incidence of TB cases who are HIV-positive, low bound',\n",
       "       'Estimated incidence of TB cases who are HIV-positive, high bound',\n",
       "       'Method to derive TBHIV estimates',\n",
       "       'Case detection rate (all forms), percent',\n",
       "       'Case detection rate (all forms), percent, low bound',\n",
       "       'Case detection rate (all forms), percent, high bound'],\n",
       "      dtype='object')"
      ]
     },
     "execution_count": 5,
     "metadata": {},
     "output_type": "execute_result"
    }
   ],
   "source": [
    "df.columns"
   ]
  },
  {
   "cell_type": "code",
   "execution_count": 6,
   "id": "2f0a37d3-031f-4b95-b7d7-97d5de379953",
   "metadata": {},
   "outputs": [
    {
     "data": {
      "text/plain": [
       "Country or territory name                                                                          object\n",
       "ISO 2-character country/territory code                                                             object\n",
       "ISO 3-character country/territory code                                                             object\n",
       "ISO numeric country/territory code                                                                  int64\n",
       "Region                                                                                             object\n",
       "Year                                                                                                int64\n",
       "Estimated total population number                                                                   int64\n",
       "Estimated prevalence of TB (all forms) per 100 000 population                                     float64\n",
       "Estimated prevalence of TB (all forms) per 100 000 population, low bound                          float64\n",
       "Estimated prevalence of TB (all forms) per 100 000 population, high bound                         float64\n",
       "Estimated prevalence of TB (all forms)                                                            float64\n",
       "Estimated prevalence of TB (all forms), low bound                                                 float64\n",
       "Estimated prevalence of TB (all forms), high bound                                                float64\n",
       "Method to derive prevalence estimates                                                              object\n",
       "Estimated mortality of TB cases (all forms, excluding HIV) per 100 000 population                 float64\n",
       "Estimated mortality of TB cases (all forms, excluding HIV), per 100 000 population, low bound     float64\n",
       "Estimated mortality of TB cases (all forms, excluding HIV), per 100 000 population, high bound    float64\n",
       "Estimated number of deaths from TB (all forms, excluding HIV)                                     float64\n",
       "Estimated number of deaths from TB (all forms, excluding HIV), low bound                          float64\n",
       "Estimated number of deaths from TB (all forms, excluding HIV), high bound                         float64\n",
       "Estimated mortality of TB cases who are HIV-positive, per 100 000 population                      float64\n",
       "Estimated mortality of TB cases who are HIV-positive, per 100 000 population, low bound           float64\n",
       "Estimated mortality of TB cases who are HIV-positive, per 100 000 population, high bound          float64\n",
       "Estimated number of deaths from TB in people who are HIV-positive                                 float64\n",
       "Estimated number of deaths from TB in people who are HIV-positive, low bound                      float64\n",
       "Estimated number of deaths from TB in people who are HIV-positive, high bound                     float64\n",
       "Method to derive mortality estimates                                                               object\n",
       "Estimated incidence (all forms) per 100 000 population                                            float64\n",
       "Estimated incidence (all forms) per 100 000 population, low bound                                 float64\n",
       "Estimated incidence (all forms) per 100 000 population, high bound                                float64\n",
       "Estimated number of incident cases (all forms)                                                    float64\n",
       "Estimated number of incident cases (all forms), low bound                                         float64\n",
       "Estimated number of incident cases (all forms), high bound                                        float64\n",
       "Method to derive incidence estimates                                                               object\n",
       "Estimated HIV in incident TB (percent)                                                            float64\n",
       "Estimated HIV in incident TB (percent), low bound                                                 float64\n",
       "Estimated HIV in incident TB (percent), high bound                                                float64\n",
       "Estimated incidence of TB cases who are HIV-positive per 100 000 population                       float64\n",
       "Estimated incidence of TB cases who are HIV-positive per 100 000 population, low bound            float64\n",
       "Estimated incidence of TB cases who are HIV-positive per 100 000 population, high bound           float64\n",
       "Estimated incidence of TB cases who are HIV-positive                                              float64\n",
       "Estimated incidence of TB cases who are HIV-positive, low bound                                   float64\n",
       "Estimated incidence of TB cases who are HIV-positive, high bound                                  float64\n",
       "Method to derive TBHIV estimates                                                                  float64\n",
       "Case detection rate (all forms), percent                                                          float64\n",
       "Case detection rate (all forms), percent, low bound                                               float64\n",
       "Case detection rate (all forms), percent, high bound                                              float64\n",
       "dtype: object"
      ]
     },
     "execution_count": 6,
     "metadata": {},
     "output_type": "execute_result"
    }
   ],
   "source": [
    "df.dtypes"
   ]
  },
  {
   "cell_type": "code",
   "execution_count": 7,
   "id": "41ce8dd3-e05d-441d-a71b-7eaa15691ffd",
   "metadata": {},
   "outputs": [
    {
     "data": {
      "text/plain": [
       "Index(['Country or territory name', 'ISO 2-character country/territory code',\n",
       "       'ISO 3-character country/territory code',\n",
       "       'ISO numeric country/territory code', 'Region', 'Year',\n",
       "       'Estimated total population number',\n",
       "       'Estimated prevalence of TB (all forms) per 100 000 population',\n",
       "       'Estimated prevalence of TB (all forms) per 100 000 population, low bound',\n",
       "       'Estimated prevalence of TB (all forms) per 100 000 population, high bound',\n",
       "       'Estimated prevalence of TB (all forms)',\n",
       "       'Estimated prevalence of TB (all forms), low bound',\n",
       "       'Estimated prevalence of TB (all forms), high bound',\n",
       "       'Method to derive prevalence estimates',\n",
       "       'Estimated mortality of TB cases (all forms, excluding HIV) per 100 000 population',\n",
       "       'Estimated mortality of TB cases (all forms, excluding HIV), per 100 000 population, low bound',\n",
       "       'Estimated mortality of TB cases (all forms, excluding HIV), per 100 000 population, high bound',\n",
       "       'Estimated number of deaths from TB (all forms, excluding HIV)',\n",
       "       'Estimated number of deaths from TB (all forms, excluding HIV), low bound',\n",
       "       'Estimated number of deaths from TB (all forms, excluding HIV), high bound',\n",
       "       'Estimated mortality of TB cases who are HIV-positive, per 100 000 population',\n",
       "       'Estimated mortality of TB cases who are HIV-positive, per 100 000 population, low bound',\n",
       "       'Estimated mortality of TB cases who are HIV-positive, per 100 000 population, high bound',\n",
       "       'Estimated number of deaths from TB in people who are HIV-positive',\n",
       "       'Estimated number of deaths from TB in people who are HIV-positive, low bound',\n",
       "       'Estimated number of deaths from TB in people who are HIV-positive, high bound',\n",
       "       'Method to derive mortality estimates',\n",
       "       'Estimated incidence (all forms) per 100 000 population',\n",
       "       'Estimated incidence (all forms) per 100 000 population, low bound',\n",
       "       'Estimated incidence (all forms) per 100 000 population, high bound',\n",
       "       'Estimated number of incident cases (all forms)',\n",
       "       'Estimated number of incident cases (all forms), low bound',\n",
       "       'Estimated number of incident cases (all forms), high bound',\n",
       "       'Method to derive incidence estimates',\n",
       "       'Estimated HIV in incident TB (percent)',\n",
       "       'Estimated HIV in incident TB (percent), low bound',\n",
       "       'Estimated HIV in incident TB (percent), high bound',\n",
       "       'Estimated incidence of TB cases who are HIV-positive per 100 000 population',\n",
       "       'Estimated incidence of TB cases who are HIV-positive per 100 000 population, low bound',\n",
       "       'Estimated incidence of TB cases who are HIV-positive per 100 000 population, high bound',\n",
       "       'Estimated incidence of TB cases who are HIV-positive',\n",
       "       'Estimated incidence of TB cases who are HIV-positive, low bound',\n",
       "       'Estimated incidence of TB cases who are HIV-positive, high bound',\n",
       "       'Method to derive TBHIV estimates',\n",
       "       'Case detection rate (all forms), percent',\n",
       "       'Case detection rate (all forms), percent, low bound',\n",
       "       'Case detection rate (all forms), percent, high bound'],\n",
       "      dtype='object')"
      ]
     },
     "execution_count": 7,
     "metadata": {},
     "output_type": "execute_result"
    }
   ],
   "source": []
  },
  {
   "cell_type": "code",
   "execution_count": 9,
   "id": "461bb26e-21c9-498f-8cd6-a0f03833e62a",
   "metadata": {},
   "outputs": [
    {
     "name": "stdout",
     "output_type": "stream",
     "text": [
      "Index(['ISO numeric country/territory code', 'Year',\n",
      "       'Estimated total population number'],\n",
      "      dtype='object')\n"
     ]
    }
   ],
   "source": [
    "int_cols = df.select_dtypes(include='int64').columns\n",
    "print(int_cols)"
   ]
  },
  {
   "cell_type": "code",
   "execution_count": 10,
   "id": "12f473e5-3033-43e8-8d8f-97ed48c5fb64",
   "metadata": {},
   "outputs": [
    {
     "name": "stdout",
     "output_type": "stream",
     "text": [
      "Index(['Estimated prevalence of TB (all forms) per 100 000 population',\n",
      "       'Estimated prevalence of TB (all forms) per 100 000 population, low bound',\n",
      "       'Estimated prevalence of TB (all forms) per 100 000 population, high bound',\n",
      "       'Estimated prevalence of TB (all forms)',\n",
      "       'Estimated prevalence of TB (all forms), low bound',\n",
      "       'Estimated prevalence of TB (all forms), high bound',\n",
      "       'Estimated mortality of TB cases (all forms, excluding HIV) per 100 000 population',\n",
      "       'Estimated mortality of TB cases (all forms, excluding HIV), per 100 000 population, low bound',\n",
      "       'Estimated mortality of TB cases (all forms, excluding HIV), per 100 000 population, high bound',\n",
      "       'Estimated number of deaths from TB (all forms, excluding HIV)',\n",
      "       'Estimated number of deaths from TB (all forms, excluding HIV), low bound',\n",
      "       'Estimated number of deaths from TB (all forms, excluding HIV), high bound',\n",
      "       'Estimated mortality of TB cases who are HIV-positive, per 100 000 population',\n",
      "       'Estimated mortality of TB cases who are HIV-positive, per 100 000 population, low bound',\n",
      "       'Estimated mortality of TB cases who are HIV-positive, per 100 000 population, high bound',\n",
      "       'Estimated number of deaths from TB in people who are HIV-positive',\n",
      "       'Estimated number of deaths from TB in people who are HIV-positive, low bound',\n",
      "       'Estimated number of deaths from TB in people who are HIV-positive, high bound',\n",
      "       'Estimated incidence (all forms) per 100 000 population',\n",
      "       'Estimated incidence (all forms) per 100 000 population, low bound',\n",
      "       'Estimated incidence (all forms) per 100 000 population, high bound',\n",
      "       'Estimated number of incident cases (all forms)',\n",
      "       'Estimated number of incident cases (all forms), low bound',\n",
      "       'Estimated number of incident cases (all forms), high bound',\n",
      "       'Estimated HIV in incident TB (percent)',\n",
      "       'Estimated HIV in incident TB (percent), low bound',\n",
      "       'Estimated HIV in incident TB (percent), high bound',\n",
      "       'Estimated incidence of TB cases who are HIV-positive per 100 000 population',\n",
      "       'Estimated incidence of TB cases who are HIV-positive per 100 000 population, low bound',\n",
      "       'Estimated incidence of TB cases who are HIV-positive per 100 000 population, high bound',\n",
      "       'Estimated incidence of TB cases who are HIV-positive',\n",
      "       'Estimated incidence of TB cases who are HIV-positive, low bound',\n",
      "       'Estimated incidence of TB cases who are HIV-positive, high bound',\n",
      "       'Method to derive TBHIV estimates',\n",
      "       'Case detection rate (all forms), percent',\n",
      "       'Case detection rate (all forms), percent, low bound',\n",
      "       'Case detection rate (all forms), percent, high bound'],\n",
      "      dtype='object')\n"
     ]
    }
   ],
   "source": [
    "float_cols = df.select_dtypes(include='float64').columns\n",
    "print(float_cols)"
   ]
  },
  {
   "cell_type": "code",
   "execution_count": 11,
   "id": "d1ac4a87-9334-42c4-8c45-8b08d707154d",
   "metadata": {},
   "outputs": [
    {
     "name": "stdout",
     "output_type": "stream",
     "text": [
      "Index(['Country or territory name', 'ISO 2-character country/territory code',\n",
      "       'ISO 3-character country/territory code', 'Region',\n",
      "       'Method to derive prevalence estimates',\n",
      "       'Method to derive mortality estimates',\n",
      "       'Method to derive incidence estimates'],\n",
      "      dtype='object')\n"
     ]
    }
   ],
   "source": [
    "int_cols = df.select_dtypes(include='object').columns\n",
    "print(int_cols)"
   ]
  },
  {
   "cell_type": "code",
   "execution_count": 13,
   "id": "817dc817-fa59-4eb8-91ec-dd8e3957e741",
   "metadata": {},
   "outputs": [
    {
     "name": "stdout",
     "output_type": "stream",
     "text": [
      "0       False\n",
      "1       False\n",
      "2       False\n",
      "3       False\n",
      "4       False\n",
      "        ...  \n",
      "5115    False\n",
      "5116    False\n",
      "5117    False\n",
      "5118    False\n",
      "5119    False\n",
      "Length: 5120, dtype: bool\n"
     ]
    },
    {
     "data": {
      "text/html": [
       "<div>\n",
       "<style scoped>\n",
       "    .dataframe tbody tr th:only-of-type {\n",
       "        vertical-align: middle;\n",
       "    }\n",
       "\n",
       "    .dataframe tbody tr th {\n",
       "        vertical-align: top;\n",
       "    }\n",
       "\n",
       "    .dataframe thead th {\n",
       "        text-align: right;\n",
       "    }\n",
       "</style>\n",
       "<table border=\"1\" class=\"dataframe\">\n",
       "  <thead>\n",
       "    <tr style=\"text-align: right;\">\n",
       "      <th></th>\n",
       "      <th>Country or territory name</th>\n",
       "      <th>ISO 2-character country/territory code</th>\n",
       "      <th>ISO 3-character country/territory code</th>\n",
       "      <th>ISO numeric country/territory code</th>\n",
       "      <th>Region</th>\n",
       "      <th>Year</th>\n",
       "      <th>Estimated total population number</th>\n",
       "      <th>Estimated prevalence of TB (all forms) per 100 000 population</th>\n",
       "      <th>Estimated prevalence of TB (all forms) per 100 000 population, low bound</th>\n",
       "      <th>Estimated prevalence of TB (all forms) per 100 000 population, high bound</th>\n",
       "      <th>...</th>\n",
       "      <th>Estimated incidence of TB cases who are HIV-positive per 100 000 population</th>\n",
       "      <th>Estimated incidence of TB cases who are HIV-positive per 100 000 population, low bound</th>\n",
       "      <th>Estimated incidence of TB cases who are HIV-positive per 100 000 population, high bound</th>\n",
       "      <th>Estimated incidence of TB cases who are HIV-positive</th>\n",
       "      <th>Estimated incidence of TB cases who are HIV-positive, low bound</th>\n",
       "      <th>Estimated incidence of TB cases who are HIV-positive, high bound</th>\n",
       "      <th>Method to derive TBHIV estimates</th>\n",
       "      <th>Case detection rate (all forms), percent</th>\n",
       "      <th>Case detection rate (all forms), percent, low bound</th>\n",
       "      <th>Case detection rate (all forms), percent, high bound</th>\n",
       "    </tr>\n",
       "  </thead>\n",
       "  <tbody>\n",
       "  </tbody>\n",
       "</table>\n",
       "<p>0 rows × 47 columns</p>\n",
       "</div>"
      ],
      "text/plain": [
       "Empty DataFrame\n",
       "Columns: [Country or territory name, ISO 2-character country/territory code, ISO 3-character country/territory code, ISO numeric country/territory code, Region, Year, Estimated total population number, Estimated prevalence of TB (all forms) per 100 000 population, Estimated prevalence of TB (all forms) per 100 000 population, low bound, Estimated prevalence of TB (all forms) per 100 000 population, high bound, Estimated prevalence of TB (all forms), Estimated prevalence of TB (all forms), low bound, Estimated prevalence of TB (all forms), high bound, Method to derive prevalence estimates, Estimated mortality of TB cases (all forms, excluding HIV) per 100 000 population, Estimated mortality of TB cases (all forms, excluding HIV), per 100 000 population, low bound, Estimated mortality of TB cases (all forms, excluding HIV), per 100 000 population, high bound, Estimated number of deaths from TB (all forms, excluding HIV), Estimated number of deaths from TB (all forms, excluding HIV), low bound, Estimated number of deaths from TB (all forms, excluding HIV), high bound, Estimated mortality of TB cases who are HIV-positive, per 100 000 population, Estimated mortality of TB cases who are HIV-positive, per 100 000 population, low bound, Estimated mortality of TB cases who are HIV-positive, per 100 000 population, high bound, Estimated number of deaths from TB in people who are HIV-positive, Estimated number of deaths from TB in people who are HIV-positive, low bound, Estimated number of deaths from TB in people who are HIV-positive, high bound, Method to derive mortality estimates, Estimated incidence (all forms) per 100 000 population, Estimated incidence (all forms) per 100 000 population, low bound, Estimated incidence (all forms) per 100 000 population, high bound, Estimated number of incident cases (all forms), Estimated number of incident cases (all forms), low bound, Estimated number of incident cases (all forms), high bound, Method to derive incidence estimates, Estimated HIV in incident TB (percent), Estimated HIV in incident TB (percent), low bound, Estimated HIV in incident TB (percent), high bound, Estimated incidence of TB cases who are HIV-positive per 100 000 population, Estimated incidence of TB cases who are HIV-positive per 100 000 population, low bound, Estimated incidence of TB cases who are HIV-positive per 100 000 population, high bound, Estimated incidence of TB cases who are HIV-positive, Estimated incidence of TB cases who are HIV-positive, low bound, Estimated incidence of TB cases who are HIV-positive, high bound, Method to derive TBHIV estimates, Case detection rate (all forms), percent, Case detection rate (all forms), percent, low bound, Case detection rate (all forms), percent, high bound]\n",
       "Index: []\n",
       "\n",
       "[0 rows x 47 columns]"
      ]
     },
     "execution_count": 13,
     "metadata": {},
     "output_type": "execute_result"
    }
   ],
   "source": [
    "duplicates = df.duplicated()\n",
    "print(duplicates)\n",
    "df[df.duplicated(keep=False)]"
   ]
  },
  {
   "cell_type": "code",
   "execution_count": 14,
   "id": "037ee6c1-8246-4b6b-8247-babab8be2198",
   "metadata": {},
   "outputs": [
    {
     "name": "stdout",
     "output_type": "stream",
     "text": [
      "     Country or territory name ISO 2-character country/territory code  \\\n",
      "0                  Afghanistan                                     AF   \n",
      "1                  Afghanistan                                     AF   \n",
      "2                  Afghanistan                                     AF   \n",
      "3                  Afghanistan                                     AF   \n",
      "4                  Afghanistan                                     AF   \n",
      "...                        ...                                    ...   \n",
      "5115                  Zimbabwe                                     ZW   \n",
      "5116                  Zimbabwe                                     ZW   \n",
      "5117                  Zimbabwe                                     ZW   \n",
      "5118                  Zimbabwe                                     ZW   \n",
      "5119                  Zimbabwe                                     ZW   \n",
      "\n",
      "     ISO 3-character country/territory code  \\\n",
      "0                                       AFG   \n",
      "1                                       AFG   \n",
      "2                                       AFG   \n",
      "3                                       AFG   \n",
      "4                                       AFG   \n",
      "...                                     ...   \n",
      "5115                                    ZWE   \n",
      "5116                                    ZWE   \n",
      "5117                                    ZWE   \n",
      "5118                                    ZWE   \n",
      "5119                                    ZWE   \n",
      "\n",
      "      ISO numeric country/territory code Region  Year  \\\n",
      "0                                      4    EMR  1990   \n",
      "1                                      4    EMR  1991   \n",
      "2                                      4    EMR  1992   \n",
      "3                                      4    EMR  1993   \n",
      "4                                      4    EMR  1994   \n",
      "...                                  ...    ...   ...   \n",
      "5115                                 716    AFR  2009   \n",
      "5116                                 716    AFR  2010   \n",
      "5117                                 716    AFR  2011   \n",
      "5118                                 716    AFR  2012   \n",
      "5119                                 716    AFR  2013   \n",
      "\n",
      "      Estimated total population number  \\\n",
      "0                              11731193   \n",
      "1                              12612043   \n",
      "2                              13811876   \n",
      "3                              15175325   \n",
      "4                              16485018   \n",
      "...                                 ...   \n",
      "5115                           12888918   \n",
      "5116                           13076978   \n",
      "5117                           13358738   \n",
      "5118                           13724317   \n",
      "5119                           14149648   \n",
      "\n",
      "      Estimated prevalence of TB (all forms) per 100 000 population  \\\n",
      "0                                                 306.0               \n",
      "1                                                 343.0               \n",
      "2                                                 371.0               \n",
      "3                                                 392.0               \n",
      "4                                                 410.0               \n",
      "...                                                 ...               \n",
      "5115                                              449.0               \n",
      "5116                                              415.0               \n",
      "5117                                              417.0               \n",
      "5118                                              425.0               \n",
      "5119                                              409.0               \n",
      "\n",
      "      Estimated prevalence of TB (all forms) per 100 000 population, low bound  \\\n",
      "0                                                 156.0                          \n",
      "1                                                 178.0                          \n",
      "2                                                 189.0                          \n",
      "3                                                 194.0                          \n",
      "4                                                 198.0                          \n",
      "...                                                 ...                          \n",
      "5115                                              258.0                          \n",
      "5116                                              239.0                          \n",
      "5117                                              241.0                          \n",
      "5118                                              245.0                          \n",
      "5119                                              235.0                          \n",
      "\n",
      "      Estimated prevalence of TB (all forms) per 100 000 population, high bound  \\\n",
      "0                                                 506.0                           \n",
      "1                                                 562.0                           \n",
      "2                                                 614.0                           \n",
      "3                                                 657.0                           \n",
      "4                                                 697.0                           \n",
      "...                                                 ...                           \n",
      "5115                                              692.0                           \n",
      "5116                                              639.0                           \n",
      "5117                                              639.0                           \n",
      "5118                                              654.0                           \n",
      "5119                                              630.0                           \n",
      "\n",
      "      ...  \\\n",
      "0     ...   \n",
      "1     ...   \n",
      "2     ...   \n",
      "3     ...   \n",
      "4     ...   \n",
      "...   ...   \n",
      "5115  ...   \n",
      "5116  ...   \n",
      "5117  ...   \n",
      "5118  ...   \n",
      "5119  ...   \n",
      "\n",
      "      Estimated incidence of TB cases who are HIV-positive per 100 000 population  \\\n",
      "0                                                  0.11                             \n",
      "1                                                  0.13                             \n",
      "2                                                  0.16                             \n",
      "3                                                  0.19                             \n",
      "4                                                  0.21                             \n",
      "...                                                 ...                             \n",
      "5115                                             511.00                             \n",
      "5116                                             487.00                             \n",
      "5117                                             448.00                             \n",
      "5118                                             411.00                             \n",
      "5119                                             395.00                             \n",
      "\n",
      "      Estimated incidence of TB cases who are HIV-positive per 100 000 population, low bound  \\\n",
      "0                                                  0.08                                        \n",
      "1                                                  0.11                                        \n",
      "2                                                  0.14                                        \n",
      "3                                                  0.17                                        \n",
      "4                                                  0.18                                        \n",
      "...                                                 ...                                        \n",
      "5115                                             460.00                                        \n",
      "5116                                             433.00                                        \n",
      "5117                                             403.00                                        \n",
      "5118                                             362.00                                        \n",
      "5119                                             341.00                                        \n",
      "\n",
      "      Estimated incidence of TB cases who are HIV-positive per 100 000 population, high bound  \\\n",
      "0                                                  0.14                                         \n",
      "1                                                  0.16                                         \n",
      "2                                                  0.18                                         \n",
      "3                                                  0.21                                         \n",
      "4                                                  0.24                                         \n",
      "...                                                 ...                                         \n",
      "5115                                             566.00                                         \n",
      "5116                                             545.00                                         \n",
      "5117                                             502.00                                         \n",
      "5118                                             471.00                                         \n",
      "5119                                             464.00                                         \n",
      "\n",
      "     Estimated incidence of TB cases who are HIV-positive  \\\n",
      "0                                                  12.0     \n",
      "1                                                  17.0     \n",
      "2                                                  22.0     \n",
      "3                                                  28.0     \n",
      "4                                                  35.0     \n",
      "...                                                 ...     \n",
      "5115                                            66000.0     \n",
      "5116                                            64000.0     \n",
      "5117                                            60000.0     \n",
      "5118                                            56000.0     \n",
      "5119                                            56000.0     \n",
      "\n",
      "      Estimated incidence of TB cases who are HIV-positive, low bound  \\\n",
      "0                                                   9.4                 \n",
      "1                                                  14.0                 \n",
      "2                                                  19.0                 \n",
      "3                                                  25.0                 \n",
      "4                                                  30.0                 \n",
      "...                                                 ...                 \n",
      "5115                                            59000.0                 \n",
      "5116                                            57000.0                 \n",
      "5117                                            54000.0                 \n",
      "5118                                            50000.0                 \n",
      "5119                                            48000.0                 \n",
      "\n",
      "      Estimated incidence of TB cases who are HIV-positive, high bound  \\\n",
      "0                                                  16.0                  \n",
      "1                                                  20.0                  \n",
      "2                                                  24.0                  \n",
      "3                                                  31.0                  \n",
      "4                                                  39.0                  \n",
      "...                                                 ...                  \n",
      "5115                                            73000.0                  \n",
      "5116                                            71000.0                  \n",
      "5117                                            67000.0                  \n",
      "5118                                            65000.0                  \n",
      "5119                                            66000.0                  \n",
      "\n",
      "      Method to derive TBHIV estimates  \\\n",
      "0                                  NaN   \n",
      "1                                  NaN   \n",
      "2                                  NaN   \n",
      "3                                  NaN   \n",
      "4                                  NaN   \n",
      "...                                ...   \n",
      "5115                               NaN   \n",
      "5116                               NaN   \n",
      "5117                               NaN   \n",
      "5118                               NaN   \n",
      "5119                               NaN   \n",
      "\n",
      "      Case detection rate (all forms), percent  \\\n",
      "0                                         20.0   \n",
      "1                                         96.0   \n",
      "2                                          NaN   \n",
      "3                                          NaN   \n",
      "4                                          NaN   \n",
      "...                                        ...   \n",
      "5115                                      50.0   \n",
      "5116                                      53.0   \n",
      "5117                                      48.0   \n",
      "5118                                      45.0   \n",
      "5119                                      42.0   \n",
      "\n",
      "      Case detection rate (all forms), percent, low bound  \\\n",
      "0                                                  15.0     \n",
      "1                                                  80.0     \n",
      "2                                                   NaN     \n",
      "3                                                   NaN     \n",
      "4                                                   NaN     \n",
      "...                                                 ...     \n",
      "5115                                               45.0     \n",
      "5116                                               48.0     \n",
      "5117                                               43.0     \n",
      "5118                                               40.0     \n",
      "5119                                               36.0     \n",
      "\n",
      "      Case detection rate (all forms), percent, high bound  \n",
      "0                                                  24.0     \n",
      "1                                                 110.0     \n",
      "2                                                   NaN     \n",
      "3                                                   NaN     \n",
      "4                                                   NaN     \n",
      "...                                                 ...     \n",
      "5115                                               54.0     \n",
      "5116                                               59.0     \n",
      "5117                                               53.0     \n",
      "5118                                               52.0     \n",
      "5119                                               49.0     \n",
      "\n",
      "[5120 rows x 47 columns]\n",
      "(5120, 47)\n"
     ]
    }
   ],
   "source": [
    "rows_with_missing_values = df[df.isna().any(axis=1)]\n",
    "print(rows_with_missing_values)\n",
    "print(rows_with_missing_values.shape)"
   ]
  },
  {
   "cell_type": "code",
   "execution_count": 15,
   "id": "f1fd753a-606b-45c9-9fbc-5c65d56730bb",
   "metadata": {},
   "outputs": [
    {
     "name": "stdout",
     "output_type": "stream",
     "text": [
      "Country or territory name                                                                            0\n",
      "ISO 2-character country/territory code                                                              24\n",
      "ISO 3-character country/territory code                                                               0\n",
      "ISO numeric country/territory code                                                                   0\n",
      "Region                                                                                               0\n",
      "Year                                                                                                 0\n",
      "Estimated total population number                                                                    0\n",
      "Estimated prevalence of TB (all forms) per 100 000 population                                        0\n",
      "Estimated prevalence of TB (all forms) per 100 000 population, low bound                            20\n",
      "Estimated prevalence of TB (all forms) per 100 000 population, high bound                           20\n",
      "Estimated prevalence of TB (all forms)                                                               0\n",
      "Estimated prevalence of TB (all forms), low bound                                                   20\n",
      "Estimated prevalence of TB (all forms), high bound                                                  20\n",
      "Method to derive prevalence estimates                                                                0\n",
      "Estimated mortality of TB cases (all forms, excluding HIV) per 100 000 population                    0\n",
      "Estimated mortality of TB cases (all forms, excluding HIV), per 100 000 population, low bound        0\n",
      "Estimated mortality of TB cases (all forms, excluding HIV), per 100 000 population, high bound       0\n",
      "Estimated number of deaths from TB (all forms, excluding HIV)                                        0\n",
      "Estimated number of deaths from TB (all forms, excluding HIV), low bound                             0\n",
      "Estimated number of deaths from TB (all forms, excluding HIV), high bound                            0\n",
      "Estimated mortality of TB cases who are HIV-positive, per 100 000 population                         0\n",
      "Estimated mortality of TB cases who are HIV-positive, per 100 000 population, low bound           1942\n",
      "Estimated mortality of TB cases who are HIV-positive, per 100 000 population, high bound          1942\n",
      "Estimated number of deaths from TB in people who are HIV-positive                                    0\n",
      "Estimated number of deaths from TB in people who are HIV-positive, low bound                      1942\n",
      "Estimated number of deaths from TB in people who are HIV-positive, high bound                     1942\n",
      "Method to derive mortality estimates                                                                 0\n",
      "Estimated incidence (all forms) per 100 000 population                                               0\n",
      "Estimated incidence (all forms) per 100 000 population, low bound                                   94\n",
      "Estimated incidence (all forms) per 100 000 population, high bound                                  94\n",
      "Estimated number of incident cases (all forms)                                                       0\n",
      "Estimated number of incident cases (all forms), low bound                                           94\n",
      "Estimated number of incident cases (all forms), high bound                                          94\n",
      "Method to derive incidence estimates                                                              2133\n",
      "Estimated HIV in incident TB (percent)                                                            1475\n",
      "Estimated HIV in incident TB (percent), low bound                                                 1478\n",
      "Estimated HIV in incident TB (percent), high bound                                                1478\n",
      "Estimated incidence of TB cases who are HIV-positive per 100 000 population                       1475\n",
      "Estimated incidence of TB cases who are HIV-positive per 100 000 population, low bound            1478\n",
      "Estimated incidence of TB cases who are HIV-positive per 100 000 population, high bound           1478\n",
      "Estimated incidence of TB cases who are HIV-positive                                              1475\n",
      "Estimated incidence of TB cases who are HIV-positive, low bound                                   1478\n",
      "Estimated incidence of TB cases who are HIV-positive, high bound                                  1478\n",
      "Method to derive TBHIV estimates                                                                  5120\n",
      "Case detection rate (all forms), percent                                                           449\n",
      "Case detection rate (all forms), percent, low bound                                                449\n",
      "Case detection rate (all forms), percent, high bound                                               449\n",
      "dtype: int64\n"
     ]
    }
   ],
   "source": [
    "null_vals = df.isnull().sum()\n",
    "print(null_vals)"
   ]
  },
  {
   "cell_type": "code",
   "execution_count": 44,
   "id": "128f5188-7e21-4883-ac1b-0ca6b220674e",
   "metadata": {},
   "outputs": [],
   "source": [
    "df.drop_duplicates(inplace=True)\n",
    "df.drop('Method to derive TBHIV estimates', axis=1, inplace=True)"
   ]
  },
  {
   "cell_type": "code",
   "execution_count": 46,
   "id": "277e8522-e067-479c-872a-d98c63c8c013",
   "metadata": {},
   "outputs": [
    {
     "data": {
      "text/plain": [
       "(0, 46)"
      ]
     },
     "execution_count": 46,
     "metadata": {},
     "output_type": "execute_result"
    }
   ],
   "source": [
    "df.columns\n",
    "df.shape"
   ]
  },
  {
   "cell_type": "code",
   "execution_count": 21,
   "id": "2a9aade3-70f3-4026-8090-12e4f733d0dc",
   "metadata": {},
   "outputs": [],
   "source": [
    "df.dropna(inplace=True)"
   ]
  },
  {
   "cell_type": "code",
   "execution_count": 35,
   "id": "cb79f92a-fd00-495d-8dbb-680e47f7b391",
   "metadata": {},
   "outputs": [
    {
     "ename": "SyntaxError",
     "evalue": "invalid syntax. Perhaps you forgot a comma? (2185728997.py, line 1)",
     "output_type": "error",
     "traceback": [
      "\u001b[1;36m  Cell \u001b[1;32mIn[35], line 1\u001b[1;36m\u001b[0m\n\u001b[1;33m    value = df[Estimated mortality of TB cases (all forms, excluding HIV) per 100 000 population].apply(lambda x: isinstance(x,float)).all()\u001b[0m\n\u001b[1;37m               ^\u001b[0m\n\u001b[1;31mSyntaxError\u001b[0m\u001b[1;31m:\u001b[0m invalid syntax. Perhaps you forgot a comma?\n"
     ]
    }
   ],
   "source": [
    "value = df[Estimated mortality of TB cases (all forms, excluding HIV) per 100 000 population].apply(lambda x: isinstance(x,float)).all()\n",
    "return value"
   ]
  },
  {
   "cell_type": "code",
   "execution_count": 42,
   "id": "4c8f74b2-4478-4639-93b3-6ff3cdaf9e3f",
   "metadata": {},
   "outputs": [
    {
     "name": "stdout",
     "output_type": "stream",
     "text": [
      "done\n"
     ]
    }
   ],
   "source": [
    "def find_outliers_zscore(data:object, column:str) -> 'str':\n",
    "    z_score = np.abs((data[column] - data[column].mean() / data[column].std()))\n",
    "    outliers = data[(z_score>2)]\n",
    "    return outliers\n",
    "print('done')"
   ]
  },
  {
   "cell_type": "code",
   "execution_count": 47,
   "id": "04daf75c-03f1-4bf3-bfee-053f7d284200",
   "metadata": {},
   "outputs": [
    {
     "data": {
      "text/plain": [
       "Index(['Country or territory name', 'ISO 2-character country/territory code',\n",
       "       'ISO 3-character country/territory code',\n",
       "       'ISO numeric country/territory code', 'Region', 'Year',\n",
       "       'Estimated total population number',\n",
       "       'Estimated prevalence of TB (all forms) per 100 000 population',\n",
       "       'Estimated prevalence of TB (all forms) per 100 000 population, low bound',\n",
       "       'Estimated prevalence of TB (all forms) per 100 000 population, high bound',\n",
       "       'Estimated prevalence of TB (all forms)',\n",
       "       'Estimated prevalence of TB (all forms), low bound',\n",
       "       'Estimated prevalence of TB (all forms), high bound',\n",
       "       'Method to derive prevalence estimates',\n",
       "       'Estimated mortality of TB cases (all forms, excluding HIV) per 100 000 population',\n",
       "       'Estimated mortality of TB cases (all forms, excluding HIV), per 100 000 population, low bound',\n",
       "       'Estimated mortality of TB cases (all forms, excluding HIV), per 100 000 population, high bound',\n",
       "       'Estimated number of deaths from TB (all forms, excluding HIV)',\n",
       "       'Estimated number of deaths from TB (all forms, excluding HIV), low bound',\n",
       "       'Estimated number of deaths from TB (all forms, excluding HIV), high bound',\n",
       "       'Estimated mortality of TB cases who are HIV-positive, per 100 000 population',\n",
       "       'Estimated mortality of TB cases who are HIV-positive, per 100 000 population, low bound',\n",
       "       'Estimated mortality of TB cases who are HIV-positive, per 100 000 population, high bound',\n",
       "       'Estimated number of deaths from TB in people who are HIV-positive',\n",
       "       'Estimated number of deaths from TB in people who are HIV-positive, low bound',\n",
       "       'Estimated number of deaths from TB in people who are HIV-positive, high bound',\n",
       "       'Method to derive mortality estimates',\n",
       "       'Estimated incidence (all forms) per 100 000 population',\n",
       "       'Estimated incidence (all forms) per 100 000 population, low bound',\n",
       "       'Estimated incidence (all forms) per 100 000 population, high bound',\n",
       "       'Estimated number of incident cases (all forms)',\n",
       "       'Estimated number of incident cases (all forms), low bound',\n",
       "       'Estimated number of incident cases (all forms), high bound',\n",
       "       'Method to derive incidence estimates',\n",
       "       'Estimated HIV in incident TB (percent)',\n",
       "       'Estimated HIV in incident TB (percent), low bound',\n",
       "       'Estimated HIV in incident TB (percent), high bound',\n",
       "       'Estimated incidence of TB cases who are HIV-positive per 100 000 population',\n",
       "       'Estimated incidence of TB cases who are HIV-positive per 100 000 population, low bound',\n",
       "       'Estimated incidence of TB cases who are HIV-positive per 100 000 population, high bound',\n",
       "       'Estimated incidence of TB cases who are HIV-positive',\n",
       "       'Estimated incidence of TB cases who are HIV-positive, low bound',\n",
       "       'Estimated incidence of TB cases who are HIV-positive, high bound',\n",
       "       'Case detection rate (all forms), percent',\n",
       "       'Case detection rate (all forms), percent, low bound',\n",
       "       'Case detection rate (all forms), percent, high bound'],\n",
       "      dtype='object')"
      ]
     },
     "execution_count": 47,
     "metadata": {},
     "output_type": "execute_result"
    }
   ],
   "source": [
    "df.columns"
   ]
  },
  {
   "cell_type": "code",
   "execution_count": 57,
   "id": "4e1b5696-0c9c-4f11-9e48-0e2ea321e983",
   "metadata": {},
   "outputs": [
    {
     "name": "stderr",
     "output_type": "stream",
     "text": [
      "C:\\Users\\monro\\AppData\\Local\\Temp\\ipykernel_2448\\331706248.py:1: UserWarning: Ignoring `palette` because no `hue` variable has been assigned.\n",
      "  sns.relplot(x=\"Estimated total population number\", y=\"Estimated number of deaths from TB (all forms, excluding HIV)\", hue=\"ISO 2-character country/territory code\", size=\"ISO 2-character country/territory code\",\n"
     ]
    },
    {
     "name": "stdout",
     "output_type": "stream",
     "text": [
      "getting ready to plot\n"
     ]
    },
    {
     "data": {
      "image/png": "[encoded data removed]",
      "text/plain": [
       "<Figure size 600x600 with 1 Axes>"
      ]
     },
     "metadata": {},
     "output_type": "display_data"
    }
   ],
   "source": [
    "sns.relplot(x=\"Estimated total population number\", y=\"Estimated number of deaths from TB (all forms, excluding HIV)\", hue=\"ISO 2-character country/territory code\", size=\"ISO 2-character country/territory code\", \n",
    "           sizes=(40, 400), alpha=.5, palette='muted', height=6, data=df)\n",
    "print('getting ready to plot')"
   ]
  },
  {
   "cell_type": "code",
   "execution_count": 51,
   "id": "7302322e-6ee8-421b-aca0-7fc02185eb64",
   "metadata": {},
   "outputs": [
    {
     "data": {
      "image/png": "[encoded data removed]",
      "text/plain": [
       "<Figure size 640x480 with 1 Axes>"
      ]
     },
     "metadata": {},
     "output_type": "display_data"
    }
   ],
   "source": [
    "sns.countplot(x=\"ISO 2-character country/territory code\", hue='Estimated number of deaths from TB (all forms, excluding HIV)', data=df)\n",
    "plt.title('Estimated number of TB deaths by country')\n",
    "plt.show()"
   ]
  },
  {
   "cell_type": "code",
   "execution_count": 53,
   "id": "bf8ef99d-35fc-4bbf-a7d6-871d5a35dd80",
   "metadata": {},
   "outputs": [],
   "source": [
    "df.to_csv('final_dataset.csv', index=False)"
   ]
  },
  {
   "cell_type": "code",
   "execution_count": null,
   "id": "19e18d2c-a900-45f6-901c-0364e3da056c",
   "metadata": {},
   "outputs": [],
   "source": [
    "In this dataset, I was able to find rows with missing, inconsistant or invalid values, \n",
    "and search for outliers. \n",
    "I had some trouble tring to get my visual graphs to show, and I feel like it would be much easier\n",
    "to see things such as outliers on a visual graph.\n",
    "Im looking forward to comparing my findings with others in the class, and possibly find solutions\n",
    "to some of the problems I was having.\n",
    "Overall, I felt like Jupyter Notebook provided an effective way to search though and \n",
    "clean a dataset."
   ]
  }
 ],
 "metadata": {
  "kernelspec": {
   "display_name": "Python 3 (ipykernel)",
   "language": "python",
   "name": "python3"
  },
  "language_info": {
   "codemirror_mode": {
    "name": "ipython",
    "version": 3
   },
   "file_extension": ".py",
   "mimetype": "text/x-python",
   "name": "python",
   "nbconvert_exporter": "python",
   "pygments_lexer": "ipython3",
   "version": "3.12.4"
  }
 },
 "nbformat": 4,
 "nbformat_minor": 5
}

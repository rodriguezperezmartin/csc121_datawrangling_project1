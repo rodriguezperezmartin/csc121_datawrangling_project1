{
 "cells": [
  {
   "cell_type": "code",
   "execution_count": 1,
   "id": "aa8f4771",
   "metadata": {},
   "outputs": [],
   "source": [
    "import pandas as pd\n",
    "import numpy as np\n",
    "import os\n",
    "import seaborn as sns\n",
    "import matplotlib as mpl\n",
    "import matplotlib.pyplot as plt\n",
    "import plotly.express as px"
   ]
  },
  {
   "cell_type": "code",
   "execution_count": 2,
   "id": "d85ca52d",
   "metadata": {},
   "outputs": [
    {
     "name": "stdout",
     "output_type": "stream",
     "text": [
      "Index(['Country or territory name', 'ISO 2-character country/territory code',\n",
      "       'ISO 3-character country/territory code',\n",
      "       'ISO numeric country/territory code', 'Region', 'Year',\n",
      "       'Estimated total population number',\n",
      "       'Estimated prevalence of TB (all forms) per 100 000 population',\n",
      "       'Estimated prevalence of TB (all forms) per 100 000 population, low bound',\n",
      "       'Estimated prevalence of TB (all forms) per 100 000 population, high bound',\n",
      "       'Estimated prevalence of TB (all forms)',\n",
      "       'Estimated prevalence of TB (all forms), low bound',\n",
      "       'Estimated prevalence of TB (all forms), high bound',\n",
      "       'Method to derive prevalence estimates',\n",
      "       'Estimated mortality of TB cases (all forms, excluding HIV) per 100 000 population',\n",
      "       'Estimated mortality of TB cases (all forms, excluding HIV), per 100 000 population, low bound',\n",
      "       'Estimated mortality of TB cases (all forms, excluding HIV), per 100 000 population, high bound',\n",
      "       'Estimated number of deaths from TB (all forms, excluding HIV)',\n",
      "       'Estimated number of deaths from TB (all forms, excluding HIV), low bound',\n",
      "       'Estimated number of deaths from TB (all forms, excluding HIV), high bound',\n",
      "       'Estimated mortality of TB cases who are HIV-positive, per 100 000 population',\n",
      "       'Estimated mortality of TB cases who are HIV-positive, per 100 000 population, low bound',\n",
      "       'Estimated mortality of TB cases who are HIV-positive, per 100 000 population, high bound',\n",
      "       'Estimated number of deaths from TB in people who are HIV-positive',\n",
      "       'Estimated number of deaths from TB in people who are HIV-positive, low bound',\n",
      "       'Estimated number of deaths from TB in people who are HIV-positive, high bound',\n",
      "       'Method to derive mortality estimates',\n",
      "       'Estimated incidence (all forms) per 100 000 population',\n",
      "       'Estimated incidence (all forms) per 100 000 population, low bound',\n",
      "       'Estimated incidence (all forms) per 100 000 population, high bound',\n",
      "       'Estimated number of incident cases (all forms)',\n",
      "       'Estimated number of incident cases (all forms), low bound',\n",
      "       'Estimated number of incident cases (all forms), high bound',\n",
      "       'Method to derive incidence estimates',\n",
      "       'Estimated HIV in incident TB (percent)',\n",
      "       'Estimated HIV in incident TB (percent), low bound',\n",
      "       'Estimated HIV in incident TB (percent), high bound',\n",
      "       'Estimated incidence of TB cases who are HIV-positive per 100 000 population',\n",
      "       'Estimated incidence of TB cases who are HIV-positive per 100 000 population, low bound',\n",
      "       'Estimated incidence of TB cases who are HIV-positive per 100 000 population, high bound',\n",
      "       'Estimated incidence of TB cases who are HIV-positive',\n",
      "       'Estimated incidence of TB cases who are HIV-positive, low bound',\n",
      "       'Estimated incidence of TB cases who are HIV-positive, high bound',\n",
      "       'Method to derive TBHIV estimates',\n",
      "       'Case detection rate (all forms), percent',\n",
      "       'Case detection rate (all forms), percent, low bound',\n",
      "       'Case detection rate (all forms), percent, high bound'],\n",
      "      dtype='object')\n",
      "(5120, 47)\n"
     ]
    }
   ],
   "source": [
    "################### READ IN THE DATASET FIRST #########################\n",
    "df = pd.read_csv('./local_data/TB_Burden_Country.csv')\n",
    "print(df.columns)\n",
    "print(df.shape)"
   ]
  },
  {
   "cell_type": "code",
   "execution_count": 3,
   "id": "aec3931c",
   "metadata": {},
   "outputs": [
    {
     "name": "stdout",
     "output_type": "stream",
     "text": [
      "(5120, 11)\n"
     ]
    }
   ],
   "source": [
    "################## Identify Columns needed and which to drop #########################\n",
    "#analyze in excel if possible\n",
    "#identify columns to keep based on business objective\n",
    "#Objective --> identify which countries have a high prevelence of turberculosis cases and which have higher death rates\n",
    "\n",
    "\n",
    "\n",
    "columns_keep = [\n",
    "    'Country or territory name',\n",
    "    'ISO 3-character country/territory code',\n",
    "    'Region',\n",
    "    'Year',\n",
    "    'Estimated total population number',\n",
    "    'Estimated prevalence of TB (all forms)',\n",
    "    'Method to derive prevalence estimates',\n",
    "    'Estimated number of deaths from TB (all forms, excluding HIV)',\n",
    "    'Estimated number of deaths from TB in people who are HIV-positive',\n",
    "    'Method to derive mortality estimates',\n",
    "    'Estimated number of incident cases (all forms)'\n",
    "]\n",
    "\n",
    "df = df[columns_keep]\n",
    "print(df.shape)"
   ]
  },
  {
   "cell_type": "code",
   "execution_count": 4,
   "id": "b56e63c5",
   "metadata": {},
   "outputs": [],
   "source": [
    "# Continue to clean up dataset prior to feature engineering and wrangling\n",
    "#dic_list = {}\n",
    "col_mapping = {\n",
    "    'Country or territory name': 'country',\n",
    "    'ISO 3-character country/territory code': 'country_code',\n",
    "    'Region': 'region',\n",
    "    'Year': 'year',\n",
    "    'Estimated total population number': 'population',\n",
    "    'Estimated prevalence of TB (all forms)': 'tb_prevalence_all_forms',\n",
    "    'Method to derive prevalence estimates': 'prevalence_method',\n",
    "    'Estimated number of deaths from TB (all forms, excluding HIV)': 'tb_deaths_exc_hiv',\n",
    "    'Estimated number of deaths from TB in people who are HIV-positive': 'tb_death_hiv',\n",
    "    'Method to derive mortality estimates': 'mortality_method',\n",
    "    'Estimated number of incident cases (all forms)': 'num_incidents_all_forms'\n",
    "}\n",
    "df.rename(columns=col_mapping, inplace=True)"
   ]
  },
  {
   "cell_type": "code",
   "execution_count": 5,
   "id": "eb71e14d",
   "metadata": {},
   "outputs": [
    {
     "data": {
      "text/html": [
       "<div>\n",
       "<style scoped>\n",
       "    .dataframe tbody tr th:only-of-type {\n",
       "        vertical-align: middle;\n",
       "    }\n",
       "\n",
       "    .dataframe tbody tr th {\n",
       "        vertical-align: top;\n",
       "    }\n",
       "\n",
       "    .dataframe thead th {\n",
       "        text-align: right;\n",
       "    }\n",
       "</style>\n",
       "<table border=\"1\" class=\"dataframe\">\n",
       "  <thead>\n",
       "    <tr style=\"text-align: right;\">\n",
       "      <th></th>\n",
       "      <th>country</th>\n",
       "      <th>country_code</th>\n",
       "      <th>region</th>\n",
       "      <th>year</th>\n",
       "      <th>population</th>\n",
       "      <th>tb_prevalence_all_forms</th>\n",
       "      <th>prevalence_method</th>\n",
       "      <th>tb_deaths_exc_hiv</th>\n",
       "      <th>tb_death_hiv</th>\n",
       "      <th>mortality_method</th>\n",
       "      <th>num_incidents_all_forms</th>\n",
       "    </tr>\n",
       "  </thead>\n",
       "  <tbody>\n",
       "    <tr>\n",
       "      <th>0</th>\n",
       "      <td>Afghanistan</td>\n",
       "      <td>AFG</td>\n",
       "      <td>EMR</td>\n",
       "      <td>1990</td>\n",
       "      <td>11731193</td>\n",
       "      <td>36000.0</td>\n",
       "      <td>predicted</td>\n",
       "      <td>4300.0</td>\n",
       "      <td>5.0</td>\n",
       "      <td>Indirect</td>\n",
       "      <td>22000.0</td>\n",
       "    </tr>\n",
       "    <tr>\n",
       "      <th>1</th>\n",
       "      <td>Afghanistan</td>\n",
       "      <td>AFG</td>\n",
       "      <td>EMR</td>\n",
       "      <td>1991</td>\n",
       "      <td>12612043</td>\n",
       "      <td>43000.0</td>\n",
       "      <td>predicted</td>\n",
       "      <td>5800.0</td>\n",
       "      <td>8.0</td>\n",
       "      <td>Indirect</td>\n",
       "      <td>24000.0</td>\n",
       "    </tr>\n",
       "    <tr>\n",
       "      <th>2</th>\n",
       "      <td>Afghanistan</td>\n",
       "      <td>AFG</td>\n",
       "      <td>EMR</td>\n",
       "      <td>1992</td>\n",
       "      <td>13811876</td>\n",
       "      <td>51000.0</td>\n",
       "      <td>predicted</td>\n",
       "      <td>7400.0</td>\n",
       "      <td>11.0</td>\n",
       "      <td>Indirect</td>\n",
       "      <td>26000.0</td>\n",
       "    </tr>\n",
       "    <tr>\n",
       "      <th>3</th>\n",
       "      <td>Afghanistan</td>\n",
       "      <td>AFG</td>\n",
       "      <td>EMR</td>\n",
       "      <td>1993</td>\n",
       "      <td>15175325</td>\n",
       "      <td>59000.0</td>\n",
       "      <td>predicted</td>\n",
       "      <td>9100.0</td>\n",
       "      <td>17.0</td>\n",
       "      <td>Indirect</td>\n",
       "      <td>29000.0</td>\n",
       "    </tr>\n",
       "    <tr>\n",
       "      <th>4</th>\n",
       "      <td>Afghanistan</td>\n",
       "      <td>AFG</td>\n",
       "      <td>EMR</td>\n",
       "      <td>1994</td>\n",
       "      <td>16485018</td>\n",
       "      <td>68000.0</td>\n",
       "      <td>predicted</td>\n",
       "      <td>11000.0</td>\n",
       "      <td>22.0</td>\n",
       "      <td>Indirect</td>\n",
       "      <td>31000.0</td>\n",
       "    </tr>\n",
       "    <tr>\n",
       "      <th>...</th>\n",
       "      <td>...</td>\n",
       "      <td>...</td>\n",
       "      <td>...</td>\n",
       "      <td>...</td>\n",
       "      <td>...</td>\n",
       "      <td>...</td>\n",
       "      <td>...</td>\n",
       "      <td>...</td>\n",
       "      <td>...</td>\n",
       "      <td>...</td>\n",
       "      <td>...</td>\n",
       "    </tr>\n",
       "    <tr>\n",
       "      <th>5115</th>\n",
       "      <td>Zimbabwe</td>\n",
       "      <td>ZWE</td>\n",
       "      <td>AFR</td>\n",
       "      <td>2009</td>\n",
       "      <td>12888918</td>\n",
       "      <td>58000.0</td>\n",
       "      <td>predicted</td>\n",
       "      <td>5000.0</td>\n",
       "      <td>27000.0</td>\n",
       "      <td>Indirect</td>\n",
       "      <td>87000.0</td>\n",
       "    </tr>\n",
       "    <tr>\n",
       "      <th>5116</th>\n",
       "      <td>Zimbabwe</td>\n",
       "      <td>ZWE</td>\n",
       "      <td>AFR</td>\n",
       "      <td>2010</td>\n",
       "      <td>13076978</td>\n",
       "      <td>54000.0</td>\n",
       "      <td>predicted</td>\n",
       "      <td>4700.0</td>\n",
       "      <td>26000.0</td>\n",
       "      <td>Indirect</td>\n",
       "      <td>83000.0</td>\n",
       "    </tr>\n",
       "    <tr>\n",
       "      <th>5117</th>\n",
       "      <td>Zimbabwe</td>\n",
       "      <td>ZWE</td>\n",
       "      <td>AFR</td>\n",
       "      <td>2011</td>\n",
       "      <td>13358738</td>\n",
       "      <td>56000.0</td>\n",
       "      <td>predicted</td>\n",
       "      <td>5100.0</td>\n",
       "      <td>24000.0</td>\n",
       "      <td>Indirect</td>\n",
       "      <td>80000.0</td>\n",
       "    </tr>\n",
       "    <tr>\n",
       "      <th>5118</th>\n",
       "      <td>Zimbabwe</td>\n",
       "      <td>ZWE</td>\n",
       "      <td>AFR</td>\n",
       "      <td>2012</td>\n",
       "      <td>13724317</td>\n",
       "      <td>58000.0</td>\n",
       "      <td>predicted</td>\n",
       "      <td>5600.0</td>\n",
       "      <td>22000.0</td>\n",
       "      <td>Indirect</td>\n",
       "      <td>79000.0</td>\n",
       "    </tr>\n",
       "    <tr>\n",
       "      <th>5119</th>\n",
       "      <td>Zimbabwe</td>\n",
       "      <td>ZWE</td>\n",
       "      <td>AFR</td>\n",
       "      <td>2013</td>\n",
       "      <td>14149648</td>\n",
       "      <td>58000.0</td>\n",
       "      <td>predicted</td>\n",
       "      <td>5700.0</td>\n",
       "      <td>22000.0</td>\n",
       "      <td>Indirect</td>\n",
       "      <td>78000.0</td>\n",
       "    </tr>\n",
       "  </tbody>\n",
       "</table>\n",
       "<p>5120 rows × 11 columns</p>\n",
       "</div>"
      ],
      "text/plain": [
       "          country country_code region  year  population  \\\n",
       "0     Afghanistan          AFG    EMR  1990    11731193   \n",
       "1     Afghanistan          AFG    EMR  1991    12612043   \n",
       "2     Afghanistan          AFG    EMR  1992    13811876   \n",
       "3     Afghanistan          AFG    EMR  1993    15175325   \n",
       "4     Afghanistan          AFG    EMR  1994    16485018   \n",
       "...           ...          ...    ...   ...         ...   \n",
       "5115     Zimbabwe          ZWE    AFR  2009    12888918   \n",
       "5116     Zimbabwe          ZWE    AFR  2010    13076978   \n",
       "5117     Zimbabwe          ZWE    AFR  2011    13358738   \n",
       "5118     Zimbabwe          ZWE    AFR  2012    13724317   \n",
       "5119     Zimbabwe          ZWE    AFR  2013    14149648   \n",
       "\n",
       "      tb_prevalence_all_forms prevalence_method  tb_deaths_exc_hiv  \\\n",
       "0                     36000.0         predicted             4300.0   \n",
       "1                     43000.0         predicted             5800.0   \n",
       "2                     51000.0         predicted             7400.0   \n",
       "3                     59000.0         predicted             9100.0   \n",
       "4                     68000.0         predicted            11000.0   \n",
       "...                       ...               ...                ...   \n",
       "5115                  58000.0         predicted             5000.0   \n",
       "5116                  54000.0         predicted             4700.0   \n",
       "5117                  56000.0         predicted             5100.0   \n",
       "5118                  58000.0         predicted             5600.0   \n",
       "5119                  58000.0         predicted             5700.0   \n",
       "\n",
       "      tb_death_hiv mortality_method  num_incidents_all_forms  \n",
       "0              5.0         Indirect                  22000.0  \n",
       "1              8.0         Indirect                  24000.0  \n",
       "2             11.0         Indirect                  26000.0  \n",
       "3             17.0         Indirect                  29000.0  \n",
       "4             22.0         Indirect                  31000.0  \n",
       "...            ...              ...                      ...  \n",
       "5115       27000.0         Indirect                  87000.0  \n",
       "5116       26000.0         Indirect                  83000.0  \n",
       "5117       24000.0         Indirect                  80000.0  \n",
       "5118       22000.0         Indirect                  79000.0  \n",
       "5119       22000.0         Indirect                  78000.0  \n",
       "\n",
       "[5120 rows x 11 columns]"
      ]
     },
     "execution_count": 5,
     "metadata": {},
     "output_type": "execute_result"
    }
   ],
   "source": [
    "df"
   ]
  },
  {
   "cell_type": "code",
   "execution_count": 6,
   "id": "fc5dd580",
   "metadata": {},
   "outputs": [
    {
     "data": {
      "text/html": [
       "<div>\n",
       "<style scoped>\n",
       "    .dataframe tbody tr th:only-of-type {\n",
       "        vertical-align: middle;\n",
       "    }\n",
       "\n",
       "    .dataframe tbody tr th {\n",
       "        vertical-align: top;\n",
       "    }\n",
       "\n",
       "    .dataframe thead th {\n",
       "        text-align: right;\n",
       "    }\n",
       "</style>\n",
       "<table border=\"1\" class=\"dataframe\">\n",
       "  <thead>\n",
       "    <tr style=\"text-align: right;\">\n",
       "      <th></th>\n",
       "      <th>country</th>\n",
       "      <th>country_code</th>\n",
       "      <th>region</th>\n",
       "      <th>year</th>\n",
       "      <th>population</th>\n",
       "      <th>tb_prevalence_all_forms</th>\n",
       "      <th>prevalence_method</th>\n",
       "      <th>tb_deaths_exc_hiv</th>\n",
       "      <th>tb_death_hiv</th>\n",
       "      <th>mortality_method</th>\n",
       "      <th>num_incidents_all_forms</th>\n",
       "    </tr>\n",
       "  </thead>\n",
       "  <tbody>\n",
       "    <tr>\n",
       "      <th>0</th>\n",
       "      <td>Afghanistan</td>\n",
       "      <td>AFG</td>\n",
       "      <td>EMR</td>\n",
       "      <td>1990</td>\n",
       "      <td>11731193</td>\n",
       "      <td>36000.0</td>\n",
       "      <td>predicted</td>\n",
       "      <td>4300.0</td>\n",
       "      <td>5.0</td>\n",
       "      <td>Indirect</td>\n",
       "      <td>22000.0</td>\n",
       "    </tr>\n",
       "    <tr>\n",
       "      <th>1</th>\n",
       "      <td>Afghanistan</td>\n",
       "      <td>AFG</td>\n",
       "      <td>EMR</td>\n",
       "      <td>1991</td>\n",
       "      <td>12612043</td>\n",
       "      <td>43000.0</td>\n",
       "      <td>predicted</td>\n",
       "      <td>5800.0</td>\n",
       "      <td>8.0</td>\n",
       "      <td>Indirect</td>\n",
       "      <td>24000.0</td>\n",
       "    </tr>\n",
       "    <tr>\n",
       "      <th>2</th>\n",
       "      <td>Afghanistan</td>\n",
       "      <td>AFG</td>\n",
       "      <td>EMR</td>\n",
       "      <td>1992</td>\n",
       "      <td>13811876</td>\n",
       "      <td>51000.0</td>\n",
       "      <td>predicted</td>\n",
       "      <td>7400.0</td>\n",
       "      <td>11.0</td>\n",
       "      <td>Indirect</td>\n",
       "      <td>26000.0</td>\n",
       "    </tr>\n",
       "    <tr>\n",
       "      <th>3</th>\n",
       "      <td>Afghanistan</td>\n",
       "      <td>AFG</td>\n",
       "      <td>EMR</td>\n",
       "      <td>1993</td>\n",
       "      <td>15175325</td>\n",
       "      <td>59000.0</td>\n",
       "      <td>predicted</td>\n",
       "      <td>9100.0</td>\n",
       "      <td>17.0</td>\n",
       "      <td>Indirect</td>\n",
       "      <td>29000.0</td>\n",
       "    </tr>\n",
       "    <tr>\n",
       "      <th>4</th>\n",
       "      <td>Afghanistan</td>\n",
       "      <td>AFG</td>\n",
       "      <td>EMR</td>\n",
       "      <td>1994</td>\n",
       "      <td>16485018</td>\n",
       "      <td>68000.0</td>\n",
       "      <td>predicted</td>\n",
       "      <td>11000.0</td>\n",
       "      <td>22.0</td>\n",
       "      <td>Indirect</td>\n",
       "      <td>31000.0</td>\n",
       "    </tr>\n",
       "    <tr>\n",
       "      <th>...</th>\n",
       "      <td>...</td>\n",
       "      <td>...</td>\n",
       "      <td>...</td>\n",
       "      <td>...</td>\n",
       "      <td>...</td>\n",
       "      <td>...</td>\n",
       "      <td>...</td>\n",
       "      <td>...</td>\n",
       "      <td>...</td>\n",
       "      <td>...</td>\n",
       "      <td>...</td>\n",
       "    </tr>\n",
       "    <tr>\n",
       "      <th>5115</th>\n",
       "      <td>Zimbabwe</td>\n",
       "      <td>ZWE</td>\n",
       "      <td>AFR</td>\n",
       "      <td>2009</td>\n",
       "      <td>12888918</td>\n",
       "      <td>58000.0</td>\n",
       "      <td>predicted</td>\n",
       "      <td>5000.0</td>\n",
       "      <td>27000.0</td>\n",
       "      <td>Indirect</td>\n",
       "      <td>87000.0</td>\n",
       "    </tr>\n",
       "    <tr>\n",
       "      <th>5116</th>\n",
       "      <td>Zimbabwe</td>\n",
       "      <td>ZWE</td>\n",
       "      <td>AFR</td>\n",
       "      <td>2010</td>\n",
       "      <td>13076978</td>\n",
       "      <td>54000.0</td>\n",
       "      <td>predicted</td>\n",
       "      <td>4700.0</td>\n",
       "      <td>26000.0</td>\n",
       "      <td>Indirect</td>\n",
       "      <td>83000.0</td>\n",
       "    </tr>\n",
       "    <tr>\n",
       "      <th>5117</th>\n",
       "      <td>Zimbabwe</td>\n",
       "      <td>ZWE</td>\n",
       "      <td>AFR</td>\n",
       "      <td>2011</td>\n",
       "      <td>13358738</td>\n",
       "      <td>56000.0</td>\n",
       "      <td>predicted</td>\n",
       "      <td>5100.0</td>\n",
       "      <td>24000.0</td>\n",
       "      <td>Indirect</td>\n",
       "      <td>80000.0</td>\n",
       "    </tr>\n",
       "    <tr>\n",
       "      <th>5118</th>\n",
       "      <td>Zimbabwe</td>\n",
       "      <td>ZWE</td>\n",
       "      <td>AFR</td>\n",
       "      <td>2012</td>\n",
       "      <td>13724317</td>\n",
       "      <td>58000.0</td>\n",
       "      <td>predicted</td>\n",
       "      <td>5600.0</td>\n",
       "      <td>22000.0</td>\n",
       "      <td>Indirect</td>\n",
       "      <td>79000.0</td>\n",
       "    </tr>\n",
       "    <tr>\n",
       "      <th>5119</th>\n",
       "      <td>Zimbabwe</td>\n",
       "      <td>ZWE</td>\n",
       "      <td>AFR</td>\n",
       "      <td>2013</td>\n",
       "      <td>14149648</td>\n",
       "      <td>58000.0</td>\n",
       "      <td>predicted</td>\n",
       "      <td>5700.0</td>\n",
       "      <td>22000.0</td>\n",
       "      <td>Indirect</td>\n",
       "      <td>78000.0</td>\n",
       "    </tr>\n",
       "  </tbody>\n",
       "</table>\n",
       "<p>5120 rows × 11 columns</p>\n",
       "</div>"
      ],
      "text/plain": [
       "          country country_code region  year  population  \\\n",
       "0     Afghanistan          AFG    EMR  1990    11731193   \n",
       "1     Afghanistan          AFG    EMR  1991    12612043   \n",
       "2     Afghanistan          AFG    EMR  1992    13811876   \n",
       "3     Afghanistan          AFG    EMR  1993    15175325   \n",
       "4     Afghanistan          AFG    EMR  1994    16485018   \n",
       "...           ...          ...    ...   ...         ...   \n",
       "5115     Zimbabwe          ZWE    AFR  2009    12888918   \n",
       "5116     Zimbabwe          ZWE    AFR  2010    13076978   \n",
       "5117     Zimbabwe          ZWE    AFR  2011    13358738   \n",
       "5118     Zimbabwe          ZWE    AFR  2012    13724317   \n",
       "5119     Zimbabwe          ZWE    AFR  2013    14149648   \n",
       "\n",
       "      tb_prevalence_all_forms prevalence_method  tb_deaths_exc_hiv  \\\n",
       "0                     36000.0         predicted             4300.0   \n",
       "1                     43000.0         predicted             5800.0   \n",
       "2                     51000.0         predicted             7400.0   \n",
       "3                     59000.0         predicted             9100.0   \n",
       "4                     68000.0         predicted            11000.0   \n",
       "...                       ...               ...                ...   \n",
       "5115                  58000.0         predicted             5000.0   \n",
       "5116                  54000.0         predicted             4700.0   \n",
       "5117                  56000.0         predicted             5100.0   \n",
       "5118                  58000.0         predicted             5600.0   \n",
       "5119                  58000.0         predicted             5700.0   \n",
       "\n",
       "      tb_death_hiv mortality_method  num_incidents_all_forms  \n",
       "0              5.0         Indirect                  22000.0  \n",
       "1              8.0         Indirect                  24000.0  \n",
       "2             11.0         Indirect                  26000.0  \n",
       "3             17.0         Indirect                  29000.0  \n",
       "4             22.0         Indirect                  31000.0  \n",
       "...            ...              ...                      ...  \n",
       "5115       27000.0         Indirect                  87000.0  \n",
       "5116       26000.0         Indirect                  83000.0  \n",
       "5117       24000.0         Indirect                  80000.0  \n",
       "5118       22000.0         Indirect                  79000.0  \n",
       "5119       22000.0         Indirect                  78000.0  \n",
       "\n",
       "[5120 rows x 11 columns]"
      ]
     },
     "execution_count": 6,
     "metadata": {},
     "output_type": "execute_result"
    }
   ],
   "source": [
    "#df.reset_index(inplace=True)\n",
    "df"
   ]
  },
  {
   "cell_type": "code",
   "execution_count": 7,
   "id": "9c078bd7",
   "metadata": {},
   "outputs": [
    {
     "data": {
      "text/plain": [
       "0       False\n",
       "1       False\n",
       "2       False\n",
       "3       False\n",
       "4       False\n",
       "        ...  \n",
       "5115    False\n",
       "5116    False\n",
       "5117    False\n",
       "5118    False\n",
       "5119    False\n",
       "Length: 5120, dtype: bool"
      ]
     },
     "execution_count": 7,
     "metadata": {},
     "output_type": "execute_result"
    }
   ],
   "source": [
    "##### Remove any duplicate rows #######\n",
    "unique_list = df.duplicated(keep=False)\n",
    "unique_list"
   ]
  },
  {
   "cell_type": "code",
   "execution_count": 8,
   "id": "f81a7b31",
   "metadata": {},
   "outputs": [
    {
     "data": {
      "text/html": [
       "<div>\n",
       "<style scoped>\n",
       "    .dataframe tbody tr th:only-of-type {\n",
       "        vertical-align: middle;\n",
       "    }\n",
       "\n",
       "    .dataframe tbody tr th {\n",
       "        vertical-align: top;\n",
       "    }\n",
       "\n",
       "    .dataframe thead th {\n",
       "        text-align: right;\n",
       "    }\n",
       "</style>\n",
       "<table border=\"1\" class=\"dataframe\">\n",
       "  <thead>\n",
       "    <tr style=\"text-align: right;\">\n",
       "      <th></th>\n",
       "      <th>country</th>\n",
       "      <th>country_code</th>\n",
       "      <th>region</th>\n",
       "      <th>year</th>\n",
       "      <th>population</th>\n",
       "      <th>tb_prevalence_all_forms</th>\n",
       "      <th>prevalence_method</th>\n",
       "      <th>tb_deaths_exc_hiv</th>\n",
       "      <th>tb_death_hiv</th>\n",
       "      <th>mortality_method</th>\n",
       "      <th>num_incidents_all_forms</th>\n",
       "    </tr>\n",
       "  </thead>\n",
       "  <tbody>\n",
       "    <tr>\n",
       "      <th>0</th>\n",
       "      <td>Afghanistan</td>\n",
       "      <td>AFG</td>\n",
       "      <td>EMR</td>\n",
       "      <td>1990</td>\n",
       "      <td>11731193</td>\n",
       "      <td>36000.0</td>\n",
       "      <td>predicted</td>\n",
       "      <td>4300.0</td>\n",
       "      <td>5.0</td>\n",
       "      <td>Indirect</td>\n",
       "      <td>22000.0</td>\n",
       "    </tr>\n",
       "    <tr>\n",
       "      <th>1</th>\n",
       "      <td>Afghanistan</td>\n",
       "      <td>AFG</td>\n",
       "      <td>EMR</td>\n",
       "      <td>1991</td>\n",
       "      <td>12612043</td>\n",
       "      <td>43000.0</td>\n",
       "      <td>predicted</td>\n",
       "      <td>5800.0</td>\n",
       "      <td>8.0</td>\n",
       "      <td>Indirect</td>\n",
       "      <td>24000.0</td>\n",
       "    </tr>\n",
       "    <tr>\n",
       "      <th>2</th>\n",
       "      <td>Afghanistan</td>\n",
       "      <td>AFG</td>\n",
       "      <td>EMR</td>\n",
       "      <td>1992</td>\n",
       "      <td>13811876</td>\n",
       "      <td>51000.0</td>\n",
       "      <td>predicted</td>\n",
       "      <td>7400.0</td>\n",
       "      <td>11.0</td>\n",
       "      <td>Indirect</td>\n",
       "      <td>26000.0</td>\n",
       "    </tr>\n",
       "    <tr>\n",
       "      <th>3</th>\n",
       "      <td>Afghanistan</td>\n",
       "      <td>AFG</td>\n",
       "      <td>EMR</td>\n",
       "      <td>1993</td>\n",
       "      <td>15175325</td>\n",
       "      <td>59000.0</td>\n",
       "      <td>predicted</td>\n",
       "      <td>9100.0</td>\n",
       "      <td>17.0</td>\n",
       "      <td>Indirect</td>\n",
       "      <td>29000.0</td>\n",
       "    </tr>\n",
       "    <tr>\n",
       "      <th>4</th>\n",
       "      <td>Afghanistan</td>\n",
       "      <td>AFG</td>\n",
       "      <td>EMR</td>\n",
       "      <td>1994</td>\n",
       "      <td>16485018</td>\n",
       "      <td>68000.0</td>\n",
       "      <td>predicted</td>\n",
       "      <td>11000.0</td>\n",
       "      <td>22.0</td>\n",
       "      <td>Indirect</td>\n",
       "      <td>31000.0</td>\n",
       "    </tr>\n",
       "    <tr>\n",
       "      <th>...</th>\n",
       "      <td>...</td>\n",
       "      <td>...</td>\n",
       "      <td>...</td>\n",
       "      <td>...</td>\n",
       "      <td>...</td>\n",
       "      <td>...</td>\n",
       "      <td>...</td>\n",
       "      <td>...</td>\n",
       "      <td>...</td>\n",
       "      <td>...</td>\n",
       "      <td>...</td>\n",
       "    </tr>\n",
       "    <tr>\n",
       "      <th>5115</th>\n",
       "      <td>Zimbabwe</td>\n",
       "      <td>ZWE</td>\n",
       "      <td>AFR</td>\n",
       "      <td>2009</td>\n",
       "      <td>12888918</td>\n",
       "      <td>58000.0</td>\n",
       "      <td>predicted</td>\n",
       "      <td>5000.0</td>\n",
       "      <td>27000.0</td>\n",
       "      <td>Indirect</td>\n",
       "      <td>87000.0</td>\n",
       "    </tr>\n",
       "    <tr>\n",
       "      <th>5116</th>\n",
       "      <td>Zimbabwe</td>\n",
       "      <td>ZWE</td>\n",
       "      <td>AFR</td>\n",
       "      <td>2010</td>\n",
       "      <td>13076978</td>\n",
       "      <td>54000.0</td>\n",
       "      <td>predicted</td>\n",
       "      <td>4700.0</td>\n",
       "      <td>26000.0</td>\n",
       "      <td>Indirect</td>\n",
       "      <td>83000.0</td>\n",
       "    </tr>\n",
       "    <tr>\n",
       "      <th>5117</th>\n",
       "      <td>Zimbabwe</td>\n",
       "      <td>ZWE</td>\n",
       "      <td>AFR</td>\n",
       "      <td>2011</td>\n",
       "      <td>13358738</td>\n",
       "      <td>56000.0</td>\n",
       "      <td>predicted</td>\n",
       "      <td>5100.0</td>\n",
       "      <td>24000.0</td>\n",
       "      <td>Indirect</td>\n",
       "      <td>80000.0</td>\n",
       "    </tr>\n",
       "    <tr>\n",
       "      <th>5118</th>\n",
       "      <td>Zimbabwe</td>\n",
       "      <td>ZWE</td>\n",
       "      <td>AFR</td>\n",
       "      <td>2012</td>\n",
       "      <td>13724317</td>\n",
       "      <td>58000.0</td>\n",
       "      <td>predicted</td>\n",
       "      <td>5600.0</td>\n",
       "      <td>22000.0</td>\n",
       "      <td>Indirect</td>\n",
       "      <td>79000.0</td>\n",
       "    </tr>\n",
       "    <tr>\n",
       "      <th>5119</th>\n",
       "      <td>Zimbabwe</td>\n",
       "      <td>ZWE</td>\n",
       "      <td>AFR</td>\n",
       "      <td>2013</td>\n",
       "      <td>14149648</td>\n",
       "      <td>58000.0</td>\n",
       "      <td>predicted</td>\n",
       "      <td>5700.0</td>\n",
       "      <td>22000.0</td>\n",
       "      <td>Indirect</td>\n",
       "      <td>78000.0</td>\n",
       "    </tr>\n",
       "  </tbody>\n",
       "</table>\n",
       "<p>5120 rows × 11 columns</p>\n",
       "</div>"
      ],
      "text/plain": [
       "          country country_code region  year  population  \\\n",
       "0     Afghanistan          AFG    EMR  1990    11731193   \n",
       "1     Afghanistan          AFG    EMR  1991    12612043   \n",
       "2     Afghanistan          AFG    EMR  1992    13811876   \n",
       "3     Afghanistan          AFG    EMR  1993    15175325   \n",
       "4     Afghanistan          AFG    EMR  1994    16485018   \n",
       "...           ...          ...    ...   ...         ...   \n",
       "5115     Zimbabwe          ZWE    AFR  2009    12888918   \n",
       "5116     Zimbabwe          ZWE    AFR  2010    13076978   \n",
       "5117     Zimbabwe          ZWE    AFR  2011    13358738   \n",
       "5118     Zimbabwe          ZWE    AFR  2012    13724317   \n",
       "5119     Zimbabwe          ZWE    AFR  2013    14149648   \n",
       "\n",
       "      tb_prevalence_all_forms prevalence_method  tb_deaths_exc_hiv  \\\n",
       "0                     36000.0         predicted             4300.0   \n",
       "1                     43000.0         predicted             5800.0   \n",
       "2                     51000.0         predicted             7400.0   \n",
       "3                     59000.0         predicted             9100.0   \n",
       "4                     68000.0         predicted            11000.0   \n",
       "...                       ...               ...                ...   \n",
       "5115                  58000.0         predicted             5000.0   \n",
       "5116                  54000.0         predicted             4700.0   \n",
       "5117                  56000.0         predicted             5100.0   \n",
       "5118                  58000.0         predicted             5600.0   \n",
       "5119                  58000.0         predicted             5700.0   \n",
       "\n",
       "      tb_death_hiv mortality_method  num_incidents_all_forms  \n",
       "0              5.0         Indirect                  22000.0  \n",
       "1              8.0         Indirect                  24000.0  \n",
       "2             11.0         Indirect                  26000.0  \n",
       "3             17.0         Indirect                  29000.0  \n",
       "4             22.0         Indirect                  31000.0  \n",
       "...            ...              ...                      ...  \n",
       "5115       27000.0         Indirect                  87000.0  \n",
       "5116       26000.0         Indirect                  83000.0  \n",
       "5117       24000.0         Indirect                  80000.0  \n",
       "5118       22000.0         Indirect                  79000.0  \n",
       "5119       22000.0         Indirect                  78000.0  \n",
       "\n",
       "[5120 rows x 11 columns]"
      ]
     },
     "execution_count": 8,
     "metadata": {},
     "output_type": "execute_result"
    }
   ],
   "source": [
    "df[df.duplicated(keep=False)]  #applied keeping all unique values only to df\n",
    "df"
   ]
  },
  {
   "cell_type": "code",
   "execution_count": 9,
   "id": "ac8b0696",
   "metadata": {},
   "outputs": [
    {
     "data": {
      "text/plain": [
       "country                    0\n",
       "country_code               0\n",
       "region                     0\n",
       "year                       0\n",
       "population                 0\n",
       "tb_prevalence_all_forms    0\n",
       "prevalence_method          0\n",
       "tb_deaths_exc_hiv          0\n",
       "tb_death_hiv               0\n",
       "mortality_method           0\n",
       "num_incidents_all_forms    0\n",
       "dtype: int64"
      ]
     },
     "execution_count": 9,
     "metadata": {},
     "output_type": "execute_result"
    }
   ],
   "source": [
    "##### Remove any rows/columns with missing values - Nulls (if any) #######\n",
    "df.isnull().sum() #there are no missing values in our dataset"
   ]
  },
  {
   "cell_type": "code",
   "execution_count": 34,
   "id": "a91c774f",
   "metadata": {},
   "outputs": [],
   "source": [
    "######## Remove any outliers (if any) ##########\n",
    "#first I need to group data by country (collapse dates) or select one record per country to analyze\n",
    "\n"
   ]
  },
  {
   "cell_type": "code",
   "execution_count": 10,
   "id": "1ab2dd09",
   "metadata": {},
   "outputs": [
    {
     "data": {
      "text/html": [
       "<div>\n",
       "<style scoped>\n",
       "    .dataframe tbody tr th:only-of-type {\n",
       "        vertical-align: middle;\n",
       "    }\n",
       "\n",
       "    .dataframe tbody tr th {\n",
       "        vertical-align: top;\n",
       "    }\n",
       "\n",
       "    .dataframe thead th {\n",
       "        text-align: right;\n",
       "    }\n",
       "</style>\n",
       "<table border=\"1\" class=\"dataframe\">\n",
       "  <thead>\n",
       "    <tr style=\"text-align: right;\">\n",
       "      <th></th>\n",
       "      <th>year</th>\n",
       "      <th>population</th>\n",
       "      <th>tb_prevalence_all_forms</th>\n",
       "      <th>tb_deaths_exc_hiv</th>\n",
       "      <th>tb_death_hiv</th>\n",
       "      <th>num_incidents_all_forms</th>\n",
       "    </tr>\n",
       "  </thead>\n",
       "  <tbody>\n",
       "    <tr>\n",
       "      <th>count</th>\n",
       "      <td>5120.000000</td>\n",
       "      <td>5.120000e+03</td>\n",
       "      <td>5.120000e+03</td>\n",
       "      <td>5120.000000</td>\n",
       "      <td>5120.000000</td>\n",
       "      <td>5.120000e+03</td>\n",
       "    </tr>\n",
       "    <tr>\n",
       "      <th>mean</th>\n",
       "      <td>2001.549023</td>\n",
       "      <td>2.915671e+07</td>\n",
       "      <td>6.654332e+04</td>\n",
       "      <td>6863.985914</td>\n",
       "      <td>1798.730236</td>\n",
       "      <td>4.218835e+04</td>\n",
       "    </tr>\n",
       "    <tr>\n",
       "      <th>std</th>\n",
       "      <td>6.933272</td>\n",
       "      <td>1.183725e+08</td>\n",
       "      <td>3.249488e+05</td>\n",
       "      <td>30554.560700</td>\n",
       "      <td>7915.691847</td>\n",
       "      <td>1.865701e+05</td>\n",
       "    </tr>\n",
       "    <tr>\n",
       "      <th>min</th>\n",
       "      <td>1990.000000</td>\n",
       "      <td>1.129000e+03</td>\n",
       "      <td>0.000000e+00</td>\n",
       "      <td>0.000000</td>\n",
       "      <td>0.000000</td>\n",
       "      <td>0.000000e+00</td>\n",
       "    </tr>\n",
       "    <tr>\n",
       "      <th>25%</th>\n",
       "      <td>1996.000000</td>\n",
       "      <td>5.601190e+05</td>\n",
       "      <td>3.800000e+02</td>\n",
       "      <td>18.000000</td>\n",
       "      <td>0.000000</td>\n",
       "      <td>2.600000e+02</td>\n",
       "    </tr>\n",
       "    <tr>\n",
       "      <th>50%</th>\n",
       "      <td>2002.000000</td>\n",
       "      <td>5.172118e+06</td>\n",
       "      <td>4.300000e+03</td>\n",
       "      <td>280.000000</td>\n",
       "      <td>6.500000</td>\n",
       "      <td>3.100000e+03</td>\n",
       "    </tr>\n",
       "    <tr>\n",
       "      <th>75%</th>\n",
       "      <td>2008.000000</td>\n",
       "      <td>1.752404e+07</td>\n",
       "      <td>2.700000e+04</td>\n",
       "      <td>2200.000000</td>\n",
       "      <td>270.000000</td>\n",
       "      <td>1.800000e+04</td>\n",
       "    </tr>\n",
       "    <tr>\n",
       "      <th>max</th>\n",
       "      <td>2013.000000</td>\n",
       "      <td>1.385567e+09</td>\n",
       "      <td>4.600000e+06</td>\n",
       "      <td>420000.000000</td>\n",
       "      <td>96000.000000</td>\n",
       "      <td>2.400000e+06</td>\n",
       "    </tr>\n",
       "  </tbody>\n",
       "</table>\n",
       "</div>"
      ],
      "text/plain": [
       "              year    population  tb_prevalence_all_forms  tb_deaths_exc_hiv  \\\n",
       "count  5120.000000  5.120000e+03             5.120000e+03        5120.000000   \n",
       "mean   2001.549023  2.915671e+07             6.654332e+04        6863.985914   \n",
       "std       6.933272  1.183725e+08             3.249488e+05       30554.560700   \n",
       "min    1990.000000  1.129000e+03             0.000000e+00           0.000000   \n",
       "25%    1996.000000  5.601190e+05             3.800000e+02          18.000000   \n",
       "50%    2002.000000  5.172118e+06             4.300000e+03         280.000000   \n",
       "75%    2008.000000  1.752404e+07             2.700000e+04        2200.000000   \n",
       "max    2013.000000  1.385567e+09             4.600000e+06      420000.000000   \n",
       "\n",
       "       tb_death_hiv  num_incidents_all_forms  \n",
       "count   5120.000000             5.120000e+03  \n",
       "mean    1798.730236             4.218835e+04  \n",
       "std     7915.691847             1.865701e+05  \n",
       "min        0.000000             0.000000e+00  \n",
       "25%        0.000000             2.600000e+02  \n",
       "50%        6.500000             3.100000e+03  \n",
       "75%      270.000000             1.800000e+04  \n",
       "max    96000.000000             2.400000e+06  "
      ]
     },
     "execution_count": 10,
     "metadata": {},
     "output_type": "execute_result"
    }
   ],
   "source": [
    "df.describe()"
   ]
  },
  {
   "cell_type": "code",
   "execution_count": 13,
   "id": "7e195d31",
   "metadata": {},
   "outputs": [
    {
     "name": "stdout",
     "output_type": "stream",
     "text": [
      "<class 'pandas.core.frame.DataFrame'>\n",
      "this is our series                        country                          year\n",
      "0                  Afghanistan 1970-01-01 00:00:00.000002013\n",
      "1                      Albania 1970-01-01 00:00:00.000002013\n",
      "2                      Algeria 1970-01-01 00:00:00.000002013\n",
      "3               American Samoa 1970-01-01 00:00:00.000002013\n",
      "4                      Andorra 1970-01-01 00:00:00.000002013\n",
      "..                         ...                           ...\n",
      "214  Wallis and Futuna Islands 1970-01-01 00:00:00.000002013\n",
      "215   West Bank and Gaza Strip 1970-01-01 00:00:00.000002013\n",
      "216                      Yemen 1970-01-01 00:00:00.000002013\n",
      "217                     Zambia 1970-01-01 00:00:00.000002013\n",
      "218                   Zimbabwe 1970-01-01 00:00:00.000002013\n",
      "\n",
      "[219 rows x 2 columns]\n"
     ]
    }
   ],
   "source": [
    "# First convert the year column to datetime format\n",
    "df['year'] = pd.to_datetime(df['year']) #--> converted existing column\n",
    "\n",
    "# Group by country and get maximum date for each country (new df created)\n",
    "max_dates = df.groupby('country')['year'].max().reset_index()  #--> this is a new dataframe\n",
    "print(type(max_dates))\n",
    "print('this is our series', max_dates)\n",
    "max_dates  # this is a pandas series NOT dataframe\n",
    "\n",
    "## Finally create the new column based on this mapping\n",
    "df['max_date'] = df.apply(lambda row: row['year'] == max_dates[max_dates['country'] == row['country']]['year'].values[0], axis=1)\n"
   ]
  },
  {
   "cell_type": "code",
   "execution_count": 14,
   "id": "dd1a90b0",
   "metadata": {},
   "outputs": [
    {
     "data": {
      "text/html": [
       "<div>\n",
       "<style scoped>\n",
       "    .dataframe tbody tr th:only-of-type {\n",
       "        vertical-align: middle;\n",
       "    }\n",
       "\n",
       "    .dataframe tbody tr th {\n",
       "        vertical-align: top;\n",
       "    }\n",
       "\n",
       "    .dataframe thead th {\n",
       "        text-align: right;\n",
       "    }\n",
       "</style>\n",
       "<table border=\"1\" class=\"dataframe\">\n",
       "  <thead>\n",
       "    <tr style=\"text-align: right;\">\n",
       "      <th></th>\n",
       "      <th>country</th>\n",
       "      <th>country_code</th>\n",
       "      <th>region</th>\n",
       "      <th>year</th>\n",
       "      <th>population</th>\n",
       "      <th>tb_prevalence_all_forms</th>\n",
       "      <th>prevalence_method</th>\n",
       "      <th>tb_deaths_exc_hiv</th>\n",
       "      <th>tb_death_hiv</th>\n",
       "      <th>mortality_method</th>\n",
       "      <th>num_incidents_all_forms</th>\n",
       "      <th>max_date</th>\n",
       "    </tr>\n",
       "  </thead>\n",
       "  <tbody>\n",
       "    <tr>\n",
       "      <th>0</th>\n",
       "      <td>Afghanistan</td>\n",
       "      <td>AFG</td>\n",
       "      <td>EMR</td>\n",
       "      <td>1970-01-01 00:00:00.000001990</td>\n",
       "      <td>11731193</td>\n",
       "      <td>36000.0</td>\n",
       "      <td>predicted</td>\n",
       "      <td>4300.0</td>\n",
       "      <td>5.0</td>\n",
       "      <td>Indirect</td>\n",
       "      <td>22000.0</td>\n",
       "      <td>False</td>\n",
       "    </tr>\n",
       "    <tr>\n",
       "      <th>1</th>\n",
       "      <td>Afghanistan</td>\n",
       "      <td>AFG</td>\n",
       "      <td>EMR</td>\n",
       "      <td>1970-01-01 00:00:00.000001991</td>\n",
       "      <td>12612043</td>\n",
       "      <td>43000.0</td>\n",
       "      <td>predicted</td>\n",
       "      <td>5800.0</td>\n",
       "      <td>8.0</td>\n",
       "      <td>Indirect</td>\n",
       "      <td>24000.0</td>\n",
       "      <td>False</td>\n",
       "    </tr>\n",
       "    <tr>\n",
       "      <th>2</th>\n",
       "      <td>Afghanistan</td>\n",
       "      <td>AFG</td>\n",
       "      <td>EMR</td>\n",
       "      <td>1970-01-01 00:00:00.000001992</td>\n",
       "      <td>13811876</td>\n",
       "      <td>51000.0</td>\n",
       "      <td>predicted</td>\n",
       "      <td>7400.0</td>\n",
       "      <td>11.0</td>\n",
       "      <td>Indirect</td>\n",
       "      <td>26000.0</td>\n",
       "      <td>False</td>\n",
       "    </tr>\n",
       "    <tr>\n",
       "      <th>3</th>\n",
       "      <td>Afghanistan</td>\n",
       "      <td>AFG</td>\n",
       "      <td>EMR</td>\n",
       "      <td>1970-01-01 00:00:00.000001993</td>\n",
       "      <td>15175325</td>\n",
       "      <td>59000.0</td>\n",
       "      <td>predicted</td>\n",
       "      <td>9100.0</td>\n",
       "      <td>17.0</td>\n",
       "      <td>Indirect</td>\n",
       "      <td>29000.0</td>\n",
       "      <td>False</td>\n",
       "    </tr>\n",
       "    <tr>\n",
       "      <th>4</th>\n",
       "      <td>Afghanistan</td>\n",
       "      <td>AFG</td>\n",
       "      <td>EMR</td>\n",
       "      <td>1970-01-01 00:00:00.000001994</td>\n",
       "      <td>16485018</td>\n",
       "      <td>68000.0</td>\n",
       "      <td>predicted</td>\n",
       "      <td>11000.0</td>\n",
       "      <td>22.0</td>\n",
       "      <td>Indirect</td>\n",
       "      <td>31000.0</td>\n",
       "      <td>False</td>\n",
       "    </tr>\n",
       "    <tr>\n",
       "      <th>...</th>\n",
       "      <td>...</td>\n",
       "      <td>...</td>\n",
       "      <td>...</td>\n",
       "      <td>...</td>\n",
       "      <td>...</td>\n",
       "      <td>...</td>\n",
       "      <td>...</td>\n",
       "      <td>...</td>\n",
       "      <td>...</td>\n",
       "      <td>...</td>\n",
       "      <td>...</td>\n",
       "      <td>...</td>\n",
       "    </tr>\n",
       "    <tr>\n",
       "      <th>5115</th>\n",
       "      <td>Zimbabwe</td>\n",
       "      <td>ZWE</td>\n",
       "      <td>AFR</td>\n",
       "      <td>1970-01-01 00:00:00.000002009</td>\n",
       "      <td>12888918</td>\n",
       "      <td>58000.0</td>\n",
       "      <td>predicted</td>\n",
       "      <td>5000.0</td>\n",
       "      <td>27000.0</td>\n",
       "      <td>Indirect</td>\n",
       "      <td>87000.0</td>\n",
       "      <td>False</td>\n",
       "    </tr>\n",
       "    <tr>\n",
       "      <th>5116</th>\n",
       "      <td>Zimbabwe</td>\n",
       "      <td>ZWE</td>\n",
       "      <td>AFR</td>\n",
       "      <td>1970-01-01 00:00:00.000002010</td>\n",
       "      <td>13076978</td>\n",
       "      <td>54000.0</td>\n",
       "      <td>predicted</td>\n",
       "      <td>4700.0</td>\n",
       "      <td>26000.0</td>\n",
       "      <td>Indirect</td>\n",
       "      <td>83000.0</td>\n",
       "      <td>False</td>\n",
       "    </tr>\n",
       "    <tr>\n",
       "      <th>5117</th>\n",
       "      <td>Zimbabwe</td>\n",
       "      <td>ZWE</td>\n",
       "      <td>AFR</td>\n",
       "      <td>1970-01-01 00:00:00.000002011</td>\n",
       "      <td>13358738</td>\n",
       "      <td>56000.0</td>\n",
       "      <td>predicted</td>\n",
       "      <td>5100.0</td>\n",
       "      <td>24000.0</td>\n",
       "      <td>Indirect</td>\n",
       "      <td>80000.0</td>\n",
       "      <td>False</td>\n",
       "    </tr>\n",
       "    <tr>\n",
       "      <th>5118</th>\n",
       "      <td>Zimbabwe</td>\n",
       "      <td>ZWE</td>\n",
       "      <td>AFR</td>\n",
       "      <td>1970-01-01 00:00:00.000002012</td>\n",
       "      <td>13724317</td>\n",
       "      <td>58000.0</td>\n",
       "      <td>predicted</td>\n",
       "      <td>5600.0</td>\n",
       "      <td>22000.0</td>\n",
       "      <td>Indirect</td>\n",
       "      <td>79000.0</td>\n",
       "      <td>False</td>\n",
       "    </tr>\n",
       "    <tr>\n",
       "      <th>5119</th>\n",
       "      <td>Zimbabwe</td>\n",
       "      <td>ZWE</td>\n",
       "      <td>AFR</td>\n",
       "      <td>1970-01-01 00:00:00.000002013</td>\n",
       "      <td>14149648</td>\n",
       "      <td>58000.0</td>\n",
       "      <td>predicted</td>\n",
       "      <td>5700.0</td>\n",
       "      <td>22000.0</td>\n",
       "      <td>Indirect</td>\n",
       "      <td>78000.0</td>\n",
       "      <td>True</td>\n",
       "    </tr>\n",
       "  </tbody>\n",
       "</table>\n",
       "<p>5120 rows × 12 columns</p>\n",
       "</div>"
      ],
      "text/plain": [
       "          country country_code region                          year  \\\n",
       "0     Afghanistan          AFG    EMR 1970-01-01 00:00:00.000001990   \n",
       "1     Afghanistan          AFG    EMR 1970-01-01 00:00:00.000001991   \n",
       "2     Afghanistan          AFG    EMR 1970-01-01 00:00:00.000001992   \n",
       "3     Afghanistan          AFG    EMR 1970-01-01 00:00:00.000001993   \n",
       "4     Afghanistan          AFG    EMR 1970-01-01 00:00:00.000001994   \n",
       "...           ...          ...    ...                           ...   \n",
       "5115     Zimbabwe          ZWE    AFR 1970-01-01 00:00:00.000002009   \n",
       "5116     Zimbabwe          ZWE    AFR 1970-01-01 00:00:00.000002010   \n",
       "5117     Zimbabwe          ZWE    AFR 1970-01-01 00:00:00.000002011   \n",
       "5118     Zimbabwe          ZWE    AFR 1970-01-01 00:00:00.000002012   \n",
       "5119     Zimbabwe          ZWE    AFR 1970-01-01 00:00:00.000002013   \n",
       "\n",
       "      population  tb_prevalence_all_forms prevalence_method  \\\n",
       "0       11731193                  36000.0         predicted   \n",
       "1       12612043                  43000.0         predicted   \n",
       "2       13811876                  51000.0         predicted   \n",
       "3       15175325                  59000.0         predicted   \n",
       "4       16485018                  68000.0         predicted   \n",
       "...          ...                      ...               ...   \n",
       "5115    12888918                  58000.0         predicted   \n",
       "5116    13076978                  54000.0         predicted   \n",
       "5117    13358738                  56000.0         predicted   \n",
       "5118    13724317                  58000.0         predicted   \n",
       "5119    14149648                  58000.0         predicted   \n",
       "\n",
       "      tb_deaths_exc_hiv  tb_death_hiv mortality_method  \\\n",
       "0                4300.0           5.0         Indirect   \n",
       "1                5800.0           8.0         Indirect   \n",
       "2                7400.0          11.0         Indirect   \n",
       "3                9100.0          17.0         Indirect   \n",
       "4               11000.0          22.0         Indirect   \n",
       "...                 ...           ...              ...   \n",
       "5115             5000.0       27000.0         Indirect   \n",
       "5116             4700.0       26000.0         Indirect   \n",
       "5117             5100.0       24000.0         Indirect   \n",
       "5118             5600.0       22000.0         Indirect   \n",
       "5119             5700.0       22000.0         Indirect   \n",
       "\n",
       "      num_incidents_all_forms  max_date  \n",
       "0                     22000.0     False  \n",
       "1                     24000.0     False  \n",
       "2                     26000.0     False  \n",
       "3                     29000.0     False  \n",
       "4                     31000.0     False  \n",
       "...                       ...       ...  \n",
       "5115                  87000.0     False  \n",
       "5116                  83000.0     False  \n",
       "5117                  80000.0     False  \n",
       "5118                  79000.0     False  \n",
       "5119                  78000.0      True  \n",
       "\n",
       "[5120 rows x 12 columns]"
      ]
     },
     "execution_count": 14,
     "metadata": {},
     "output_type": "execute_result"
    }
   ],
   "source": [
    "# let's analyze our new output\n",
    "df"
   ]
  },
  {
   "cell_type": "code",
   "execution_count": 15,
   "id": "6c8fbe01",
   "metadata": {},
   "outputs": [
    {
     "data": {
      "text/html": [
       "<div>\n",
       "<style scoped>\n",
       "    .dataframe tbody tr th:only-of-type {\n",
       "        vertical-align: middle;\n",
       "    }\n",
       "\n",
       "    .dataframe tbody tr th {\n",
       "        vertical-align: top;\n",
       "    }\n",
       "\n",
       "    .dataframe thead th {\n",
       "        text-align: right;\n",
       "    }\n",
       "</style>\n",
       "<table border=\"1\" class=\"dataframe\">\n",
       "  <thead>\n",
       "    <tr style=\"text-align: right;\">\n",
       "      <th></th>\n",
       "      <th>country</th>\n",
       "      <th>country_code</th>\n",
       "      <th>region</th>\n",
       "      <th>year</th>\n",
       "      <th>population</th>\n",
       "      <th>tb_prevalence_all_forms</th>\n",
       "      <th>prevalence_method</th>\n",
       "      <th>tb_deaths_exc_hiv</th>\n",
       "      <th>tb_death_hiv</th>\n",
       "      <th>mortality_method</th>\n",
       "      <th>num_incidents_all_forms</th>\n",
       "      <th>max_date</th>\n",
       "    </tr>\n",
       "  </thead>\n",
       "  <tbody>\n",
       "    <tr>\n",
       "      <th>23</th>\n",
       "      <td>Afghanistan</td>\n",
       "      <td>AFG</td>\n",
       "      <td>EMR</td>\n",
       "      <td>1970-01-01 00:00:00.000002013</td>\n",
       "      <td>30551674</td>\n",
       "      <td>100000.0</td>\n",
       "      <td>predicted</td>\n",
       "      <td>13000.00</td>\n",
       "      <td>82.00</td>\n",
       "      <td>Indirect</td>\n",
       "      <td>58000.0</td>\n",
       "      <td>True</td>\n",
       "    </tr>\n",
       "    <tr>\n",
       "      <th>47</th>\n",
       "      <td>Albania</td>\n",
       "      <td>ALB</td>\n",
       "      <td>EUR</td>\n",
       "      <td>1970-01-01 00:00:00.000002013</td>\n",
       "      <td>3173271</td>\n",
       "      <td>850.0</td>\n",
       "      <td>predicted</td>\n",
       "      <td>20.00</td>\n",
       "      <td>0.00</td>\n",
       "      <td>VR imputed</td>\n",
       "      <td>590.0</td>\n",
       "      <td>True</td>\n",
       "    </tr>\n",
       "    <tr>\n",
       "      <th>71</th>\n",
       "      <td>Algeria</td>\n",
       "      <td>DZA</td>\n",
       "      <td>AFR</td>\n",
       "      <td>1970-01-01 00:00:00.000002013</td>\n",
       "      <td>39208194</td>\n",
       "      <td>49000.0</td>\n",
       "      <td>predicted</td>\n",
       "      <td>5100.00</td>\n",
       "      <td>35.00</td>\n",
       "      <td>Indirect</td>\n",
       "      <td>32000.0</td>\n",
       "      <td>True</td>\n",
       "    </tr>\n",
       "    <tr>\n",
       "      <th>95</th>\n",
       "      <td>American Samoa</td>\n",
       "      <td>ASM</td>\n",
       "      <td>WPR</td>\n",
       "      <td>1970-01-01 00:00:00.000002013</td>\n",
       "      <td>55165</td>\n",
       "      <td>5.2</td>\n",
       "      <td>predicted</td>\n",
       "      <td>0.35</td>\n",
       "      <td>0.00</td>\n",
       "      <td>Indirect</td>\n",
       "      <td>4.0</td>\n",
       "      <td>True</td>\n",
       "    </tr>\n",
       "    <tr>\n",
       "      <th>119</th>\n",
       "      <td>Andorra</td>\n",
       "      <td>AND</td>\n",
       "      <td>EUR</td>\n",
       "      <td>1970-01-01 00:00:00.000002013</td>\n",
       "      <td>79218</td>\n",
       "      <td>6.5</td>\n",
       "      <td>predicted</td>\n",
       "      <td>0.26</td>\n",
       "      <td>0.00</td>\n",
       "      <td>Indirect</td>\n",
       "      <td>5.8</td>\n",
       "      <td>True</td>\n",
       "    </tr>\n",
       "    <tr>\n",
       "      <th>...</th>\n",
       "      <td>...</td>\n",
       "      <td>...</td>\n",
       "      <td>...</td>\n",
       "      <td>...</td>\n",
       "      <td>...</td>\n",
       "      <td>...</td>\n",
       "      <td>...</td>\n",
       "      <td>...</td>\n",
       "      <td>...</td>\n",
       "      <td>...</td>\n",
       "      <td>...</td>\n",
       "      <td>...</td>\n",
       "    </tr>\n",
       "    <tr>\n",
       "      <th>5023</th>\n",
       "      <td>Wallis and Futuna Islands</td>\n",
       "      <td>WLF</td>\n",
       "      <td>WPR</td>\n",
       "      <td>1970-01-01 00:00:00.000002013</td>\n",
       "      <td>13272</td>\n",
       "      <td>2.2</td>\n",
       "      <td>predicted</td>\n",
       "      <td>0.30</td>\n",
       "      <td>0.00</td>\n",
       "      <td>Indirect</td>\n",
       "      <td>1.2</td>\n",
       "      <td>True</td>\n",
       "    </tr>\n",
       "    <tr>\n",
       "      <th>5047</th>\n",
       "      <td>West Bank and Gaza Strip</td>\n",
       "      <td>PSE</td>\n",
       "      <td>EMR</td>\n",
       "      <td>1970-01-01 00:00:00.000002013</td>\n",
       "      <td>4326295</td>\n",
       "      <td>310.0</td>\n",
       "      <td>predicted</td>\n",
       "      <td>8.90</td>\n",
       "      <td>0.56</td>\n",
       "      <td>VR imputed</td>\n",
       "      <td>200.0</td>\n",
       "      <td>True</td>\n",
       "    </tr>\n",
       "    <tr>\n",
       "      <th>5071</th>\n",
       "      <td>Yemen</td>\n",
       "      <td>YEM</td>\n",
       "      <td>EMR</td>\n",
       "      <td>1970-01-01 00:00:00.000002013</td>\n",
       "      <td>24407381</td>\n",
       "      <td>15000.0</td>\n",
       "      <td>predicted</td>\n",
       "      <td>990.00</td>\n",
       "      <td>18.00</td>\n",
       "      <td>Indirect</td>\n",
       "      <td>12000.0</td>\n",
       "      <td>True</td>\n",
       "    </tr>\n",
       "    <tr>\n",
       "      <th>5095</th>\n",
       "      <td>Zambia</td>\n",
       "      <td>ZMB</td>\n",
       "      <td>AFR</td>\n",
       "      <td>1970-01-01 00:00:00.000002013</td>\n",
       "      <td>14538640</td>\n",
       "      <td>49000.0</td>\n",
       "      <td>predicted</td>\n",
       "      <td>3600.00</td>\n",
       "      <td>8600.00</td>\n",
       "      <td>Indirect</td>\n",
       "      <td>60000.0</td>\n",
       "      <td>True</td>\n",
       "    </tr>\n",
       "    <tr>\n",
       "      <th>5119</th>\n",
       "      <td>Zimbabwe</td>\n",
       "      <td>ZWE</td>\n",
       "      <td>AFR</td>\n",
       "      <td>1970-01-01 00:00:00.000002013</td>\n",
       "      <td>14149648</td>\n",
       "      <td>58000.0</td>\n",
       "      <td>predicted</td>\n",
       "      <td>5700.00</td>\n",
       "      <td>22000.00</td>\n",
       "      <td>Indirect</td>\n",
       "      <td>78000.0</td>\n",
       "      <td>True</td>\n",
       "    </tr>\n",
       "  </tbody>\n",
       "</table>\n",
       "<p>219 rows × 12 columns</p>\n",
       "</div>"
      ],
      "text/plain": [
       "                        country country_code region  \\\n",
       "23                  Afghanistan          AFG    EMR   \n",
       "47                      Albania          ALB    EUR   \n",
       "71                      Algeria          DZA    AFR   \n",
       "95               American Samoa          ASM    WPR   \n",
       "119                     Andorra          AND    EUR   \n",
       "...                         ...          ...    ...   \n",
       "5023  Wallis and Futuna Islands          WLF    WPR   \n",
       "5047   West Bank and Gaza Strip          PSE    EMR   \n",
       "5071                      Yemen          YEM    EMR   \n",
       "5095                     Zambia          ZMB    AFR   \n",
       "5119                   Zimbabwe          ZWE    AFR   \n",
       "\n",
       "                              year  population  tb_prevalence_all_forms  \\\n",
       "23   1970-01-01 00:00:00.000002013    30551674                 100000.0   \n",
       "47   1970-01-01 00:00:00.000002013     3173271                    850.0   \n",
       "71   1970-01-01 00:00:00.000002013    39208194                  49000.0   \n",
       "95   1970-01-01 00:00:00.000002013       55165                      5.2   \n",
       "119  1970-01-01 00:00:00.000002013       79218                      6.5   \n",
       "...                            ...         ...                      ...   \n",
       "5023 1970-01-01 00:00:00.000002013       13272                      2.2   \n",
       "5047 1970-01-01 00:00:00.000002013     4326295                    310.0   \n",
       "5071 1970-01-01 00:00:00.000002013    24407381                  15000.0   \n",
       "5095 1970-01-01 00:00:00.000002013    14538640                  49000.0   \n",
       "5119 1970-01-01 00:00:00.000002013    14149648                  58000.0   \n",
       "\n",
       "     prevalence_method  tb_deaths_exc_hiv  tb_death_hiv mortality_method  \\\n",
       "23           predicted           13000.00         82.00         Indirect   \n",
       "47           predicted              20.00          0.00       VR imputed   \n",
       "71           predicted            5100.00         35.00         Indirect   \n",
       "95           predicted               0.35          0.00         Indirect   \n",
       "119          predicted               0.26          0.00         Indirect   \n",
       "...                ...                ...           ...              ...   \n",
       "5023         predicted               0.30          0.00         Indirect   \n",
       "5047         predicted               8.90          0.56       VR imputed   \n",
       "5071         predicted             990.00         18.00         Indirect   \n",
       "5095         predicted            3600.00       8600.00         Indirect   \n",
       "5119         predicted            5700.00      22000.00         Indirect   \n",
       "\n",
       "      num_incidents_all_forms  max_date  \n",
       "23                    58000.0      True  \n",
       "47                      590.0      True  \n",
       "71                    32000.0      True  \n",
       "95                        4.0      True  \n",
       "119                       5.8      True  \n",
       "...                       ...       ...  \n",
       "5023                      1.2      True  \n",
       "5047                    200.0      True  \n",
       "5071                  12000.0      True  \n",
       "5095                  60000.0      True  \n",
       "5119                  78000.0      True  \n",
       "\n",
       "[219 rows x 12 columns]"
      ]
     },
     "execution_count": 15,
     "metadata": {},
     "output_type": "execute_result"
    }
   ],
   "source": [
    "# now let's grab only the most recent year infomation for each country in this dataset\n",
    "df = df[df['max_date'] == True]#.copy()\n",
    "df"
   ]
  },
  {
   "cell_type": "code",
   "execution_count": 16,
   "id": "c2704060",
   "metadata": {},
   "outputs": [
    {
     "data": {
      "text/html": [
       "<div>\n",
       "<style scoped>\n",
       "    .dataframe tbody tr th:only-of-type {\n",
       "        vertical-align: middle;\n",
       "    }\n",
       "\n",
       "    .dataframe tbody tr th {\n",
       "        vertical-align: top;\n",
       "    }\n",
       "\n",
       "    .dataframe thead th {\n",
       "        text-align: right;\n",
       "    }\n",
       "</style>\n",
       "<table border=\"1\" class=\"dataframe\">\n",
       "  <thead>\n",
       "    <tr style=\"text-align: right;\">\n",
       "      <th></th>\n",
       "      <th>country</th>\n",
       "      <th>country_code</th>\n",
       "      <th>region</th>\n",
       "      <th>year</th>\n",
       "      <th>population</th>\n",
       "      <th>tb_prevalence_all_forms</th>\n",
       "      <th>prevalence_method</th>\n",
       "      <th>tb_deaths_exc_hiv</th>\n",
       "      <th>tb_death_hiv</th>\n",
       "      <th>mortality_method</th>\n",
       "      <th>num_incidents_all_forms</th>\n",
       "      <th>max_date</th>\n",
       "    </tr>\n",
       "  </thead>\n",
       "  <tbody>\n",
       "    <tr>\n",
       "      <th>0</th>\n",
       "      <td>Afghanistan</td>\n",
       "      <td>AFG</td>\n",
       "      <td>EMR</td>\n",
       "      <td>1970-01-01 00:00:00.000002013</td>\n",
       "      <td>30551674</td>\n",
       "      <td>100000.0</td>\n",
       "      <td>predicted</td>\n",
       "      <td>13000.00</td>\n",
       "      <td>82.00</td>\n",
       "      <td>Indirect</td>\n",
       "      <td>58000.0</td>\n",
       "      <td>True</td>\n",
       "    </tr>\n",
       "    <tr>\n",
       "      <th>1</th>\n",
       "      <td>Albania</td>\n",
       "      <td>ALB</td>\n",
       "      <td>EUR</td>\n",
       "      <td>1970-01-01 00:00:00.000002013</td>\n",
       "      <td>3173271</td>\n",
       "      <td>850.0</td>\n",
       "      <td>predicted</td>\n",
       "      <td>20.00</td>\n",
       "      <td>0.00</td>\n",
       "      <td>VR imputed</td>\n",
       "      <td>590.0</td>\n",
       "      <td>True</td>\n",
       "    </tr>\n",
       "    <tr>\n",
       "      <th>2</th>\n",
       "      <td>Algeria</td>\n",
       "      <td>DZA</td>\n",
       "      <td>AFR</td>\n",
       "      <td>1970-01-01 00:00:00.000002013</td>\n",
       "      <td>39208194</td>\n",
       "      <td>49000.0</td>\n",
       "      <td>predicted</td>\n",
       "      <td>5100.00</td>\n",
       "      <td>35.00</td>\n",
       "      <td>Indirect</td>\n",
       "      <td>32000.0</td>\n",
       "      <td>True</td>\n",
       "    </tr>\n",
       "    <tr>\n",
       "      <th>3</th>\n",
       "      <td>American Samoa</td>\n",
       "      <td>ASM</td>\n",
       "      <td>WPR</td>\n",
       "      <td>1970-01-01 00:00:00.000002013</td>\n",
       "      <td>55165</td>\n",
       "      <td>5.2</td>\n",
       "      <td>predicted</td>\n",
       "      <td>0.35</td>\n",
       "      <td>0.00</td>\n",
       "      <td>Indirect</td>\n",
       "      <td>4.0</td>\n",
       "      <td>True</td>\n",
       "    </tr>\n",
       "    <tr>\n",
       "      <th>4</th>\n",
       "      <td>Andorra</td>\n",
       "      <td>AND</td>\n",
       "      <td>EUR</td>\n",
       "      <td>1970-01-01 00:00:00.000002013</td>\n",
       "      <td>79218</td>\n",
       "      <td>6.5</td>\n",
       "      <td>predicted</td>\n",
       "      <td>0.26</td>\n",
       "      <td>0.00</td>\n",
       "      <td>Indirect</td>\n",
       "      <td>5.8</td>\n",
       "      <td>True</td>\n",
       "    </tr>\n",
       "    <tr>\n",
       "      <th>...</th>\n",
       "      <td>...</td>\n",
       "      <td>...</td>\n",
       "      <td>...</td>\n",
       "      <td>...</td>\n",
       "      <td>...</td>\n",
       "      <td>...</td>\n",
       "      <td>...</td>\n",
       "      <td>...</td>\n",
       "      <td>...</td>\n",
       "      <td>...</td>\n",
       "      <td>...</td>\n",
       "      <td>...</td>\n",
       "    </tr>\n",
       "    <tr>\n",
       "      <th>214</th>\n",
       "      <td>Wallis and Futuna Islands</td>\n",
       "      <td>WLF</td>\n",
       "      <td>WPR</td>\n",
       "      <td>1970-01-01 00:00:00.000002013</td>\n",
       "      <td>13272</td>\n",
       "      <td>2.2</td>\n",
       "      <td>predicted</td>\n",
       "      <td>0.30</td>\n",
       "      <td>0.00</td>\n",
       "      <td>Indirect</td>\n",
       "      <td>1.2</td>\n",
       "      <td>True</td>\n",
       "    </tr>\n",
       "    <tr>\n",
       "      <th>215</th>\n",
       "      <td>West Bank and Gaza Strip</td>\n",
       "      <td>PSE</td>\n",
       "      <td>EMR</td>\n",
       "      <td>1970-01-01 00:00:00.000002013</td>\n",
       "      <td>4326295</td>\n",
       "      <td>310.0</td>\n",
       "      <td>predicted</td>\n",
       "      <td>8.90</td>\n",
       "      <td>0.56</td>\n",
       "      <td>VR imputed</td>\n",
       "      <td>200.0</td>\n",
       "      <td>True</td>\n",
       "    </tr>\n",
       "    <tr>\n",
       "      <th>216</th>\n",
       "      <td>Yemen</td>\n",
       "      <td>YEM</td>\n",
       "      <td>EMR</td>\n",
       "      <td>1970-01-01 00:00:00.000002013</td>\n",
       "      <td>24407381</td>\n",
       "      <td>15000.0</td>\n",
       "      <td>predicted</td>\n",
       "      <td>990.00</td>\n",
       "      <td>18.00</td>\n",
       "      <td>Indirect</td>\n",
       "      <td>12000.0</td>\n",
       "      <td>True</td>\n",
       "    </tr>\n",
       "    <tr>\n",
       "      <th>217</th>\n",
       "      <td>Zambia</td>\n",
       "      <td>ZMB</td>\n",
       "      <td>AFR</td>\n",
       "      <td>1970-01-01 00:00:00.000002013</td>\n",
       "      <td>14538640</td>\n",
       "      <td>49000.0</td>\n",
       "      <td>predicted</td>\n",
       "      <td>3600.00</td>\n",
       "      <td>8600.00</td>\n",
       "      <td>Indirect</td>\n",
       "      <td>60000.0</td>\n",
       "      <td>True</td>\n",
       "    </tr>\n",
       "    <tr>\n",
       "      <th>218</th>\n",
       "      <td>Zimbabwe</td>\n",
       "      <td>ZWE</td>\n",
       "      <td>AFR</td>\n",
       "      <td>1970-01-01 00:00:00.000002013</td>\n",
       "      <td>14149648</td>\n",
       "      <td>58000.0</td>\n",
       "      <td>predicted</td>\n",
       "      <td>5700.00</td>\n",
       "      <td>22000.00</td>\n",
       "      <td>Indirect</td>\n",
       "      <td>78000.0</td>\n",
       "      <td>True</td>\n",
       "    </tr>\n",
       "  </tbody>\n",
       "</table>\n",
       "<p>219 rows × 12 columns</p>\n",
       "</div>"
      ],
      "text/plain": [
       "                       country country_code region  \\\n",
       "0                  Afghanistan          AFG    EMR   \n",
       "1                      Albania          ALB    EUR   \n",
       "2                      Algeria          DZA    AFR   \n",
       "3               American Samoa          ASM    WPR   \n",
       "4                      Andorra          AND    EUR   \n",
       "..                         ...          ...    ...   \n",
       "214  Wallis and Futuna Islands          WLF    WPR   \n",
       "215   West Bank and Gaza Strip          PSE    EMR   \n",
       "216                      Yemen          YEM    EMR   \n",
       "217                     Zambia          ZMB    AFR   \n",
       "218                   Zimbabwe          ZWE    AFR   \n",
       "\n",
       "                             year  population  tb_prevalence_all_forms  \\\n",
       "0   1970-01-01 00:00:00.000002013    30551674                 100000.0   \n",
       "1   1970-01-01 00:00:00.000002013     3173271                    850.0   \n",
       "2   1970-01-01 00:00:00.000002013    39208194                  49000.0   \n",
       "3   1970-01-01 00:00:00.000002013       55165                      5.2   \n",
       "4   1970-01-01 00:00:00.000002013       79218                      6.5   \n",
       "..                            ...         ...                      ...   \n",
       "214 1970-01-01 00:00:00.000002013       13272                      2.2   \n",
       "215 1970-01-01 00:00:00.000002013     4326295                    310.0   \n",
       "216 1970-01-01 00:00:00.000002013    24407381                  15000.0   \n",
       "217 1970-01-01 00:00:00.000002013    14538640                  49000.0   \n",
       "218 1970-01-01 00:00:00.000002013    14149648                  58000.0   \n",
       "\n",
       "    prevalence_method  tb_deaths_exc_hiv  tb_death_hiv mortality_method  \\\n",
       "0           predicted           13000.00         82.00         Indirect   \n",
       "1           predicted              20.00          0.00       VR imputed   \n",
       "2           predicted            5100.00         35.00         Indirect   \n",
       "3           predicted               0.35          0.00         Indirect   \n",
       "4           predicted               0.26          0.00         Indirect   \n",
       "..                ...                ...           ...              ...   \n",
       "214         predicted               0.30          0.00         Indirect   \n",
       "215         predicted               8.90          0.56       VR imputed   \n",
       "216         predicted             990.00         18.00         Indirect   \n",
       "217         predicted            3600.00       8600.00         Indirect   \n",
       "218         predicted            5700.00      22000.00         Indirect   \n",
       "\n",
       "     num_incidents_all_forms  max_date  \n",
       "0                    58000.0      True  \n",
       "1                      590.0      True  \n",
       "2                    32000.0      True  \n",
       "3                        4.0      True  \n",
       "4                        5.8      True  \n",
       "..                       ...       ...  \n",
       "214                      1.2      True  \n",
       "215                    200.0      True  \n",
       "216                  12000.0      True  \n",
       "217                  60000.0      True  \n",
       "218                  78000.0      True  \n",
       "\n",
       "[219 rows x 12 columns]"
      ]
     },
     "execution_count": 16,
     "metadata": {},
     "output_type": "execute_result"
    }
   ],
   "source": [
    "df.reset_index(drop=True, inplace=True)  # if you don't specify drop=True, it will keep original index and move it one tot he right\n",
    "df"
   ]
  },
  {
   "cell_type": "code",
   "execution_count": 17,
   "id": "c842bf1f",
   "metadata": {},
   "outputs": [
    {
     "data": {
      "text/html": [
       "<div>\n",
       "<style scoped>\n",
       "    .dataframe tbody tr th:only-of-type {\n",
       "        vertical-align: middle;\n",
       "    }\n",
       "\n",
       "    .dataframe tbody tr th {\n",
       "        vertical-align: top;\n",
       "    }\n",
       "\n",
       "    .dataframe thead th {\n",
       "        text-align: right;\n",
       "    }\n",
       "</style>\n",
       "<table border=\"1\" class=\"dataframe\">\n",
       "  <thead>\n",
       "    <tr style=\"text-align: right;\">\n",
       "      <th></th>\n",
       "      <th>country</th>\n",
       "      <th>country_code</th>\n",
       "      <th>region</th>\n",
       "      <th>year</th>\n",
       "      <th>population</th>\n",
       "      <th>tb_prevalence_all_forms</th>\n",
       "      <th>tb_deaths_exc_hiv</th>\n",
       "      <th>tb_death_hiv</th>\n",
       "      <th>num_incidents_all_forms</th>\n",
       "    </tr>\n",
       "  </thead>\n",
       "  <tbody>\n",
       "    <tr>\n",
       "      <th>0</th>\n",
       "      <td>Afghanistan</td>\n",
       "      <td>AFG</td>\n",
       "      <td>EMR</td>\n",
       "      <td>1970-01-01 00:00:00.000002013</td>\n",
       "      <td>30551674</td>\n",
       "      <td>100000.0</td>\n",
       "      <td>13000.00</td>\n",
       "      <td>82.00</td>\n",
       "      <td>58000.0</td>\n",
       "    </tr>\n",
       "    <tr>\n",
       "      <th>1</th>\n",
       "      <td>Albania</td>\n",
       "      <td>ALB</td>\n",
       "      <td>EUR</td>\n",
       "      <td>1970-01-01 00:00:00.000002013</td>\n",
       "      <td>3173271</td>\n",
       "      <td>850.0</td>\n",
       "      <td>20.00</td>\n",
       "      <td>0.00</td>\n",
       "      <td>590.0</td>\n",
       "    </tr>\n",
       "    <tr>\n",
       "      <th>2</th>\n",
       "      <td>Algeria</td>\n",
       "      <td>DZA</td>\n",
       "      <td>AFR</td>\n",
       "      <td>1970-01-01 00:00:00.000002013</td>\n",
       "      <td>39208194</td>\n",
       "      <td>49000.0</td>\n",
       "      <td>5100.00</td>\n",
       "      <td>35.00</td>\n",
       "      <td>32000.0</td>\n",
       "    </tr>\n",
       "    <tr>\n",
       "      <th>3</th>\n",
       "      <td>American Samoa</td>\n",
       "      <td>ASM</td>\n",
       "      <td>WPR</td>\n",
       "      <td>1970-01-01 00:00:00.000002013</td>\n",
       "      <td>55165</td>\n",
       "      <td>5.2</td>\n",
       "      <td>0.35</td>\n",
       "      <td>0.00</td>\n",
       "      <td>4.0</td>\n",
       "    </tr>\n",
       "    <tr>\n",
       "      <th>4</th>\n",
       "      <td>Andorra</td>\n",
       "      <td>AND</td>\n",
       "      <td>EUR</td>\n",
       "      <td>1970-01-01 00:00:00.000002013</td>\n",
       "      <td>79218</td>\n",
       "      <td>6.5</td>\n",
       "      <td>0.26</td>\n",
       "      <td>0.00</td>\n",
       "      <td>5.8</td>\n",
       "    </tr>\n",
       "    <tr>\n",
       "      <th>...</th>\n",
       "      <td>...</td>\n",
       "      <td>...</td>\n",
       "      <td>...</td>\n",
       "      <td>...</td>\n",
       "      <td>...</td>\n",
       "      <td>...</td>\n",
       "      <td>...</td>\n",
       "      <td>...</td>\n",
       "      <td>...</td>\n",
       "    </tr>\n",
       "    <tr>\n",
       "      <th>214</th>\n",
       "      <td>Wallis and Futuna Islands</td>\n",
       "      <td>WLF</td>\n",
       "      <td>WPR</td>\n",
       "      <td>1970-01-01 00:00:00.000002013</td>\n",
       "      <td>13272</td>\n",
       "      <td>2.2</td>\n",
       "      <td>0.30</td>\n",
       "      <td>0.00</td>\n",
       "      <td>1.2</td>\n",
       "    </tr>\n",
       "    <tr>\n",
       "      <th>215</th>\n",
       "      <td>West Bank and Gaza Strip</td>\n",
       "      <td>PSE</td>\n",
       "      <td>EMR</td>\n",
       "      <td>1970-01-01 00:00:00.000002013</td>\n",
       "      <td>4326295</td>\n",
       "      <td>310.0</td>\n",
       "      <td>8.90</td>\n",
       "      <td>0.56</td>\n",
       "      <td>200.0</td>\n",
       "    </tr>\n",
       "    <tr>\n",
       "      <th>216</th>\n",
       "      <td>Yemen</td>\n",
       "      <td>YEM</td>\n",
       "      <td>EMR</td>\n",
       "      <td>1970-01-01 00:00:00.000002013</td>\n",
       "      <td>24407381</td>\n",
       "      <td>15000.0</td>\n",
       "      <td>990.00</td>\n",
       "      <td>18.00</td>\n",
       "      <td>12000.0</td>\n",
       "    </tr>\n",
       "    <tr>\n",
       "      <th>217</th>\n",
       "      <td>Zambia</td>\n",
       "      <td>ZMB</td>\n",
       "      <td>AFR</td>\n",
       "      <td>1970-01-01 00:00:00.000002013</td>\n",
       "      <td>14538640</td>\n",
       "      <td>49000.0</td>\n",
       "      <td>3600.00</td>\n",
       "      <td>8600.00</td>\n",
       "      <td>60000.0</td>\n",
       "    </tr>\n",
       "    <tr>\n",
       "      <th>218</th>\n",
       "      <td>Zimbabwe</td>\n",
       "      <td>ZWE</td>\n",
       "      <td>AFR</td>\n",
       "      <td>1970-01-01 00:00:00.000002013</td>\n",
       "      <td>14149648</td>\n",
       "      <td>58000.0</td>\n",
       "      <td>5700.00</td>\n",
       "      <td>22000.00</td>\n",
       "      <td>78000.0</td>\n",
       "    </tr>\n",
       "  </tbody>\n",
       "</table>\n",
       "<p>219 rows × 9 columns</p>\n",
       "</div>"
      ],
      "text/plain": [
       "                       country country_code region  \\\n",
       "0                  Afghanistan          AFG    EMR   \n",
       "1                      Albania          ALB    EUR   \n",
       "2                      Algeria          DZA    AFR   \n",
       "3               American Samoa          ASM    WPR   \n",
       "4                      Andorra          AND    EUR   \n",
       "..                         ...          ...    ...   \n",
       "214  Wallis and Futuna Islands          WLF    WPR   \n",
       "215   West Bank and Gaza Strip          PSE    EMR   \n",
       "216                      Yemen          YEM    EMR   \n",
       "217                     Zambia          ZMB    AFR   \n",
       "218                   Zimbabwe          ZWE    AFR   \n",
       "\n",
       "                             year  population  tb_prevalence_all_forms  \\\n",
       "0   1970-01-01 00:00:00.000002013    30551674                 100000.0   \n",
       "1   1970-01-01 00:00:00.000002013     3173271                    850.0   \n",
       "2   1970-01-01 00:00:00.000002013    39208194                  49000.0   \n",
       "3   1970-01-01 00:00:00.000002013       55165                      5.2   \n",
       "4   1970-01-01 00:00:00.000002013       79218                      6.5   \n",
       "..                            ...         ...                      ...   \n",
       "214 1970-01-01 00:00:00.000002013       13272                      2.2   \n",
       "215 1970-01-01 00:00:00.000002013     4326295                    310.0   \n",
       "216 1970-01-01 00:00:00.000002013    24407381                  15000.0   \n",
       "217 1970-01-01 00:00:00.000002013    14538640                  49000.0   \n",
       "218 1970-01-01 00:00:00.000002013    14149648                  58000.0   \n",
       "\n",
       "     tb_deaths_exc_hiv  tb_death_hiv  num_incidents_all_forms  \n",
       "0             13000.00         82.00                  58000.0  \n",
       "1                20.00          0.00                    590.0  \n",
       "2              5100.00         35.00                  32000.0  \n",
       "3                 0.35          0.00                      4.0  \n",
       "4                 0.26          0.00                      5.8  \n",
       "..                 ...           ...                      ...  \n",
       "214               0.30          0.00                      1.2  \n",
       "215               8.90          0.56                    200.0  \n",
       "216             990.00         18.00                  12000.0  \n",
       "217            3600.00       8600.00                  60000.0  \n",
       "218            5700.00      22000.00                  78000.0  \n",
       "\n",
       "[219 rows x 9 columns]"
      ]
     },
     "execution_count": 17,
     "metadata": {},
     "output_type": "execute_result"
    }
   ],
   "source": [
    "#continue to clean and ready our dataset\n",
    "#drop additonal columns not needed for our objectives\n",
    "\n",
    "df = df.drop(['prevalence_method', 'mortality_method', 'max_date'], axis=1)\n",
    "df"
   ]
  },
  {
   "cell_type": "code",
   "execution_count": 22,
   "id": "b1bafc18",
   "metadata": {},
   "outputs": [
    {
     "name": "stdout",
     "output_type": "stream",
     "text": [
      "                             country country_code region  \\\n",
      "0                        Afghanistan          AFG    EMR   \n",
      "1                            Albania          ALB    EUR   \n",
      "2                            Algeria          DZA    AFR   \n",
      "3                     American Samoa          ASM    WPR   \n",
      "4                            Andorra          AND    EUR   \n",
      "5                             Angola          AGO    AFR   \n",
      "6                           Anguilla          AIA    AMR   \n",
      "7                Antigua and Barbuda          ATG    AMR   \n",
      "8                          Argentina          ARG    AMR   \n",
      "9                            Armenia          ARM    EUR   \n",
      "10                             Aruba          ABW    AMR   \n",
      "11                         Australia          AUS    WPR   \n",
      "12                           Austria          AUT    EUR   \n",
      "13                        Azerbaijan          AZE    EUR   \n",
      "14                           Bahamas          BHS    AMR   \n",
      "15                           Bahrain          BHR    EMR   \n",
      "16                        Bangladesh          BGD    SEA   \n",
      "17                          Barbados          BRB    AMR   \n",
      "18                           Belarus          BLR    EUR   \n",
      "19                           Belgium          BEL    EUR   \n",
      "20                            Belize          BLZ    AMR   \n",
      "21                             Benin          BEN    AFR   \n",
      "22                           Bermuda          BMU    AMR   \n",
      "23                            Bhutan          BTN    SEA   \n",
      "24  Bolivia (Plurinational State of)          BOL    AMR   \n",
      "\n",
      "                            year  population  tb_prevalence_all_forms  \\\n",
      "0  1970-01-01 00:00:00.000002013    30551674                100000.00   \n",
      "1  1970-01-01 00:00:00.000002013     3173271                   850.00   \n",
      "2  1970-01-01 00:00:00.000002013    39208194                 49000.00   \n",
      "3  1970-01-01 00:00:00.000002013       55165                     5.20   \n",
      "4  1970-01-01 00:00:00.000002013       79218                     6.50   \n",
      "5  1970-01-01 00:00:00.000002013    21471618                 91000.00   \n",
      "6  1970-01-01 00:00:00.000002013       14300                     7.30   \n",
      "7  1970-01-01 00:00:00.000002013       89985                    18.00   \n",
      "8  1970-01-01 00:00:00.000002013    41446246                 13000.00   \n",
      "9  1970-01-01 00:00:00.000002013     2976566                  2000.00   \n",
      "10 1970-01-01 00:00:00.000002013      102911                    17.00   \n",
      "11 1970-01-01 00:00:00.000002013    23342553                  1800.00   \n",
      "12 1970-01-01 00:00:00.000002013     8495145                   930.00   \n",
      "13 1970-01-01 00:00:00.000002013     9413420                  9900.00   \n",
      "14 1970-01-01 00:00:00.000002013      377374                    37.00   \n",
      "15 1970-01-01 00:00:00.000002013     1332171                   350.00   \n",
      "16 1970-01-01 00:00:00.000002013   156594962                630000.00   \n",
      "17 1970-01-01 00:00:00.000002013      284644                     8.00   \n",
      "18 1970-01-01 00:00:00.000002013     9356678                  9500.00   \n",
      "19 1970-01-01 00:00:00.000002013    11104476                  1300.00   \n",
      "20 1970-01-01 00:00:00.000002013      331900                   130.00   \n",
      "21 1970-01-01 00:00:00.000002013    10323474                 11000.00   \n",
      "22 1970-01-01 00:00:00.000002013       65341                     0.24   \n",
      "23 1970-01-01 00:00:00.000002013      753947                  1500.00   \n",
      "24 1970-01-01 00:00:00.000002013    10671200                 21000.00   \n",
      "\n",
      "    tb_deaths_exc_hiv  tb_death_hiv  num_incidents_all_forms  tb_prev_ratio  \\\n",
      "0            13000.00          82.0                  58000.0       0.003273   \n",
      "1               20.00           0.0                    590.0       0.000268   \n",
      "2             5100.00          35.0                  32000.0       0.001250   \n",
      "3                0.35           0.0                      4.0       0.000094   \n",
      "4                0.26           0.0                      5.8       0.000082   \n",
      "5             6900.00        1600.0                  69000.0       0.004238   \n",
      "6                0.00           0.0                      3.0       0.000510   \n",
      "7                1.20           0.0                     12.0       0.000200   \n",
      "8              570.00          44.0                  10000.0       0.000314   \n",
      "9              170.00          12.0                   1500.0       0.000672   \n",
      "10               0.46           0.0                     13.0       0.000165   \n",
      "11              45.00           4.0                   1400.0       0.000077   \n",
      "12              29.00           0.0                    710.0       0.000109   \n",
      "13             360.00          22.0                   8000.0       0.001052   \n",
      "14               1.80           2.0                     37.0       0.000098   \n",
      "15               9.60           0.0                    240.0       0.000263   \n",
      "16           80000.00         160.0                 350000.0       0.004023   \n",
      "17               2.00           0.0                      4.0       0.000028   \n",
      "18             850.00          85.0                   6500.0       0.001015   \n",
      "19              18.00           4.0                   1000.0       0.000117   \n",
      "20              20.00           3.0                    120.0       0.000392   \n",
      "21            1300.00         350.0                   7200.0       0.001066   \n",
      "22               0.02           0.0                      0.0       0.000004   \n",
      "23              88.00           0.0                   1300.0       0.001990   \n",
      "24             430.00         120.0                  13000.0       0.001968   \n",
      "\n",
      "    tb_death_ratio_to_prev  \n",
      "0                 0.130000  \n",
      "1                 0.023529  \n",
      "2                 0.104082  \n",
      "3                 0.067308  \n",
      "4                 0.040000  \n",
      "5                 0.075824  \n",
      "6                 0.000000  \n",
      "7                 0.066667  \n",
      "8                 0.043846  \n",
      "9                 0.085000  \n",
      "10                0.027059  \n",
      "11                0.025000  \n",
      "12                0.031183  \n",
      "13                0.036364  \n",
      "14                0.048649  \n",
      "15                0.027429  \n",
      "16                0.126984  \n",
      "17                0.250000  \n",
      "18                0.089474  \n",
      "19                0.013846  \n",
      "20                0.153846  \n",
      "21                0.118182  \n",
      "22                0.083333  \n",
      "23                0.058667  \n",
      "24                0.020476  \n"
     ]
    }
   ],
   "source": [
    "### Create new columns for comparative analysis\n",
    "df['tb_prev_ratio'] = df['tb_prevalence_all_forms'].div(df['population'], axis=0)\n",
    "df['tb_death_ratio_to_prev'] = df['tb_deaths_exc_hiv'].div(df['tb_prevalence_all_forms'], axis=0)\n",
    "print(df.head(25))"
   ]
  },
  {
   "cell_type": "code",
   "execution_count": 19,
   "id": "33531b55",
   "metadata": {
    "collapsed": true
   },
   "outputs": [],
   "source": [
    "# Now let's go back and analyze our outliers based on tb_prev_ratio AND tb_death_ratio_to_prev"
   ]
  },
  {
   "cell_type": "code",
   "execution_count": 19,
   "id": "b054b39c",
   "metadata": {
    "collapsed": true
   },
   "outputs": [
    {
     "data": {
      "text/plain": [
       "array([ 35,  59, 102, 179, 185, 192])"
      ]
     },
     "execution_count": 19,
     "metadata": {},
     "output_type": "execute_result"
    }
   ],
   "source": [
    "#outlier_indices"
   ]
  },
  {
   "cell_type": "code",
   "execution_count": 21,
   "id": "55c2c5af",
   "metadata": {},
   "outputs": [
    {
     "data": {
      "text/plain": [
       "array([ 35,  59, 102, 179, 185, 192])"
      ]
     },
     "execution_count": 21,
     "metadata": {},
     "output_type": "execute_result"
    }
   ],
   "source": [
    "from scipy import stats\n",
    "z = np.abs(stats.zscore(df['tb_prev_ratio'])) #creates z_scores for this column\n",
    "\n",
    "\n",
    "threshold = 3\n",
    "outlier_indices = np.where(z > threshold)[0] # we are creating a flagged (list) array of indices where condition is met (outliers)\n",
    "outlier_indices\n",
    "#no_outliers = df.drop(outlier_indices)\n",
    "##print('original dataframe shape: ', df.shape)\n",
    "#print('dataframe after removal of outliers: ', no_outliers.shape)\n",
    "#no_outliers\n"
   ]
  },
  {
   "cell_type": "code",
   "execution_count": 23,
   "id": "c9c8a8d3",
   "metadata": {},
   "outputs": [
    {
     "data": {
      "text/html": [
       "<div>\n",
       "<style scoped>\n",
       "    .dataframe tbody tr th:only-of-type {\n",
       "        vertical-align: middle;\n",
       "    }\n",
       "\n",
       "    .dataframe tbody tr th {\n",
       "        vertical-align: top;\n",
       "    }\n",
       "\n",
       "    .dataframe thead th {\n",
       "        text-align: right;\n",
       "    }\n",
       "</style>\n",
       "<table border=\"1\" class=\"dataframe\">\n",
       "  <thead>\n",
       "    <tr style=\"text-align: right;\">\n",
       "      <th></th>\n",
       "      <th>country</th>\n",
       "      <th>country_code</th>\n",
       "      <th>region</th>\n",
       "      <th>year</th>\n",
       "      <th>population</th>\n",
       "      <th>tb_prevalence_all_forms</th>\n",
       "      <th>tb_deaths_exc_hiv</th>\n",
       "      <th>tb_death_hiv</th>\n",
       "      <th>num_incidents_all_forms</th>\n",
       "      <th>tb_prev_ratio</th>\n",
       "      <th>tb_death_ratio_to_prev</th>\n",
       "    </tr>\n",
       "  </thead>\n",
       "  <tbody>\n",
       "    <tr>\n",
       "      <th>0</th>\n",
       "      <td>Afghanistan</td>\n",
       "      <td>AFG</td>\n",
       "      <td>EMR</td>\n",
       "      <td>1970-01-01 00:00:00.000002013</td>\n",
       "      <td>30551674</td>\n",
       "      <td>100000.0</td>\n",
       "      <td>13000.00</td>\n",
       "      <td>82.00</td>\n",
       "      <td>58000.0</td>\n",
       "      <td>0.003273</td>\n",
       "      <td>0.130000</td>\n",
       "    </tr>\n",
       "    <tr>\n",
       "      <th>1</th>\n",
       "      <td>Albania</td>\n",
       "      <td>ALB</td>\n",
       "      <td>EUR</td>\n",
       "      <td>1970-01-01 00:00:00.000002013</td>\n",
       "      <td>3173271</td>\n",
       "      <td>850.0</td>\n",
       "      <td>20.00</td>\n",
       "      <td>0.00</td>\n",
       "      <td>590.0</td>\n",
       "      <td>0.000268</td>\n",
       "      <td>0.023529</td>\n",
       "    </tr>\n",
       "    <tr>\n",
       "      <th>2</th>\n",
       "      <td>Algeria</td>\n",
       "      <td>DZA</td>\n",
       "      <td>AFR</td>\n",
       "      <td>1970-01-01 00:00:00.000002013</td>\n",
       "      <td>39208194</td>\n",
       "      <td>49000.0</td>\n",
       "      <td>5100.00</td>\n",
       "      <td>35.00</td>\n",
       "      <td>32000.0</td>\n",
       "      <td>0.001250</td>\n",
       "      <td>0.104082</td>\n",
       "    </tr>\n",
       "    <tr>\n",
       "      <th>3</th>\n",
       "      <td>American Samoa</td>\n",
       "      <td>ASM</td>\n",
       "      <td>WPR</td>\n",
       "      <td>1970-01-01 00:00:00.000002013</td>\n",
       "      <td>55165</td>\n",
       "      <td>5.2</td>\n",
       "      <td>0.35</td>\n",
       "      <td>0.00</td>\n",
       "      <td>4.0</td>\n",
       "      <td>0.000094</td>\n",
       "      <td>0.067308</td>\n",
       "    </tr>\n",
       "    <tr>\n",
       "      <th>4</th>\n",
       "      <td>Andorra</td>\n",
       "      <td>AND</td>\n",
       "      <td>EUR</td>\n",
       "      <td>1970-01-01 00:00:00.000002013</td>\n",
       "      <td>79218</td>\n",
       "      <td>6.5</td>\n",
       "      <td>0.26</td>\n",
       "      <td>0.00</td>\n",
       "      <td>5.8</td>\n",
       "      <td>0.000082</td>\n",
       "      <td>0.040000</td>\n",
       "    </tr>\n",
       "    <tr>\n",
       "      <th>...</th>\n",
       "      <td>...</td>\n",
       "      <td>...</td>\n",
       "      <td>...</td>\n",
       "      <td>...</td>\n",
       "      <td>...</td>\n",
       "      <td>...</td>\n",
       "      <td>...</td>\n",
       "      <td>...</td>\n",
       "      <td>...</td>\n",
       "      <td>...</td>\n",
       "      <td>...</td>\n",
       "    </tr>\n",
       "    <tr>\n",
       "      <th>214</th>\n",
       "      <td>Wallis and Futuna Islands</td>\n",
       "      <td>WLF</td>\n",
       "      <td>WPR</td>\n",
       "      <td>1970-01-01 00:00:00.000002013</td>\n",
       "      <td>13272</td>\n",
       "      <td>2.2</td>\n",
       "      <td>0.30</td>\n",
       "      <td>0.00</td>\n",
       "      <td>1.2</td>\n",
       "      <td>0.000166</td>\n",
       "      <td>0.136364</td>\n",
       "    </tr>\n",
       "    <tr>\n",
       "      <th>215</th>\n",
       "      <td>West Bank and Gaza Strip</td>\n",
       "      <td>PSE</td>\n",
       "      <td>EMR</td>\n",
       "      <td>1970-01-01 00:00:00.000002013</td>\n",
       "      <td>4326295</td>\n",
       "      <td>310.0</td>\n",
       "      <td>8.90</td>\n",
       "      <td>0.56</td>\n",
       "      <td>200.0</td>\n",
       "      <td>0.000072</td>\n",
       "      <td>0.028710</td>\n",
       "    </tr>\n",
       "    <tr>\n",
       "      <th>216</th>\n",
       "      <td>Yemen</td>\n",
       "      <td>YEM</td>\n",
       "      <td>EMR</td>\n",
       "      <td>1970-01-01 00:00:00.000002013</td>\n",
       "      <td>24407381</td>\n",
       "      <td>15000.0</td>\n",
       "      <td>990.00</td>\n",
       "      <td>18.00</td>\n",
       "      <td>12000.0</td>\n",
       "      <td>0.000615</td>\n",
       "      <td>0.066000</td>\n",
       "    </tr>\n",
       "    <tr>\n",
       "      <th>217</th>\n",
       "      <td>Zambia</td>\n",
       "      <td>ZMB</td>\n",
       "      <td>AFR</td>\n",
       "      <td>1970-01-01 00:00:00.000002013</td>\n",
       "      <td>14538640</td>\n",
       "      <td>49000.0</td>\n",
       "      <td>3600.00</td>\n",
       "      <td>8600.00</td>\n",
       "      <td>60000.0</td>\n",
       "      <td>0.003370</td>\n",
       "      <td>0.073469</td>\n",
       "    </tr>\n",
       "    <tr>\n",
       "      <th>218</th>\n",
       "      <td>Zimbabwe</td>\n",
       "      <td>ZWE</td>\n",
       "      <td>AFR</td>\n",
       "      <td>1970-01-01 00:00:00.000002013</td>\n",
       "      <td>14149648</td>\n",
       "      <td>58000.0</td>\n",
       "      <td>5700.00</td>\n",
       "      <td>22000.00</td>\n",
       "      <td>78000.0</td>\n",
       "      <td>0.004099</td>\n",
       "      <td>0.098276</td>\n",
       "    </tr>\n",
       "  </tbody>\n",
       "</table>\n",
       "<p>213 rows × 11 columns</p>\n",
       "</div>"
      ],
      "text/plain": [
       "                       country country_code region  \\\n",
       "0                  Afghanistan          AFG    EMR   \n",
       "1                      Albania          ALB    EUR   \n",
       "2                      Algeria          DZA    AFR   \n",
       "3               American Samoa          ASM    WPR   \n",
       "4                      Andorra          AND    EUR   \n",
       "..                         ...          ...    ...   \n",
       "214  Wallis and Futuna Islands          WLF    WPR   \n",
       "215   West Bank and Gaza Strip          PSE    EMR   \n",
       "216                      Yemen          YEM    EMR   \n",
       "217                     Zambia          ZMB    AFR   \n",
       "218                   Zimbabwe          ZWE    AFR   \n",
       "\n",
       "                             year  population  tb_prevalence_all_forms  \\\n",
       "0   1970-01-01 00:00:00.000002013    30551674                 100000.0   \n",
       "1   1970-01-01 00:00:00.000002013     3173271                    850.0   \n",
       "2   1970-01-01 00:00:00.000002013    39208194                  49000.0   \n",
       "3   1970-01-01 00:00:00.000002013       55165                      5.2   \n",
       "4   1970-01-01 00:00:00.000002013       79218                      6.5   \n",
       "..                            ...         ...                      ...   \n",
       "214 1970-01-01 00:00:00.000002013       13272                      2.2   \n",
       "215 1970-01-01 00:00:00.000002013     4326295                    310.0   \n",
       "216 1970-01-01 00:00:00.000002013    24407381                  15000.0   \n",
       "217 1970-01-01 00:00:00.000002013    14538640                  49000.0   \n",
       "218 1970-01-01 00:00:00.000002013    14149648                  58000.0   \n",
       "\n",
       "     tb_deaths_exc_hiv  tb_death_hiv  num_incidents_all_forms  tb_prev_ratio  \\\n",
       "0             13000.00         82.00                  58000.0       0.003273   \n",
       "1                20.00          0.00                    590.0       0.000268   \n",
       "2              5100.00         35.00                  32000.0       0.001250   \n",
       "3                 0.35          0.00                      4.0       0.000094   \n",
       "4                 0.26          0.00                      5.8       0.000082   \n",
       "..                 ...           ...                      ...            ...   \n",
       "214               0.30          0.00                      1.2       0.000166   \n",
       "215               8.90          0.56                    200.0       0.000072   \n",
       "216             990.00         18.00                  12000.0       0.000615   \n",
       "217            3600.00       8600.00                  60000.0       0.003370   \n",
       "218            5700.00      22000.00                  78000.0       0.004099   \n",
       "\n",
       "     tb_death_ratio_to_prev  \n",
       "0                  0.130000  \n",
       "1                  0.023529  \n",
       "2                  0.104082  \n",
       "3                  0.067308  \n",
       "4                  0.040000  \n",
       "..                      ...  \n",
       "214                0.136364  \n",
       "215                0.028710  \n",
       "216                0.066000  \n",
       "217                0.073469  \n",
       "218                0.098276  \n",
       "\n",
       "[213 rows x 11 columns]"
      ]
     },
     "execution_count": 23,
     "metadata": {},
     "output_type": "execute_result"
    }
   ],
   "source": [
    "no_outliers = df.drop(outlier_indices)\n",
    "no_outliers"
   ]
  },
  {
   "cell_type": "code",
   "execution_count": 24,
   "id": "b9eafb81",
   "metadata": {},
   "outputs": [
    {
     "data": {
      "text/html": [
       "<div>\n",
       "<style scoped>\n",
       "    .dataframe tbody tr th:only-of-type {\n",
       "        vertical-align: middle;\n",
       "    }\n",
       "\n",
       "    .dataframe tbody tr th {\n",
       "        vertical-align: top;\n",
       "    }\n",
       "\n",
       "    .dataframe thead th {\n",
       "        text-align: right;\n",
       "    }\n",
       "</style>\n",
       "<table border=\"1\" class=\"dataframe\">\n",
       "  <thead>\n",
       "    <tr style=\"text-align: right;\">\n",
       "      <th></th>\n",
       "      <th>country</th>\n",
       "      <th>country_code</th>\n",
       "      <th>region</th>\n",
       "      <th>year</th>\n",
       "      <th>population</th>\n",
       "      <th>tb_prevalence_all_forms</th>\n",
       "      <th>tb_deaths_exc_hiv</th>\n",
       "      <th>tb_death_hiv</th>\n",
       "      <th>num_incidents_all_forms</th>\n",
       "      <th>tb_prev_ratio</th>\n",
       "      <th>tb_death_ratio_to_prev</th>\n",
       "    </tr>\n",
       "  </thead>\n",
       "  <tbody>\n",
       "    <tr>\n",
       "      <th>0</th>\n",
       "      <td>Afghanistan</td>\n",
       "      <td>AFG</td>\n",
       "      <td>EMR</td>\n",
       "      <td>1970-01-01 00:00:00.000002013</td>\n",
       "      <td>30551674</td>\n",
       "      <td>100000.0</td>\n",
       "      <td>13000.00</td>\n",
       "      <td>82.00</td>\n",
       "      <td>58000.0</td>\n",
       "      <td>0.003273</td>\n",
       "      <td>0.130000</td>\n",
       "    </tr>\n",
       "    <tr>\n",
       "      <th>1</th>\n",
       "      <td>Albania</td>\n",
       "      <td>ALB</td>\n",
       "      <td>EUR</td>\n",
       "      <td>1970-01-01 00:00:00.000002013</td>\n",
       "      <td>3173271</td>\n",
       "      <td>850.0</td>\n",
       "      <td>20.00</td>\n",
       "      <td>0.00</td>\n",
       "      <td>590.0</td>\n",
       "      <td>0.000268</td>\n",
       "      <td>0.023529</td>\n",
       "    </tr>\n",
       "    <tr>\n",
       "      <th>2</th>\n",
       "      <td>Algeria</td>\n",
       "      <td>DZA</td>\n",
       "      <td>AFR</td>\n",
       "      <td>1970-01-01 00:00:00.000002013</td>\n",
       "      <td>39208194</td>\n",
       "      <td>49000.0</td>\n",
       "      <td>5100.00</td>\n",
       "      <td>35.00</td>\n",
       "      <td>32000.0</td>\n",
       "      <td>0.001250</td>\n",
       "      <td>0.104082</td>\n",
       "    </tr>\n",
       "    <tr>\n",
       "      <th>3</th>\n",
       "      <td>American Samoa</td>\n",
       "      <td>ASM</td>\n",
       "      <td>WPR</td>\n",
       "      <td>1970-01-01 00:00:00.000002013</td>\n",
       "      <td>55165</td>\n",
       "      <td>5.2</td>\n",
       "      <td>0.35</td>\n",
       "      <td>0.00</td>\n",
       "      <td>4.0</td>\n",
       "      <td>0.000094</td>\n",
       "      <td>0.067308</td>\n",
       "    </tr>\n",
       "    <tr>\n",
       "      <th>4</th>\n",
       "      <td>Andorra</td>\n",
       "      <td>AND</td>\n",
       "      <td>EUR</td>\n",
       "      <td>1970-01-01 00:00:00.000002013</td>\n",
       "      <td>79218</td>\n",
       "      <td>6.5</td>\n",
       "      <td>0.26</td>\n",
       "      <td>0.00</td>\n",
       "      <td>5.8</td>\n",
       "      <td>0.000082</td>\n",
       "      <td>0.040000</td>\n",
       "    </tr>\n",
       "    <tr>\n",
       "      <th>...</th>\n",
       "      <td>...</td>\n",
       "      <td>...</td>\n",
       "      <td>...</td>\n",
       "      <td>...</td>\n",
       "      <td>...</td>\n",
       "      <td>...</td>\n",
       "      <td>...</td>\n",
       "      <td>...</td>\n",
       "      <td>...</td>\n",
       "      <td>...</td>\n",
       "      <td>...</td>\n",
       "    </tr>\n",
       "    <tr>\n",
       "      <th>214</th>\n",
       "      <td>Wallis and Futuna Islands</td>\n",
       "      <td>WLF</td>\n",
       "      <td>WPR</td>\n",
       "      <td>1970-01-01 00:00:00.000002013</td>\n",
       "      <td>13272</td>\n",
       "      <td>2.2</td>\n",
       "      <td>0.30</td>\n",
       "      <td>0.00</td>\n",
       "      <td>1.2</td>\n",
       "      <td>0.000166</td>\n",
       "      <td>0.136364</td>\n",
       "    </tr>\n",
       "    <tr>\n",
       "      <th>215</th>\n",
       "      <td>West Bank and Gaza Strip</td>\n",
       "      <td>PSE</td>\n",
       "      <td>EMR</td>\n",
       "      <td>1970-01-01 00:00:00.000002013</td>\n",
       "      <td>4326295</td>\n",
       "      <td>310.0</td>\n",
       "      <td>8.90</td>\n",
       "      <td>0.56</td>\n",
       "      <td>200.0</td>\n",
       "      <td>0.000072</td>\n",
       "      <td>0.028710</td>\n",
       "    </tr>\n",
       "    <tr>\n",
       "      <th>216</th>\n",
       "      <td>Yemen</td>\n",
       "      <td>YEM</td>\n",
       "      <td>EMR</td>\n",
       "      <td>1970-01-01 00:00:00.000002013</td>\n",
       "      <td>24407381</td>\n",
       "      <td>15000.0</td>\n",
       "      <td>990.00</td>\n",
       "      <td>18.00</td>\n",
       "      <td>12000.0</td>\n",
       "      <td>0.000615</td>\n",
       "      <td>0.066000</td>\n",
       "    </tr>\n",
       "    <tr>\n",
       "      <th>217</th>\n",
       "      <td>Zambia</td>\n",
       "      <td>ZMB</td>\n",
       "      <td>AFR</td>\n",
       "      <td>1970-01-01 00:00:00.000002013</td>\n",
       "      <td>14538640</td>\n",
       "      <td>49000.0</td>\n",
       "      <td>3600.00</td>\n",
       "      <td>8600.00</td>\n",
       "      <td>60000.0</td>\n",
       "      <td>0.003370</td>\n",
       "      <td>0.073469</td>\n",
       "    </tr>\n",
       "    <tr>\n",
       "      <th>218</th>\n",
       "      <td>Zimbabwe</td>\n",
       "      <td>ZWE</td>\n",
       "      <td>AFR</td>\n",
       "      <td>1970-01-01 00:00:00.000002013</td>\n",
       "      <td>14149648</td>\n",
       "      <td>58000.0</td>\n",
       "      <td>5700.00</td>\n",
       "      <td>22000.00</td>\n",
       "      <td>78000.0</td>\n",
       "      <td>0.004099</td>\n",
       "      <td>0.098276</td>\n",
       "    </tr>\n",
       "  </tbody>\n",
       "</table>\n",
       "<p>213 rows × 11 columns</p>\n",
       "</div>"
      ],
      "text/plain": [
       "                       country country_code region  \\\n",
       "0                  Afghanistan          AFG    EMR   \n",
       "1                      Albania          ALB    EUR   \n",
       "2                      Algeria          DZA    AFR   \n",
       "3               American Samoa          ASM    WPR   \n",
       "4                      Andorra          AND    EUR   \n",
       "..                         ...          ...    ...   \n",
       "214  Wallis and Futuna Islands          WLF    WPR   \n",
       "215   West Bank and Gaza Strip          PSE    EMR   \n",
       "216                      Yemen          YEM    EMR   \n",
       "217                     Zambia          ZMB    AFR   \n",
       "218                   Zimbabwe          ZWE    AFR   \n",
       "\n",
       "                             year  population  tb_prevalence_all_forms  \\\n",
       "0   1970-01-01 00:00:00.000002013    30551674                 100000.0   \n",
       "1   1970-01-01 00:00:00.000002013     3173271                    850.0   \n",
       "2   1970-01-01 00:00:00.000002013    39208194                  49000.0   \n",
       "3   1970-01-01 00:00:00.000002013       55165                      5.2   \n",
       "4   1970-01-01 00:00:00.000002013       79218                      6.5   \n",
       "..                            ...         ...                      ...   \n",
       "214 1970-01-01 00:00:00.000002013       13272                      2.2   \n",
       "215 1970-01-01 00:00:00.000002013     4326295                    310.0   \n",
       "216 1970-01-01 00:00:00.000002013    24407381                  15000.0   \n",
       "217 1970-01-01 00:00:00.000002013    14538640                  49000.0   \n",
       "218 1970-01-01 00:00:00.000002013    14149648                  58000.0   \n",
       "\n",
       "     tb_deaths_exc_hiv  tb_death_hiv  num_incidents_all_forms  tb_prev_ratio  \\\n",
       "0             13000.00         82.00                  58000.0       0.003273   \n",
       "1                20.00          0.00                    590.0       0.000268   \n",
       "2              5100.00         35.00                  32000.0       0.001250   \n",
       "3                 0.35          0.00                      4.0       0.000094   \n",
       "4                 0.26          0.00                      5.8       0.000082   \n",
       "..                 ...           ...                      ...            ...   \n",
       "214               0.30          0.00                      1.2       0.000166   \n",
       "215               8.90          0.56                    200.0       0.000072   \n",
       "216             990.00         18.00                  12000.0       0.000615   \n",
       "217            3600.00       8600.00                  60000.0       0.003370   \n",
       "218            5700.00      22000.00                  78000.0       0.004099   \n",
       "\n",
       "     tb_death_ratio_to_prev  \n",
       "0                  0.130000  \n",
       "1                  0.023529  \n",
       "2                  0.104082  \n",
       "3                  0.067308  \n",
       "4                  0.040000  \n",
       "..                      ...  \n",
       "214                0.136364  \n",
       "215                0.028710  \n",
       "216                0.066000  \n",
       "217                0.073469  \n",
       "218                0.098276  \n",
       "\n",
       "[213 rows x 11 columns]"
      ]
     },
     "execution_count": 24,
     "metadata": {},
     "output_type": "execute_result"
    }
   ],
   "source": [
    "no_outliers"
   ]
  },
  {
   "cell_type": "code",
   "execution_count": 25,
   "id": "3cc79a89",
   "metadata": {},
   "outputs": [
    {
     "data": {
      "text/plain": [
       "<Axes: xlabel='tb_prev_ratio'>"
      ]
     },
     "execution_count": 25,
     "metadata": {},
     "output_type": "execute_result"
    },
    {
     "data": {
      "image/png": "[encoded data removed]",
      "text/plain": [
       "<Figure size 640x480 with 1 Axes>"
      ]
     },
     "metadata": {},
     "output_type": "display_data"
    }
   ],
   "source": [
    "#let's verify visually\n",
    "sns.boxplot(x=no_outliers['tb_prev_ratio'])\n",
    "# I\"M HERE"
   ]
  },
  {
   "cell_type": "code",
   "execution_count": 26,
   "id": "4e187677",
   "metadata": {},
   "outputs": [
    {
     "data": {
      "text/plain": [
       "<Axes: xlabel='tb_prev_ratio'>"
      ]
     },
     "execution_count": 26,
     "metadata": {},
     "output_type": "execute_result"
    },
    {
     "data": {
      "image/png": "[encoded data removed]",
      "text/plain": [
       "<Figure size 640x480 with 1 Axes>"
      ]
     },
     "metadata": {},
     "output_type": "display_data"
    }
   ],
   "source": [
    "#let's verify visually\n",
    "sns.boxplot(x=df['tb_prev_ratio'])\n",
    "# I\"M HERE"
   ]
  },
  {
   "cell_type": "code",
   "execution_count": 27,
   "id": "264cde6e",
   "metadata": {},
   "outputs": [
    {
     "data": {
      "text/plain": [
       "<Axes: ylabel='Frequency'>"
      ]
     },
     "execution_count": 27,
     "metadata": {},
     "output_type": "execute_result"
    },
    {
     "data": {
      "image/png": "[encoded data removed]",
      "text/plain": [
       "<Figure size 640x480 with 1 Axes>"
      ]
     },
     "metadata": {},
     "output_type": "display_data"
    }
   ],
   "source": [
    "ax = df['tb_prev_ratio'].plot.hist(bins=12, alpha=0.5)\n",
    "ax"
   ]
  },
  {
   "cell_type": "code",
   "execution_count": 29,
   "id": "f02a78a4",
   "metadata": {
    "collapsed": true
   },
   "outputs": [
    {
     "data": {
      "text/html": [
       "<div>\n",
       "<style scoped>\n",
       "    .dataframe tbody tr th:only-of-type {\n",
       "        vertical-align: middle;\n",
       "    }\n",
       "\n",
       "    .dataframe tbody tr th {\n",
       "        vertical-align: top;\n",
       "    }\n",
       "\n",
       "    .dataframe thead th {\n",
       "        text-align: right;\n",
       "    }\n",
       "</style>\n",
       "<table border=\"1\" class=\"dataframe\">\n",
       "  <thead>\n",
       "    <tr style=\"text-align: right;\">\n",
       "      <th></th>\n",
       "      <th>level_0</th>\n",
       "      <th>index</th>\n",
       "      <th>country</th>\n",
       "      <th>country_code</th>\n",
       "      <th>region</th>\n",
       "      <th>year</th>\n",
       "      <th>population</th>\n",
       "      <th>tb_prevalence_all_forms</th>\n",
       "      <th>tb_deaths_exc_hiv</th>\n",
       "      <th>tb_death_hiv</th>\n",
       "      <th>num_incidents_all_forms</th>\n",
       "      <th>tb_prev_ratio</th>\n",
       "      <th>tb_death_ratio_to_prev</th>\n",
       "    </tr>\n",
       "  </thead>\n",
       "  <tbody>\n",
       "    <tr>\n",
       "      <th>0</th>\n",
       "      <td>23</td>\n",
       "      <td>23</td>\n",
       "      <td>Afghanistan</td>\n",
       "      <td>AFG</td>\n",
       "      <td>EMR</td>\n",
       "      <td>1970-01-01 00:00:00.000002013</td>\n",
       "      <td>30551674</td>\n",
       "      <td>100000.0</td>\n",
       "      <td>13000.00</td>\n",
       "      <td>82.00</td>\n",
       "      <td>58000.0</td>\n",
       "      <td>0.003273</td>\n",
       "      <td>0.130000</td>\n",
       "    </tr>\n",
       "    <tr>\n",
       "      <th>1</th>\n",
       "      <td>47</td>\n",
       "      <td>47</td>\n",
       "      <td>Albania</td>\n",
       "      <td>ALB</td>\n",
       "      <td>EUR</td>\n",
       "      <td>1970-01-01 00:00:00.000002013</td>\n",
       "      <td>3173271</td>\n",
       "      <td>850.0</td>\n",
       "      <td>20.00</td>\n",
       "      <td>0.00</td>\n",
       "      <td>590.0</td>\n",
       "      <td>0.000268</td>\n",
       "      <td>0.023529</td>\n",
       "    </tr>\n",
       "    <tr>\n",
       "      <th>2</th>\n",
       "      <td>71</td>\n",
       "      <td>71</td>\n",
       "      <td>Algeria</td>\n",
       "      <td>DZA</td>\n",
       "      <td>AFR</td>\n",
       "      <td>1970-01-01 00:00:00.000002013</td>\n",
       "      <td>39208194</td>\n",
       "      <td>49000.0</td>\n",
       "      <td>5100.00</td>\n",
       "      <td>35.00</td>\n",
       "      <td>32000.0</td>\n",
       "      <td>0.001250</td>\n",
       "      <td>0.104082</td>\n",
       "    </tr>\n",
       "    <tr>\n",
       "      <th>3</th>\n",
       "      <td>95</td>\n",
       "      <td>95</td>\n",
       "      <td>American Samoa</td>\n",
       "      <td>ASM</td>\n",
       "      <td>WPR</td>\n",
       "      <td>1970-01-01 00:00:00.000002013</td>\n",
       "      <td>55165</td>\n",
       "      <td>5.2</td>\n",
       "      <td>0.35</td>\n",
       "      <td>0.00</td>\n",
       "      <td>4.0</td>\n",
       "      <td>0.000094</td>\n",
       "      <td>0.067308</td>\n",
       "    </tr>\n",
       "    <tr>\n",
       "      <th>4</th>\n",
       "      <td>119</td>\n",
       "      <td>119</td>\n",
       "      <td>Andorra</td>\n",
       "      <td>AND</td>\n",
       "      <td>EUR</td>\n",
       "      <td>1970-01-01 00:00:00.000002013</td>\n",
       "      <td>79218</td>\n",
       "      <td>6.5</td>\n",
       "      <td>0.26</td>\n",
       "      <td>0.00</td>\n",
       "      <td>5.8</td>\n",
       "      <td>0.000082</td>\n",
       "      <td>0.040000</td>\n",
       "    </tr>\n",
       "    <tr>\n",
       "      <th>...</th>\n",
       "      <td>...</td>\n",
       "      <td>...</td>\n",
       "      <td>...</td>\n",
       "      <td>...</td>\n",
       "      <td>...</td>\n",
       "      <td>...</td>\n",
       "      <td>...</td>\n",
       "      <td>...</td>\n",
       "      <td>...</td>\n",
       "      <td>...</td>\n",
       "      <td>...</td>\n",
       "      <td>...</td>\n",
       "      <td>...</td>\n",
       "    </tr>\n",
       "    <tr>\n",
       "      <th>214</th>\n",
       "      <td>5023</td>\n",
       "      <td>5023</td>\n",
       "      <td>Wallis and Futuna Islands</td>\n",
       "      <td>WLF</td>\n",
       "      <td>WPR</td>\n",
       "      <td>1970-01-01 00:00:00.000002013</td>\n",
       "      <td>13272</td>\n",
       "      <td>2.2</td>\n",
       "      <td>0.30</td>\n",
       "      <td>0.00</td>\n",
       "      <td>1.2</td>\n",
       "      <td>0.000166</td>\n",
       "      <td>0.136364</td>\n",
       "    </tr>\n",
       "    <tr>\n",
       "      <th>215</th>\n",
       "      <td>5047</td>\n",
       "      <td>5047</td>\n",
       "      <td>West Bank and Gaza Strip</td>\n",
       "      <td>PSE</td>\n",
       "      <td>EMR</td>\n",
       "      <td>1970-01-01 00:00:00.000002013</td>\n",
       "      <td>4326295</td>\n",
       "      <td>310.0</td>\n",
       "      <td>8.90</td>\n",
       "      <td>0.56</td>\n",
       "      <td>200.0</td>\n",
       "      <td>0.000072</td>\n",
       "      <td>0.028710</td>\n",
       "    </tr>\n",
       "    <tr>\n",
       "      <th>216</th>\n",
       "      <td>5071</td>\n",
       "      <td>5071</td>\n",
       "      <td>Yemen</td>\n",
       "      <td>YEM</td>\n",
       "      <td>EMR</td>\n",
       "      <td>1970-01-01 00:00:00.000002013</td>\n",
       "      <td>24407381</td>\n",
       "      <td>15000.0</td>\n",
       "      <td>990.00</td>\n",
       "      <td>18.00</td>\n",
       "      <td>12000.0</td>\n",
       "      <td>0.000615</td>\n",
       "      <td>0.066000</td>\n",
       "    </tr>\n",
       "    <tr>\n",
       "      <th>217</th>\n",
       "      <td>5095</td>\n",
       "      <td>5095</td>\n",
       "      <td>Zambia</td>\n",
       "      <td>ZMB</td>\n",
       "      <td>AFR</td>\n",
       "      <td>1970-01-01 00:00:00.000002013</td>\n",
       "      <td>14538640</td>\n",
       "      <td>49000.0</td>\n",
       "      <td>3600.00</td>\n",
       "      <td>8600.00</td>\n",
       "      <td>60000.0</td>\n",
       "      <td>0.003370</td>\n",
       "      <td>0.073469</td>\n",
       "    </tr>\n",
       "    <tr>\n",
       "      <th>218</th>\n",
       "      <td>5119</td>\n",
       "      <td>5119</td>\n",
       "      <td>Zimbabwe</td>\n",
       "      <td>ZWE</td>\n",
       "      <td>AFR</td>\n",
       "      <td>1970-01-01 00:00:00.000002013</td>\n",
       "      <td>14149648</td>\n",
       "      <td>58000.0</td>\n",
       "      <td>5700.00</td>\n",
       "      <td>22000.00</td>\n",
       "      <td>78000.0</td>\n",
       "      <td>0.004099</td>\n",
       "      <td>0.098276</td>\n",
       "    </tr>\n",
       "  </tbody>\n",
       "</table>\n",
       "<p>219 rows × 13 columns</p>\n",
       "</div>"
      ],
      "text/plain": [
       "     level_0  index                    country country_code region  \\\n",
       "0         23     23                Afghanistan          AFG    EMR   \n",
       "1         47     47                    Albania          ALB    EUR   \n",
       "2         71     71                    Algeria          DZA    AFR   \n",
       "3         95     95             American Samoa          ASM    WPR   \n",
       "4        119    119                    Andorra          AND    EUR   \n",
       "..       ...    ...                        ...          ...    ...   \n",
       "214     5023   5023  Wallis and Futuna Islands          WLF    WPR   \n",
       "215     5047   5047   West Bank and Gaza Strip          PSE    EMR   \n",
       "216     5071   5071                      Yemen          YEM    EMR   \n",
       "217     5095   5095                     Zambia          ZMB    AFR   \n",
       "218     5119   5119                   Zimbabwe          ZWE    AFR   \n",
       "\n",
       "                             year  population  tb_prevalence_all_forms  \\\n",
       "0   1970-01-01 00:00:00.000002013    30551674                 100000.0   \n",
       "1   1970-01-01 00:00:00.000002013     3173271                    850.0   \n",
       "2   1970-01-01 00:00:00.000002013    39208194                  49000.0   \n",
       "3   1970-01-01 00:00:00.000002013       55165                      5.2   \n",
       "4   1970-01-01 00:00:00.000002013       79218                      6.5   \n",
       "..                            ...         ...                      ...   \n",
       "214 1970-01-01 00:00:00.000002013       13272                      2.2   \n",
       "215 1970-01-01 00:00:00.000002013     4326295                    310.0   \n",
       "216 1970-01-01 00:00:00.000002013    24407381                  15000.0   \n",
       "217 1970-01-01 00:00:00.000002013    14538640                  49000.0   \n",
       "218 1970-01-01 00:00:00.000002013    14149648                  58000.0   \n",
       "\n",
       "     tb_deaths_exc_hiv  tb_death_hiv  num_incidents_all_forms  tb_prev_ratio  \\\n",
       "0             13000.00         82.00                  58000.0       0.003273   \n",
       "1                20.00          0.00                    590.0       0.000268   \n",
       "2              5100.00         35.00                  32000.0       0.001250   \n",
       "3                 0.35          0.00                      4.0       0.000094   \n",
       "4                 0.26          0.00                      5.8       0.000082   \n",
       "..                 ...           ...                      ...            ...   \n",
       "214               0.30          0.00                      1.2       0.000166   \n",
       "215               8.90          0.56                    200.0       0.000072   \n",
       "216             990.00         18.00                  12000.0       0.000615   \n",
       "217            3600.00       8600.00                  60000.0       0.003370   \n",
       "218            5700.00      22000.00                  78000.0       0.004099   \n",
       "\n",
       "     tb_death_ratio_to_prev  \n",
       "0                  0.130000  \n",
       "1                  0.023529  \n",
       "2                  0.104082  \n",
       "3                  0.067308  \n",
       "4                  0.040000  \n",
       "..                      ...  \n",
       "214                0.136364  \n",
       "215                0.028710  \n",
       "216                0.066000  \n",
       "217                0.073469  \n",
       "218                0.098276  \n",
       "\n",
       "[219 rows x 13 columns]"
      ]
     },
     "execution_count": 29,
     "metadata": {},
     "output_type": "execute_result"
    }
   ],
   "source": [
    "# Let's start on data visualization now (we'll work with no_outliers df)"
   ]
  },
  {
   "cell_type": "code",
   "execution_count": 28,
   "id": "f0b8e921",
   "metadata": {},
   "outputs": [
    {
     "data": {
      "text/plain": [
       "<Axes: xlabel='tb_prev_ratio', ylabel='tb_death_ratio_to_prev'>"
      ]
     },
     "execution_count": 28,
     "metadata": {},
     "output_type": "execute_result"
    },
    {
     "data": {
      "image/png": "[encoded data removed]",
      "text/plain": [
       "<Figure size 640x480 with 1 Axes>"
      ]
     },
     "metadata": {},
     "output_type": "display_data"
    }
   ],
   "source": [
    "# Is there a higher death rate where there is a much higher tb prevelence?\n",
    "sns.scatterplot(data=no_outliers, x=\"tb_prev_ratio\", y=\"tb_death_ratio_to_prev\")"
   ]
  },
  {
   "cell_type": "code",
   "execution_count": 29,
   "id": "ca35c758",
   "metadata": {},
   "outputs": [
    {
     "data": {
      "text/html": [
       "<div>\n",
       "<style scoped>\n",
       "    .dataframe tbody tr th:only-of-type {\n",
       "        vertical-align: middle;\n",
       "    }\n",
       "\n",
       "    .dataframe tbody tr th {\n",
       "        vertical-align: top;\n",
       "    }\n",
       "\n",
       "    .dataframe thead th {\n",
       "        text-align: right;\n",
       "    }\n",
       "</style>\n",
       "<table border=\"1\" class=\"dataframe\">\n",
       "  <thead>\n",
       "    <tr style=\"text-align: right;\">\n",
       "      <th></th>\n",
       "      <th>tb_prev_ratio</th>\n",
       "      <th>tb_death_ratio_to_prev</th>\n",
       "    </tr>\n",
       "  </thead>\n",
       "  <tbody>\n",
       "    <tr>\n",
       "      <th>0</th>\n",
       "      <td>0.003273</td>\n",
       "      <td>0.130000</td>\n",
       "    </tr>\n",
       "    <tr>\n",
       "      <th>1</th>\n",
       "      <td>0.000268</td>\n",
       "      <td>0.023529</td>\n",
       "    </tr>\n",
       "    <tr>\n",
       "      <th>2</th>\n",
       "      <td>0.001250</td>\n",
       "      <td>0.104082</td>\n",
       "    </tr>\n",
       "    <tr>\n",
       "      <th>3</th>\n",
       "      <td>0.000094</td>\n",
       "      <td>0.067308</td>\n",
       "    </tr>\n",
       "    <tr>\n",
       "      <th>4</th>\n",
       "      <td>0.000082</td>\n",
       "      <td>0.040000</td>\n",
       "    </tr>\n",
       "    <tr>\n",
       "      <th>...</th>\n",
       "      <td>...</td>\n",
       "      <td>...</td>\n",
       "    </tr>\n",
       "    <tr>\n",
       "      <th>214</th>\n",
       "      <td>0.000166</td>\n",
       "      <td>0.136364</td>\n",
       "    </tr>\n",
       "    <tr>\n",
       "      <th>215</th>\n",
       "      <td>0.000072</td>\n",
       "      <td>0.028710</td>\n",
       "    </tr>\n",
       "    <tr>\n",
       "      <th>216</th>\n",
       "      <td>0.000615</td>\n",
       "      <td>0.066000</td>\n",
       "    </tr>\n",
       "    <tr>\n",
       "      <th>217</th>\n",
       "      <td>0.003370</td>\n",
       "      <td>0.073469</td>\n",
       "    </tr>\n",
       "    <tr>\n",
       "      <th>218</th>\n",
       "      <td>0.004099</td>\n",
       "      <td>0.098276</td>\n",
       "    </tr>\n",
       "  </tbody>\n",
       "</table>\n",
       "<p>213 rows × 2 columns</p>\n",
       "</div>"
      ],
      "text/plain": [
       "     tb_prev_ratio  tb_death_ratio_to_prev\n",
       "0         0.003273                0.130000\n",
       "1         0.000268                0.023529\n",
       "2         0.001250                0.104082\n",
       "3         0.000094                0.067308\n",
       "4         0.000082                0.040000\n",
       "..             ...                     ...\n",
       "214       0.000166                0.136364\n",
       "215       0.000072                0.028710\n",
       "216       0.000615                0.066000\n",
       "217       0.003370                0.073469\n",
       "218       0.004099                0.098276\n",
       "\n",
       "[213 rows x 2 columns]"
      ]
     },
     "execution_count": 29,
     "metadata": {},
     "output_type": "execute_result"
    }
   ],
   "source": [
    "# Answer: It looks like there is no correlation between death rate and tb prevelance rate. \n",
    "# Let's check another way\n",
    "death_prev_df = no_outliers[['tb_prev_ratio', 'tb_death_ratio_to_prev']]\n",
    "death_prev_df"
   ]
  },
  {
   "cell_type": "code",
   "execution_count": 30,
   "id": "8373a72d",
   "metadata": {},
   "outputs": [
    {
     "data": {
      "text/plain": [
       "Text(0.5, 1.0, 'Death to Prevelance Correlation Heatmap')"
      ]
     },
     "execution_count": 30,
     "metadata": {},
     "output_type": "execute_result"
    },
    {
     "data": {
      "image/png": "[encoded data removed]",
      "text/plain": [
       "<Figure size 640x480 with 2 Axes>"
      ]
     },
     "metadata": {},
     "output_type": "display_data"
    }
   ],
   "source": [
    "# Correlation heat-map\n",
    "heatmap = sns.heatmap(death_prev_df.corr(), annot=True)\n",
    "heatmap.set_title('Death to Prevelance Correlation Heatmap')\n",
    "# we see very little correlation output in this output"
   ]
  },
  {
   "cell_type": "code",
   "execution_count": 31,
   "id": "b7417248",
   "metadata": {},
   "outputs": [
    {
     "data": {
      "text/plain": [
       "[Text(0, 0.5, '')]"
      ]
     },
     "execution_count": 31,
     "metadata": {},
     "output_type": "execute_result"
    },
    {
     "data": {
      "image/png": "[encoded data removed]",
      "text/plain": [
       "<Figure size 640x480 with 1 Axes>"
      ]
     },
     "metadata": {},
     "output_type": "display_data"
    }
   ],
   "source": [
    "# let us analyze the regions and their prevelance to have TB\n",
    "ax = sns.barplot(y='country', x='tb_prev_ratio', data=no_outliers)\n",
    "ax.set(ylabel=None)"
   ]
  },
  {
   "cell_type": "code",
   "execution_count": 33,
   "id": "77bf81aa",
   "metadata": {},
   "outputs": [
    {
     "data": {
      "text/html": [
       "<div>\n",
       "<style scoped>\n",
       "    .dataframe tbody tr th:only-of-type {\n",
       "        vertical-align: middle;\n",
       "    }\n",
       "\n",
       "    .dataframe tbody tr th {\n",
       "        vertical-align: top;\n",
       "    }\n",
       "\n",
       "    .dataframe thead th {\n",
       "        text-align: right;\n",
       "    }\n",
       "</style>\n",
       "<table border=\"1\" class=\"dataframe\">\n",
       "  <thead>\n",
       "    <tr style=\"text-align: right;\">\n",
       "      <th></th>\n",
       "      <th>country</th>\n",
       "      <th>tb_prevalence_all_forms</th>\n",
       "    </tr>\n",
       "  </thead>\n",
       "  <tbody>\n",
       "    <tr>\n",
       "      <th>90</th>\n",
       "      <td>India</td>\n",
       "      <td>2600000.00</td>\n",
       "    </tr>\n",
       "    <tr>\n",
       "      <th>42</th>\n",
       "      <td>China</td>\n",
       "      <td>1300000.00</td>\n",
       "    </tr>\n",
       "    <tr>\n",
       "      <th>91</th>\n",
       "      <td>Indonesia</td>\n",
       "      <td>680000.00</td>\n",
       "    </tr>\n",
       "    <tr>\n",
       "      <th>16</th>\n",
       "      <td>Bangladesh</td>\n",
       "      <td>630000.00</td>\n",
       "    </tr>\n",
       "    <tr>\n",
       "      <th>145</th>\n",
       "      <td>Pakistan</td>\n",
       "      <td>620000.00</td>\n",
       "    </tr>\n",
       "    <tr>\n",
       "      <th>...</th>\n",
       "      <td>...</td>\n",
       "      <td>...</td>\n",
       "    </tr>\n",
       "    <tr>\n",
       "      <th>141</th>\n",
       "      <td>Niue</td>\n",
       "      <td>0.26</td>\n",
       "    </tr>\n",
       "    <tr>\n",
       "      <th>22</th>\n",
       "      <td>Bermuda</td>\n",
       "      <td>0.24</td>\n",
       "    </tr>\n",
       "    <tr>\n",
       "      <th>194</th>\n",
       "      <td>Tokelau</td>\n",
       "      <td>0.00</td>\n",
       "    </tr>\n",
       "    <tr>\n",
       "      <th>127</th>\n",
       "      <td>Montserrat</td>\n",
       "      <td>0.00</td>\n",
       "    </tr>\n",
       "    <tr>\n",
       "      <th>25</th>\n",
       "      <td>Bonaire, Saint Eustatius and Saba</td>\n",
       "      <td>0.00</td>\n",
       "    </tr>\n",
       "  </tbody>\n",
       "</table>\n",
       "<p>213 rows × 2 columns</p>\n",
       "</div>"
      ],
      "text/plain": [
       "                               country  tb_prevalence_all_forms\n",
       "90                               India               2600000.00\n",
       "42                               China               1300000.00\n",
       "91                           Indonesia                680000.00\n",
       "16                          Bangladesh                630000.00\n",
       "145                           Pakistan                620000.00\n",
       "..                                 ...                      ...\n",
       "141                               Niue                     0.26\n",
       "22                             Bermuda                     0.24\n",
       "194                            Tokelau                     0.00\n",
       "127                         Montserrat                     0.00\n",
       "25   Bonaire, Saint Eustatius and Saba                     0.00\n",
       "\n",
       "[213 rows x 2 columns]"
      ]
     },
     "execution_count": 33,
     "metadata": {},
     "output_type": "execute_result"
    }
   ],
   "source": [
    "# first let's sort our dataset\n",
    "no_outliers = no_outliers.sort_values(by='tb_prevalence_all_forms', ascending=False)\n",
    "no_outliers[['country', 'tb_prevalence_all_forms']]"
   ]
  },
  {
   "cell_type": "code",
   "execution_count": 34,
   "id": "4501a9b1",
   "metadata": {},
   "outputs": [
    {
     "name": "stdout",
     "output_type": "stream",
     "text": [
      "<class 'pandas.core.series.Series'>\n",
      "Index: 6 entries, AFR to WPR\n",
      "Series name: tb_deaths_exc_hiv\n",
      "Non-Null Count  Dtype  \n",
      "--------------  -----  \n",
      "6 non-null      float64\n",
      "dtypes: float64(1)\n",
      "memory usage: 96.0+ bytes\n",
      "region\n",
      "AFR    362409.40\n",
      "AMR     16964.26\n",
      "EMR     89420.20\n",
      "EUR     37535.12\n",
      "SEA    430795.60\n",
      "WPR     98108.10\n",
      "Name: tb_deaths_exc_hiv, dtype: float64\n"
     ]
    }
   ],
   "source": [
    "# So let's start to group to visually be able to display data\n",
    "regions_grp_series = no_outliers.groupby('region')['tb_deaths_exc_hiv'].sum()\n",
    "regions_grp_series.info() # this is now a pandas series --> not dataframe\n",
    "print(regions_grp_series)"
   ]
  },
  {
   "cell_type": "code",
   "execution_count": 35,
   "id": "a80b2c58",
   "metadata": {},
   "outputs": [
    {
     "data": {
      "text/html": [
       "<div>\n",
       "<style scoped>\n",
       "    .dataframe tbody tr th:only-of-type {\n",
       "        vertical-align: middle;\n",
       "    }\n",
       "\n",
       "    .dataframe tbody tr th {\n",
       "        vertical-align: top;\n",
       "    }\n",
       "\n",
       "    .dataframe thead th {\n",
       "        text-align: right;\n",
       "    }\n",
       "</style>\n",
       "<table border=\"1\" class=\"dataframe\">\n",
       "  <thead>\n",
       "    <tr style=\"text-align: right;\">\n",
       "      <th></th>\n",
       "      <th>region</th>\n",
       "      <th>tb_deaths_exc_hiv</th>\n",
       "    </tr>\n",
       "  </thead>\n",
       "  <tbody>\n",
       "    <tr>\n",
       "      <th>0</th>\n",
       "      <td>AFR</td>\n",
       "      <td>362409.40</td>\n",
       "    </tr>\n",
       "    <tr>\n",
       "      <th>1</th>\n",
       "      <td>AMR</td>\n",
       "      <td>16964.26</td>\n",
       "    </tr>\n",
       "    <tr>\n",
       "      <th>2</th>\n",
       "      <td>EMR</td>\n",
       "      <td>89420.20</td>\n",
       "    </tr>\n",
       "    <tr>\n",
       "      <th>3</th>\n",
       "      <td>EUR</td>\n",
       "      <td>37535.12</td>\n",
       "    </tr>\n",
       "    <tr>\n",
       "      <th>4</th>\n",
       "      <td>SEA</td>\n",
       "      <td>430795.60</td>\n",
       "    </tr>\n",
       "    <tr>\n",
       "      <th>5</th>\n",
       "      <td>WPR</td>\n",
       "      <td>98108.10</td>\n",
       "    </tr>\n",
       "  </tbody>\n",
       "</table>\n",
       "</div>"
      ],
      "text/plain": [
       "  region  tb_deaths_exc_hiv\n",
       "0    AFR          362409.40\n",
       "1    AMR           16964.26\n",
       "2    EMR           89420.20\n",
       "3    EUR           37535.12\n",
       "4    SEA          430795.60\n",
       "5    WPR           98108.10"
      ]
     },
     "execution_count": 35,
     "metadata": {},
     "output_type": "execute_result"
    }
   ],
   "source": [
    "#convert series back to df for data visualization\n",
    "regions_grouped_df = regions_grp_series.to_frame().reset_index()\n",
    "regions_grouped_df"
   ]
  },
  {
   "cell_type": "code",
   "execution_count": 36,
   "id": "bd4070b9",
   "metadata": {},
   "outputs": [
    {
     "data": {
      "image/png": "[encoded data removed]",
      "text/plain": [
       "<Figure size 640x480 with 1 Axes>"
      ]
     },
     "metadata": {},
     "output_type": "display_data"
    }
   ],
   "source": [
    "# now let's plot\n",
    "#first let's sort our data\n",
    "regions_grouped_df = regions_grouped_df.sort_values(by='tb_deaths_exc_hiv', ascending=False)\n",
    "death_region_plt = sns.barplot(y='tb_deaths_exc_hiv', x='region', data=regions_grouped_df)\n",
    "#SEA - south east asia, AFR - africa, AMR - america, EMR - easter mediterranean region, EUR - europe, WPR - Western Pacific Region"
   ]
  },
  {
   "cell_type": "code",
   "execution_count": 37,
   "id": "dcf03581",
   "metadata": {},
   "outputs": [
    {
     "data": {
      "text/html": [
       "<div>\n",
       "<style scoped>\n",
       "    .dataframe tbody tr th:only-of-type {\n",
       "        vertical-align: middle;\n",
       "    }\n",
       "\n",
       "    .dataframe tbody tr th {\n",
       "        vertical-align: top;\n",
       "    }\n",
       "\n",
       "    .dataframe thead th {\n",
       "        text-align: right;\n",
       "    }\n",
       "</style>\n",
       "<table border=\"1\" class=\"dataframe\">\n",
       "  <thead>\n",
       "    <tr style=\"text-align: right;\">\n",
       "      <th></th>\n",
       "      <th>country</th>\n",
       "      <th>country_code</th>\n",
       "      <th>region</th>\n",
       "      <th>year</th>\n",
       "      <th>population</th>\n",
       "      <th>tb_prevalence_all_forms</th>\n",
       "      <th>tb_deaths_exc_hiv</th>\n",
       "      <th>tb_death_hiv</th>\n",
       "      <th>num_incidents_all_forms</th>\n",
       "      <th>tb_prev_ratio</th>\n",
       "      <th>tb_death_ratio_to_prev</th>\n",
       "      <th>regions_grouped_total_deaths</th>\n",
       "    </tr>\n",
       "  </thead>\n",
       "  <tbody>\n",
       "    <tr>\n",
       "      <th>90</th>\n",
       "      <td>India</td>\n",
       "      <td>IND</td>\n",
       "      <td>SEA</td>\n",
       "      <td>1970-01-01 00:00:00.000002013</td>\n",
       "      <td>1252139596</td>\n",
       "      <td>2600000.00</td>\n",
       "      <td>240000.00</td>\n",
       "      <td>38000.0</td>\n",
       "      <td>2100000.0</td>\n",
       "      <td>0.002076</td>\n",
       "      <td>0.092308</td>\n",
       "      <td>430795.60</td>\n",
       "    </tr>\n",
       "    <tr>\n",
       "      <th>42</th>\n",
       "      <td>China</td>\n",
       "      <td>CHN</td>\n",
       "      <td>WPR</td>\n",
       "      <td>1970-01-01 00:00:00.000002013</td>\n",
       "      <td>1385566537</td>\n",
       "      <td>1300000.00</td>\n",
       "      <td>41000.00</td>\n",
       "      <td>670.0</td>\n",
       "      <td>980000.0</td>\n",
       "      <td>0.000938</td>\n",
       "      <td>0.031538</td>\n",
       "      <td>98108.10</td>\n",
       "    </tr>\n",
       "    <tr>\n",
       "      <th>91</th>\n",
       "      <td>Indonesia</td>\n",
       "      <td>IDN</td>\n",
       "      <td>SEA</td>\n",
       "      <td>1970-01-01 00:00:00.000002013</td>\n",
       "      <td>249865631</td>\n",
       "      <td>680000.00</td>\n",
       "      <td>64000.00</td>\n",
       "      <td>3900.0</td>\n",
       "      <td>460000.0</td>\n",
       "      <td>0.002721</td>\n",
       "      <td>0.094118</td>\n",
       "      <td>430795.60</td>\n",
       "    </tr>\n",
       "    <tr>\n",
       "      <th>16</th>\n",
       "      <td>Bangladesh</td>\n",
       "      <td>BGD</td>\n",
       "      <td>SEA</td>\n",
       "      <td>1970-01-01 00:00:00.000002013</td>\n",
       "      <td>156594962</td>\n",
       "      <td>630000.00</td>\n",
       "      <td>80000.00</td>\n",
       "      <td>160.0</td>\n",
       "      <td>350000.0</td>\n",
       "      <td>0.004023</td>\n",
       "      <td>0.126984</td>\n",
       "      <td>430795.60</td>\n",
       "    </tr>\n",
       "    <tr>\n",
       "      <th>145</th>\n",
       "      <td>Pakistan</td>\n",
       "      <td>PAK</td>\n",
       "      <td>EMR</td>\n",
       "      <td>1970-01-01 00:00:00.000002013</td>\n",
       "      <td>182142594</td>\n",
       "      <td>620000.00</td>\n",
       "      <td>49000.00</td>\n",
       "      <td>970.0</td>\n",
       "      <td>500000.0</td>\n",
       "      <td>0.003404</td>\n",
       "      <td>0.079032</td>\n",
       "      <td>89420.20</td>\n",
       "    </tr>\n",
       "    <tr>\n",
       "      <th>...</th>\n",
       "      <td>...</td>\n",
       "      <td>...</td>\n",
       "      <td>...</td>\n",
       "      <td>...</td>\n",
       "      <td>...</td>\n",
       "      <td>...</td>\n",
       "      <td>...</td>\n",
       "      <td>...</td>\n",
       "      <td>...</td>\n",
       "      <td>...</td>\n",
       "      <td>...</td>\n",
       "      <td>...</td>\n",
       "    </tr>\n",
       "    <tr>\n",
       "      <th>141</th>\n",
       "      <td>Niue</td>\n",
       "      <td>NIU</td>\n",
       "      <td>WPR</td>\n",
       "      <td>1970-01-01 00:00:00.000002013</td>\n",
       "      <td>1344</td>\n",
       "      <td>0.26</td>\n",
       "      <td>0.01</td>\n",
       "      <td>0.0</td>\n",
       "      <td>0.0</td>\n",
       "      <td>0.000193</td>\n",
       "      <td>0.038462</td>\n",
       "      <td>98108.10</td>\n",
       "    </tr>\n",
       "    <tr>\n",
       "      <th>22</th>\n",
       "      <td>Bermuda</td>\n",
       "      <td>BMU</td>\n",
       "      <td>AMR</td>\n",
       "      <td>1970-01-01 00:00:00.000002013</td>\n",
       "      <td>65341</td>\n",
       "      <td>0.24</td>\n",
       "      <td>0.02</td>\n",
       "      <td>0.0</td>\n",
       "      <td>0.0</td>\n",
       "      <td>0.000004</td>\n",
       "      <td>0.083333</td>\n",
       "      <td>16964.26</td>\n",
       "    </tr>\n",
       "    <tr>\n",
       "      <th>194</th>\n",
       "      <td>Tokelau</td>\n",
       "      <td>TKL</td>\n",
       "      <td>WPR</td>\n",
       "      <td>1970-01-01 00:00:00.000002013</td>\n",
       "      <td>1195</td>\n",
       "      <td>0.00</td>\n",
       "      <td>0.00</td>\n",
       "      <td>0.0</td>\n",
       "      <td>0.0</td>\n",
       "      <td>0.000000</td>\n",
       "      <td>NaN</td>\n",
       "      <td>98108.10</td>\n",
       "    </tr>\n",
       "    <tr>\n",
       "      <th>127</th>\n",
       "      <td>Montserrat</td>\n",
       "      <td>MSR</td>\n",
       "      <td>AMR</td>\n",
       "      <td>1970-01-01 00:00:00.000002013</td>\n",
       "      <td>5091</td>\n",
       "      <td>0.00</td>\n",
       "      <td>1.10</td>\n",
       "      <td>0.0</td>\n",
       "      <td>0.0</td>\n",
       "      <td>0.000000</td>\n",
       "      <td>inf</td>\n",
       "      <td>16964.26</td>\n",
       "    </tr>\n",
       "    <tr>\n",
       "      <th>25</th>\n",
       "      <td>Bonaire, Saint Eustatius and Saba</td>\n",
       "      <td>BES</td>\n",
       "      <td>AMR</td>\n",
       "      <td>1970-01-01 00:00:00.000002013</td>\n",
       "      <td>19130</td>\n",
       "      <td>0.00</td>\n",
       "      <td>0.00</td>\n",
       "      <td>0.0</td>\n",
       "      <td>0.0</td>\n",
       "      <td>0.000000</td>\n",
       "      <td>NaN</td>\n",
       "      <td>16964.26</td>\n",
       "    </tr>\n",
       "  </tbody>\n",
       "</table>\n",
       "<p>213 rows × 12 columns</p>\n",
       "</div>"
      ],
      "text/plain": [
       "                               country country_code region  \\\n",
       "90                               India          IND    SEA   \n",
       "42                               China          CHN    WPR   \n",
       "91                           Indonesia          IDN    SEA   \n",
       "16                          Bangladesh          BGD    SEA   \n",
       "145                           Pakistan          PAK    EMR   \n",
       "..                                 ...          ...    ...   \n",
       "141                               Niue          NIU    WPR   \n",
       "22                             Bermuda          BMU    AMR   \n",
       "194                            Tokelau          TKL    WPR   \n",
       "127                         Montserrat          MSR    AMR   \n",
       "25   Bonaire, Saint Eustatius and Saba          BES    AMR   \n",
       "\n",
       "                             year  population  tb_prevalence_all_forms  \\\n",
       "90  1970-01-01 00:00:00.000002013  1252139596               2600000.00   \n",
       "42  1970-01-01 00:00:00.000002013  1385566537               1300000.00   \n",
       "91  1970-01-01 00:00:00.000002013   249865631                680000.00   \n",
       "16  1970-01-01 00:00:00.000002013   156594962                630000.00   \n",
       "145 1970-01-01 00:00:00.000002013   182142594                620000.00   \n",
       "..                            ...         ...                      ...   \n",
       "141 1970-01-01 00:00:00.000002013        1344                     0.26   \n",
       "22  1970-01-01 00:00:00.000002013       65341                     0.24   \n",
       "194 1970-01-01 00:00:00.000002013        1195                     0.00   \n",
       "127 1970-01-01 00:00:00.000002013        5091                     0.00   \n",
       "25  1970-01-01 00:00:00.000002013       19130                     0.00   \n",
       "\n",
       "     tb_deaths_exc_hiv  tb_death_hiv  num_incidents_all_forms  tb_prev_ratio  \\\n",
       "90           240000.00       38000.0                2100000.0       0.002076   \n",
       "42            41000.00         670.0                 980000.0       0.000938   \n",
       "91            64000.00        3900.0                 460000.0       0.002721   \n",
       "16            80000.00         160.0                 350000.0       0.004023   \n",
       "145           49000.00         970.0                 500000.0       0.003404   \n",
       "..                 ...           ...                      ...            ...   \n",
       "141               0.01           0.0                      0.0       0.000193   \n",
       "22                0.02           0.0                      0.0       0.000004   \n",
       "194               0.00           0.0                      0.0       0.000000   \n",
       "127               1.10           0.0                      0.0       0.000000   \n",
       "25                0.00           0.0                      0.0       0.000000   \n",
       "\n",
       "     tb_death_ratio_to_prev  regions_grouped_total_deaths  \n",
       "90                 0.092308                     430795.60  \n",
       "42                 0.031538                      98108.10  \n",
       "91                 0.094118                     430795.60  \n",
       "16                 0.126984                     430795.60  \n",
       "145                0.079032                      89420.20  \n",
       "..                      ...                           ...  \n",
       "141                0.038462                      98108.10  \n",
       "22                 0.083333                      16964.26  \n",
       "194                     NaN                      98108.10  \n",
       "127                     inf                      16964.26  \n",
       "25                      NaN                      16964.26  \n",
       "\n",
       "[213 rows x 12 columns]"
      ]
     },
     "execution_count": 37,
     "metadata": {},
     "output_type": "execute_result"
    }
   ],
   "source": [
    "# by the way... let's add this back to the original dataframe\n",
    "no_outliers['regions_grouped_total_deaths'] = no_outliers['region'].map(regions_grp_series)\n",
    "no_outliers"
   ]
  },
  {
   "cell_type": "code",
   "execution_count": 40,
   "id": "a1c0c4c2",
   "metadata": {},
   "outputs": [
    {
     "data": {
      "application/vnd.plotly.v1+json": {
       "config": {
        "plotlyServerURL": "https://plot.ly"
       },
       "data": [
        {
         "branchvalues": "total",
         "customdata": [
          [
           0.0005104895104895105
          ],
          [
           0.00011123470522803115
          ],
          [
           1.939709997456118e-05
          ],
          [
           0.0005072226195466076
          ],
          [
           0.0002574901469785945
          ],
          [
           0.00010708610575625497
          ],
          [
           0.0001170699094671374
          ],
          [
           9.543337962222141e-05
          ],
          [
           0.0010990287624231465
          ],
          [
           8.985378386299179e-05
          ],
          [
           7.756920082660127e-05
          ],
          [
           0.00022687042353144874
          ],
          [
           0.0025360390521835825
          ],
          [
           0.0004889239792607911
          ],
          [
           0.0019679136367044005
          ],
          [
           0.0002678624044400872
          ],
          [
           0.0011653056720370778
          ],
          [
           0.0008260325820291655
          ],
          [
           0.00013314835771708797
          ],
          [
           7.711238783521237e-05
          ],
          [
           0.0002681083486283053
          ],
          [
           0.00013985883581505066
          ],
          [
           8.046712527976253e-05
          ],
          [
           0.0009855860127854104
          ],
          [
           0.0004723722778033478
          ],
          [
           0.00016519128178717532
          ],
          [
           0.0002627290340354204
          ],
          [
           0.0002913126255595086
          ],
          [
           6.253250268946609e-05
          ],
          [
           7.165484554335754e-05
          ],
          [
           7.112243092848135e-05
          ],
          [
           0.0005913073750627571
          ],
          [
           6.572225250314153e-05
          ],
          [
           0.00017422633410449606
          ],
          [
           0.00010947429384666182
          ],
          [
           0.0007404065815392591
          ],
          [
           0.0009382443681230445
          ],
          [
           0.000493336552518784
          ],
          [
           2.4318680447252255e-05
          ],
          [
           0.000525862893202027
          ],
          [
           0.00015556088724514306
          ],
          [
           0.000352209616379156
          ],
          [
           0.0002879558459786521
          ],
          [
           0.00011689731890342773
          ],
          [
           0.0005852753501043985
          ],
          [
           0.0010516900340152675
          ],
          [
           0.0014412527710114455
          ],
          [
           0.000434590012438587
          ],
          [
           0.00010589619190810458
          ],
          [
           7.101345639591572e-05
          ],
          [
           4.0618562465581235e-05
          ],
          [
           0.0005796715001608588
          ],
          [
           0.0007409522322914886
          ],
          [
           0.00031340329459186454
          ],
          [
           0.00019345238095238096
          ],
          [
           0.0006742890937192767
          ],
          [
           8.205205887550809e-05
          ],
          [
           0.0005490065041050089
          ],
          [
           0.00036622934574204527
          ],
          [
           0.0009987912356069076
          ],
          [
           0.0013123816648167132
          ],
          [
           0.001635607403542357
          ],
          [
           0.0003136592877434545
          ],
          [
           0.0012443207702253396
          ],
          [
           0.0005006712703699034
          ],
          [
           0.00029222798005610023
          ],
          [
           0.0001477782160952644
          ],
          [
           6.818613635789833e-05
          ],
          [
           0.0016460578576826936
          ],
          [
           0.00018664566833769843
          ],
          [
           0.0002300230802819537
          ],
          [
           0.001462017872193809
          ],
          [
           0.0006462669704919288
          ],
          [
           7.494564083877904e-05
          ],
          [
           0.00010887946234699325
          ],
          [
           9.804597031062024e-05
          ],
          [
           8.542299330710848e-05
          ],
          [
           0.0005880368316869527
          ],
          [
           0.005221831432854478
          ],
          [
           0.0018855775578802362
          ],
          [
           0.00012663650148495064
          ],
          [
           0.000381939187097003
          ],
          [
           0.00037380884772315106
          ],
          [
           0.0015851754392917437
          ],
          [
           0.0019828580122244997
          ],
          [
           0.0002733818789452422
          ],
          [
           0.0019895297680075654
          ],
          [
           0.0010341636915657559
          ],
          [
           0.0024567006510256726
          ],
          [
           8.111304697861461e-05
          ],
          [
           0.00010641766401117899
          ],
          [
           0.0022654252518636707
          ],
          [
           0.000694857337681905
          ],
          [
           0.0004418009083426675
          ],
          [
           0.0043702040948324535
          ],
          [
           0.00346338509279893
          ],
          [
           0.0012096452829260089
          ],
          [
           1.889644746787604e-05
          ],
          [
           6.63232595671302e-05
          ],
          [
           0.00024677788756229953
          ],
          [
           0.000278148039778782
          ],
          [
           0.00026166615663571636
          ],
          [
           0.0013027085734886687
          ],
          [
           0.00018416146157995616
          ],
          [
           0.0006145681914827322
          ],
          [
           0.00020003333888981496
          ],
          [
           0.0001872902774552223
          ],
          [
           9.42626665458171e-05
          ],
          [
           8.980246331748978e-05
          ],
          [
           0.0009284189026088571
          ],
          [
           0.0013445323096308787
          ],
          [
           0.0029309849320093787
          ],
          [
           0.0007050884141699791
          ],
          [
           0.0004022930705018606
          ],
          [
           0.0017257787861018202
          ],
          [
           0.0015434202981483534
          ],
          [
           0.0002534079299793671
          ],
          [
           0.00022808859624894775
          ],
          [
           0.003370328999136095
          ],
          [
           0.006266675986338646
          ],
          [
           7.923891026688655e-05
          ],
          [
           0.0006210906870039362
          ],
          [
           0.004370831149055996
          ],
          [
           6.722382979175517e-05
          ],
          [
           0.004238152895603862
          ],
          [
           0.0008308178016560968
          ],
          [
           3.641494833629205e-05
          ],
          [
           0.0007305050548546819
          ],
          [
           0.002122496313241891
          ],
          [
           0.003403926486300069
          ],
          [
           0.004939772770452559
          ],
          [
           0.0008491471420849041
          ],
          [
           0.0014923034004431126
          ],
          [
           0.0026074612019430414
          ],
          [
           0.0011399377179483194
          ],
          [
           3.6730383679466184e-06
          ],
          [
           0.0006719152204251477
          ],
          [
           0.00023746394715038925
          ],
          [
           0.00651235284796044
          ],
          [
           0.0032401782098015392
          ],
          [
           0.0010153176159316372
          ],
          [
           0.002072431864521246
          ],
          [
           0.0021657714975217173
          ],
          [
           0.00010316336387594137
          ],
          [
           0.0020764457959046925
          ],
          [
           0.0058024383401197935
          ],
          [
           0.0002641287518906569
          ],
          [
           0.002721462720897377
          ],
          [
           0.000706397373395682
          ],
          [
           0.004721613658683992
          ],
          [
           0.0008618023668407618
          ],
          [
           0.004099041898427438
          ],
          [
           0.002051894535451077
          ],
          [
           0.0042678397754459686
          ],
          [
           0.0014254380103736251
          ],
          [
           0.00020877589473519389
          ],
          [
           0.0025199998332923186
          ],
          [
           0.004694040735035708
          ],
          [
           0.0012497387663405256
          ],
          [
           0.0003098886714618151
          ],
          [
           6.560034651361118e-05
          ],
          [
           0.0011201839084335348
          ],
          [
           0.000826698145757394
          ],
          [
           0.00021837585332738337
          ],
          [
           0.004874642655457155
          ],
          [
           0.004332364255655414
          ],
          [
           0.0024690960698887008
          ],
          [
           0.004424699417360238
          ],
          [
           9.169897446762713e-05
          ],
          [
           0.0015702751402451984
          ],
          [
           0.00017935915458820107
          ],
          [
           0.002027240814532884
          ],
          [
           0.0002836551593721766
          ],
          [
           0.001041516612483354
          ],
          [
           0.000914934010384501
          ],
          [
           0.0019680134832539766
          ],
          [
           0.0010655327847970558
          ],
          [
           0.0029657644287023268
          ],
          [
           0.0011936654825431398
          ],
          [
           0.0007095033621590574
          ],
          [
           0.001531626911474333
          ],
          [
           0.005480371036523459
          ],
          [
           0.0024053061052682215
          ],
          [
           0.004143974588973337
          ],
          [
           0.002030910979259
          ],
          [
           0.004023117934023957
          ],
          [
           0.005419267011621076
          ],
          [
           0.0006123140436266952
          ],
          [
           0.003273143069018084
          ],
          [
           0.001250604980159152
          ],
          [
           0.0019228588032137344
          ],
          [
           0.00543085600866574
          ],
          [
           0.00516354653499623
          ],
          [
           0.00016576250753465944
          ],
          [
           8.778041728615867e-05
          ],
          [
           7.460079133497644e-05
          ],
          [
           0.002832817804755646
          ],
          [
           0.0021253814368930256
          ],
          [
           0.0003916842422416391
          ],
          [
           1.8978840761561232e-05
          ],
          [
           0.0012437239257334593
          ],
          [
           0.00020242914979757087
          ],
          [
           0.00015956227212513013
          ],
          [
           0.0010305201913256153
          ],
          [
           2.7819003996199926e-05
          ],
          [
           2.8105282387824793e-05
          ],
          [
           0.003283119933897548
          ],
          [
           7.221921308834354e-05
          ],
          [
           7.05691401150277e-05
          ],
          [
           1.8453248694432656e-05
          ],
          [
           0
          ],
          [
           0.003273143069018084
          ],
          [
           0.0002678624044400872
          ],
          [
           0.0012497387663405256
          ],
          [
           9.42626665458171e-05
          ],
          [
           8.205205887550809e-05
          ],
          [
           0.004238152895603862
          ],
          [
           0.0005104895104895105
          ],
          [
           0.00020003333888981496
          ],
          [
           0.0003136592877434545
          ],
          [
           0.0006719152204251477
          ],
          [
           0.00016519128178717532
          ],
          [
           7.711238783521237e-05
          ],
          [
           0.00010947429384666182
          ],
          [
           0.0010516900340152675
          ],
          [
           9.804597031062024e-05
          ],
          [
           0.0002627290340354204
          ],
          [
           0.004023117934023957
          ],
          [
           2.8105282387824793e-05
          ],
          [
           0.0010153176159316372
          ],
          [
           0.0001170699094671374
          ],
          [
           0.0003916842422416391
          ],
          [
           0.0010655327847970558
          ],
          [
           3.6730383679466184e-06
          ],
          [
           0.0019895297680075654
          ],
          [
           0.0019679136367044005
          ],
          [
           0
          ],
          [
           0.0007050884141699791
          ],
          [
           0.00346338509279893
          ],
          [
           0.0005490065041050089
          ],
          [
           7.05691401150277e-05
          ],
          [
           0.0006462669704919288
          ],
          [
           0.00037380884772315106
          ],
          [
           0.000826698145757394
          ],
          [
           0.0019680134832539766
          ],
          [
           0.0024053061052682215
          ],
          [
           0.0029657644287023268
          ],
          [
           6.253250268946609e-05
          ],
          [
           0.00011123470522803115
          ],
          [
           0.004332364255655414
          ],
          [
           0.002027240814532884
          ],
          [
           0.0001872902774552223
          ],
          [
           0.0009382443681230445
          ],
          [
           0.0009855860127854104
          ],
          [
           0.0011653056720370778
          ],
          [
           0.000434590012438587
          ],
          [
           0.0006123140436266952
          ],
          [
           0.004721613658683992
          ],
          [
           0.00017935915458820107
          ],
          [
           0.0001477782160952644
          ],
          [
           0.00018416146157995616
          ],
          [
           0.00013314835771708797
          ],
          [
           1.889644746787604e-05
          ],
          [
           6.572225250314153e-05
          ],
          [
           7.101345639591572e-05
          ],
          [
           0.0021657714975217173
          ],
          [
           0.005221831432854478
          ],
          [
           0.005480371036523459
          ],
          [
           8.542299330710848e-05
          ],
          [
           7.221921308834354e-05
          ],
          [
           0.0007305050548546819
          ],
          [
           0.0008260325820291655
          ],
          [
           0.0002681083486283053
          ],
          [
           0.0004889239792607911
          ],
          [
           0.0015851754392917437
          ],
          [
           0.001531626911474333
          ],
          [
           0.0002641287518906569
          ],
          [
           0.0021253814368930256
          ],
          [
           0.0009987912356069076
          ],
          [
           6.818613635789833e-05
          ],
          [
           0.00010887946234699325
          ],
          [
           0.000278148039778782
          ],
          [
           0.0058024383401197935
          ],
          [
           0.0012437239257334593
          ],
          [
           0.001635607403542357
          ],
          [
           7.494564083877904e-05
          ],
          [
           0.000694857337681905
          ],
          [
           6.560034651361118e-05
          ],
          [
           0.0024567006510256726
          ],
          [
           7.460079133497644e-05
          ],
          [
           0.0004723722778033478
          ],
          [
           0.0010990287624231465
          ],
          [
           0.0024690960698887008
          ],
          [
           0.00516354653499623
          ],
          [
           0.001250604980159152
          ],
          [
           0.0025199998332923186
          ],
          [
           0.0007409522322914886
          ],
          [
           0.0002913126255595086
          ],
          [
           3.641494833629205e-05
          ],
          [
           0.0020764457959046925
          ],
          [
           0.002721462720897377
          ],
          [
           0.0003098886714618151
          ],
          [
           0.0007404065815392591
          ],
          [
           0.00010589619190810458
          ],
          [
           7.112243092848135e-05
          ],
          [
           6.722382979175517e-05
          ],
          [
           8.980246331748978e-05
          ],
          [
           0.00022808859624894775
          ],
          [
           8.111304697861461e-05
          ],
          [
           0.0018855775578802362
          ],
          [
           0.0029309849320093787
          ],
          [
           0.0002879558459786521
          ],
          [
           0.0019828580122244997
          ],
          [
           0.004874642655457155
          ],
          [
           0.0005852753501043985
          ],
          [
           0.00018664566833769843
          ],
          [
           0.006266675986338646
          ],
          [
           0.004424699417360238
          ],
          [
           0.0007095033621590574
          ],
          [
           0.0008618023668407618
          ],
          [
           0.00011689731890342773
          ],
          [
           0.004143974588973337
          ],
          [
           0.0013445323096308787
          ],
          [
           0.0013123816648167132
          ],
          [
           0.0005796715001608588
          ],
          [
           0.000914934010384501
          ],
          [
           0.00013985883581505066
          ],
          [
           0.004939772770452559
          ],
          [
           0.002030910979259
          ],
          [
           0.00031340329459186454
          ],
          [
           0.0002534079299793671
          ],
          [
           0.0026074612019430414
          ],
          [
           2.4318680447252255e-05
          ],
          [
           0.0025360390521835825
          ],
          [
           0.0002574901469785945
          ],
          [
           0
          ],
          [
           0.0013027085734886687
          ],
          [
           0.005419267011621076
          ],
          [
           0.004694040735035708
          ],
          [
           0.00651235284796044
          ],
          [
           0.000706397373395682
          ],
          [
           0.002122496313241891
          ],
          [
           7.756920082660127e-05
          ],
          [
           7.923891026688655e-05
          ],
          [
           0.0002300230802819537
          ],
          [
           9.543337962222141e-05
          ],
          [
           0.0006742890937192767
          ],
          [
           0.0015702751402451984
          ],
          [
           0.003283119933897548
          ],
          [
           0.00019345238095238096
          ],
          [
           0.0009284189026088571
          ],
          [
           0.00010708610575625497
          ],
          [
           0.00012663650148495064
          ],
          [
           0.003403926486300069
          ],
          [
           0.000525862893202027
          ],
          [
           0.0006210906870039362
          ],
          [
           0.004370831149055996
          ],
          [
           0.0005880368316869527
          ],
          [
           0.0016460578576826936
          ],
          [
           0.0043702040948324535
          ],
          [
           0.00026166615663571636
          ],
          [
           0.00029222798005610023
          ],
          [
           1.8978840761561232e-05
          ],
          [
           0.0005072226195466076
          ],
          [
           0.0014412527710114455
          ],
          [
           0.0022654252518636707
          ],
          [
           0.0012443207702253396
          ],
          [
           0.0011201839084335348
          ],
          [
           0.0008491471420849041
          ],
          [
           1.8453248694432656e-05
          ],
          [
           8.778041728615867e-05
          ],
          [
           0.0004022930705018606
          ],
          [
           0.0002836551593721766
          ],
          [
           1.939709997456118e-05
          ],
          [
           0.0011399377179483194
          ],
          [
           0.00015956227212513013
          ],
          [
           0.002051894535451077
          ],
          [
           0.0002733818789452422
          ],
          [
           0.0004418009083426675
          ],
          [
           0.00036622934574204527
          ],
          [
           0.0042678397754459686
          ],
          [
           0.0005913073750627571
          ],
          [
           6.63232595671302e-05
          ],
          [
           0.00010641766401117899
          ],
          [
           9.169897446762713e-05
          ],
          [
           0.0014254380103736251
          ],
          [
           0.00543085600866574
          ],
          [
           0.002832817804755646
          ],
          [
           0.00015556088724514306
          ],
          [
           0.0010341636915657559
          ],
          [
           0.0019228588032137344
          ],
          [
           0.0005006712703699034
          ],
          [
           8.985378386299179e-05
          ],
          [
           8.046712527976253e-05
          ],
          [
           0.00023746394715038925
          ],
          [
           0.001462017872193809
          ],
          [
           0.0014923034004431126
          ],
          [
           0.00024677788756229953
          ],
          [
           0.001041516612483354
          ],
          [
           0
          ],
          [
           0.00021837585332738337
          ],
          [
           0.00020877589473519389
          ],
          [
           0.000381939187097003
          ],
          [
           0.00022687042353144874
          ],
          [
           0.0010305201913256153
          ],
          [
           0.00020242914979757087
          ],
          [
           0.0032401782098015392
          ],
          [
           0.00010316336387594137
          ],
          [
           0.0015434202981483534
          ],
          [
           0.0011936654825431398
          ],
          [
           2.7819003996199926e-05
          ],
          [
           0.00017422633410449606
          ],
          [
           0.0017257787861018202
          ],
          [
           4.0618562465581235e-05
          ],
          [
           0.000352209616379156
          ],
          [
           0.0012096452829260089
          ],
          [
           0.0008308178016560968
          ],
          [
           0.000493336552518784
          ],
          [
           0.002072431864521246
          ],
          [
           0.00016576250753465944
          ],
          [
           7.165484554335754e-05
          ],
          [
           0.0006145681914827322
          ],
          [
           0.003370328999136095
          ],
          [
           0.004099041898427438
          ],
          [
           0.12058119637314277
          ],
          [
           0.019643666201577897
          ],
          [
           0.02030671006823149
          ],
          [
           0.02807147682102824
          ],
          [
           0.025955063292135396
          ],
          [
           0.044023677533310226
          ],
          [
           0.258581790289426
          ]
         ],
         "domain": {
          "x": [
           0,
           1
          ],
          "y": [
           0,
           1
          ]
         },
         "hovertemplate": "labels=%{label}<br>tb_prev_ratio=%{customdata[0]}<br>parent=%{parent}<br>id=%{id}<extra></extra>",
         "ids": [
          "all/AMR/Anguilla/0.0",
          "all/AMR/Cayman Islands/0.0",
          "all/EUR/San Marino/0.0",
          "all/EMR/Qatar/0.002454545454545455",
          "all/EUR/Montenegro/0.0075",
          "all/EUR/Norway/0.00814814814814815",
          "all/EUR/Belgium/0.013846153846153847",
          "all/WPR/New Zealand/0.014651162790697675",
          "all/AMR/Guatemala/0.014705882352941176",
          "all/EUR/Sweden/0.015116279069767442",
          "all/EUR/Netherlands/0.015384615384615385",
          "all/EUR/Turkey/0.018235294117647058",
          "all/WPR/Mongolia/0.019444444444444445",
          "all/AMR/El Salvador/0.01967741935483871",
          "all/AMR/Bolivia (Plurinational State of)/0.020476190476190478",
          "all/EUR/Albania/0.023529411764705882",
          "all/WPR/China, Macao SAR/0.024242424242424242",
          "all/AMR/Ecuador/0.024615384615384615",
          "all/AMR/Cuba/0.024666666666666667",
          "all/WPR/Australia/0.025",
          "all/EMR/Egypt/0.025",
          "all/EUR/Malta/0.025",
          "all/EUR/Switzerland/0.026153846153846153",
          "all/WPR/China, Hong Kong SAR/0.02676056338028169",
          "all/WPR/Guam/0.026923076923076925",
          "all/AMR/Aruba/0.027058823529411767",
          "all/EMR/Bahrain/0.027428571428571427",
          "all/EUR/Hungary/0.02793103448275862",
          "all/AMR/Canada/0.028181818181818183",
          "all/EMR/West Bank and Gaza Strip/0.02870967741935484",
          "all/EUR/Israel/0.02909090909090909",
          "all/WPR/Singapore/0.029375",
          "all/EUR/Cyprus/0.030666666666666665",
          "all/EUR/United Kingdom of Great Britain and Northern Ireland/0.03090909090909091",
          "all/EUR/Austria/0.03118279569892473",
          "all/EMR/Iraq/0.0312",
          "all/WPR/China/0.031538461538461536",
          "all/AMR/Venezuela (Bolivarian Republic of)/0.032",
          "all/EUR/Monaco/0.03260869565217391",
          "all/WPR/Palau/0.03272727272727272",
          "all/EUR/Spain/0.03287671232876712",
          "all/AMR/Uruguay/0.03333333333333333",
          "all/EMR/Kuwait/0.03402061855670103",
          "all/EUR/Luxembourg/0.035483870967741936",
          "all/EUR/Latvia/0.035833333333333335",
          "all/EUR/Azerbaijan/0.03636363636363636",
          "all/WPR/Republic of Korea/0.036619718309859155",
          "all/AMR/Colombia/0.03666666666666667",
          "all/EUR/Ireland/0.036734693877551024",
          "all/EUR/Czech Republic/0.03684210526315789",
          "all/AMR/United States of America/0.03769230769230769",
          "all/SEA/Maldives/0.038",
          "all/AMR/Honduras/0.03833333333333333",
          "all/AFR/Mauritius/0.038461538461538464",
          "all/WPR/Niue/0.038461538461538464",
          "all/AMR/Nicaragua/0.03902439024390244",
          "all/EUR/Andorra/0.04",
          "all/AMR/Brazil/0.04",
          "all/AFR/Seychelles/0.041176470588235294",
          "all/WPR/Fiji/0.042045454545454546",
          "all/WPR/Malaysia/0.04358974358974359",
          "all/EUR/Georgia/0.04366197183098591",
          "all/AMR/Argentina/0.04384615384615385",
          "all/EUR/Romania/0.044444444444444446",
          "all/AMR/Suriname/0.044444444444444446",
          "all/EUR/Portugal/0.04516129032258064",
          "all/AMR/Costa Rica/0.04583333333333333",
          "all/EUR/Finland/0.04594594594594595",
          "all/AMR/Peru/0.046",
          "all/EMR/Lebanon/0.04666666666666667",
          "all/WPR/New Caledonia/0.04745762711864406",
          "all/EUR/Tajikistan/0.0475",
          "all/WPR/Brunei Darussalam/0.04814814814814815",
          "all/EUR/Germany/0.04838709677419355",
          "all/EUR/France/0.04857142857142857",
          "all/AMR/Bahamas/0.04864864864864865",
          "all/EUR/Denmark/0.05",
          "all/AMR/Paraguay/0.05",
          "all/SEA/Democratic People's Republic of Korea/0.05153846153846154",
          "all/EUR/Kazakhstan/0.05161290322580645",
          "all/EMR/Oman/0.05434782608695652",
          "all/EMR/Tunisia/0.05476190476190476",
          "all/EUR/Bulgaria/0.05555555555555555",
          "all/AFR/Equatorial Guinea/0.05583333333333333",
          "all/EUR/Kyrgyzstan/0.056363636363636366",
          "all/EUR/Serbia/0.057692307692307696",
          "all/SEA/Bhutan/0.058666666666666666",
          "all/SEA/Sri Lanka/0.05909090909090909",
          "all/EUR/Greenland/0.05928571428571429",
          "all/EMR/Jordan/0.059322033898305086",
          "all/EUR/Slovakia/0.0603448275862069",
          "all/EUR/Republic of Moldova/0.060759493670886074",
          "all/AFR/Ghana/0.06111111111111111",
          "all/EUR/Serbia & Montenegro/0.06170212765957447",
          "all/WPR/Philippines/0.06279069767441861",
          "all/AFR/Botswana/0.06285714285714286",
          "all/EUR/Uzbekistan/0.06285714285714286",
          "all/AMR/Curaçao/0.06333333333333334",
          "all/AMR/Sint Maarten (Dutch part)/0.06333333333333334",
          "all/EUR/The Former Yugoslav Republic of Macedonia/0.06346153846153846",
          "all/WPR/French Polynesia/0.06493506493506493",
          "all/EUR/Poland/0.065",
          "all/EMR/Morocco/0.06511627906976744",
          "all/EUR/Croatia/0.06582278481012659",
          "all/EMR/Yemen/0.066",
          "all/AMR/Antigua and Barbuda/0.06666666666666667",
          "all/AMR/Chile/0.06666666666666667",
          "all/WPR/American Samoa/0.0673076923076923",
          "all/AMR/Jamaica/0.068",
          "all/WPR/Northern Mariana Islands/0.068",
          "all/AFR/Malawi/0.06818181818181818",
          "all/AFR/Kenya/0.07",
          "all/EUR/Bosnia and Herzegovina/0.07037037037037037",
          "all/AMR/Saint Vincent and the Grenadines/0.07045454545454545",
          "all/AFR/United Republic of Tanzania/0.07058823529411765",
          "all/AFR/Uganda/0.0706896551724138",
          "all/AMR/Mexico/0.07096774193548387",
          "all/WPR/Japan/0.07241379310344828",
          "all/AFR/Zambia/0.07346938775510205",
          "all/AFR/Lesotho/0.07384615384615385",
          "all/AMR/Netherlands Antilles/0.075",
          "all/AMR/Panama/0.075",
          "all/WPR/Papua New Guinea/0.075",
          "all/EUR/Italy/0.07560975609756097",
          "all/AFR/Angola/0.07582417582417582",
          "all/WPR/Vanuatu/0.0761904761904762",
          "all/EUR/Iceland/0.0775",
          "all/AMR/Dominican Republic/0.07763157894736843",
          "all/SEA/Nepal/0.07796610169491526",
          "all/EMR/Pakistan/0.07903225806451612",
          "all/WPR/Marshall Islands/0.08076923076923077",
          "all/AFR/Rwanda/0.081",
          "all/SEA/Thailand/0.081",
          "all/WPR/Micronesia (Federated States of)/0.08148148148148149",
          "all/AFR/Sao Tome and Principe/0.08181818181818182",
          "all/AMR/Bermuda/0.08333333333333334",
          "all/EUR/Armenia/0.085",
          "all/EMR/Syrian Arab Republic/0.08653846153846154",
          "all/AFR/Namibia/0.08666666666666667",
          "all/WPR/Tuvalu/0.0875",
          "all/EUR/Belarus/0.08947368421052632",
          "all/WPR/Viet Nam/0.08947368421052632",
          "all/AFR/Côte d'Ivoire/0.09090909090909091",
          "all/AMR/US Virgin Islands/0.09090909090909091",
          "all/SEA/India/0.09230769230769231",
          "all/AFR/Gabon/0.09381443298969072",
          "all/EUR/Estonia/0.09411764705882353",
          "all/SEA/Indonesia/0.09411764705882353",
          "all/WPR/Nauru/0.0943661971830986",
          "all/AFR/Congo/0.09523809523809523",
          "all/EUR/Lithuania/0.09615384615384616",
          "all/AFR/Zimbabwe/0.09827586206896552",
          "all/AFR/Senegal/0.1",
          "all/AFR/Sierra Leone/0.1",
          "all/WPR/Solomon Islands/0.10125",
          "all/AMR/Trinidad and Tobago/0.10357142857142858",
          "all/AMR/Haiti/0.10384615384615385",
          "all/SEA/Myanmar/0.104",
          "all/AFR/Algeria/0.10408163265306122",
          "all/EMR/Iran (Islamic Republic of)/0.10416666666666667",
          "all/EUR/Greece/0.10547945205479452",
          "all/EUR/Russian Federation/0.10625",
          "all/AFR/Burkina Faso/0.10714285714285714",
          "all/WPR/Tonga/0.10869565217391304",
          "all/WPR/Lao People's Democratic Republic/0.10909090909090909",
          "all/AFR/Central African Republic/0.11",
          "all/AFR/Guinea/0.1103448275862069",
          "all/AFR/Liberia/0.11052631578947368",
          "all/EUR/Slovenia/0.11052631578947368",
          "all/AFR/Niger/0.11071428571428571",
          "all/WPR/Cook Islands/0.1108108108108108",
          "all/AFR/Chad/0.11153846153846154",
          "all/WPR/Samoa/0.11296296296296296",
          "all/AFR/Togo/0.11408450704225352",
          "all/AFR/Mali/0.11428571428571428",
          "all/AFR/Burundi/0.115",
          "all/AFR/Benin/0.11818181818181818",
          "all/AFR/Cameroon/0.11818181818181818",
          "all/EUR/Ukraine/0.12222222222222222",
          "all/EMR/Libya/0.12272727272727273",
          "all/AFR/Eritrea/0.12371134020618557",
          "all/AFR/Democratic Republic of the Congo/0.12432432432432433",
          "all/AFR/Cabo Verde/0.125",
          "all/AFR/Madagascar/0.12631578947368421",
          "all/AFR/Mauritania/0.12658227848101267",
          "all/SEA/Bangladesh/0.12698412698412698",
          "all/AFR/Mozambique/0.12857142857142856",
          "all/AFR/Comoros/0.1288888888888889",
          "all/EMR/Afghanistan/0.13",
          "all/AMR/Guyana/0.13",
          "all/EMR/Sudan/0.13287671232876713",
          "all/EMR/Somalia/0.13508771929824562",
          "all/AFR/Guinea-Bissau/0.13636363636363635",
          "all/WPR/Wallis and Futuna Islands/0.13636363636363635",
          "all/AMR/Saint Lucia/0.1375",
          "all/AMR/Grenada/0.13924050632911392",
          "all/AFR/South Sudan/0.140625",
          "all/AFR/Ethiopia/0.15",
          "all/AMR/Belize/0.15384615384615385",
          "all/AMR/Puerto Rico/0.15714285714285714",
          "all/AFR/Gambia/0.1608695652173913",
          "all/AMR/Turks and Caicos Islands/0.1791044776119403",
          "all/EMR/Saudi Arabia/0.20869565217391303",
          "all/EUR/Turkmenistan/0.24074074074074073",
          "all/EMR/United Arab Emirates/0.24615384615384617",
          "all/AMR/Barbados/0.25",
          "all/AFR/Nigeria/0.2807017543859649",
          "all/AMR/Dominica/0.5192307692307693",
          "all/AMR/British Virgin Islands/0.6",
          "all/AMR/Saint Kitts and Nevis/1.6",
          "all/AMR/Montserrat/inf",
          "all/EMR/Afghanistan",
          "all/EUR/Albania",
          "all/AFR/Algeria",
          "all/WPR/American Samoa",
          "all/EUR/Andorra",
          "all/AFR/Angola",
          "all/AMR/Anguilla",
          "all/AMR/Antigua and Barbuda",
          "all/AMR/Argentina",
          "all/EUR/Armenia",
          "all/AMR/Aruba",
          "all/WPR/Australia",
          "all/EUR/Austria",
          "all/EUR/Azerbaijan",
          "all/AMR/Bahamas",
          "all/EMR/Bahrain",
          "all/SEA/Bangladesh",
          "all/AMR/Barbados",
          "all/EUR/Belarus",
          "all/EUR/Belgium",
          "all/AMR/Belize",
          "all/AFR/Benin",
          "all/AMR/Bermuda",
          "all/SEA/Bhutan",
          "all/AMR/Bolivia (Plurinational State of)",
          "all/AMR/Bonaire, Saint Eustatius and Saba",
          "all/EUR/Bosnia and Herzegovina",
          "all/AFR/Botswana",
          "all/AMR/Brazil",
          "all/AMR/British Virgin Islands",
          "all/WPR/Brunei Darussalam",
          "all/EUR/Bulgaria",
          "all/AFR/Burkina Faso",
          "all/AFR/Burundi",
          "all/AFR/Cabo Verde",
          "all/AFR/Cameroon",
          "all/AMR/Canada",
          "all/AMR/Cayman Islands",
          "all/AFR/Central African Republic",
          "all/AFR/Chad",
          "all/AMR/Chile",
          "all/WPR/China",
          "all/WPR/China, Hong Kong SAR",
          "all/WPR/China, Macao SAR",
          "all/AMR/Colombia",
          "all/AFR/Comoros",
          "all/AFR/Congo",
          "all/WPR/Cook Islands",
          "all/AMR/Costa Rica",
          "all/EUR/Croatia",
          "all/AMR/Cuba",
          "all/AMR/Curaçao",
          "all/EUR/Cyprus",
          "all/EUR/Czech Republic",
          "all/AFR/Côte d'Ivoire",
          "all/SEA/Democratic People's Republic of Korea",
          "all/AFR/Democratic Republic of the Congo",
          "all/EUR/Denmark",
          "all/AMR/Dominica",
          "all/AMR/Dominican Republic",
          "all/AMR/Ecuador",
          "all/EMR/Egypt",
          "all/AMR/El Salvador",
          "all/AFR/Equatorial Guinea",
          "all/AFR/Eritrea",
          "all/EUR/Estonia",
          "all/AFR/Ethiopia",
          "all/WPR/Fiji",
          "all/EUR/Finland",
          "all/EUR/France",
          "all/WPR/French Polynesia",
          "all/AFR/Gabon",
          "all/AFR/Gambia",
          "all/EUR/Georgia",
          "all/EUR/Germany",
          "all/AFR/Ghana",
          "all/EUR/Greece",
          "all/EUR/Greenland",
          "all/AMR/Grenada",
          "all/WPR/Guam",
          "all/AMR/Guatemala",
          "all/AFR/Guinea",
          "all/AFR/Guinea-Bissau",
          "all/AMR/Guyana",
          "all/AMR/Haiti",
          "all/AMR/Honduras",
          "all/EUR/Hungary",
          "all/EUR/Iceland",
          "all/SEA/India",
          "all/SEA/Indonesia",
          "all/EMR/Iran (Islamic Republic of)",
          "all/EMR/Iraq",
          "all/EUR/Ireland",
          "all/EUR/Israel",
          "all/EUR/Italy",
          "all/AMR/Jamaica",
          "all/WPR/Japan",
          "all/EMR/Jordan",
          "all/EUR/Kazakhstan",
          "all/AFR/Kenya",
          "all/EMR/Kuwait",
          "all/EUR/Kyrgyzstan",
          "all/WPR/Lao People's Democratic Republic",
          "all/EUR/Latvia",
          "all/EMR/Lebanon",
          "all/AFR/Lesotho",
          "all/AFR/Liberia",
          "all/EMR/Libya",
          "all/EUR/Lithuania",
          "all/EUR/Luxembourg",
          "all/AFR/Madagascar",
          "all/AFR/Malawi",
          "all/WPR/Malaysia",
          "all/SEA/Maldives",
          "all/AFR/Mali",
          "all/EUR/Malta",
          "all/WPR/Marshall Islands",
          "all/AFR/Mauritania",
          "all/AFR/Mauritius",
          "all/AMR/Mexico",
          "all/WPR/Micronesia (Federated States of)",
          "all/EUR/Monaco",
          "all/WPR/Mongolia",
          "all/EUR/Montenegro",
          "all/AMR/Montserrat",
          "all/EMR/Morocco",
          "all/AFR/Mozambique",
          "all/SEA/Myanmar",
          "all/AFR/Namibia",
          "all/WPR/Nauru",
          "all/SEA/Nepal",
          "all/EUR/Netherlands",
          "all/AMR/Netherlands Antilles",
          "all/WPR/New Caledonia",
          "all/WPR/New Zealand",
          "all/AMR/Nicaragua",
          "all/AFR/Niger",
          "all/AFR/Nigeria",
          "all/WPR/Niue",
          "all/WPR/Northern Mariana Islands",
          "all/EUR/Norway",
          "all/EMR/Oman",
          "all/EMR/Pakistan",
          "all/WPR/Palau",
          "all/AMR/Panama",
          "all/WPR/Papua New Guinea",
          "all/AMR/Paraguay",
          "all/AMR/Peru",
          "all/WPR/Philippines",
          "all/EUR/Poland",
          "all/EUR/Portugal",
          "all/AMR/Puerto Rico",
          "all/EMR/Qatar",
          "all/WPR/Republic of Korea",
          "all/EUR/Republic of Moldova",
          "all/EUR/Romania",
          "all/EUR/Russian Federation",
          "all/AFR/Rwanda",
          "all/AMR/Saint Kitts and Nevis",
          "all/AMR/Saint Lucia",
          "all/AMR/Saint Vincent and the Grenadines",
          "all/WPR/Samoa",
          "all/EUR/San Marino",
          "all/AFR/Sao Tome and Principe",
          "all/EMR/Saudi Arabia",
          "all/AFR/Senegal",
          "all/EUR/Serbia",
          "all/EUR/Serbia & Montenegro",
          "all/AFR/Seychelles",
          "all/AFR/Sierra Leone",
          "all/WPR/Singapore",
          "all/AMR/Sint Maarten (Dutch part)",
          "all/EUR/Slovakia",
          "all/EUR/Slovenia",
          "all/WPR/Solomon Islands",
          "all/EMR/Somalia",
          "all/AFR/South Sudan",
          "all/EUR/Spain",
          "all/SEA/Sri Lanka",
          "all/EMR/Sudan",
          "all/AMR/Suriname",
          "all/EUR/Sweden",
          "all/EUR/Switzerland",
          "all/EMR/Syrian Arab Republic",
          "all/EUR/Tajikistan",
          "all/SEA/Thailand",
          "all/EUR/The Former Yugoslav Republic of Macedonia",
          "all/AFR/Togo",
          "all/WPR/Tokelau",
          "all/WPR/Tonga",
          "all/AMR/Trinidad and Tobago",
          "all/EMR/Tunisia",
          "all/EUR/Turkey",
          "all/EUR/Turkmenistan",
          "all/AMR/Turks and Caicos Islands",
          "all/WPR/Tuvalu",
          "all/AMR/US Virgin Islands",
          "all/AFR/Uganda",
          "all/EUR/Ukraine",
          "all/EMR/United Arab Emirates",
          "all/EUR/United Kingdom of Great Britain and Northern Ireland",
          "all/AFR/United Republic of Tanzania",
          "all/AMR/United States of America",
          "all/AMR/Uruguay",
          "all/EUR/Uzbekistan",
          "all/WPR/Vanuatu",
          "all/AMR/Venezuela (Bolivarian Republic of)",
          "all/WPR/Viet Nam",
          "all/WPR/Wallis and Futuna Islands",
          "all/EMR/West Bank and Gaza Strip",
          "all/EMR/Yemen",
          "all/AFR/Zambia",
          "all/AFR/Zimbabwe",
          "all/AFR",
          "all/AMR",
          "all/EMR",
          "all/EUR",
          "all/SEA",
          "all/WPR",
          "all"
         ],
         "labels": [
          "0.0",
          "0.0",
          "0.0",
          "0.002454545454545455",
          "0.0075",
          "0.00814814814814815",
          "0.013846153846153847",
          "0.014651162790697675",
          "0.014705882352941176",
          "0.015116279069767442",
          "0.015384615384615385",
          "0.018235294117647058",
          "0.019444444444444445",
          "0.01967741935483871",
          "0.020476190476190478",
          "0.023529411764705882",
          "0.024242424242424242",
          "0.024615384615384615",
          "0.024666666666666667",
          "0.025",
          "0.025",
          "0.025",
          "0.026153846153846153",
          "0.02676056338028169",
          "0.026923076923076925",
          "0.027058823529411767",
          "0.027428571428571427",
          "0.02793103448275862",
          "0.028181818181818183",
          "0.02870967741935484",
          "0.02909090909090909",
          "0.029375",
          "0.030666666666666665",
          "0.03090909090909091",
          "0.03118279569892473",
          "0.0312",
          "0.031538461538461536",
          "0.032",
          "0.03260869565217391",
          "0.03272727272727272",
          "0.03287671232876712",
          "0.03333333333333333",
          "0.03402061855670103",
          "0.035483870967741936",
          "0.035833333333333335",
          "0.03636363636363636",
          "0.036619718309859155",
          "0.03666666666666667",
          "0.036734693877551024",
          "0.03684210526315789",
          "0.03769230769230769",
          "0.038",
          "0.03833333333333333",
          "0.038461538461538464",
          "0.038461538461538464",
          "0.03902439024390244",
          "0.04",
          "0.04",
          "0.041176470588235294",
          "0.042045454545454546",
          "0.04358974358974359",
          "0.04366197183098591",
          "0.04384615384615385",
          "0.044444444444444446",
          "0.044444444444444446",
          "0.04516129032258064",
          "0.04583333333333333",
          "0.04594594594594595",
          "0.046",
          "0.04666666666666667",
          "0.04745762711864406",
          "0.0475",
          "0.04814814814814815",
          "0.04838709677419355",
          "0.04857142857142857",
          "0.04864864864864865",
          "0.05",
          "0.05",
          "0.05153846153846154",
          "0.05161290322580645",
          "0.05434782608695652",
          "0.05476190476190476",
          "0.05555555555555555",
          "0.05583333333333333",
          "0.056363636363636366",
          "0.057692307692307696",
          "0.058666666666666666",
          "0.05909090909090909",
          "0.05928571428571429",
          "0.059322033898305086",
          "0.0603448275862069",
          "0.060759493670886074",
          "0.06111111111111111",
          "0.06170212765957447",
          "0.06279069767441861",
          "0.06285714285714286",
          "0.06285714285714286",
          "0.06333333333333334",
          "0.06333333333333334",
          "0.06346153846153846",
          "0.06493506493506493",
          "0.065",
          "0.06511627906976744",
          "0.06582278481012659",
          "0.066",
          "0.06666666666666667",
          "0.06666666666666667",
          "0.0673076923076923",
          "0.068",
          "0.068",
          "0.06818181818181818",
          "0.07",
          "0.07037037037037037",
          "0.07045454545454545",
          "0.07058823529411765",
          "0.0706896551724138",
          "0.07096774193548387",
          "0.07241379310344828",
          "0.07346938775510205",
          "0.07384615384615385",
          "0.075",
          "0.075",
          "0.075",
          "0.07560975609756097",
          "0.07582417582417582",
          "0.0761904761904762",
          "0.0775",
          "0.07763157894736843",
          "0.07796610169491526",
          "0.07903225806451612",
          "0.08076923076923077",
          "0.081",
          "0.081",
          "0.08148148148148149",
          "0.08181818181818182",
          "0.08333333333333334",
          "0.085",
          "0.08653846153846154",
          "0.08666666666666667",
          "0.0875",
          "0.08947368421052632",
          "0.08947368421052632",
          "0.09090909090909091",
          "0.09090909090909091",
          "0.09230769230769231",
          "0.09381443298969072",
          "0.09411764705882353",
          "0.09411764705882353",
          "0.0943661971830986",
          "0.09523809523809523",
          "0.09615384615384616",
          "0.09827586206896552",
          "0.1",
          "0.1",
          "0.10125",
          "0.10357142857142858",
          "0.10384615384615385",
          "0.104",
          "0.10408163265306122",
          "0.10416666666666667",
          "0.10547945205479452",
          "0.10625",
          "0.10714285714285714",
          "0.10869565217391304",
          "0.10909090909090909",
          "0.11",
          "0.1103448275862069",
          "0.11052631578947368",
          "0.11052631578947368",
          "0.11071428571428571",
          "0.1108108108108108",
          "0.11153846153846154",
          "0.11296296296296296",
          "0.11408450704225352",
          "0.11428571428571428",
          "0.115",
          "0.11818181818181818",
          "0.11818181818181818",
          "0.12222222222222222",
          "0.12272727272727273",
          "0.12371134020618557",
          "0.12432432432432433",
          "0.125",
          "0.12631578947368421",
          "0.12658227848101267",
          "0.12698412698412698",
          "0.12857142857142856",
          "0.1288888888888889",
          "0.13",
          "0.13",
          "0.13287671232876713",
          "0.13508771929824562",
          "0.13636363636363635",
          "0.13636363636363635",
          "0.1375",
          "0.13924050632911392",
          "0.140625",
          "0.15",
          "0.15384615384615385",
          "0.15714285714285714",
          "0.1608695652173913",
          "0.1791044776119403",
          "0.20869565217391303",
          "0.24074074074074073",
          "0.24615384615384617",
          "0.25",
          "0.2807017543859649",
          "0.5192307692307693",
          "0.6",
          "1.6",
          "inf",
          "Afghanistan",
          "Albania",
          "Algeria",
          "American Samoa",
          "Andorra",
          "Angola",
          "Anguilla",
          "Antigua and Barbuda",
          "Argentina",
          "Armenia",
          "Aruba",
          "Australia",
          "Austria",
          "Azerbaijan",
          "Bahamas",
          "Bahrain",
          "Bangladesh",
          "Barbados",
          "Belarus",
          "Belgium",
          "Belize",
          "Benin",
          "Bermuda",
          "Bhutan",
          "Bolivia (Plurinational State of)",
          "Bonaire, Saint Eustatius and Saba",
          "Bosnia and Herzegovina",
          "Botswana",
          "Brazil",
          "British Virgin Islands",
          "Brunei Darussalam",
          "Bulgaria",
          "Burkina Faso",
          "Burundi",
          "Cabo Verde",
          "Cameroon",
          "Canada",
          "Cayman Islands",
          "Central African Republic",
          "Chad",
          "Chile",
          "China",
          "China, Hong Kong SAR",
          "China, Macao SAR",
          "Colombia",
          "Comoros",
          "Congo",
          "Cook Islands",
          "Costa Rica",
          "Croatia",
          "Cuba",
          "Curaçao",
          "Cyprus",
          "Czech Republic",
          "Côte d'Ivoire",
          "Democratic People's Republic of Korea",
          "Democratic Republic of the Congo",
          "Denmark",
          "Dominica",
          "Dominican Republic",
          "Ecuador",
          "Egypt",
          "El Salvador",
          "Equatorial Guinea",
          "Eritrea",
          "Estonia",
          "Ethiopia",
          "Fiji",
          "Finland",
          "France",
          "French Polynesia",
          "Gabon",
          "Gambia",
          "Georgia",
          "Germany",
          "Ghana",
          "Greece",
          "Greenland",
          "Grenada",
          "Guam",
          "Guatemala",
          "Guinea",
          "Guinea-Bissau",
          "Guyana",
          "Haiti",
          "Honduras",
          "Hungary",
          "Iceland",
          "India",
          "Indonesia",
          "Iran (Islamic Republic of)",
          "Iraq",
          "Ireland",
          "Israel",
          "Italy",
          "Jamaica",
          "Japan",
          "Jordan",
          "Kazakhstan",
          "Kenya",
          "Kuwait",
          "Kyrgyzstan",
          "Lao People's Democratic Republic",
          "Latvia",
          "Lebanon",
          "Lesotho",
          "Liberia",
          "Libya",
          "Lithuania",
          "Luxembourg",
          "Madagascar",
          "Malawi",
          "Malaysia",
          "Maldives",
          "Mali",
          "Malta",
          "Marshall Islands",
          "Mauritania",
          "Mauritius",
          "Mexico",
          "Micronesia (Federated States of)",
          "Monaco",
          "Mongolia",
          "Montenegro",
          "Montserrat",
          "Morocco",
          "Mozambique",
          "Myanmar",
          "Namibia",
          "Nauru",
          "Nepal",
          "Netherlands",
          "Netherlands Antilles",
          "New Caledonia",
          "New Zealand",
          "Nicaragua",
          "Niger",
          "Nigeria",
          "Niue",
          "Northern Mariana Islands",
          "Norway",
          "Oman",
          "Pakistan",
          "Palau",
          "Panama",
          "Papua New Guinea",
          "Paraguay",
          "Peru",
          "Philippines",
          "Poland",
          "Portugal",
          "Puerto Rico",
          "Qatar",
          "Republic of Korea",
          "Republic of Moldova",
          "Romania",
          "Russian Federation",
          "Rwanda",
          "Saint Kitts and Nevis",
          "Saint Lucia",
          "Saint Vincent and the Grenadines",
          "Samoa",
          "San Marino",
          "Sao Tome and Principe",
          "Saudi Arabia",
          "Senegal",
          "Serbia",
          "Serbia & Montenegro",
          "Seychelles",
          "Sierra Leone",
          "Singapore",
          "Sint Maarten (Dutch part)",
          "Slovakia",
          "Slovenia",
          "Solomon Islands",
          "Somalia",
          "South Sudan",
          "Spain",
          "Sri Lanka",
          "Sudan",
          "Suriname",
          "Sweden",
          "Switzerland",
          "Syrian Arab Republic",
          "Tajikistan",
          "Thailand",
          "The Former Yugoslav Republic of Macedonia",
          "Togo",
          "Tokelau",
          "Tonga",
          "Trinidad and Tobago",
          "Tunisia",
          "Turkey",
          "Turkmenistan",
          "Turks and Caicos Islands",
          "Tuvalu",
          "US Virgin Islands",
          "Uganda",
          "Ukraine",
          "United Arab Emirates",
          "United Kingdom of Great Britain and Northern Ireland",
          "United Republic of Tanzania",
          "United States of America",
          "Uruguay",
          "Uzbekistan",
          "Vanuatu",
          "Venezuela (Bolivarian Republic of)",
          "Viet Nam",
          "Wallis and Futuna Islands",
          "West Bank and Gaza Strip",
          "Yemen",
          "Zambia",
          "Zimbabwe",
          "AFR",
          "AMR",
          "EMR",
          "EUR",
          "SEA",
          "WPR",
          "all"
         ],
         "name": "",
         "parents": [
          "all/AMR/Anguilla",
          "all/AMR/Cayman Islands",
          "all/EUR/San Marino",
          "all/EMR/Qatar",
          "all/EUR/Montenegro",
          "all/EUR/Norway",
          "all/EUR/Belgium",
          "all/WPR/New Zealand",
          "all/AMR/Guatemala",
          "all/EUR/Sweden",
          "all/EUR/Netherlands",
          "all/EUR/Turkey",
          "all/WPR/Mongolia",
          "all/AMR/El Salvador",
          "all/AMR/Bolivia (Plurinational State of)",
          "all/EUR/Albania",
          "all/WPR/China, Macao SAR",
          "all/AMR/Ecuador",
          "all/AMR/Cuba",
          "all/WPR/Australia",
          "all/EMR/Egypt",
          "all/EUR/Malta",
          "all/EUR/Switzerland",
          "all/WPR/China, Hong Kong SAR",
          "all/WPR/Guam",
          "all/AMR/Aruba",
          "all/EMR/Bahrain",
          "all/EUR/Hungary",
          "all/AMR/Canada",
          "all/EMR/West Bank and Gaza Strip",
          "all/EUR/Israel",
          "all/WPR/Singapore",
          "all/EUR/Cyprus",
          "all/EUR/United Kingdom of Great Britain and Northern Ireland",
          "all/EUR/Austria",
          "all/EMR/Iraq",
          "all/WPR/China",
          "all/AMR/Venezuela (Bolivarian Republic of)",
          "all/EUR/Monaco",
          "all/WPR/Palau",
          "all/EUR/Spain",
          "all/AMR/Uruguay",
          "all/EMR/Kuwait",
          "all/EUR/Luxembourg",
          "all/EUR/Latvia",
          "all/EUR/Azerbaijan",
          "all/WPR/Republic of Korea",
          "all/AMR/Colombia",
          "all/EUR/Ireland",
          "all/EUR/Czech Republic",
          "all/AMR/United States of America",
          "all/SEA/Maldives",
          "all/AMR/Honduras",
          "all/AFR/Mauritius",
          "all/WPR/Niue",
          "all/AMR/Nicaragua",
          "all/EUR/Andorra",
          "all/AMR/Brazil",
          "all/AFR/Seychelles",
          "all/WPR/Fiji",
          "all/WPR/Malaysia",
          "all/EUR/Georgia",
          "all/AMR/Argentina",
          "all/EUR/Romania",
          "all/AMR/Suriname",
          "all/EUR/Portugal",
          "all/AMR/Costa Rica",
          "all/EUR/Finland",
          "all/AMR/Peru",
          "all/EMR/Lebanon",
          "all/WPR/New Caledonia",
          "all/EUR/Tajikistan",
          "all/WPR/Brunei Darussalam",
          "all/EUR/Germany",
          "all/EUR/France",
          "all/AMR/Bahamas",
          "all/EUR/Denmark",
          "all/AMR/Paraguay",
          "all/SEA/Democratic People's Republic of Korea",
          "all/EUR/Kazakhstan",
          "all/EMR/Oman",
          "all/EMR/Tunisia",
          "all/EUR/Bulgaria",
          "all/AFR/Equatorial Guinea",
          "all/EUR/Kyrgyzstan",
          "all/EUR/Serbia",
          "all/SEA/Bhutan",
          "all/SEA/Sri Lanka",
          "all/EUR/Greenland",
          "all/EMR/Jordan",
          "all/EUR/Slovakia",
          "all/EUR/Republic of Moldova",
          "all/AFR/Ghana",
          "all/EUR/Serbia & Montenegro",
          "all/WPR/Philippines",
          "all/AFR/Botswana",
          "all/EUR/Uzbekistan",
          "all/AMR/Curaçao",
          "all/AMR/Sint Maarten (Dutch part)",
          "all/EUR/The Former Yugoslav Republic of Macedonia",
          "all/WPR/French Polynesia",
          "all/EUR/Poland",
          "all/EMR/Morocco",
          "all/EUR/Croatia",
          "all/EMR/Yemen",
          "all/AMR/Antigua and Barbuda",
          "all/AMR/Chile",
          "all/WPR/American Samoa",
          "all/AMR/Jamaica",
          "all/WPR/Northern Mariana Islands",
          "all/AFR/Malawi",
          "all/AFR/Kenya",
          "all/EUR/Bosnia and Herzegovina",
          "all/AMR/Saint Vincent and the Grenadines",
          "all/AFR/United Republic of Tanzania",
          "all/AFR/Uganda",
          "all/AMR/Mexico",
          "all/WPR/Japan",
          "all/AFR/Zambia",
          "all/AFR/Lesotho",
          "all/AMR/Netherlands Antilles",
          "all/AMR/Panama",
          "all/WPR/Papua New Guinea",
          "all/EUR/Italy",
          "all/AFR/Angola",
          "all/WPR/Vanuatu",
          "all/EUR/Iceland",
          "all/AMR/Dominican Republic",
          "all/SEA/Nepal",
          "all/EMR/Pakistan",
          "all/WPR/Marshall Islands",
          "all/AFR/Rwanda",
          "all/SEA/Thailand",
          "all/WPR/Micronesia (Federated States of)",
          "all/AFR/Sao Tome and Principe",
          "all/AMR/Bermuda",
          "all/EUR/Armenia",
          "all/EMR/Syrian Arab Republic",
          "all/AFR/Namibia",
          "all/WPR/Tuvalu",
          "all/EUR/Belarus",
          "all/WPR/Viet Nam",
          "all/AFR/Côte d'Ivoire",
          "all/AMR/US Virgin Islands",
          "all/SEA/India",
          "all/AFR/Gabon",
          "all/EUR/Estonia",
          "all/SEA/Indonesia",
          "all/WPR/Nauru",
          "all/AFR/Congo",
          "all/EUR/Lithuania",
          "all/AFR/Zimbabwe",
          "all/AFR/Senegal",
          "all/AFR/Sierra Leone",
          "all/WPR/Solomon Islands",
          "all/AMR/Trinidad and Tobago",
          "all/AMR/Haiti",
          "all/SEA/Myanmar",
          "all/AFR/Algeria",
          "all/EMR/Iran (Islamic Republic of)",
          "all/EUR/Greece",
          "all/EUR/Russian Federation",
          "all/AFR/Burkina Faso",
          "all/WPR/Tonga",
          "all/WPR/Lao People's Democratic Republic",
          "all/AFR/Central African Republic",
          "all/AFR/Guinea",
          "all/AFR/Liberia",
          "all/EUR/Slovenia",
          "all/AFR/Niger",
          "all/WPR/Cook Islands",
          "all/AFR/Chad",
          "all/WPR/Samoa",
          "all/AFR/Togo",
          "all/AFR/Mali",
          "all/AFR/Burundi",
          "all/AFR/Benin",
          "all/AFR/Cameroon",
          "all/EUR/Ukraine",
          "all/EMR/Libya",
          "all/AFR/Eritrea",
          "all/AFR/Democratic Republic of the Congo",
          "all/AFR/Cabo Verde",
          "all/AFR/Madagascar",
          "all/AFR/Mauritania",
          "all/SEA/Bangladesh",
          "all/AFR/Mozambique",
          "all/AFR/Comoros",
          "all/EMR/Afghanistan",
          "all/AMR/Guyana",
          "all/EMR/Sudan",
          "all/EMR/Somalia",
          "all/AFR/Guinea-Bissau",
          "all/WPR/Wallis and Futuna Islands",
          "all/AMR/Saint Lucia",
          "all/AMR/Grenada",
          "all/AFR/South Sudan",
          "all/AFR/Ethiopia",
          "all/AMR/Belize",
          "all/AMR/Puerto Rico",
          "all/AFR/Gambia",
          "all/AMR/Turks and Caicos Islands",
          "all/EMR/Saudi Arabia",
          "all/EUR/Turkmenistan",
          "all/EMR/United Arab Emirates",
          "all/AMR/Barbados",
          "all/AFR/Nigeria",
          "all/AMR/Dominica",
          "all/AMR/British Virgin Islands",
          "all/AMR/Saint Kitts and Nevis",
          "all/AMR/Montserrat",
          "all/EMR",
          "all/EUR",
          "all/AFR",
          "all/WPR",
          "all/EUR",
          "all/AFR",
          "all/AMR",
          "all/AMR",
          "all/AMR",
          "all/EUR",
          "all/AMR",
          "all/WPR",
          "all/EUR",
          "all/EUR",
          "all/AMR",
          "all/EMR",
          "all/SEA",
          "all/AMR",
          "all/EUR",
          "all/EUR",
          "all/AMR",
          "all/AFR",
          "all/AMR",
          "all/SEA",
          "all/AMR",
          "all/AMR",
          "all/EUR",
          "all/AFR",
          "all/AMR",
          "all/AMR",
          "all/WPR",
          "all/EUR",
          "all/AFR",
          "all/AFR",
          "all/AFR",
          "all/AFR",
          "all/AMR",
          "all/AMR",
          "all/AFR",
          "all/AFR",
          "all/AMR",
          "all/WPR",
          "all/WPR",
          "all/WPR",
          "all/AMR",
          "all/AFR",
          "all/AFR",
          "all/WPR",
          "all/AMR",
          "all/EUR",
          "all/AMR",
          "all/AMR",
          "all/EUR",
          "all/EUR",
          "all/AFR",
          "all/SEA",
          "all/AFR",
          "all/EUR",
          "all/AMR",
          "all/AMR",
          "all/AMR",
          "all/EMR",
          "all/AMR",
          "all/AFR",
          "all/AFR",
          "all/EUR",
          "all/AFR",
          "all/WPR",
          "all/EUR",
          "all/EUR",
          "all/WPR",
          "all/AFR",
          "all/AFR",
          "all/EUR",
          "all/EUR",
          "all/AFR",
          "all/EUR",
          "all/EUR",
          "all/AMR",
          "all/WPR",
          "all/AMR",
          "all/AFR",
          "all/AFR",
          "all/AMR",
          "all/AMR",
          "all/AMR",
          "all/EUR",
          "all/EUR",
          "all/SEA",
          "all/SEA",
          "all/EMR",
          "all/EMR",
          "all/EUR",
          "all/EUR",
          "all/EUR",
          "all/AMR",
          "all/WPR",
          "all/EMR",
          "all/EUR",
          "all/AFR",
          "all/EMR",
          "all/EUR",
          "all/WPR",
          "all/EUR",
          "all/EMR",
          "all/AFR",
          "all/AFR",
          "all/EMR",
          "all/EUR",
          "all/EUR",
          "all/AFR",
          "all/AFR",
          "all/WPR",
          "all/SEA",
          "all/AFR",
          "all/EUR",
          "all/WPR",
          "all/AFR",
          "all/AFR",
          "all/AMR",
          "all/WPR",
          "all/EUR",
          "all/WPR",
          "all/EUR",
          "all/AMR",
          "all/EMR",
          "all/AFR",
          "all/SEA",
          "all/AFR",
          "all/WPR",
          "all/SEA",
          "all/EUR",
          "all/AMR",
          "all/WPR",
          "all/WPR",
          "all/AMR",
          "all/AFR",
          "all/AFR",
          "all/WPR",
          "all/WPR",
          "all/EUR",
          "all/EMR",
          "all/EMR",
          "all/WPR",
          "all/AMR",
          "all/WPR",
          "all/AMR",
          "all/AMR",
          "all/WPR",
          "all/EUR",
          "all/EUR",
          "all/AMR",
          "all/EMR",
          "all/WPR",
          "all/EUR",
          "all/EUR",
          "all/EUR",
          "all/AFR",
          "all/AMR",
          "all/AMR",
          "all/AMR",
          "all/WPR",
          "all/EUR",
          "all/AFR",
          "all/EMR",
          "all/AFR",
          "all/EUR",
          "all/EUR",
          "all/AFR",
          "all/AFR",
          "all/WPR",
          "all/AMR",
          "all/EUR",
          "all/EUR",
          "all/WPR",
          "all/EMR",
          "all/AFR",
          "all/EUR",
          "all/SEA",
          "all/EMR",
          "all/AMR",
          "all/EUR",
          "all/EUR",
          "all/EMR",
          "all/EUR",
          "all/SEA",
          "all/EUR",
          "all/AFR",
          "all/WPR",
          "all/WPR",
          "all/AMR",
          "all/EMR",
          "all/EUR",
          "all/EUR",
          "all/AMR",
          "all/WPR",
          "all/AMR",
          "all/AFR",
          "all/EUR",
          "all/EMR",
          "all/EUR",
          "all/AFR",
          "all/AMR",
          "all/AMR",
          "all/EUR",
          "all/WPR",
          "all/AMR",
          "all/WPR",
          "all/WPR",
          "all/EMR",
          "all/EMR",
          "all/AFR",
          "all/AFR",
          "all",
          "all",
          "all",
          "all",
          "all",
          "all",
          ""
         ],
         "type": "treemap",
         "values": [
          0.0005104895104895105,
          0.00011123470522803115,
          1.939709997456118e-05,
          0.0005072226195466076,
          0.0002574901469785945,
          0.00010708610575625497,
          0.0001170699094671374,
          9.543337962222141e-05,
          0.0010990287624231465,
          8.985378386299179e-05,
          7.756920082660127e-05,
          0.00022687042353144874,
          0.0025360390521835825,
          0.0004889239792607911,
          0.0019679136367044005,
          0.0002678624044400872,
          0.0011653056720370778,
          0.0008260325820291655,
          0.00013314835771708797,
          7.711238783521237e-05,
          0.0002681083486283053,
          0.00013985883581505066,
          8.046712527976253e-05,
          0.0009855860127854104,
          0.0004723722778033478,
          0.00016519128178717532,
          0.0002627290340354204,
          0.0002913126255595086,
          6.253250268946609e-05,
          7.165484554335754e-05,
          7.112243092848135e-05,
          0.0005913073750627571,
          6.572225250314153e-05,
          0.00017422633410449606,
          0.00010947429384666182,
          0.0007404065815392591,
          0.0009382443681230445,
          0.000493336552518784,
          2.4318680447252255e-05,
          0.000525862893202027,
          0.00015556088724514306,
          0.000352209616379156,
          0.0002879558459786521,
          0.00011689731890342773,
          0.0005852753501043985,
          0.0010516900340152675,
          0.0014412527710114455,
          0.000434590012438587,
          0.00010589619190810458,
          7.101345639591572e-05,
          4.0618562465581235e-05,
          0.0005796715001608588,
          0.0007409522322914886,
          0.00031340329459186454,
          0.00019345238095238096,
          0.0006742890937192767,
          8.205205887550809e-05,
          0.0005490065041050089,
          0.00036622934574204527,
          0.0009987912356069076,
          0.0013123816648167132,
          0.001635607403542357,
          0.0003136592877434545,
          0.0012443207702253396,
          0.0005006712703699034,
          0.00029222798005610023,
          0.0001477782160952644,
          6.818613635789833e-05,
          0.0016460578576826936,
          0.00018664566833769843,
          0.0002300230802819537,
          0.001462017872193809,
          0.0006462669704919288,
          7.494564083877904e-05,
          0.00010887946234699325,
          9.804597031062024e-05,
          8.542299330710848e-05,
          0.0005880368316869527,
          0.005221831432854478,
          0.0018855775578802362,
          0.00012663650148495064,
          0.000381939187097003,
          0.00037380884772315106,
          0.0015851754392917437,
          0.0019828580122244997,
          0.0002733818789452422,
          0.0019895297680075654,
          0.0010341636915657559,
          0.0024567006510256726,
          8.111304697861461e-05,
          0.00010641766401117899,
          0.0022654252518636707,
          0.000694857337681905,
          0.0004418009083426675,
          0.0043702040948324535,
          0.00346338509279893,
          0.0012096452829260089,
          1.889644746787604e-05,
          6.63232595671302e-05,
          0.00024677788756229953,
          0.000278148039778782,
          0.00026166615663571636,
          0.0013027085734886687,
          0.00018416146157995616,
          0.0006145681914827322,
          0.00020003333888981496,
          0.0001872902774552223,
          9.42626665458171e-05,
          8.980246331748978e-05,
          0.0009284189026088571,
          0.0013445323096308787,
          0.0029309849320093787,
          0.0007050884141699791,
          0.0004022930705018606,
          0.0017257787861018202,
          0.0015434202981483534,
          0.0002534079299793671,
          0.00022808859624894775,
          0.003370328999136095,
          0.006266675986338646,
          7.923891026688655e-05,
          0.0006210906870039362,
          0.004370831149055996,
          6.722382979175517e-05,
          0.004238152895603862,
          0.0008308178016560968,
          3.641494833629205e-05,
          0.0007305050548546819,
          0.002122496313241891,
          0.003403926486300069,
          0.004939772770452559,
          0.0008491471420849041,
          0.0014923034004431126,
          0.0026074612019430414,
          0.0011399377179483194,
          3.6730383679466184e-06,
          0.0006719152204251477,
          0.00023746394715038925,
          0.00651235284796044,
          0.0032401782098015392,
          0.0010153176159316372,
          0.002072431864521246,
          0.0021657714975217173,
          0.00010316336387594137,
          0.0020764457959046925,
          0.0058024383401197935,
          0.0002641287518906569,
          0.002721462720897377,
          0.000706397373395682,
          0.004721613658683992,
          0.0008618023668407618,
          0.004099041898427438,
          0.002051894535451077,
          0.0042678397754459686,
          0.0014254380103736251,
          0.00020877589473519389,
          0.0025199998332923186,
          0.004694040735035708,
          0.0012497387663405256,
          0.0003098886714618151,
          6.560034651361118e-05,
          0.0011201839084335348,
          0.000826698145757394,
          0.00021837585332738337,
          0.004874642655457155,
          0.004332364255655414,
          0.0024690960698887008,
          0.004424699417360238,
          9.169897446762713e-05,
          0.0015702751402451984,
          0.00017935915458820107,
          0.002027240814532884,
          0.0002836551593721766,
          0.001041516612483354,
          0.000914934010384501,
          0.0019680134832539766,
          0.0010655327847970558,
          0.0029657644287023268,
          0.0011936654825431398,
          0.0007095033621590574,
          0.001531626911474333,
          0.005480371036523459,
          0.0024053061052682215,
          0.004143974588973337,
          0.002030910979259,
          0.004023117934023957,
          0.005419267011621076,
          0.0006123140436266952,
          0.003273143069018084,
          0.001250604980159152,
          0.0019228588032137344,
          0.00543085600866574,
          0.00516354653499623,
          0.00016576250753465944,
          8.778041728615867e-05,
          7.460079133497644e-05,
          0.002832817804755646,
          0.0021253814368930256,
          0.0003916842422416391,
          1.8978840761561232e-05,
          0.0012437239257334593,
          0.00020242914979757087,
          0.00015956227212513013,
          0.0010305201913256153,
          2.7819003996199926e-05,
          2.8105282387824793e-05,
          0.003283119933897548,
          7.221921308834354e-05,
          7.05691401150277e-05,
          1.8453248694432656e-05,
          0,
          0.003273143069018084,
          0.0002678624044400872,
          0.0012497387663405256,
          9.42626665458171e-05,
          8.205205887550809e-05,
          0.004238152895603862,
          0.0005104895104895105,
          0.00020003333888981496,
          0.0003136592877434545,
          0.0006719152204251477,
          0.00016519128178717532,
          7.711238783521237e-05,
          0.00010947429384666182,
          0.0010516900340152675,
          9.804597031062024e-05,
          0.0002627290340354204,
          0.004023117934023957,
          2.8105282387824793e-05,
          0.0010153176159316372,
          0.0001170699094671374,
          0.0003916842422416391,
          0.0010655327847970558,
          3.6730383679466184e-06,
          0.0019895297680075654,
          0.0019679136367044005,
          0,
          0.0007050884141699791,
          0.00346338509279893,
          0.0005490065041050089,
          7.05691401150277e-05,
          0.0006462669704919288,
          0.00037380884772315106,
          0.000826698145757394,
          0.0019680134832539766,
          0.0024053061052682215,
          0.0029657644287023268,
          6.253250268946609e-05,
          0.00011123470522803115,
          0.004332364255655414,
          0.002027240814532884,
          0.0001872902774552223,
          0.0009382443681230445,
          0.0009855860127854104,
          0.0011653056720370778,
          0.000434590012438587,
          0.0006123140436266952,
          0.004721613658683992,
          0.00017935915458820107,
          0.0001477782160952644,
          0.00018416146157995616,
          0.00013314835771708797,
          1.889644746787604e-05,
          6.572225250314153e-05,
          7.101345639591572e-05,
          0.0021657714975217173,
          0.005221831432854478,
          0.005480371036523459,
          8.542299330710848e-05,
          7.221921308834354e-05,
          0.0007305050548546819,
          0.0008260325820291655,
          0.0002681083486283053,
          0.0004889239792607911,
          0.0015851754392917437,
          0.001531626911474333,
          0.0002641287518906569,
          0.0021253814368930256,
          0.0009987912356069076,
          6.818613635789833e-05,
          0.00010887946234699325,
          0.000278148039778782,
          0.0058024383401197935,
          0.0012437239257334593,
          0.001635607403542357,
          7.494564083877904e-05,
          0.000694857337681905,
          6.560034651361118e-05,
          0.0024567006510256726,
          7.460079133497644e-05,
          0.0004723722778033478,
          0.0010990287624231465,
          0.0024690960698887008,
          0.00516354653499623,
          0.001250604980159152,
          0.0025199998332923186,
          0.0007409522322914886,
          0.0002913126255595086,
          3.641494833629205e-05,
          0.0020764457959046925,
          0.002721462720897377,
          0.0003098886714618151,
          0.0007404065815392591,
          0.00010589619190810458,
          7.112243092848135e-05,
          6.722382979175517e-05,
          8.980246331748978e-05,
          0.00022808859624894775,
          8.111304697861461e-05,
          0.0018855775578802362,
          0.0029309849320093787,
          0.0002879558459786521,
          0.0019828580122244997,
          0.004874642655457155,
          0.0005852753501043985,
          0.00018664566833769843,
          0.006266675986338646,
          0.004424699417360238,
          0.0007095033621590574,
          0.0008618023668407618,
          0.00011689731890342773,
          0.004143974588973337,
          0.0013445323096308787,
          0.0013123816648167132,
          0.0005796715001608588,
          0.000914934010384501,
          0.00013985883581505066,
          0.004939772770452559,
          0.002030910979259,
          0.00031340329459186454,
          0.0002534079299793671,
          0.0026074612019430414,
          2.4318680447252255e-05,
          0.0025360390521835825,
          0.0002574901469785945,
          0,
          0.0013027085734886687,
          0.005419267011621076,
          0.004694040735035708,
          0.00651235284796044,
          0.000706397373395682,
          0.002122496313241891,
          7.756920082660127e-05,
          7.923891026688655e-05,
          0.0002300230802819537,
          9.543337962222141e-05,
          0.0006742890937192767,
          0.0015702751402451984,
          0.003283119933897548,
          0.00019345238095238096,
          0.0009284189026088571,
          0.00010708610575625497,
          0.00012663650148495064,
          0.003403926486300069,
          0.000525862893202027,
          0.0006210906870039362,
          0.004370831149055996,
          0.0005880368316869527,
          0.0016460578576826936,
          0.0043702040948324535,
          0.00026166615663571636,
          0.00029222798005610023,
          1.8978840761561232e-05,
          0.0005072226195466076,
          0.0014412527710114455,
          0.0022654252518636707,
          0.0012443207702253396,
          0.0011201839084335348,
          0.0008491471420849041,
          1.8453248694432656e-05,
          8.778041728615867e-05,
          0.0004022930705018606,
          0.0002836551593721766,
          1.939709997456118e-05,
          0.0011399377179483194,
          0.00015956227212513013,
          0.002051894535451077,
          0.0002733818789452422,
          0.0004418009083426675,
          0.00036622934574204527,
          0.0042678397754459686,
          0.0005913073750627571,
          6.63232595671302e-05,
          0.00010641766401117899,
          9.169897446762713e-05,
          0.0014254380103736251,
          0.00543085600866574,
          0.002832817804755646,
          0.00015556088724514306,
          0.0010341636915657559,
          0.0019228588032137344,
          0.0005006712703699034,
          8.985378386299179e-05,
          8.046712527976253e-05,
          0.00023746394715038925,
          0.001462017872193809,
          0.0014923034004431126,
          0.00024677788756229953,
          0.001041516612483354,
          0,
          0.00021837585332738337,
          0.00020877589473519389,
          0.000381939187097003,
          0.00022687042353144874,
          0.0010305201913256153,
          0.00020242914979757087,
          0.0032401782098015392,
          0.00010316336387594137,
          0.0015434202981483534,
          0.0011936654825431398,
          2.7819003996199926e-05,
          0.00017422633410449606,
          0.0017257787861018202,
          4.0618562465581235e-05,
          0.000352209616379156,
          0.0012096452829260089,
          0.0008308178016560968,
          0.000493336552518784,
          0.002072431864521246,
          0.00016576250753465944,
          7.165484554335754e-05,
          0.0006145681914827322,
          0.003370328999136095,
          0.004099041898427438,
          0.12058119637314277,
          0.019643666201577897,
          0.02030671006823149,
          0.02807147682102824,
          0.025955063292135396,
          0.044023677533310226,
          0.258581790289426
         ]
        }
       ],
       "layout": {
        "legend": {
         "tracegroupgap": 0
        },
        "margin": {
         "t": 60
        },
        "template": {
         "data": {
          "bar": [
           {
            "error_x": {
             "color": "#2a3f5f"
            },
            "error_y": {
             "color": "#2a3f5f"
            },
            "marker": {
             "line": {
              "color": "#E5ECF6",
              "width": 0.5
             },
             "pattern": {
              "fillmode": "overlay",
              "size": 10,
              "solidity": 0.2
             }
            },
            "type": "bar"
           }
          ],
          "barpolar": [
           {
            "marker": {
             "line": {
              "color": "#E5ECF6",
              "width": 0.5
             },
             "pattern": {
              "fillmode": "overlay",
              "size": 10,
              "solidity": 0.2
             }
            },
            "type": "barpolar"
           }
          ],
          "carpet": [
           {
            "aaxis": {
             "endlinecolor": "#2a3f5f",
             "gridcolor": "white",
             "linecolor": "white",
             "minorgridcolor": "white",
             "startlinecolor": "#2a3f5f"
            },
            "baxis": {
             "endlinecolor": "#2a3f5f",
             "gridcolor": "white",
             "linecolor": "white",
             "minorgridcolor": "white",
             "startlinecolor": "#2a3f5f"
            },
            "type": "carpet"
           }
          ],
          "choropleth": [
           {
            "colorbar": {
             "outlinewidth": 0,
             "ticks": ""
            },
            "type": "choropleth"
           }
          ],
          "contour": [
           {
            "colorbar": {
             "outlinewidth": 0,
             "ticks": ""
            },
            "colorscale": [
             [
              0,
              "#0d0887"
             ],
             [
              0.1111111111111111,
              "#46039f"
             ],
             [
              0.2222222222222222,
              "#7201a8"
             ],
             [
              0.3333333333333333,
              "#9c179e"
             ],
             [
              0.4444444444444444,
              "#bd3786"
             ],
             [
              0.5555555555555556,
              "#d8576b"
             ],
             [
              0.6666666666666666,
              "#ed7953"
             ],
             [
              0.7777777777777778,
              "#fb9f3a"
             ],
             [
              0.8888888888888888,
              "#fdca26"
             ],
             [
              1,
              "#f0f921"
             ]
            ],
            "type": "contour"
           }
          ],
          "contourcarpet": [
           {
            "colorbar": {
             "outlinewidth": 0,
             "ticks": ""
            },
            "type": "contourcarpet"
           }
          ],
          "heatmap": [
           {
            "colorbar": {
             "outlinewidth": 0,
             "ticks": ""
            },
            "colorscale": [
             [
              0,
              "#0d0887"
             ],
             [
              0.1111111111111111,
              "#46039f"
             ],
             [
              0.2222222222222222,
              "#7201a8"
             ],
             [
              0.3333333333333333,
              "#9c179e"
             ],
             [
              0.4444444444444444,
              "#bd3786"
             ],
             [
              0.5555555555555556,
              "#d8576b"
             ],
             [
              0.6666666666666666,
              "#ed7953"
             ],
             [
              0.7777777777777778,
              "#fb9f3a"
             ],
             [
              0.8888888888888888,
              "#fdca26"
             ],
             [
              1,
              "#f0f921"
             ]
            ],
            "type": "heatmap"
           }
          ],
          "heatmapgl": [
           {
            "colorbar": {
             "outlinewidth": 0,
             "ticks": ""
            },
            "colorscale": [
             [
              0,
              "#0d0887"
             ],
             [
              0.1111111111111111,
              "#46039f"
             ],
             [
              0.2222222222222222,
              "#7201a8"
             ],
             [
              0.3333333333333333,
              "#9c179e"
             ],
             [
              0.4444444444444444,
              "#bd3786"
             ],
             [
              0.5555555555555556,
              "#d8576b"
             ],
             [
              0.6666666666666666,
              "#ed7953"
             ],
             [
              0.7777777777777778,
              "#fb9f3a"
             ],
             [
              0.8888888888888888,
              "#fdca26"
             ],
             [
              1,
              "#f0f921"
             ]
            ],
            "type": "heatmapgl"
           }
          ],
          "histogram": [
           {
            "marker": {
             "pattern": {
              "fillmode": "overlay",
              "size": 10,
              "solidity": 0.2
             }
            },
            "type": "histogram"
           }
          ],
          "histogram2d": [
           {
            "colorbar": {
             "outlinewidth": 0,
             "ticks": ""
            },
            "colorscale": [
             [
              0,
              "#0d0887"
             ],
             [
              0.1111111111111111,
              "#46039f"
             ],
             [
              0.2222222222222222,
              "#7201a8"
             ],
             [
              0.3333333333333333,
              "#9c179e"
             ],
             [
              0.4444444444444444,
              "#bd3786"
             ],
             [
              0.5555555555555556,
              "#d8576b"
             ],
             [
              0.6666666666666666,
              "#ed7953"
             ],
             [
              0.7777777777777778,
              "#fb9f3a"
             ],
             [
              0.8888888888888888,
              "#fdca26"
             ],
             [
              1,
              "#f0f921"
             ]
            ],
            "type": "histogram2d"
           }
          ],
          "histogram2dcontour": [
           {
            "colorbar": {
             "outlinewidth": 0,
             "ticks": ""
            },
            "colorscale": [
             [
              0,
              "#0d0887"
             ],
             [
              0.1111111111111111,
              "#46039f"
             ],
             [
              0.2222222222222222,
              "#7201a8"
             ],
             [
              0.3333333333333333,
              "#9c179e"
             ],
             [
              0.4444444444444444,
              "#bd3786"
             ],
             [
              0.5555555555555556,
              "#d8576b"
             ],
             [
              0.6666666666666666,
              "#ed7953"
             ],
             [
              0.7777777777777778,
              "#fb9f3a"
             ],
             [
              0.8888888888888888,
              "#fdca26"
             ],
             [
              1,
              "#f0f921"
             ]
            ],
            "type": "histogram2dcontour"
           }
          ],
          "mesh3d": [
           {
            "colorbar": {
             "outlinewidth": 0,
             "ticks": ""
            },
            "type": "mesh3d"
           }
          ],
          "parcoords": [
           {
            "line": {
             "colorbar": {
              "outlinewidth": 0,
              "ticks": ""
             }
            },
            "type": "parcoords"
           }
          ],
          "pie": [
           {
            "automargin": true,
            "type": "pie"
           }
          ],
          "scatter": [
           {
            "fillpattern": {
             "fillmode": "overlay",
             "size": 10,
             "solidity": 0.2
            },
            "type": "scatter"
           }
          ],
          "scatter3d": [
           {
            "line": {
             "colorbar": {
              "outlinewidth": 0,
              "ticks": ""
             }
            },
            "marker": {
             "colorbar": {
              "outlinewidth": 0,
              "ticks": ""
             }
            },
            "type": "scatter3d"
           }
          ],
          "scattercarpet": [
           {
            "marker": {
             "colorbar": {
              "outlinewidth": 0,
              "ticks": ""
             }
            },
            "type": "scattercarpet"
           }
          ],
          "scattergeo": [
           {
            "marker": {
             "colorbar": {
              "outlinewidth": 0,
              "ticks": ""
             }
            },
            "type": "scattergeo"
           }
          ],
          "scattergl": [
           {
            "marker": {
             "colorbar": {
              "outlinewidth": 0,
              "ticks": ""
             }
            },
            "type": "scattergl"
           }
          ],
          "scattermapbox": [
           {
            "marker": {
             "colorbar": {
              "outlinewidth": 0,
              "ticks": ""
             }
            },
            "type": "scattermapbox"
           }
          ],
          "scatterpolar": [
           {
            "marker": {
             "colorbar": {
              "outlinewidth": 0,
              "ticks": ""
             }
            },
            "type": "scatterpolar"
           }
          ],
          "scatterpolargl": [
           {
            "marker": {
             "colorbar": {
              "outlinewidth": 0,
              "ticks": ""
             }
            },
            "type": "scatterpolargl"
           }
          ],
          "scatterternary": [
           {
            "marker": {
             "colorbar": {
              "outlinewidth": 0,
              "ticks": ""
             }
            },
            "type": "scatterternary"
           }
          ],
          "surface": [
           {
            "colorbar": {
             "outlinewidth": 0,
             "ticks": ""
            },
            "colorscale": [
             [
              0,
              "#0d0887"
             ],
             [
              0.1111111111111111,
              "#46039f"
             ],
             [
              0.2222222222222222,
              "#7201a8"
             ],
             [
              0.3333333333333333,
              "#9c179e"
             ],
             [
              0.4444444444444444,
              "#bd3786"
             ],
             [
              0.5555555555555556,
              "#d8576b"
             ],
             [
              0.6666666666666666,
              "#ed7953"
             ],
             [
              0.7777777777777778,
              "#fb9f3a"
             ],
             [
              0.8888888888888888,
              "#fdca26"
             ],
             [
              1,
              "#f0f921"
             ]
            ],
            "type": "surface"
           }
          ],
          "table": [
           {
            "cells": {
             "fill": {
              "color": "#EBF0F8"
             },
             "line": {
              "color": "white"
             }
            },
            "header": {
             "fill": {
              "color": "#C8D4E3"
             },
             "line": {
              "color": "white"
             }
            },
            "type": "table"
           }
          ]
         },
         "layout": {
          "annotationdefaults": {
           "arrowcolor": "#2a3f5f",
           "arrowhead": 0,
           "arrowwidth": 1
          },
          "autotypenumbers": "strict",
          "coloraxis": {
           "colorbar": {
            "outlinewidth": 0,
            "ticks": ""
           }
          },
          "colorscale": {
           "diverging": [
            [
             0,
             "#8e0152"
            ],
            [
             0.1,
             "#c51b7d"
            ],
            [
             0.2,
             "#de77ae"
            ],
            [
             0.3,
             "#f1b6da"
            ],
            [
             0.4,
             "#fde0ef"
            ],
            [
             0.5,
             "#f7f7f7"
            ],
            [
             0.6,
             "#e6f5d0"
            ],
            [
             0.7,
             "#b8e186"
            ],
            [
             0.8,
             "#7fbc41"
            ],
            [
             0.9,
             "#4d9221"
            ],
            [
             1,
             "#276419"
            ]
           ],
           "sequential": [
            [
             0,
             "#0d0887"
            ],
            [
             0.1111111111111111,
             "#46039f"
            ],
            [
             0.2222222222222222,
             "#7201a8"
            ],
            [
             0.3333333333333333,
             "#9c179e"
            ],
            [
             0.4444444444444444,
             "#bd3786"
            ],
            [
             0.5555555555555556,
             "#d8576b"
            ],
            [
             0.6666666666666666,
             "#ed7953"
            ],
            [
             0.7777777777777778,
             "#fb9f3a"
            ],
            [
             0.8888888888888888,
             "#fdca26"
            ],
            [
             1,
             "#f0f921"
            ]
           ],
           "sequentialminus": [
            [
             0,
             "#0d0887"
            ],
            [
             0.1111111111111111,
             "#46039f"
            ],
            [
             0.2222222222222222,
             "#7201a8"
            ],
            [
             0.3333333333333333,
             "#9c179e"
            ],
            [
             0.4444444444444444,
             "#bd3786"
            ],
            [
             0.5555555555555556,
             "#d8576b"
            ],
            [
             0.6666666666666666,
             "#ed7953"
            ],
            [
             0.7777777777777778,
             "#fb9f3a"
            ],
            [
             0.8888888888888888,
             "#fdca26"
            ],
            [
             1,
             "#f0f921"
            ]
           ]
          },
          "colorway": [
           "#636efa",
           "#EF553B",
           "#00cc96",
           "#ab63fa",
           "#FFA15A",
           "#19d3f3",
           "#FF6692",
           "#B6E880",
           "#FF97FF",
           "#FECB52"
          ],
          "font": {
           "color": "#2a3f5f"
          },
          "geo": {
           "bgcolor": "white",
           "lakecolor": "white",
           "landcolor": "#E5ECF6",
           "showlakes": true,
           "showland": true,
           "subunitcolor": "white"
          },
          "hoverlabel": {
           "align": "left"
          },
          "hovermode": "closest",
          "mapbox": {
           "style": "light"
          },
          "paper_bgcolor": "white",
          "plot_bgcolor": "#E5ECF6",
          "polar": {
           "angularaxis": {
            "gridcolor": "white",
            "linecolor": "white",
            "ticks": ""
           },
           "bgcolor": "#E5ECF6",
           "radialaxis": {
            "gridcolor": "white",
            "linecolor": "white",
            "ticks": ""
           }
          },
          "scene": {
           "xaxis": {
            "backgroundcolor": "#E5ECF6",
            "gridcolor": "white",
            "gridwidth": 2,
            "linecolor": "white",
            "showbackground": true,
            "ticks": "",
            "zerolinecolor": "white"
           },
           "yaxis": {
            "backgroundcolor": "#E5ECF6",
            "gridcolor": "white",
            "gridwidth": 2,
            "linecolor": "white",
            "showbackground": true,
            "ticks": "",
            "zerolinecolor": "white"
           },
           "zaxis": {
            "backgroundcolor": "#E5ECF6",
            "gridcolor": "white",
            "gridwidth": 2,
            "linecolor": "white",
            "showbackground": true,
            "ticks": "",
            "zerolinecolor": "white"
           }
          },
          "shapedefaults": {
           "line": {
            "color": "#2a3f5f"
           }
          },
          "ternary": {
           "aaxis": {
            "gridcolor": "white",
            "linecolor": "white",
            "ticks": ""
           },
           "baxis": {
            "gridcolor": "white",
            "linecolor": "white",
            "ticks": ""
           },
           "bgcolor": "#E5ECF6",
           "caxis": {
            "gridcolor": "white",
            "linecolor": "white",
            "ticks": ""
           }
          },
          "title": {
           "x": 0.05
          },
          "xaxis": {
           "automargin": true,
           "gridcolor": "white",
           "linecolor": "white",
           "ticks": "",
           "title": {
            "standoff": 15
           },
           "zerolinecolor": "white",
           "zerolinewidth": 2
          },
          "yaxis": {
           "automargin": true,
           "gridcolor": "white",
           "linecolor": "white",
           "ticks": "",
           "title": {
            "standoff": 15
           },
           "zerolinecolor": "white",
           "zerolinewidth": 2
          }
         }
        }
       }
      },
      "text/html": [
       "<div>                            <div id=\"16a97571-9c20-4543-b3c4-b24e0b27a662\" class=\"plotly-graph-div\" style=\"height:525px; width:100%;\"></div>            <script type=\"text/javascript\">                require([\"plotly\"], function(Plotly) {                    window.PLOTLYENV=window.PLOTLYENV || {};                                    if (document.getElementById(\"16a97571-9c20-4543-b3c4-b24e0b27a662\")) {                    Plotly.newPlot(                        \"16a97571-9c20-4543-b3c4-b24e0b27a662\",                        [{\"branchvalues\":\"total\",\"customdata\":[[0.0005104895104895105],[0.00011123470522803115],[1.939709997456118e-05],[0.0005072226195466076],[0.0002574901469785945],[0.00010708610575625497],[0.0001170699094671374],[9.543337962222141e-05],[0.0010990287624231465],[8.985378386299179e-05],[7.756920082660127e-05],[0.00022687042353144874],[0.0025360390521835825],[0.0004889239792607911],[0.0019679136367044005],[0.0002678624044400872],[0.0011653056720370778],[0.0008260325820291655],[0.00013314835771708797],[7.711238783521237e-05],[0.0002681083486283053],[0.00013985883581505066],[8.046712527976253e-05],[0.0009855860127854104],[0.0004723722778033478],[0.00016519128178717532],[0.0002627290340354204],[0.0002913126255595086],[6.253250268946609e-05],[7.165484554335754e-05],[7.112243092848135e-05],[0.0005913073750627571],[6.572225250314153e-05],[0.00017422633410449606],[0.00010947429384666182],[0.0007404065815392591],[0.0009382443681230445],[0.000493336552518784],[2.4318680447252255e-05],[0.000525862893202027],[0.00015556088724514306],[0.000352209616379156],[0.0002879558459786521],[0.00011689731890342773],[0.0005852753501043985],[0.0010516900340152675],[0.0014412527710114455],[0.000434590012438587],[0.00010589619190810458],[7.101345639591572e-05],[4.0618562465581235e-05],[0.0005796715001608588],[0.0007409522322914886],[0.00031340329459186454],[0.00019345238095238096],[0.0006742890937192767],[8.205205887550809e-05],[0.0005490065041050089],[0.00036622934574204527],[0.0009987912356069076],[0.0013123816648167132],[0.001635607403542357],[0.0003136592877434545],[0.0012443207702253396],[0.0005006712703699034],[0.00029222798005610023],[0.0001477782160952644],[6.818613635789833e-05],[0.0016460578576826936],[0.00018664566833769843],[0.0002300230802819537],[0.001462017872193809],[0.0006462669704919288],[7.494564083877904e-05],[0.00010887946234699325],[9.804597031062024e-05],[8.542299330710848e-05],[0.0005880368316869527],[0.005221831432854478],[0.0018855775578802362],[0.00012663650148495064],[0.000381939187097003],[0.00037380884772315106],[0.0015851754392917437],[0.0019828580122244997],[0.0002733818789452422],[0.0019895297680075654],[0.0010341636915657559],[0.0024567006510256726],[8.111304697861461e-05],[0.00010641766401117899],[0.0022654252518636707],[0.000694857337681905],[0.0004418009083426675],[0.0043702040948324535],[0.00346338509279893],[0.0012096452829260089],[1.889644746787604e-05],[6.63232595671302e-05],[0.00024677788756229953],[0.000278148039778782],[0.00026166615663571636],[0.0013027085734886687],[0.00018416146157995616],[0.0006145681914827322],[0.00020003333888981496],[0.0001872902774552223],[9.42626665458171e-05],[8.980246331748978e-05],[0.0009284189026088571],[0.0013445323096308787],[0.0029309849320093787],[0.0007050884141699791],[0.0004022930705018606],[0.0017257787861018202],[0.0015434202981483534],[0.0002534079299793671],[0.00022808859624894775],[0.003370328999136095],[0.006266675986338646],[7.923891026688655e-05],[0.0006210906870039362],[0.004370831149055996],[6.722382979175517e-05],[0.004238152895603862],[0.0008308178016560968],[3.641494833629205e-05],[0.0007305050548546819],[0.002122496313241891],[0.003403926486300069],[0.004939772770452559],[0.0008491471420849041],[0.0014923034004431126],[0.0026074612019430414],[0.0011399377179483194],[3.6730383679466184e-06],[0.0006719152204251477],[0.00023746394715038925],[0.00651235284796044],[0.0032401782098015392],[0.0010153176159316372],[0.002072431864521246],[0.0021657714975217173],[0.00010316336387594137],[0.0020764457959046925],[0.0058024383401197935],[0.0002641287518906569],[0.002721462720897377],[0.000706397373395682],[0.004721613658683992],[0.0008618023668407618],[0.004099041898427438],[0.002051894535451077],[0.0042678397754459686],[0.0014254380103736251],[0.00020877589473519389],[0.0025199998332923186],[0.004694040735035708],[0.0012497387663405256],[0.0003098886714618151],[6.560034651361118e-05],[0.0011201839084335348],[0.000826698145757394],[0.00021837585332738337],[0.004874642655457155],[0.004332364255655414],[0.0024690960698887008],[0.004424699417360238],[9.169897446762713e-05],[0.0015702751402451984],[0.00017935915458820107],[0.002027240814532884],[0.0002836551593721766],[0.001041516612483354],[0.000914934010384501],[0.0019680134832539766],[0.0010655327847970558],[0.0029657644287023268],[0.0011936654825431398],[0.0007095033621590574],[0.001531626911474333],[0.005480371036523459],[0.0024053061052682215],[0.004143974588973337],[0.002030910979259],[0.004023117934023957],[0.005419267011621076],[0.0006123140436266952],[0.003273143069018084],[0.001250604980159152],[0.0019228588032137344],[0.00543085600866574],[0.00516354653499623],[0.00016576250753465944],[8.778041728615867e-05],[7.460079133497644e-05],[0.002832817804755646],[0.0021253814368930256],[0.0003916842422416391],[1.8978840761561232e-05],[0.0012437239257334593],[0.00020242914979757087],[0.00015956227212513013],[0.0010305201913256153],[2.7819003996199926e-05],[2.8105282387824793e-05],[0.003283119933897548],[7.221921308834354e-05],[7.05691401150277e-05],[1.8453248694432656e-05],[0.0],[0.003273143069018084],[0.0002678624044400872],[0.0012497387663405256],[9.42626665458171e-05],[8.205205887550809e-05],[0.004238152895603862],[0.0005104895104895105],[0.00020003333888981496],[0.0003136592877434545],[0.0006719152204251477],[0.00016519128178717532],[7.711238783521237e-05],[0.00010947429384666182],[0.0010516900340152675],[9.804597031062024e-05],[0.0002627290340354204],[0.004023117934023957],[2.8105282387824793e-05],[0.0010153176159316372],[0.0001170699094671374],[0.0003916842422416391],[0.0010655327847970558],[3.6730383679466184e-06],[0.0019895297680075654],[0.0019679136367044005],[0.0],[0.0007050884141699791],[0.00346338509279893],[0.0005490065041050089],[7.05691401150277e-05],[0.0006462669704919288],[0.00037380884772315106],[0.000826698145757394],[0.0019680134832539766],[0.0024053061052682215],[0.0029657644287023268],[6.253250268946609e-05],[0.00011123470522803115],[0.004332364255655414],[0.002027240814532884],[0.0001872902774552223],[0.0009382443681230445],[0.0009855860127854104],[0.0011653056720370778],[0.000434590012438587],[0.0006123140436266952],[0.004721613658683992],[0.00017935915458820107],[0.0001477782160952644],[0.00018416146157995616],[0.00013314835771708797],[1.889644746787604e-05],[6.572225250314153e-05],[7.101345639591572e-05],[0.0021657714975217173],[0.005221831432854478],[0.005480371036523459],[8.542299330710848e-05],[7.221921308834354e-05],[0.0007305050548546819],[0.0008260325820291655],[0.0002681083486283053],[0.0004889239792607911],[0.0015851754392917437],[0.001531626911474333],[0.0002641287518906569],[0.0021253814368930256],[0.0009987912356069076],[6.818613635789833e-05],[0.00010887946234699325],[0.000278148039778782],[0.0058024383401197935],[0.0012437239257334593],[0.001635607403542357],[7.494564083877904e-05],[0.000694857337681905],[6.560034651361118e-05],[0.0024567006510256726],[7.460079133497644e-05],[0.0004723722778033478],[0.0010990287624231465],[0.0024690960698887008],[0.00516354653499623],[0.001250604980159152],[0.0025199998332923186],[0.0007409522322914886],[0.0002913126255595086],[3.641494833629205e-05],[0.0020764457959046925],[0.002721462720897377],[0.0003098886714618151],[0.0007404065815392591],[0.00010589619190810458],[7.112243092848135e-05],[6.722382979175517e-05],[8.980246331748978e-05],[0.00022808859624894775],[8.111304697861461e-05],[0.0018855775578802362],[0.0029309849320093787],[0.0002879558459786521],[0.0019828580122244997],[0.004874642655457155],[0.0005852753501043985],[0.00018664566833769843],[0.006266675986338646],[0.004424699417360238],[0.0007095033621590574],[0.0008618023668407618],[0.00011689731890342773],[0.004143974588973337],[0.0013445323096308787],[0.0013123816648167132],[0.0005796715001608588],[0.000914934010384501],[0.00013985883581505066],[0.004939772770452559],[0.002030910979259],[0.00031340329459186454],[0.0002534079299793671],[0.0026074612019430414],[2.4318680447252255e-05],[0.0025360390521835825],[0.0002574901469785945],[0.0],[0.0013027085734886687],[0.005419267011621076],[0.004694040735035708],[0.00651235284796044],[0.000706397373395682],[0.002122496313241891],[7.756920082660127e-05],[7.923891026688655e-05],[0.0002300230802819537],[9.543337962222141e-05],[0.0006742890937192767],[0.0015702751402451984],[0.003283119933897548],[0.00019345238095238096],[0.0009284189026088571],[0.00010708610575625497],[0.00012663650148495064],[0.003403926486300069],[0.000525862893202027],[0.0006210906870039362],[0.004370831149055996],[0.0005880368316869527],[0.0016460578576826936],[0.0043702040948324535],[0.00026166615663571636],[0.00029222798005610023],[1.8978840761561232e-05],[0.0005072226195466076],[0.0014412527710114455],[0.0022654252518636707],[0.0012443207702253396],[0.0011201839084335348],[0.0008491471420849041],[1.8453248694432656e-05],[8.778041728615867e-05],[0.0004022930705018606],[0.0002836551593721766],[1.939709997456118e-05],[0.0011399377179483194],[0.00015956227212513013],[0.002051894535451077],[0.0002733818789452422],[0.0004418009083426675],[0.00036622934574204527],[0.0042678397754459686],[0.0005913073750627571],[6.63232595671302e-05],[0.00010641766401117899],[9.169897446762713e-05],[0.0014254380103736251],[0.00543085600866574],[0.002832817804755646],[0.00015556088724514306],[0.0010341636915657559],[0.0019228588032137344],[0.0005006712703699034],[8.985378386299179e-05],[8.046712527976253e-05],[0.00023746394715038925],[0.001462017872193809],[0.0014923034004431126],[0.00024677788756229953],[0.001041516612483354],[0.0],[0.00021837585332738337],[0.00020877589473519389],[0.000381939187097003],[0.00022687042353144874],[0.0010305201913256153],[0.00020242914979757087],[0.0032401782098015392],[0.00010316336387594137],[0.0015434202981483534],[0.0011936654825431398],[2.7819003996199926e-05],[0.00017422633410449606],[0.0017257787861018202],[4.0618562465581235e-05],[0.000352209616379156],[0.0012096452829260089],[0.0008308178016560968],[0.000493336552518784],[0.002072431864521246],[0.00016576250753465944],[7.165484554335754e-05],[0.0006145681914827322],[0.003370328999136095],[0.004099041898427438],[0.12058119637314277],[0.019643666201577897],[0.02030671006823149],[0.02807147682102824],[0.025955063292135396],[0.044023677533310226],[0.258581790289426]],\"domain\":{\"x\":[0.0,1.0],\"y\":[0.0,1.0]},\"hovertemplate\":\"labels=%{label}<br>tb_prev_ratio=%{customdata[0]}<br>parent=%{parent}<br>id=%{id}<extra></extra>\",\"ids\":[\"all/AMR/Anguilla/0.0\",\"all/AMR/Cayman Islands/0.0\",\"all/EUR/San Marino/0.0\",\"all/EMR/Qatar/0.002454545454545455\",\"all/EUR/Montenegro/0.0075\",\"all/EUR/Norway/0.00814814814814815\",\"all/EUR/Belgium/0.013846153846153847\",\"all/WPR/New Zealand/0.014651162790697675\",\"all/AMR/Guatemala/0.014705882352941176\",\"all/EUR/Sweden/0.015116279069767442\",\"all/EUR/Netherlands/0.015384615384615385\",\"all/EUR/Turkey/0.018235294117647058\",\"all/WPR/Mongolia/0.019444444444444445\",\"all/AMR/El Salvador/0.01967741935483871\",\"all/AMR/Bolivia (Plurinational State of)/0.020476190476190478\",\"all/EUR/Albania/0.023529411764705882\",\"all/WPR/China, Macao SAR/0.024242424242424242\",\"all/AMR/Ecuador/0.024615384615384615\",\"all/AMR/Cuba/0.024666666666666667\",\"all/WPR/Australia/0.025\",\"all/EMR/Egypt/0.025\",\"all/EUR/Malta/0.025\",\"all/EUR/Switzerland/0.026153846153846153\",\"all/WPR/China, Hong Kong SAR/0.02676056338028169\",\"all/WPR/Guam/0.026923076923076925\",\"all/AMR/Aruba/0.027058823529411767\",\"all/EMR/Bahrain/0.027428571428571427\",\"all/EUR/Hungary/0.02793103448275862\",\"all/AMR/Canada/0.028181818181818183\",\"all/EMR/West Bank and Gaza Strip/0.02870967741935484\",\"all/EUR/Israel/0.02909090909090909\",\"all/WPR/Singapore/0.029375\",\"all/EUR/Cyprus/0.030666666666666665\",\"all/EUR/United Kingdom of Great Britain and Northern Ireland/0.03090909090909091\",\"all/EUR/Austria/0.03118279569892473\",\"all/EMR/Iraq/0.0312\",\"all/WPR/China/0.031538461538461536\",\"all/AMR/Venezuela (Bolivarian Republic of)/0.032\",\"all/EUR/Monaco/0.03260869565217391\",\"all/WPR/Palau/0.03272727272727272\",\"all/EUR/Spain/0.03287671232876712\",\"all/AMR/Uruguay/0.03333333333333333\",\"all/EMR/Kuwait/0.03402061855670103\",\"all/EUR/Luxembourg/0.035483870967741936\",\"all/EUR/Latvia/0.035833333333333335\",\"all/EUR/Azerbaijan/0.03636363636363636\",\"all/WPR/Republic of Korea/0.036619718309859155\",\"all/AMR/Colombia/0.03666666666666667\",\"all/EUR/Ireland/0.036734693877551024\",\"all/EUR/Czech Republic/0.03684210526315789\",\"all/AMR/United States of America/0.03769230769230769\",\"all/SEA/Maldives/0.038\",\"all/AMR/Honduras/0.03833333333333333\",\"all/AFR/Mauritius/0.038461538461538464\",\"all/WPR/Niue/0.038461538461538464\",\"all/AMR/Nicaragua/0.03902439024390244\",\"all/EUR/Andorra/0.04\",\"all/AMR/Brazil/0.04\",\"all/AFR/Seychelles/0.041176470588235294\",\"all/WPR/Fiji/0.042045454545454546\",\"all/WPR/Malaysia/0.04358974358974359\",\"all/EUR/Georgia/0.04366197183098591\",\"all/AMR/Argentina/0.04384615384615385\",\"all/EUR/Romania/0.044444444444444446\",\"all/AMR/Suriname/0.044444444444444446\",\"all/EUR/Portugal/0.04516129032258064\",\"all/AMR/Costa Rica/0.04583333333333333\",\"all/EUR/Finland/0.04594594594594595\",\"all/AMR/Peru/0.046\",\"all/EMR/Lebanon/0.04666666666666667\",\"all/WPR/New Caledonia/0.04745762711864406\",\"all/EUR/Tajikistan/0.0475\",\"all/WPR/Brunei Darussalam/0.04814814814814815\",\"all/EUR/Germany/0.04838709677419355\",\"all/EUR/France/0.04857142857142857\",\"all/AMR/Bahamas/0.04864864864864865\",\"all/EUR/Denmark/0.05\",\"all/AMR/Paraguay/0.05\",\"all/SEA/Democratic People's Republic of Korea/0.05153846153846154\",\"all/EUR/Kazakhstan/0.05161290322580645\",\"all/EMR/Oman/0.05434782608695652\",\"all/EMR/Tunisia/0.05476190476190476\",\"all/EUR/Bulgaria/0.05555555555555555\",\"all/AFR/Equatorial Guinea/0.05583333333333333\",\"all/EUR/Kyrgyzstan/0.056363636363636366\",\"all/EUR/Serbia/0.057692307692307696\",\"all/SEA/Bhutan/0.058666666666666666\",\"all/SEA/Sri Lanka/0.05909090909090909\",\"all/EUR/Greenland/0.05928571428571429\",\"all/EMR/Jordan/0.059322033898305086\",\"all/EUR/Slovakia/0.0603448275862069\",\"all/EUR/Republic of Moldova/0.060759493670886074\",\"all/AFR/Ghana/0.06111111111111111\",\"all/EUR/Serbia & Montenegro/0.06170212765957447\",\"all/WPR/Philippines/0.06279069767441861\",\"all/AFR/Botswana/0.06285714285714286\",\"all/EUR/Uzbekistan/0.06285714285714286\",\"all/AMR/Cura\\u00e7ao/0.06333333333333334\",\"all/AMR/Sint Maarten (Dutch part)/0.06333333333333334\",\"all/EUR/The Former Yugoslav Republic of Macedonia/0.06346153846153846\",\"all/WPR/French Polynesia/0.06493506493506493\",\"all/EUR/Poland/0.065\",\"all/EMR/Morocco/0.06511627906976744\",\"all/EUR/Croatia/0.06582278481012659\",\"all/EMR/Yemen/0.066\",\"all/AMR/Antigua and Barbuda/0.06666666666666667\",\"all/AMR/Chile/0.06666666666666667\",\"all/WPR/American Samoa/0.0673076923076923\",\"all/AMR/Jamaica/0.068\",\"all/WPR/Northern Mariana Islands/0.068\",\"all/AFR/Malawi/0.06818181818181818\",\"all/AFR/Kenya/0.07\",\"all/EUR/Bosnia and Herzegovina/0.07037037037037037\",\"all/AMR/Saint Vincent and the Grenadines/0.07045454545454545\",\"all/AFR/United Republic of Tanzania/0.07058823529411765\",\"all/AFR/Uganda/0.0706896551724138\",\"all/AMR/Mexico/0.07096774193548387\",\"all/WPR/Japan/0.07241379310344828\",\"all/AFR/Zambia/0.07346938775510205\",\"all/AFR/Lesotho/0.07384615384615385\",\"all/AMR/Netherlands Antilles/0.075\",\"all/AMR/Panama/0.075\",\"all/WPR/Papua New Guinea/0.075\",\"all/EUR/Italy/0.07560975609756097\",\"all/AFR/Angola/0.07582417582417582\",\"all/WPR/Vanuatu/0.0761904761904762\",\"all/EUR/Iceland/0.0775\",\"all/AMR/Dominican Republic/0.07763157894736843\",\"all/SEA/Nepal/0.07796610169491526\",\"all/EMR/Pakistan/0.07903225806451612\",\"all/WPR/Marshall Islands/0.08076923076923077\",\"all/AFR/Rwanda/0.081\",\"all/SEA/Thailand/0.081\",\"all/WPR/Micronesia (Federated States of)/0.08148148148148149\",\"all/AFR/Sao Tome and Principe/0.08181818181818182\",\"all/AMR/Bermuda/0.08333333333333334\",\"all/EUR/Armenia/0.085\",\"all/EMR/Syrian Arab Republic/0.08653846153846154\",\"all/AFR/Namibia/0.08666666666666667\",\"all/WPR/Tuvalu/0.0875\",\"all/EUR/Belarus/0.08947368421052632\",\"all/WPR/Viet Nam/0.08947368421052632\",\"all/AFR/C\\u00f4te d'Ivoire/0.09090909090909091\",\"all/AMR/US Virgin Islands/0.09090909090909091\",\"all/SEA/India/0.09230769230769231\",\"all/AFR/Gabon/0.09381443298969072\",\"all/EUR/Estonia/0.09411764705882353\",\"all/SEA/Indonesia/0.09411764705882353\",\"all/WPR/Nauru/0.0943661971830986\",\"all/AFR/Congo/0.09523809523809523\",\"all/EUR/Lithuania/0.09615384615384616\",\"all/AFR/Zimbabwe/0.09827586206896552\",\"all/AFR/Senegal/0.1\",\"all/AFR/Sierra Leone/0.1\",\"all/WPR/Solomon Islands/0.10125\",\"all/AMR/Trinidad and Tobago/0.10357142857142858\",\"all/AMR/Haiti/0.10384615384615385\",\"all/SEA/Myanmar/0.104\",\"all/AFR/Algeria/0.10408163265306122\",\"all/EMR/Iran (Islamic Republic of)/0.10416666666666667\",\"all/EUR/Greece/0.10547945205479452\",\"all/EUR/Russian Federation/0.10625\",\"all/AFR/Burkina Faso/0.10714285714285714\",\"all/WPR/Tonga/0.10869565217391304\",\"all/WPR/Lao People's Democratic Republic/0.10909090909090909\",\"all/AFR/Central African Republic/0.11\",\"all/AFR/Guinea/0.1103448275862069\",\"all/AFR/Liberia/0.11052631578947368\",\"all/EUR/Slovenia/0.11052631578947368\",\"all/AFR/Niger/0.11071428571428571\",\"all/WPR/Cook Islands/0.1108108108108108\",\"all/AFR/Chad/0.11153846153846154\",\"all/WPR/Samoa/0.11296296296296296\",\"all/AFR/Togo/0.11408450704225352\",\"all/AFR/Mali/0.11428571428571428\",\"all/AFR/Burundi/0.115\",\"all/AFR/Benin/0.11818181818181818\",\"all/AFR/Cameroon/0.11818181818181818\",\"all/EUR/Ukraine/0.12222222222222222\",\"all/EMR/Libya/0.12272727272727273\",\"all/AFR/Eritrea/0.12371134020618557\",\"all/AFR/Democratic Republic of the Congo/0.12432432432432433\",\"all/AFR/Cabo Verde/0.125\",\"all/AFR/Madagascar/0.12631578947368421\",\"all/AFR/Mauritania/0.12658227848101267\",\"all/SEA/Bangladesh/0.12698412698412698\",\"all/AFR/Mozambique/0.12857142857142856\",\"all/AFR/Comoros/0.1288888888888889\",\"all/EMR/Afghanistan/0.13\",\"all/AMR/Guyana/0.13\",\"all/EMR/Sudan/0.13287671232876713\",\"all/EMR/Somalia/0.13508771929824562\",\"all/AFR/Guinea-Bissau/0.13636363636363635\",\"all/WPR/Wallis and Futuna Islands/0.13636363636363635\",\"all/AMR/Saint Lucia/0.1375\",\"all/AMR/Grenada/0.13924050632911392\",\"all/AFR/South Sudan/0.140625\",\"all/AFR/Ethiopia/0.15\",\"all/AMR/Belize/0.15384615384615385\",\"all/AMR/Puerto Rico/0.15714285714285714\",\"all/AFR/Gambia/0.1608695652173913\",\"all/AMR/Turks and Caicos Islands/0.1791044776119403\",\"all/EMR/Saudi Arabia/0.20869565217391303\",\"all/EUR/Turkmenistan/0.24074074074074073\",\"all/EMR/United Arab Emirates/0.24615384615384617\",\"all/AMR/Barbados/0.25\",\"all/AFR/Nigeria/0.2807017543859649\",\"all/AMR/Dominica/0.5192307692307693\",\"all/AMR/British Virgin Islands/0.6\",\"all/AMR/Saint Kitts and Nevis/1.6\",\"all/AMR/Montserrat/inf\",\"all/EMR/Afghanistan\",\"all/EUR/Albania\",\"all/AFR/Algeria\",\"all/WPR/American Samoa\",\"all/EUR/Andorra\",\"all/AFR/Angola\",\"all/AMR/Anguilla\",\"all/AMR/Antigua and Barbuda\",\"all/AMR/Argentina\",\"all/EUR/Armenia\",\"all/AMR/Aruba\",\"all/WPR/Australia\",\"all/EUR/Austria\",\"all/EUR/Azerbaijan\",\"all/AMR/Bahamas\",\"all/EMR/Bahrain\",\"all/SEA/Bangladesh\",\"all/AMR/Barbados\",\"all/EUR/Belarus\",\"all/EUR/Belgium\",\"all/AMR/Belize\",\"all/AFR/Benin\",\"all/AMR/Bermuda\",\"all/SEA/Bhutan\",\"all/AMR/Bolivia (Plurinational State of)\",\"all/AMR/Bonaire, Saint Eustatius and Saba\",\"all/EUR/Bosnia and Herzegovina\",\"all/AFR/Botswana\",\"all/AMR/Brazil\",\"all/AMR/British Virgin Islands\",\"all/WPR/Brunei Darussalam\",\"all/EUR/Bulgaria\",\"all/AFR/Burkina Faso\",\"all/AFR/Burundi\",\"all/AFR/Cabo Verde\",\"all/AFR/Cameroon\",\"all/AMR/Canada\",\"all/AMR/Cayman Islands\",\"all/AFR/Central African Republic\",\"all/AFR/Chad\",\"all/AMR/Chile\",\"all/WPR/China\",\"all/WPR/China, Hong Kong SAR\",\"all/WPR/China, Macao SAR\",\"all/AMR/Colombia\",\"all/AFR/Comoros\",\"all/AFR/Congo\",\"all/WPR/Cook Islands\",\"all/AMR/Costa Rica\",\"all/EUR/Croatia\",\"all/AMR/Cuba\",\"all/AMR/Cura\\u00e7ao\",\"all/EUR/Cyprus\",\"all/EUR/Czech Republic\",\"all/AFR/C\\u00f4te d'Ivoire\",\"all/SEA/Democratic People's Republic of Korea\",\"all/AFR/Democratic Republic of the Congo\",\"all/EUR/Denmark\",\"all/AMR/Dominica\",\"all/AMR/Dominican Republic\",\"all/AMR/Ecuador\",\"all/EMR/Egypt\",\"all/AMR/El Salvador\",\"all/AFR/Equatorial Guinea\",\"all/AFR/Eritrea\",\"all/EUR/Estonia\",\"all/AFR/Ethiopia\",\"all/WPR/Fiji\",\"all/EUR/Finland\",\"all/EUR/France\",\"all/WPR/French Polynesia\",\"all/AFR/Gabon\",\"all/AFR/Gambia\",\"all/EUR/Georgia\",\"all/EUR/Germany\",\"all/AFR/Ghana\",\"all/EUR/Greece\",\"all/EUR/Greenland\",\"all/AMR/Grenada\",\"all/WPR/Guam\",\"all/AMR/Guatemala\",\"all/AFR/Guinea\",\"all/AFR/Guinea-Bissau\",\"all/AMR/Guyana\",\"all/AMR/Haiti\",\"all/AMR/Honduras\",\"all/EUR/Hungary\",\"all/EUR/Iceland\",\"all/SEA/India\",\"all/SEA/Indonesia\",\"all/EMR/Iran (Islamic Republic of)\",\"all/EMR/Iraq\",\"all/EUR/Ireland\",\"all/EUR/Israel\",\"all/EUR/Italy\",\"all/AMR/Jamaica\",\"all/WPR/Japan\",\"all/EMR/Jordan\",\"all/EUR/Kazakhstan\",\"all/AFR/Kenya\",\"all/EMR/Kuwait\",\"all/EUR/Kyrgyzstan\",\"all/WPR/Lao People's Democratic Republic\",\"all/EUR/Latvia\",\"all/EMR/Lebanon\",\"all/AFR/Lesotho\",\"all/AFR/Liberia\",\"all/EMR/Libya\",\"all/EUR/Lithuania\",\"all/EUR/Luxembourg\",\"all/AFR/Madagascar\",\"all/AFR/Malawi\",\"all/WPR/Malaysia\",\"all/SEA/Maldives\",\"all/AFR/Mali\",\"all/EUR/Malta\",\"all/WPR/Marshall Islands\",\"all/AFR/Mauritania\",\"all/AFR/Mauritius\",\"all/AMR/Mexico\",\"all/WPR/Micronesia (Federated States of)\",\"all/EUR/Monaco\",\"all/WPR/Mongolia\",\"all/EUR/Montenegro\",\"all/AMR/Montserrat\",\"all/EMR/Morocco\",\"all/AFR/Mozambique\",\"all/SEA/Myanmar\",\"all/AFR/Namibia\",\"all/WPR/Nauru\",\"all/SEA/Nepal\",\"all/EUR/Netherlands\",\"all/AMR/Netherlands Antilles\",\"all/WPR/New Caledonia\",\"all/WPR/New Zealand\",\"all/AMR/Nicaragua\",\"all/AFR/Niger\",\"all/AFR/Nigeria\",\"all/WPR/Niue\",\"all/WPR/Northern Mariana Islands\",\"all/EUR/Norway\",\"all/EMR/Oman\",\"all/EMR/Pakistan\",\"all/WPR/Palau\",\"all/AMR/Panama\",\"all/WPR/Papua New Guinea\",\"all/AMR/Paraguay\",\"all/AMR/Peru\",\"all/WPR/Philippines\",\"all/EUR/Poland\",\"all/EUR/Portugal\",\"all/AMR/Puerto Rico\",\"all/EMR/Qatar\",\"all/WPR/Republic of Korea\",\"all/EUR/Republic of Moldova\",\"all/EUR/Romania\",\"all/EUR/Russian Federation\",\"all/AFR/Rwanda\",\"all/AMR/Saint Kitts and Nevis\",\"all/AMR/Saint Lucia\",\"all/AMR/Saint Vincent and the Grenadines\",\"all/WPR/Samoa\",\"all/EUR/San Marino\",\"all/AFR/Sao Tome and Principe\",\"all/EMR/Saudi Arabia\",\"all/AFR/Senegal\",\"all/EUR/Serbia\",\"all/EUR/Serbia & Montenegro\",\"all/AFR/Seychelles\",\"all/AFR/Sierra Leone\",\"all/WPR/Singapore\",\"all/AMR/Sint Maarten (Dutch part)\",\"all/EUR/Slovakia\",\"all/EUR/Slovenia\",\"all/WPR/Solomon Islands\",\"all/EMR/Somalia\",\"all/AFR/South Sudan\",\"all/EUR/Spain\",\"all/SEA/Sri Lanka\",\"all/EMR/Sudan\",\"all/AMR/Suriname\",\"all/EUR/Sweden\",\"all/EUR/Switzerland\",\"all/EMR/Syrian Arab Republic\",\"all/EUR/Tajikistan\",\"all/SEA/Thailand\",\"all/EUR/The Former Yugoslav Republic of Macedonia\",\"all/AFR/Togo\",\"all/WPR/Tokelau\",\"all/WPR/Tonga\",\"all/AMR/Trinidad and Tobago\",\"all/EMR/Tunisia\",\"all/EUR/Turkey\",\"all/EUR/Turkmenistan\",\"all/AMR/Turks and Caicos Islands\",\"all/WPR/Tuvalu\",\"all/AMR/US Virgin Islands\",\"all/AFR/Uganda\",\"all/EUR/Ukraine\",\"all/EMR/United Arab Emirates\",\"all/EUR/United Kingdom of Great Britain and Northern Ireland\",\"all/AFR/United Republic of Tanzania\",\"all/AMR/United States of America\",\"all/AMR/Uruguay\",\"all/EUR/Uzbekistan\",\"all/WPR/Vanuatu\",\"all/AMR/Venezuela (Bolivarian Republic of)\",\"all/WPR/Viet Nam\",\"all/WPR/Wallis and Futuna Islands\",\"all/EMR/West Bank and Gaza Strip\",\"all/EMR/Yemen\",\"all/AFR/Zambia\",\"all/AFR/Zimbabwe\",\"all/AFR\",\"all/AMR\",\"all/EMR\",\"all/EUR\",\"all/SEA\",\"all/WPR\",\"all\"],\"labels\":[\"0.0\",\"0.0\",\"0.0\",\"0.002454545454545455\",\"0.0075\",\"0.00814814814814815\",\"0.013846153846153847\",\"0.014651162790697675\",\"0.014705882352941176\",\"0.015116279069767442\",\"0.015384615384615385\",\"0.018235294117647058\",\"0.019444444444444445\",\"0.01967741935483871\",\"0.020476190476190478\",\"0.023529411764705882\",\"0.024242424242424242\",\"0.024615384615384615\",\"0.024666666666666667\",\"0.025\",\"0.025\",\"0.025\",\"0.026153846153846153\",\"0.02676056338028169\",\"0.026923076923076925\",\"0.027058823529411767\",\"0.027428571428571427\",\"0.02793103448275862\",\"0.028181818181818183\",\"0.02870967741935484\",\"0.02909090909090909\",\"0.029375\",\"0.030666666666666665\",\"0.03090909090909091\",\"0.03118279569892473\",\"0.0312\",\"0.031538461538461536\",\"0.032\",\"0.03260869565217391\",\"0.03272727272727272\",\"0.03287671232876712\",\"0.03333333333333333\",\"0.03402061855670103\",\"0.035483870967741936\",\"0.035833333333333335\",\"0.03636363636363636\",\"0.036619718309859155\",\"0.03666666666666667\",\"0.036734693877551024\",\"0.03684210526315789\",\"0.03769230769230769\",\"0.038\",\"0.03833333333333333\",\"0.038461538461538464\",\"0.038461538461538464\",\"0.03902439024390244\",\"0.04\",\"0.04\",\"0.041176470588235294\",\"0.042045454545454546\",\"0.04358974358974359\",\"0.04366197183098591\",\"0.04384615384615385\",\"0.044444444444444446\",\"0.044444444444444446\",\"0.04516129032258064\",\"0.04583333333333333\",\"0.04594594594594595\",\"0.046\",\"0.04666666666666667\",\"0.04745762711864406\",\"0.0475\",\"0.04814814814814815\",\"0.04838709677419355\",\"0.04857142857142857\",\"0.04864864864864865\",\"0.05\",\"0.05\",\"0.05153846153846154\",\"0.05161290322580645\",\"0.05434782608695652\",\"0.05476190476190476\",\"0.05555555555555555\",\"0.05583333333333333\",\"0.056363636363636366\",\"0.057692307692307696\",\"0.058666666666666666\",\"0.05909090909090909\",\"0.05928571428571429\",\"0.059322033898305086\",\"0.0603448275862069\",\"0.060759493670886074\",\"0.06111111111111111\",\"0.06170212765957447\",\"0.06279069767441861\",\"0.06285714285714286\",\"0.06285714285714286\",\"0.06333333333333334\",\"0.06333333333333334\",\"0.06346153846153846\",\"0.06493506493506493\",\"0.065\",\"0.06511627906976744\",\"0.06582278481012659\",\"0.066\",\"0.06666666666666667\",\"0.06666666666666667\",\"0.0673076923076923\",\"0.068\",\"0.068\",\"0.06818181818181818\",\"0.07\",\"0.07037037037037037\",\"0.07045454545454545\",\"0.07058823529411765\",\"0.0706896551724138\",\"0.07096774193548387\",\"0.07241379310344828\",\"0.07346938775510205\",\"0.07384615384615385\",\"0.075\",\"0.075\",\"0.075\",\"0.07560975609756097\",\"0.07582417582417582\",\"0.0761904761904762\",\"0.0775\",\"0.07763157894736843\",\"0.07796610169491526\",\"0.07903225806451612\",\"0.08076923076923077\",\"0.081\",\"0.081\",\"0.08148148148148149\",\"0.08181818181818182\",\"0.08333333333333334\",\"0.085\",\"0.08653846153846154\",\"0.08666666666666667\",\"0.0875\",\"0.08947368421052632\",\"0.08947368421052632\",\"0.09090909090909091\",\"0.09090909090909091\",\"0.09230769230769231\",\"0.09381443298969072\",\"0.09411764705882353\",\"0.09411764705882353\",\"0.0943661971830986\",\"0.09523809523809523\",\"0.09615384615384616\",\"0.09827586206896552\",\"0.1\",\"0.1\",\"0.10125\",\"0.10357142857142858\",\"0.10384615384615385\",\"0.104\",\"0.10408163265306122\",\"0.10416666666666667\",\"0.10547945205479452\",\"0.10625\",\"0.10714285714285714\",\"0.10869565217391304\",\"0.10909090909090909\",\"0.11\",\"0.1103448275862069\",\"0.11052631578947368\",\"0.11052631578947368\",\"0.11071428571428571\",\"0.1108108108108108\",\"0.11153846153846154\",\"0.11296296296296296\",\"0.11408450704225352\",\"0.11428571428571428\",\"0.115\",\"0.11818181818181818\",\"0.11818181818181818\",\"0.12222222222222222\",\"0.12272727272727273\",\"0.12371134020618557\",\"0.12432432432432433\",\"0.125\",\"0.12631578947368421\",\"0.12658227848101267\",\"0.12698412698412698\",\"0.12857142857142856\",\"0.1288888888888889\",\"0.13\",\"0.13\",\"0.13287671232876713\",\"0.13508771929824562\",\"0.13636363636363635\",\"0.13636363636363635\",\"0.1375\",\"0.13924050632911392\",\"0.140625\",\"0.15\",\"0.15384615384615385\",\"0.15714285714285714\",\"0.1608695652173913\",\"0.1791044776119403\",\"0.20869565217391303\",\"0.24074074074074073\",\"0.24615384615384617\",\"0.25\",\"0.2807017543859649\",\"0.5192307692307693\",\"0.6\",\"1.6\",\"inf\",\"Afghanistan\",\"Albania\",\"Algeria\",\"American Samoa\",\"Andorra\",\"Angola\",\"Anguilla\",\"Antigua and Barbuda\",\"Argentina\",\"Armenia\",\"Aruba\",\"Australia\",\"Austria\",\"Azerbaijan\",\"Bahamas\",\"Bahrain\",\"Bangladesh\",\"Barbados\",\"Belarus\",\"Belgium\",\"Belize\",\"Benin\",\"Bermuda\",\"Bhutan\",\"Bolivia (Plurinational State of)\",\"Bonaire, Saint Eustatius and Saba\",\"Bosnia and Herzegovina\",\"Botswana\",\"Brazil\",\"British Virgin Islands\",\"Brunei Darussalam\",\"Bulgaria\",\"Burkina Faso\",\"Burundi\",\"Cabo Verde\",\"Cameroon\",\"Canada\",\"Cayman Islands\",\"Central African Republic\",\"Chad\",\"Chile\",\"China\",\"China, Hong Kong SAR\",\"China, Macao SAR\",\"Colombia\",\"Comoros\",\"Congo\",\"Cook Islands\",\"Costa Rica\",\"Croatia\",\"Cuba\",\"Cura\\u00e7ao\",\"Cyprus\",\"Czech Republic\",\"C\\u00f4te d'Ivoire\",\"Democratic People's Republic of Korea\",\"Democratic Republic of the Congo\",\"Denmark\",\"Dominica\",\"Dominican Republic\",\"Ecuador\",\"Egypt\",\"El Salvador\",\"Equatorial Guinea\",\"Eritrea\",\"Estonia\",\"Ethiopia\",\"Fiji\",\"Finland\",\"France\",\"French Polynesia\",\"Gabon\",\"Gambia\",\"Georgia\",\"Germany\",\"Ghana\",\"Greece\",\"Greenland\",\"Grenada\",\"Guam\",\"Guatemala\",\"Guinea\",\"Guinea-Bissau\",\"Guyana\",\"Haiti\",\"Honduras\",\"Hungary\",\"Iceland\",\"India\",\"Indonesia\",\"Iran (Islamic Republic of)\",\"Iraq\",\"Ireland\",\"Israel\",\"Italy\",\"Jamaica\",\"Japan\",\"Jordan\",\"Kazakhstan\",\"Kenya\",\"Kuwait\",\"Kyrgyzstan\",\"Lao People's Democratic Republic\",\"Latvia\",\"Lebanon\",\"Lesotho\",\"Liberia\",\"Libya\",\"Lithuania\",\"Luxembourg\",\"Madagascar\",\"Malawi\",\"Malaysia\",\"Maldives\",\"Mali\",\"Malta\",\"Marshall Islands\",\"Mauritania\",\"Mauritius\",\"Mexico\",\"Micronesia (Federated States of)\",\"Monaco\",\"Mongolia\",\"Montenegro\",\"Montserrat\",\"Morocco\",\"Mozambique\",\"Myanmar\",\"Namibia\",\"Nauru\",\"Nepal\",\"Netherlands\",\"Netherlands Antilles\",\"New Caledonia\",\"New Zealand\",\"Nicaragua\",\"Niger\",\"Nigeria\",\"Niue\",\"Northern Mariana Islands\",\"Norway\",\"Oman\",\"Pakistan\",\"Palau\",\"Panama\",\"Papua New Guinea\",\"Paraguay\",\"Peru\",\"Philippines\",\"Poland\",\"Portugal\",\"Puerto Rico\",\"Qatar\",\"Republic of Korea\",\"Republic of Moldova\",\"Romania\",\"Russian Federation\",\"Rwanda\",\"Saint Kitts and Nevis\",\"Saint Lucia\",\"Saint Vincent and the Grenadines\",\"Samoa\",\"San Marino\",\"Sao Tome and Principe\",\"Saudi Arabia\",\"Senegal\",\"Serbia\",\"Serbia & Montenegro\",\"Seychelles\",\"Sierra Leone\",\"Singapore\",\"Sint Maarten (Dutch part)\",\"Slovakia\",\"Slovenia\",\"Solomon Islands\",\"Somalia\",\"South Sudan\",\"Spain\",\"Sri Lanka\",\"Sudan\",\"Suriname\",\"Sweden\",\"Switzerland\",\"Syrian Arab Republic\",\"Tajikistan\",\"Thailand\",\"The Former Yugoslav Republic of Macedonia\",\"Togo\",\"Tokelau\",\"Tonga\",\"Trinidad and Tobago\",\"Tunisia\",\"Turkey\",\"Turkmenistan\",\"Turks and Caicos Islands\",\"Tuvalu\",\"US Virgin Islands\",\"Uganda\",\"Ukraine\",\"United Arab Emirates\",\"United Kingdom of Great Britain and Northern Ireland\",\"United Republic of Tanzania\",\"United States of America\",\"Uruguay\",\"Uzbekistan\",\"Vanuatu\",\"Venezuela (Bolivarian Republic of)\",\"Viet Nam\",\"Wallis and Futuna Islands\",\"West Bank and Gaza Strip\",\"Yemen\",\"Zambia\",\"Zimbabwe\",\"AFR\",\"AMR\",\"EMR\",\"EUR\",\"SEA\",\"WPR\",\"all\"],\"name\":\"\",\"parents\":[\"all/AMR/Anguilla\",\"all/AMR/Cayman Islands\",\"all/EUR/San Marino\",\"all/EMR/Qatar\",\"all/EUR/Montenegro\",\"all/EUR/Norway\",\"all/EUR/Belgium\",\"all/WPR/New Zealand\",\"all/AMR/Guatemala\",\"all/EUR/Sweden\",\"all/EUR/Netherlands\",\"all/EUR/Turkey\",\"all/WPR/Mongolia\",\"all/AMR/El Salvador\",\"all/AMR/Bolivia (Plurinational State of)\",\"all/EUR/Albania\",\"all/WPR/China, Macao SAR\",\"all/AMR/Ecuador\",\"all/AMR/Cuba\",\"all/WPR/Australia\",\"all/EMR/Egypt\",\"all/EUR/Malta\",\"all/EUR/Switzerland\",\"all/WPR/China, Hong Kong SAR\",\"all/WPR/Guam\",\"all/AMR/Aruba\",\"all/EMR/Bahrain\",\"all/EUR/Hungary\",\"all/AMR/Canada\",\"all/EMR/West Bank and Gaza Strip\",\"all/EUR/Israel\",\"all/WPR/Singapore\",\"all/EUR/Cyprus\",\"all/EUR/United Kingdom of Great Britain and Northern Ireland\",\"all/EUR/Austria\",\"all/EMR/Iraq\",\"all/WPR/China\",\"all/AMR/Venezuela (Bolivarian Republic of)\",\"all/EUR/Monaco\",\"all/WPR/Palau\",\"all/EUR/Spain\",\"all/AMR/Uruguay\",\"all/EMR/Kuwait\",\"all/EUR/Luxembourg\",\"all/EUR/Latvia\",\"all/EUR/Azerbaijan\",\"all/WPR/Republic of Korea\",\"all/AMR/Colombia\",\"all/EUR/Ireland\",\"all/EUR/Czech Republic\",\"all/AMR/United States of America\",\"all/SEA/Maldives\",\"all/AMR/Honduras\",\"all/AFR/Mauritius\",\"all/WPR/Niue\",\"all/AMR/Nicaragua\",\"all/EUR/Andorra\",\"all/AMR/Brazil\",\"all/AFR/Seychelles\",\"all/WPR/Fiji\",\"all/WPR/Malaysia\",\"all/EUR/Georgia\",\"all/AMR/Argentina\",\"all/EUR/Romania\",\"all/AMR/Suriname\",\"all/EUR/Portugal\",\"all/AMR/Costa Rica\",\"all/EUR/Finland\",\"all/AMR/Peru\",\"all/EMR/Lebanon\",\"all/WPR/New Caledonia\",\"all/EUR/Tajikistan\",\"all/WPR/Brunei Darussalam\",\"all/EUR/Germany\",\"all/EUR/France\",\"all/AMR/Bahamas\",\"all/EUR/Denmark\",\"all/AMR/Paraguay\",\"all/SEA/Democratic People's Republic of Korea\",\"all/EUR/Kazakhstan\",\"all/EMR/Oman\",\"all/EMR/Tunisia\",\"all/EUR/Bulgaria\",\"all/AFR/Equatorial Guinea\",\"all/EUR/Kyrgyzstan\",\"all/EUR/Serbia\",\"all/SEA/Bhutan\",\"all/SEA/Sri Lanka\",\"all/EUR/Greenland\",\"all/EMR/Jordan\",\"all/EUR/Slovakia\",\"all/EUR/Republic of Moldova\",\"all/AFR/Ghana\",\"all/EUR/Serbia & Montenegro\",\"all/WPR/Philippines\",\"all/AFR/Botswana\",\"all/EUR/Uzbekistan\",\"all/AMR/Cura\\u00e7ao\",\"all/AMR/Sint Maarten (Dutch part)\",\"all/EUR/The Former Yugoslav Republic of Macedonia\",\"all/WPR/French Polynesia\",\"all/EUR/Poland\",\"all/EMR/Morocco\",\"all/EUR/Croatia\",\"all/EMR/Yemen\",\"all/AMR/Antigua and Barbuda\",\"all/AMR/Chile\",\"all/WPR/American Samoa\",\"all/AMR/Jamaica\",\"all/WPR/Northern Mariana Islands\",\"all/AFR/Malawi\",\"all/AFR/Kenya\",\"all/EUR/Bosnia and Herzegovina\",\"all/AMR/Saint Vincent and the Grenadines\",\"all/AFR/United Republic of Tanzania\",\"all/AFR/Uganda\",\"all/AMR/Mexico\",\"all/WPR/Japan\",\"all/AFR/Zambia\",\"all/AFR/Lesotho\",\"all/AMR/Netherlands Antilles\",\"all/AMR/Panama\",\"all/WPR/Papua New Guinea\",\"all/EUR/Italy\",\"all/AFR/Angola\",\"all/WPR/Vanuatu\",\"all/EUR/Iceland\",\"all/AMR/Dominican Republic\",\"all/SEA/Nepal\",\"all/EMR/Pakistan\",\"all/WPR/Marshall Islands\",\"all/AFR/Rwanda\",\"all/SEA/Thailand\",\"all/WPR/Micronesia (Federated States of)\",\"all/AFR/Sao Tome and Principe\",\"all/AMR/Bermuda\",\"all/EUR/Armenia\",\"all/EMR/Syrian Arab Republic\",\"all/AFR/Namibia\",\"all/WPR/Tuvalu\",\"all/EUR/Belarus\",\"all/WPR/Viet Nam\",\"all/AFR/C\\u00f4te d'Ivoire\",\"all/AMR/US Virgin Islands\",\"all/SEA/India\",\"all/AFR/Gabon\",\"all/EUR/Estonia\",\"all/SEA/Indonesia\",\"all/WPR/Nauru\",\"all/AFR/Congo\",\"all/EUR/Lithuania\",\"all/AFR/Zimbabwe\",\"all/AFR/Senegal\",\"all/AFR/Sierra Leone\",\"all/WPR/Solomon Islands\",\"all/AMR/Trinidad and Tobago\",\"all/AMR/Haiti\",\"all/SEA/Myanmar\",\"all/AFR/Algeria\",\"all/EMR/Iran (Islamic Republic of)\",\"all/EUR/Greece\",\"all/EUR/Russian Federation\",\"all/AFR/Burkina Faso\",\"all/WPR/Tonga\",\"all/WPR/Lao People's Democratic Republic\",\"all/AFR/Central African Republic\",\"all/AFR/Guinea\",\"all/AFR/Liberia\",\"all/EUR/Slovenia\",\"all/AFR/Niger\",\"all/WPR/Cook Islands\",\"all/AFR/Chad\",\"all/WPR/Samoa\",\"all/AFR/Togo\",\"all/AFR/Mali\",\"all/AFR/Burundi\",\"all/AFR/Benin\",\"all/AFR/Cameroon\",\"all/EUR/Ukraine\",\"all/EMR/Libya\",\"all/AFR/Eritrea\",\"all/AFR/Democratic Republic of the Congo\",\"all/AFR/Cabo Verde\",\"all/AFR/Madagascar\",\"all/AFR/Mauritania\",\"all/SEA/Bangladesh\",\"all/AFR/Mozambique\",\"all/AFR/Comoros\",\"all/EMR/Afghanistan\",\"all/AMR/Guyana\",\"all/EMR/Sudan\",\"all/EMR/Somalia\",\"all/AFR/Guinea-Bissau\",\"all/WPR/Wallis and Futuna Islands\",\"all/AMR/Saint Lucia\",\"all/AMR/Grenada\",\"all/AFR/South Sudan\",\"all/AFR/Ethiopia\",\"all/AMR/Belize\",\"all/AMR/Puerto Rico\",\"all/AFR/Gambia\",\"all/AMR/Turks and Caicos Islands\",\"all/EMR/Saudi Arabia\",\"all/EUR/Turkmenistan\",\"all/EMR/United Arab Emirates\",\"all/AMR/Barbados\",\"all/AFR/Nigeria\",\"all/AMR/Dominica\",\"all/AMR/British Virgin Islands\",\"all/AMR/Saint Kitts and Nevis\",\"all/AMR/Montserrat\",\"all/EMR\",\"all/EUR\",\"all/AFR\",\"all/WPR\",\"all/EUR\",\"all/AFR\",\"all/AMR\",\"all/AMR\",\"all/AMR\",\"all/EUR\",\"all/AMR\",\"all/WPR\",\"all/EUR\",\"all/EUR\",\"all/AMR\",\"all/EMR\",\"all/SEA\",\"all/AMR\",\"all/EUR\",\"all/EUR\",\"all/AMR\",\"all/AFR\",\"all/AMR\",\"all/SEA\",\"all/AMR\",\"all/AMR\",\"all/EUR\",\"all/AFR\",\"all/AMR\",\"all/AMR\",\"all/WPR\",\"all/EUR\",\"all/AFR\",\"all/AFR\",\"all/AFR\",\"all/AFR\",\"all/AMR\",\"all/AMR\",\"all/AFR\",\"all/AFR\",\"all/AMR\",\"all/WPR\",\"all/WPR\",\"all/WPR\",\"all/AMR\",\"all/AFR\",\"all/AFR\",\"all/WPR\",\"all/AMR\",\"all/EUR\",\"all/AMR\",\"all/AMR\",\"all/EUR\",\"all/EUR\",\"all/AFR\",\"all/SEA\",\"all/AFR\",\"all/EUR\",\"all/AMR\",\"all/AMR\",\"all/AMR\",\"all/EMR\",\"all/AMR\",\"all/AFR\",\"all/AFR\",\"all/EUR\",\"all/AFR\",\"all/WPR\",\"all/EUR\",\"all/EUR\",\"all/WPR\",\"all/AFR\",\"all/AFR\",\"all/EUR\",\"all/EUR\",\"all/AFR\",\"all/EUR\",\"all/EUR\",\"all/AMR\",\"all/WPR\",\"all/AMR\",\"all/AFR\",\"all/AFR\",\"all/AMR\",\"all/AMR\",\"all/AMR\",\"all/EUR\",\"all/EUR\",\"all/SEA\",\"all/SEA\",\"all/EMR\",\"all/EMR\",\"all/EUR\",\"all/EUR\",\"all/EUR\",\"all/AMR\",\"all/WPR\",\"all/EMR\",\"all/EUR\",\"all/AFR\",\"all/EMR\",\"all/EUR\",\"all/WPR\",\"all/EUR\",\"all/EMR\",\"all/AFR\",\"all/AFR\",\"all/EMR\",\"all/EUR\",\"all/EUR\",\"all/AFR\",\"all/AFR\",\"all/WPR\",\"all/SEA\",\"all/AFR\",\"all/EUR\",\"all/WPR\",\"all/AFR\",\"all/AFR\",\"all/AMR\",\"all/WPR\",\"all/EUR\",\"all/WPR\",\"all/EUR\",\"all/AMR\",\"all/EMR\",\"all/AFR\",\"all/SEA\",\"all/AFR\",\"all/WPR\",\"all/SEA\",\"all/EUR\",\"all/AMR\",\"all/WPR\",\"all/WPR\",\"all/AMR\",\"all/AFR\",\"all/AFR\",\"all/WPR\",\"all/WPR\",\"all/EUR\",\"all/EMR\",\"all/EMR\",\"all/WPR\",\"all/AMR\",\"all/WPR\",\"all/AMR\",\"all/AMR\",\"all/WPR\",\"all/EUR\",\"all/EUR\",\"all/AMR\",\"all/EMR\",\"all/WPR\",\"all/EUR\",\"all/EUR\",\"all/EUR\",\"all/AFR\",\"all/AMR\",\"all/AMR\",\"all/AMR\",\"all/WPR\",\"all/EUR\",\"all/AFR\",\"all/EMR\",\"all/AFR\",\"all/EUR\",\"all/EUR\",\"all/AFR\",\"all/AFR\",\"all/WPR\",\"all/AMR\",\"all/EUR\",\"all/EUR\",\"all/WPR\",\"all/EMR\",\"all/AFR\",\"all/EUR\",\"all/SEA\",\"all/EMR\",\"all/AMR\",\"all/EUR\",\"all/EUR\",\"all/EMR\",\"all/EUR\",\"all/SEA\",\"all/EUR\",\"all/AFR\",\"all/WPR\",\"all/WPR\",\"all/AMR\",\"all/EMR\",\"all/EUR\",\"all/EUR\",\"all/AMR\",\"all/WPR\",\"all/AMR\",\"all/AFR\",\"all/EUR\",\"all/EMR\",\"all/EUR\",\"all/AFR\",\"all/AMR\",\"all/AMR\",\"all/EUR\",\"all/WPR\",\"all/AMR\",\"all/WPR\",\"all/WPR\",\"all/EMR\",\"all/EMR\",\"all/AFR\",\"all/AFR\",\"all\",\"all\",\"all\",\"all\",\"all\",\"all\",\"\"],\"values\":[0.0005104895104895105,0.00011123470522803115,1.939709997456118e-05,0.0005072226195466076,0.0002574901469785945,0.00010708610575625497,0.0001170699094671374,9.543337962222141e-05,0.0010990287624231465,8.985378386299179e-05,7.756920082660127e-05,0.00022687042353144874,0.0025360390521835825,0.0004889239792607911,0.0019679136367044005,0.0002678624044400872,0.0011653056720370778,0.0008260325820291655,0.00013314835771708797,7.711238783521237e-05,0.0002681083486283053,0.00013985883581505066,8.046712527976253e-05,0.0009855860127854104,0.0004723722778033478,0.00016519128178717532,0.0002627290340354204,0.0002913126255595086,6.253250268946609e-05,7.165484554335754e-05,7.112243092848135e-05,0.0005913073750627571,6.572225250314153e-05,0.00017422633410449606,0.00010947429384666182,0.0007404065815392591,0.0009382443681230445,0.000493336552518784,2.4318680447252255e-05,0.000525862893202027,0.00015556088724514306,0.000352209616379156,0.0002879558459786521,0.00011689731890342773,0.0005852753501043985,0.0010516900340152675,0.0014412527710114455,0.000434590012438587,0.00010589619190810458,7.101345639591572e-05,4.0618562465581235e-05,0.0005796715001608588,0.0007409522322914886,0.00031340329459186454,0.00019345238095238096,0.0006742890937192767,8.205205887550809e-05,0.0005490065041050089,0.00036622934574204527,0.0009987912356069076,0.0013123816648167132,0.001635607403542357,0.0003136592877434545,0.0012443207702253396,0.0005006712703699034,0.00029222798005610023,0.0001477782160952644,6.818613635789833e-05,0.0016460578576826936,0.00018664566833769843,0.0002300230802819537,0.001462017872193809,0.0006462669704919288,7.494564083877904e-05,0.00010887946234699325,9.804597031062024e-05,8.542299330710848e-05,0.0005880368316869527,0.005221831432854478,0.0018855775578802362,0.00012663650148495064,0.000381939187097003,0.00037380884772315106,0.0015851754392917437,0.0019828580122244997,0.0002733818789452422,0.0019895297680075654,0.0010341636915657559,0.0024567006510256726,8.111304697861461e-05,0.00010641766401117899,0.0022654252518636707,0.000694857337681905,0.0004418009083426675,0.0043702040948324535,0.00346338509279893,0.0012096452829260089,1.889644746787604e-05,6.63232595671302e-05,0.00024677788756229953,0.000278148039778782,0.00026166615663571636,0.0013027085734886687,0.00018416146157995616,0.0006145681914827322,0.00020003333888981496,0.0001872902774552223,9.42626665458171e-05,8.980246331748978e-05,0.0009284189026088571,0.0013445323096308787,0.0029309849320093787,0.0007050884141699791,0.0004022930705018606,0.0017257787861018202,0.0015434202981483534,0.0002534079299793671,0.00022808859624894775,0.003370328999136095,0.006266675986338646,7.923891026688655e-05,0.0006210906870039362,0.004370831149055996,6.722382979175517e-05,0.004238152895603862,0.0008308178016560968,3.641494833629205e-05,0.0007305050548546819,0.002122496313241891,0.003403926486300069,0.004939772770452559,0.0008491471420849041,0.0014923034004431126,0.0026074612019430414,0.0011399377179483194,3.6730383679466184e-06,0.0006719152204251477,0.00023746394715038925,0.00651235284796044,0.0032401782098015392,0.0010153176159316372,0.002072431864521246,0.0021657714975217173,0.00010316336387594137,0.0020764457959046925,0.0058024383401197935,0.0002641287518906569,0.002721462720897377,0.000706397373395682,0.004721613658683992,0.0008618023668407618,0.004099041898427438,0.002051894535451077,0.0042678397754459686,0.0014254380103736251,0.00020877589473519389,0.0025199998332923186,0.004694040735035708,0.0012497387663405256,0.0003098886714618151,6.560034651361118e-05,0.0011201839084335348,0.000826698145757394,0.00021837585332738337,0.004874642655457155,0.004332364255655414,0.0024690960698887008,0.004424699417360238,9.169897446762713e-05,0.0015702751402451984,0.00017935915458820107,0.002027240814532884,0.0002836551593721766,0.001041516612483354,0.000914934010384501,0.0019680134832539766,0.0010655327847970558,0.0029657644287023268,0.0011936654825431398,0.0007095033621590574,0.001531626911474333,0.005480371036523459,0.0024053061052682215,0.004143974588973337,0.002030910979259,0.004023117934023957,0.005419267011621076,0.0006123140436266952,0.003273143069018084,0.001250604980159152,0.0019228588032137344,0.00543085600866574,0.00516354653499623,0.00016576250753465944,8.778041728615867e-05,7.460079133497644e-05,0.002832817804755646,0.0021253814368930256,0.0003916842422416391,1.8978840761561232e-05,0.0012437239257334593,0.00020242914979757087,0.00015956227212513013,0.0010305201913256153,2.7819003996199926e-05,2.8105282387824793e-05,0.003283119933897548,7.221921308834354e-05,7.05691401150277e-05,1.8453248694432656e-05,0.0,0.003273143069018084,0.0002678624044400872,0.0012497387663405256,9.42626665458171e-05,8.205205887550809e-05,0.004238152895603862,0.0005104895104895105,0.00020003333888981496,0.0003136592877434545,0.0006719152204251477,0.00016519128178717532,7.711238783521237e-05,0.00010947429384666182,0.0010516900340152675,9.804597031062024e-05,0.0002627290340354204,0.004023117934023957,2.8105282387824793e-05,0.0010153176159316372,0.0001170699094671374,0.0003916842422416391,0.0010655327847970558,3.6730383679466184e-06,0.0019895297680075654,0.0019679136367044005,0.0,0.0007050884141699791,0.00346338509279893,0.0005490065041050089,7.05691401150277e-05,0.0006462669704919288,0.00037380884772315106,0.000826698145757394,0.0019680134832539766,0.0024053061052682215,0.0029657644287023268,6.253250268946609e-05,0.00011123470522803115,0.004332364255655414,0.002027240814532884,0.0001872902774552223,0.0009382443681230445,0.0009855860127854104,0.0011653056720370778,0.000434590012438587,0.0006123140436266952,0.004721613658683992,0.00017935915458820107,0.0001477782160952644,0.00018416146157995616,0.00013314835771708797,1.889644746787604e-05,6.572225250314153e-05,7.101345639591572e-05,0.0021657714975217173,0.005221831432854478,0.005480371036523459,8.542299330710848e-05,7.221921308834354e-05,0.0007305050548546819,0.0008260325820291655,0.0002681083486283053,0.0004889239792607911,0.0015851754392917437,0.001531626911474333,0.0002641287518906569,0.0021253814368930256,0.0009987912356069076,6.818613635789833e-05,0.00010887946234699325,0.000278148039778782,0.0058024383401197935,0.0012437239257334593,0.001635607403542357,7.494564083877904e-05,0.000694857337681905,6.560034651361118e-05,0.0024567006510256726,7.460079133497644e-05,0.0004723722778033478,0.0010990287624231465,0.0024690960698887008,0.00516354653499623,0.001250604980159152,0.0025199998332923186,0.0007409522322914886,0.0002913126255595086,3.641494833629205e-05,0.0020764457959046925,0.002721462720897377,0.0003098886714618151,0.0007404065815392591,0.00010589619190810458,7.112243092848135e-05,6.722382979175517e-05,8.980246331748978e-05,0.00022808859624894775,8.111304697861461e-05,0.0018855775578802362,0.0029309849320093787,0.0002879558459786521,0.0019828580122244997,0.004874642655457155,0.0005852753501043985,0.00018664566833769843,0.006266675986338646,0.004424699417360238,0.0007095033621590574,0.0008618023668407618,0.00011689731890342773,0.004143974588973337,0.0013445323096308787,0.0013123816648167132,0.0005796715001608588,0.000914934010384501,0.00013985883581505066,0.004939772770452559,0.002030910979259,0.00031340329459186454,0.0002534079299793671,0.0026074612019430414,2.4318680447252255e-05,0.0025360390521835825,0.0002574901469785945,0.0,0.0013027085734886687,0.005419267011621076,0.004694040735035708,0.00651235284796044,0.000706397373395682,0.002122496313241891,7.756920082660127e-05,7.923891026688655e-05,0.0002300230802819537,9.543337962222141e-05,0.0006742890937192767,0.0015702751402451984,0.003283119933897548,0.00019345238095238096,0.0009284189026088571,0.00010708610575625497,0.00012663650148495064,0.003403926486300069,0.000525862893202027,0.0006210906870039362,0.004370831149055996,0.0005880368316869527,0.0016460578576826936,0.0043702040948324535,0.00026166615663571636,0.00029222798005610023,1.8978840761561232e-05,0.0005072226195466076,0.0014412527710114455,0.0022654252518636707,0.0012443207702253396,0.0011201839084335348,0.0008491471420849041,1.8453248694432656e-05,8.778041728615867e-05,0.0004022930705018606,0.0002836551593721766,1.939709997456118e-05,0.0011399377179483194,0.00015956227212513013,0.002051894535451077,0.0002733818789452422,0.0004418009083426675,0.00036622934574204527,0.0042678397754459686,0.0005913073750627571,6.63232595671302e-05,0.00010641766401117899,9.169897446762713e-05,0.0014254380103736251,0.00543085600866574,0.002832817804755646,0.00015556088724514306,0.0010341636915657559,0.0019228588032137344,0.0005006712703699034,8.985378386299179e-05,8.046712527976253e-05,0.00023746394715038925,0.001462017872193809,0.0014923034004431126,0.00024677788756229953,0.001041516612483354,0.0,0.00021837585332738337,0.00020877589473519389,0.000381939187097003,0.00022687042353144874,0.0010305201913256153,0.00020242914979757087,0.0032401782098015392,0.00010316336387594137,0.0015434202981483534,0.0011936654825431398,2.7819003996199926e-05,0.00017422633410449606,0.0017257787861018202,4.0618562465581235e-05,0.000352209616379156,0.0012096452829260089,0.0008308178016560968,0.000493336552518784,0.002072431864521246,0.00016576250753465944,7.165484554335754e-05,0.0006145681914827322,0.003370328999136095,0.004099041898427438,0.12058119637314277,0.019643666201577897,0.02030671006823149,0.02807147682102824,0.025955063292135396,0.044023677533310226,0.258581790289426],\"type\":\"treemap\"}],                        {\"template\":{\"data\":{\"histogram2dcontour\":[{\"type\":\"histogram2dcontour\",\"colorbar\":{\"outlinewidth\":0,\"ticks\":\"\"},\"colorscale\":[[0.0,\"#0d0887\"],[0.1111111111111111,\"#46039f\"],[0.2222222222222222,\"#7201a8\"],[0.3333333333333333,\"#9c179e\"],[0.4444444444444444,\"#bd3786\"],[0.5555555555555556,\"#d8576b\"],[0.6666666666666666,\"#ed7953\"],[0.7777777777777778,\"#fb9f3a\"],[0.8888888888888888,\"#fdca26\"],[1.0,\"#f0f921\"]]}],\"choropleth\":[{\"type\":\"choropleth\",\"colorbar\":{\"outlinewidth\":0,\"ticks\":\"\"}}],\"histogram2d\":[{\"type\":\"histogram2d\",\"colorbar\":{\"outlinewidth\":0,\"ticks\":\"\"},\"colorscale\":[[0.0,\"#0d0887\"],[0.1111111111111111,\"#46039f\"],[0.2222222222222222,\"#7201a8\"],[0.3333333333333333,\"#9c179e\"],[0.4444444444444444,\"#bd3786\"],[0.5555555555555556,\"#d8576b\"],[0.6666666666666666,\"#ed7953\"],[0.7777777777777778,\"#fb9f3a\"],[0.8888888888888888,\"#fdca26\"],[1.0,\"#f0f921\"]]}],\"heatmap\":[{\"type\":\"heatmap\",\"colorbar\":{\"outlinewidth\":0,\"ticks\":\"\"},\"colorscale\":[[0.0,\"#0d0887\"],[0.1111111111111111,\"#46039f\"],[0.2222222222222222,\"#7201a8\"],[0.3333333333333333,\"#9c179e\"],[0.4444444444444444,\"#bd3786\"],[0.5555555555555556,\"#d8576b\"],[0.6666666666666666,\"#ed7953\"],[0.7777777777777778,\"#fb9f3a\"],[0.8888888888888888,\"#fdca26\"],[1.0,\"#f0f921\"]]}],\"heatmapgl\":[{\"type\":\"heatmapgl\",\"colorbar\":{\"outlinewidth\":0,\"ticks\":\"\"},\"colorscale\":[[0.0,\"#0d0887\"],[0.1111111111111111,\"#46039f\"],[0.2222222222222222,\"#7201a8\"],[0.3333333333333333,\"#9c179e\"],[0.4444444444444444,\"#bd3786\"],[0.5555555555555556,\"#d8576b\"],[0.6666666666666666,\"#ed7953\"],[0.7777777777777778,\"#fb9f3a\"],[0.8888888888888888,\"#fdca26\"],[1.0,\"#f0f921\"]]}],\"contourcarpet\":[{\"type\":\"contourcarpet\",\"colorbar\":{\"outlinewidth\":0,\"ticks\":\"\"}}],\"contour\":[{\"type\":\"contour\",\"colorbar\":{\"outlinewidth\":0,\"ticks\":\"\"},\"colorscale\":[[0.0,\"#0d0887\"],[0.1111111111111111,\"#46039f\"],[0.2222222222222222,\"#7201a8\"],[0.3333333333333333,\"#9c179e\"],[0.4444444444444444,\"#bd3786\"],[0.5555555555555556,\"#d8576b\"],[0.6666666666666666,\"#ed7953\"],[0.7777777777777778,\"#fb9f3a\"],[0.8888888888888888,\"#fdca26\"],[1.0,\"#f0f921\"]]}],\"surface\":[{\"type\":\"surface\",\"colorbar\":{\"outlinewidth\":0,\"ticks\":\"\"},\"colorscale\":[[0.0,\"#0d0887\"],[0.1111111111111111,\"#46039f\"],[0.2222222222222222,\"#7201a8\"],[0.3333333333333333,\"#9c179e\"],[0.4444444444444444,\"#bd3786\"],[0.5555555555555556,\"#d8576b\"],[0.6666666666666666,\"#ed7953\"],[0.7777777777777778,\"#fb9f3a\"],[0.8888888888888888,\"#fdca26\"],[1.0,\"#f0f921\"]]}],\"mesh3d\":[{\"type\":\"mesh3d\",\"colorbar\":{\"outlinewidth\":0,\"ticks\":\"\"}}],\"scatter\":[{\"fillpattern\":{\"fillmode\":\"overlay\",\"size\":10,\"solidity\":0.2},\"type\":\"scatter\"}],\"parcoords\":[{\"type\":\"parcoords\",\"line\":{\"colorbar\":{\"outlinewidth\":0,\"ticks\":\"\"}}}],\"scatterpolargl\":[{\"type\":\"scatterpolargl\",\"marker\":{\"colorbar\":{\"outlinewidth\":0,\"ticks\":\"\"}}}],\"bar\":[{\"error_x\":{\"color\":\"#2a3f5f\"},\"error_y\":{\"color\":\"#2a3f5f\"},\"marker\":{\"line\":{\"color\":\"#E5ECF6\",\"width\":0.5},\"pattern\":{\"fillmode\":\"overlay\",\"size\":10,\"solidity\":0.2}},\"type\":\"bar\"}],\"scattergeo\":[{\"type\":\"scattergeo\",\"marker\":{\"colorbar\":{\"outlinewidth\":0,\"ticks\":\"\"}}}],\"scatterpolar\":[{\"type\":\"scatterpolar\",\"marker\":{\"colorbar\":{\"outlinewidth\":0,\"ticks\":\"\"}}}],\"histogram\":[{\"marker\":{\"pattern\":{\"fillmode\":\"overlay\",\"size\":10,\"solidity\":0.2}},\"type\":\"histogram\"}],\"scattergl\":[{\"type\":\"scattergl\",\"marker\":{\"colorbar\":{\"outlinewidth\":0,\"ticks\":\"\"}}}],\"scatter3d\":[{\"type\":\"scatter3d\",\"line\":{\"colorbar\":{\"outlinewidth\":0,\"ticks\":\"\"}},\"marker\":{\"colorbar\":{\"outlinewidth\":0,\"ticks\":\"\"}}}],\"scattermapbox\":[{\"type\":\"scattermapbox\",\"marker\":{\"colorbar\":{\"outlinewidth\":0,\"ticks\":\"\"}}}],\"scatterternary\":[{\"type\":\"scatterternary\",\"marker\":{\"colorbar\":{\"outlinewidth\":0,\"ticks\":\"\"}}}],\"scattercarpet\":[{\"type\":\"scattercarpet\",\"marker\":{\"colorbar\":{\"outlinewidth\":0,\"ticks\":\"\"}}}],\"carpet\":[{\"aaxis\":{\"endlinecolor\":\"#2a3f5f\",\"gridcolor\":\"white\",\"linecolor\":\"white\",\"minorgridcolor\":\"white\",\"startlinecolor\":\"#2a3f5f\"},\"baxis\":{\"endlinecolor\":\"#2a3f5f\",\"gridcolor\":\"white\",\"linecolor\":\"white\",\"minorgridcolor\":\"white\",\"startlinecolor\":\"#2a3f5f\"},\"type\":\"carpet\"}],\"table\":[{\"cells\":{\"fill\":{\"color\":\"#EBF0F8\"},\"line\":{\"color\":\"white\"}},\"header\":{\"fill\":{\"color\":\"#C8D4E3\"},\"line\":{\"color\":\"white\"}},\"type\":\"table\"}],\"barpolar\":[{\"marker\":{\"line\":{\"color\":\"#E5ECF6\",\"width\":0.5},\"pattern\":{\"fillmode\":\"overlay\",\"size\":10,\"solidity\":0.2}},\"type\":\"barpolar\"}],\"pie\":[{\"automargin\":true,\"type\":\"pie\"}]},\"layout\":{\"autotypenumbers\":\"strict\",\"colorway\":[\"#636efa\",\"#EF553B\",\"#00cc96\",\"#ab63fa\",\"#FFA15A\",\"#19d3f3\",\"#FF6692\",\"#B6E880\",\"#FF97FF\",\"#FECB52\"],\"font\":{\"color\":\"#2a3f5f\"},\"hovermode\":\"closest\",\"hoverlabel\":{\"align\":\"left\"},\"paper_bgcolor\":\"white\",\"plot_bgcolor\":\"#E5ECF6\",\"polar\":{\"bgcolor\":\"#E5ECF6\",\"angularaxis\":{\"gridcolor\":\"white\",\"linecolor\":\"white\",\"ticks\":\"\"},\"radialaxis\":{\"gridcolor\":\"white\",\"linecolor\":\"white\",\"ticks\":\"\"}},\"ternary\":{\"bgcolor\":\"#E5ECF6\",\"aaxis\":{\"gridcolor\":\"white\",\"linecolor\":\"white\",\"ticks\":\"\"},\"baxis\":{\"gridcolor\":\"white\",\"linecolor\":\"white\",\"ticks\":\"\"},\"caxis\":{\"gridcolor\":\"white\",\"linecolor\":\"white\",\"ticks\":\"\"}},\"coloraxis\":{\"colorbar\":{\"outlinewidth\":0,\"ticks\":\"\"}},\"colorscale\":{\"sequential\":[[0.0,\"#0d0887\"],[0.1111111111111111,\"#46039f\"],[0.2222222222222222,\"#7201a8\"],[0.3333333333333333,\"#9c179e\"],[0.4444444444444444,\"#bd3786\"],[0.5555555555555556,\"#d8576b\"],[0.6666666666666666,\"#ed7953\"],[0.7777777777777778,\"#fb9f3a\"],[0.8888888888888888,\"#fdca26\"],[1.0,\"#f0f921\"]],\"sequentialminus\":[[0.0,\"#0d0887\"],[0.1111111111111111,\"#46039f\"],[0.2222222222222222,\"#7201a8\"],[0.3333333333333333,\"#9c179e\"],[0.4444444444444444,\"#bd3786\"],[0.5555555555555556,\"#d8576b\"],[0.6666666666666666,\"#ed7953\"],[0.7777777777777778,\"#fb9f3a\"],[0.8888888888888888,\"#fdca26\"],[1.0,\"#f0f921\"]],\"diverging\":[[0,\"#8e0152\"],[0.1,\"#c51b7d\"],[0.2,\"#de77ae\"],[0.3,\"#f1b6da\"],[0.4,\"#fde0ef\"],[0.5,\"#f7f7f7\"],[0.6,\"#e6f5d0\"],[0.7,\"#b8e186\"],[0.8,\"#7fbc41\"],[0.9,\"#4d9221\"],[1,\"#276419\"]]},\"xaxis\":{\"gridcolor\":\"white\",\"linecolor\":\"white\",\"ticks\":\"\",\"title\":{\"standoff\":15},\"zerolinecolor\":\"white\",\"automargin\":true,\"zerolinewidth\":2},\"yaxis\":{\"gridcolor\":\"white\",\"linecolor\":\"white\",\"ticks\":\"\",\"title\":{\"standoff\":15},\"zerolinecolor\":\"white\",\"automargin\":true,\"zerolinewidth\":2},\"scene\":{\"xaxis\":{\"backgroundcolor\":\"#E5ECF6\",\"gridcolor\":\"white\",\"linecolor\":\"white\",\"showbackground\":true,\"ticks\":\"\",\"zerolinecolor\":\"white\",\"gridwidth\":2},\"yaxis\":{\"backgroundcolor\":\"#E5ECF6\",\"gridcolor\":\"white\",\"linecolor\":\"white\",\"showbackground\":true,\"ticks\":\"\",\"zerolinecolor\":\"white\",\"gridwidth\":2},\"zaxis\":{\"backgroundcolor\":\"#E5ECF6\",\"gridcolor\":\"white\",\"linecolor\":\"white\",\"showbackground\":true,\"ticks\":\"\",\"zerolinecolor\":\"white\",\"gridwidth\":2}},\"shapedefaults\":{\"line\":{\"color\":\"#2a3f5f\"}},\"annotationdefaults\":{\"arrowcolor\":\"#2a3f5f\",\"arrowhead\":0,\"arrowwidth\":1},\"geo\":{\"bgcolor\":\"white\",\"landcolor\":\"#E5ECF6\",\"subunitcolor\":\"white\",\"showland\":true,\"showlakes\":true,\"lakecolor\":\"white\"},\"title\":{\"x\":0.05},\"mapbox\":{\"style\":\"light\"}}},\"legend\":{\"tracegroupgap\":0},\"margin\":{\"t\":60}},                        {\"responsive\": true}                    ).then(function(){\n",
       "                            \n",
       "var gd = document.getElementById('16a97571-9c20-4543-b3c4-b24e0b27a662');\n",
       "var x = new MutationObserver(function (mutations, observer) {{\n",
       "        var display = window.getComputedStyle(gd).display;\n",
       "        if (!display || display === 'none') {{\n",
       "            console.log([gd, 'removed!']);\n",
       "            Plotly.purge(gd);\n",
       "            observer.disconnect();\n",
       "        }}\n",
       "}});\n",
       "\n",
       "// Listen for the removal of the full notebook cells\n",
       "var notebookContainer = gd.closest('#notebook-container');\n",
       "if (notebookContainer) {{\n",
       "    x.observe(notebookContainer, {childList: true});\n",
       "}}\n",
       "\n",
       "// Listen for the clearing of the current output cell\n",
       "var outputEl = gd.closest('.output');\n",
       "if (outputEl) {{\n",
       "    x.observe(outputEl, {childList: true});\n",
       "}}\n",
       "\n",
       "                        })                };                });            </script>        </div>"
      ]
     },
     "metadata": {},
     "output_type": "display_data"
    }
   ],
   "source": [
    "# let's compare actuals with ratio (prevelence to population) to assess magnitude\n",
    "fig = px.treemap(no_outliers, path=[px.Constant(\"all\"), 'region', 'country', 'tb_death_ratio_to_prev'], values='tb_prev_ratio', hover_data=['tb_prev_ratio'])\n",
    "fig\n",
    "#SEA is no longer the leader... more TB in Africa while not as many deaths as in SEA (!!! ADD COUNTRY as nested filter)"
   ]
  },
  {
   "cell_type": "code",
   "execution_count": 41,
   "id": "0ae94245",
   "metadata": {},
   "outputs": [
    {
     "data": {
      "text/html": [
       "<div>\n",
       "<style scoped>\n",
       "    .dataframe tbody tr th:only-of-type {\n",
       "        vertical-align: middle;\n",
       "    }\n",
       "\n",
       "    .dataframe tbody tr th {\n",
       "        vertical-align: top;\n",
       "    }\n",
       "\n",
       "    .dataframe thead th {\n",
       "        text-align: right;\n",
       "    }\n",
       "</style>\n",
       "<table border=\"1\" class=\"dataframe\">\n",
       "  <thead>\n",
       "    <tr style=\"text-align: right;\">\n",
       "      <th></th>\n",
       "      <th>country</th>\n",
       "      <th>country_code</th>\n",
       "      <th>region</th>\n",
       "      <th>year</th>\n",
       "      <th>population</th>\n",
       "      <th>tb_prevalence_all_forms</th>\n",
       "      <th>tb_deaths_exc_hiv</th>\n",
       "      <th>tb_death_hiv</th>\n",
       "      <th>num_incidents_all_forms</th>\n",
       "      <th>tb_prev_ratio</th>\n",
       "      <th>tb_death_ratio_to_prev</th>\n",
       "      <th>regions_grouped_total_deaths</th>\n",
       "    </tr>\n",
       "  </thead>\n",
       "  <tbody>\n",
       "    <tr>\n",
       "      <th>140</th>\n",
       "      <td>Nigeria</td>\n",
       "      <td>NGA</td>\n",
       "      <td>AFR</td>\n",
       "      <td>1970-01-01 00:00:00.000002013</td>\n",
       "      <td>173615345</td>\n",
       "      <td>570000.0</td>\n",
       "      <td>160000.0</td>\n",
       "      <td>85000.0</td>\n",
       "      <td>590000.0</td>\n",
       "      <td>0.003283</td>\n",
       "      <td>0.280702</td>\n",
       "      <td>362409.4</td>\n",
       "    </tr>\n",
       "    <tr>\n",
       "      <th>57</th>\n",
       "      <td>Democratic Republic of the Congo</td>\n",
       "      <td>COD</td>\n",
       "      <td>AFR</td>\n",
       "      <td>1970-01-01 00:00:00.000002013</td>\n",
       "      <td>67513677</td>\n",
       "      <td>370000.0</td>\n",
       "      <td>46000.0</td>\n",
       "      <td>6400.0</td>\n",
       "      <td>220000.0</td>\n",
       "      <td>0.005480</td>\n",
       "      <td>0.124324</td>\n",
       "      <td>362409.4</td>\n",
       "    </tr>\n",
       "    <tr>\n",
       "      <th>68</th>\n",
       "      <td>Ethiopia</td>\n",
       "      <td>ETH</td>\n",
       "      <td>AFR</td>\n",
       "      <td>1970-01-01 00:00:00.000002013</td>\n",
       "      <td>94100756</td>\n",
       "      <td>200000.0</td>\n",
       "      <td>30000.0</td>\n",
       "      <td>5600.0</td>\n",
       "      <td>210000.0</td>\n",
       "      <td>0.002125</td>\n",
       "      <td>0.150000</td>\n",
       "      <td>362409.4</td>\n",
       "    </tr>\n",
       "    <tr>\n",
       "      <th>129</th>\n",
       "      <td>Mozambique</td>\n",
       "      <td>MOZ</td>\n",
       "      <td>AFR</td>\n",
       "      <td>1970-01-01 00:00:00.000002013</td>\n",
       "      <td>25833752</td>\n",
       "      <td>140000.0</td>\n",
       "      <td>18000.0</td>\n",
       "      <td>38000.0</td>\n",
       "      <td>140000.0</td>\n",
       "      <td>0.005419</td>\n",
       "      <td>0.128571</td>\n",
       "      <td>362409.4</td>\n",
       "    </tr>\n",
       "    <tr>\n",
       "      <th>101</th>\n",
       "      <td>Kenya</td>\n",
       "      <td>KEN</td>\n",
       "      <td>AFR</td>\n",
       "      <td>1970-01-01 00:00:00.000002013</td>\n",
       "      <td>44353691</td>\n",
       "      <td>130000.0</td>\n",
       "      <td>9100.0</td>\n",
       "      <td>9500.0</td>\n",
       "      <td>120000.0</td>\n",
       "      <td>0.002931</td>\n",
       "      <td>0.070000</td>\n",
       "      <td>362409.4</td>\n",
       "    </tr>\n",
       "    <tr>\n",
       "      <th>113</th>\n",
       "      <td>Madagascar</td>\n",
       "      <td>MDG</td>\n",
       "      <td>AFR</td>\n",
       "      <td>1970-01-01 00:00:00.000002013</td>\n",
       "      <td>22924851</td>\n",
       "      <td>95000.0</td>\n",
       "      <td>12000.0</td>\n",
       "      <td>430.0</td>\n",
       "      <td>53000.0</td>\n",
       "      <td>0.004144</td>\n",
       "      <td>0.126316</td>\n",
       "      <td>362409.4</td>\n",
       "    </tr>\n",
       "    <tr>\n",
       "      <th>5</th>\n",
       "      <td>Angola</td>\n",
       "      <td>AGO</td>\n",
       "      <td>AFR</td>\n",
       "      <td>1970-01-01 00:00:00.000002013</td>\n",
       "      <td>21471618</td>\n",
       "      <td>91000.0</td>\n",
       "      <td>6900.0</td>\n",
       "      <td>1600.0</td>\n",
       "      <td>69000.0</td>\n",
       "      <td>0.004238</td>\n",
       "      <td>0.075824</td>\n",
       "      <td>362409.4</td>\n",
       "    </tr>\n",
       "    <tr>\n",
       "      <th>206</th>\n",
       "      <td>United Republic of Tanzania</td>\n",
       "      <td>TZA</td>\n",
       "      <td>AFR</td>\n",
       "      <td>1970-01-01 00:00:00.000002013</td>\n",
       "      <td>49253126</td>\n",
       "      <td>85000.0</td>\n",
       "      <td>6000.0</td>\n",
       "      <td>6100.0</td>\n",
       "      <td>81000.0</td>\n",
       "      <td>0.001726</td>\n",
       "      <td>0.070588</td>\n",
       "      <td>362409.4</td>\n",
       "    </tr>\n",
       "    <tr>\n",
       "      <th>36</th>\n",
       "      <td>Cameroon</td>\n",
       "      <td>CMR</td>\n",
       "      <td>AFR</td>\n",
       "      <td>1970-01-01 00:00:00.000002013</td>\n",
       "      <td>22253959</td>\n",
       "      <td>66000.0</td>\n",
       "      <td>7800.0</td>\n",
       "      <td>7900.0</td>\n",
       "      <td>52000.0</td>\n",
       "      <td>0.002966</td>\n",
       "      <td>0.118182</td>\n",
       "      <td>362409.4</td>\n",
       "    </tr>\n",
       "    <tr>\n",
       "      <th>202</th>\n",
       "      <td>Uganda</td>\n",
       "      <td>UGA</td>\n",
       "      <td>AFR</td>\n",
       "      <td>1970-01-01 00:00:00.000002013</td>\n",
       "      <td>37578876</td>\n",
       "      <td>58000.0</td>\n",
       "      <td>4100.0</td>\n",
       "      <td>7200.0</td>\n",
       "      <td>62000.0</td>\n",
       "      <td>0.001543</td>\n",
       "      <td>0.070690</td>\n",
       "      <td>362409.4</td>\n",
       "    </tr>\n",
       "    <tr>\n",
       "      <th>218</th>\n",
       "      <td>Zimbabwe</td>\n",
       "      <td>ZWE</td>\n",
       "      <td>AFR</td>\n",
       "      <td>1970-01-01 00:00:00.000002013</td>\n",
       "      <td>14149648</td>\n",
       "      <td>58000.0</td>\n",
       "      <td>5700.0</td>\n",
       "      <td>22000.0</td>\n",
       "      <td>78000.0</td>\n",
       "      <td>0.004099</td>\n",
       "      <td>0.098276</td>\n",
       "      <td>362409.4</td>\n",
       "    </tr>\n",
       "    <tr>\n",
       "      <th>217</th>\n",
       "      <td>Zambia</td>\n",
       "      <td>ZMB</td>\n",
       "      <td>AFR</td>\n",
       "      <td>1970-01-01 00:00:00.000002013</td>\n",
       "      <td>14538640</td>\n",
       "      <td>49000.0</td>\n",
       "      <td>3600.0</td>\n",
       "      <td>8600.0</td>\n",
       "      <td>60000.0</td>\n",
       "      <td>0.003370</td>\n",
       "      <td>0.073469</td>\n",
       "      <td>362409.4</td>\n",
       "    </tr>\n",
       "    <tr>\n",
       "      <th>2</th>\n",
       "      <td>Algeria</td>\n",
       "      <td>DZA</td>\n",
       "      <td>AFR</td>\n",
       "      <td>1970-01-01 00:00:00.000002013</td>\n",
       "      <td>39208194</td>\n",
       "      <td>49000.0</td>\n",
       "      <td>5100.0</td>\n",
       "      <td>35.0</td>\n",
       "      <td>32000.0</td>\n",
       "      <td>0.001250</td>\n",
       "      <td>0.104082</td>\n",
       "      <td>362409.4</td>\n",
       "    </tr>\n",
       "    <tr>\n",
       "      <th>50</th>\n",
       "      <td>Côte d'Ivoire</td>\n",
       "      <td>CIV</td>\n",
       "      <td>AFR</td>\n",
       "      <td>1970-01-01 00:00:00.000002013</td>\n",
       "      <td>20316086</td>\n",
       "      <td>44000.0</td>\n",
       "      <td>4000.0</td>\n",
       "      <td>2100.0</td>\n",
       "      <td>35000.0</td>\n",
       "      <td>0.002166</td>\n",
       "      <td>0.090909</td>\n",
       "      <td>362409.4</td>\n",
       "    </tr>\n",
       "    <tr>\n",
       "      <th>180</th>\n",
       "      <td>South Sudan</td>\n",
       "      <td>SSD</td>\n",
       "      <td>AFR</td>\n",
       "      <td>1970-01-01 00:00:00.000002013</td>\n",
       "      <td>11296173</td>\n",
       "      <td>32000.0</td>\n",
       "      <td>4500.0</td>\n",
       "      <td>0.0</td>\n",
       "      <td>17000.0</td>\n",
       "      <td>0.002833</td>\n",
       "      <td>0.140625</td>\n",
       "      <td>362409.4</td>\n",
       "    </tr>\n",
       "    <tr>\n",
       "      <th>168</th>\n",
       "      <td>Senegal</td>\n",
       "      <td>SEN</td>\n",
       "      <td>AFR</td>\n",
       "      <td>1970-01-01 00:00:00.000002013</td>\n",
       "      <td>14133280</td>\n",
       "      <td>29000.0</td>\n",
       "      <td>2900.0</td>\n",
       "      <td>420.0</td>\n",
       "      <td>19000.0</td>\n",
       "      <td>0.002052</td>\n",
       "      <td>0.100000</td>\n",
       "      <td>362409.4</td>\n",
       "    </tr>\n",
       "    <tr>\n",
       "      <th>83</th>\n",
       "      <td>Guinea</td>\n",
       "      <td>GIN</td>\n",
       "      <td>AFR</td>\n",
       "      <td>1970-01-01 00:00:00.000002013</td>\n",
       "      <td>11745189</td>\n",
       "      <td>29000.0</td>\n",
       "      <td>3200.0</td>\n",
       "      <td>1700.0</td>\n",
       "      <td>21000.0</td>\n",
       "      <td>0.002469</td>\n",
       "      <td>0.110345</td>\n",
       "      <td>362409.4</td>\n",
       "    </tr>\n",
       "    <tr>\n",
       "      <th>139</th>\n",
       "      <td>Niger</td>\n",
       "      <td>NER</td>\n",
       "      <td>AFR</td>\n",
       "      <td>1970-01-01 00:00:00.000002013</td>\n",
       "      <td>17831270</td>\n",
       "      <td>28000.0</td>\n",
       "      <td>3100.0</td>\n",
       "      <td>370.0</td>\n",
       "      <td>18000.0</td>\n",
       "      <td>0.001570</td>\n",
       "      <td>0.110714</td>\n",
       "      <td>362409.4</td>\n",
       "    </tr>\n",
       "    <tr>\n",
       "      <th>40</th>\n",
       "      <td>Chad</td>\n",
       "      <td>TCD</td>\n",
       "      <td>AFR</td>\n",
       "      <td>1970-01-01 00:00:00.000002013</td>\n",
       "      <td>12825314</td>\n",
       "      <td>26000.0</td>\n",
       "      <td>2900.0</td>\n",
       "      <td>1500.0</td>\n",
       "      <td>19000.0</td>\n",
       "      <td>0.002027</td>\n",
       "      <td>0.111538</td>\n",
       "      <td>362409.4</td>\n",
       "    </tr>\n",
       "    <tr>\n",
       "      <th>172</th>\n",
       "      <td>Sierra Leone</td>\n",
       "      <td>SLE</td>\n",
       "      <td>AFR</td>\n",
       "      <td>1970-01-01 00:00:00.000002013</td>\n",
       "      <td>6092075</td>\n",
       "      <td>26000.0</td>\n",
       "      <td>2600.0</td>\n",
       "      <td>610.0</td>\n",
       "      <td>19000.0</td>\n",
       "      <td>0.004268</td>\n",
       "      <td>0.100000</td>\n",
       "      <td>362409.4</td>\n",
       "    </tr>\n",
       "    <tr>\n",
       "      <th>114</th>\n",
       "      <td>Malawi</td>\n",
       "      <td>MWI</td>\n",
       "      <td>AFR</td>\n",
       "      <td>1970-01-01 00:00:00.000002013</td>\n",
       "      <td>16362567</td>\n",
       "      <td>22000.0</td>\n",
       "      <td>1500.0</td>\n",
       "      <td>3400.0</td>\n",
       "      <td>26000.0</td>\n",
       "      <td>0.001345</td>\n",
       "      <td>0.068182</td>\n",
       "      <td>362409.4</td>\n",
       "    </tr>\n",
       "    <tr>\n",
       "      <th>47</th>\n",
       "      <td>Congo</td>\n",
       "      <td>COG</td>\n",
       "      <td>AFR</td>\n",
       "      <td>1970-01-01 00:00:00.000002013</td>\n",
       "      <td>4447632</td>\n",
       "      <td>21000.0</td>\n",
       "      <td>2000.0</td>\n",
       "      <td>1600.0</td>\n",
       "      <td>17000.0</td>\n",
       "      <td>0.004722</td>\n",
       "      <td>0.095238</td>\n",
       "      <td>362409.4</td>\n",
       "    </tr>\n",
       "    <tr>\n",
       "      <th>39</th>\n",
       "      <td>Central African Republic</td>\n",
       "      <td>CAF</td>\n",
       "      <td>AFR</td>\n",
       "      <td>1970-01-01 00:00:00.000002013</td>\n",
       "      <td>4616417</td>\n",
       "      <td>20000.0</td>\n",
       "      <td>2200.0</td>\n",
       "      <td>2800.0</td>\n",
       "      <td>17000.0</td>\n",
       "      <td>0.004332</td>\n",
       "      <td>0.110000</td>\n",
       "      <td>362409.4</td>\n",
       "    </tr>\n",
       "    <tr>\n",
       "      <th>33</th>\n",
       "      <td>Burundi</td>\n",
       "      <td>BDI</td>\n",
       "      <td>AFR</td>\n",
       "      <td>1970-01-01 00:00:00.000002013</td>\n",
       "      <td>10162532</td>\n",
       "      <td>20000.0</td>\n",
       "      <td>2300.0</td>\n",
       "      <td>600.0</td>\n",
       "      <td>13000.0</td>\n",
       "      <td>0.001968</td>\n",
       "      <td>0.115000</td>\n",
       "      <td>362409.4</td>\n",
       "    </tr>\n",
       "    <tr>\n",
       "      <th>109</th>\n",
       "      <td>Liberia</td>\n",
       "      <td>LBR</td>\n",
       "      <td>AFR</td>\n",
       "      <td>1970-01-01 00:00:00.000002013</td>\n",
       "      <td>4294077</td>\n",
       "      <td>19000.0</td>\n",
       "      <td>2100.0</td>\n",
       "      <td>650.0</td>\n",
       "      <td>13000.0</td>\n",
       "      <td>0.004425</td>\n",
       "      <td>0.110526</td>\n",
       "      <td>362409.4</td>\n",
       "    </tr>\n",
       "    <tr>\n",
       "      <th>77</th>\n",
       "      <td>Ghana</td>\n",
       "      <td>GHA</td>\n",
       "      <td>AFR</td>\n",
       "      <td>1970-01-01 00:00:00.000002013</td>\n",
       "      <td>25904598</td>\n",
       "      <td>18000.0</td>\n",
       "      <td>1100.0</td>\n",
       "      <td>520.0</td>\n",
       "      <td>17000.0</td>\n",
       "      <td>0.000695</td>\n",
       "      <td>0.061111</td>\n",
       "      <td>362409.4</td>\n",
       "    </tr>\n",
       "    <tr>\n",
       "      <th>131</th>\n",
       "      <td>Namibia</td>\n",
       "      <td>NAM</td>\n",
       "      <td>AFR</td>\n",
       "      <td>1970-01-01 00:00:00.000002013</td>\n",
       "      <td>2303315</td>\n",
       "      <td>15000.0</td>\n",
       "      <td>1300.0</td>\n",
       "      <td>2100.0</td>\n",
       "      <td>15000.0</td>\n",
       "      <td>0.006512</td>\n",
       "      <td>0.086667</td>\n",
       "      <td>362409.4</td>\n",
       "    </tr>\n",
       "    <tr>\n",
       "      <th>117</th>\n",
       "      <td>Mali</td>\n",
       "      <td>MLI</td>\n",
       "      <td>AFR</td>\n",
       "      <td>1970-01-01 00:00:00.000002013</td>\n",
       "      <td>15301650</td>\n",
       "      <td>14000.0</td>\n",
       "      <td>1600.0</td>\n",
       "      <td>190.0</td>\n",
       "      <td>9200.0</td>\n",
       "      <td>0.000915</td>\n",
       "      <td>0.114286</td>\n",
       "      <td>362409.4</td>\n",
       "    </tr>\n",
       "    <tr>\n",
       "      <th>32</th>\n",
       "      <td>Burkina Faso</td>\n",
       "      <td>BFA</td>\n",
       "      <td>AFR</td>\n",
       "      <td>1970-01-01 00:00:00.000002013</td>\n",
       "      <td>16934839</td>\n",
       "      <td>14000.0</td>\n",
       "      <td>1500.0</td>\n",
       "      <td>330.0</td>\n",
       "      <td>9100.0</td>\n",
       "      <td>0.000827</td>\n",
       "      <td>0.107143</td>\n",
       "      <td>362409.4</td>\n",
       "    </tr>\n",
       "    <tr>\n",
       "      <th>108</th>\n",
       "      <td>Lesotho</td>\n",
       "      <td>LSO</td>\n",
       "      <td>AFR</td>\n",
       "      <td>1970-01-01 00:00:00.000002013</td>\n",
       "      <td>2074465</td>\n",
       "      <td>13000.0</td>\n",
       "      <td>960.0</td>\n",
       "      <td>5200.0</td>\n",
       "      <td>19000.0</td>\n",
       "      <td>0.006267</td>\n",
       "      <td>0.073846</td>\n",
       "      <td>362409.4</td>\n",
       "    </tr>\n",
       "    <tr>\n",
       "      <th>21</th>\n",
       "      <td>Benin</td>\n",
       "      <td>BEN</td>\n",
       "      <td>AFR</td>\n",
       "      <td>1970-01-01 00:00:00.000002013</td>\n",
       "      <td>10323474</td>\n",
       "      <td>11000.0</td>\n",
       "      <td>1300.0</td>\n",
       "      <td>350.0</td>\n",
       "      <td>7200.0</td>\n",
       "      <td>0.001066</td>\n",
       "      <td>0.118182</td>\n",
       "      <td>362409.4</td>\n",
       "    </tr>\n",
       "    <tr>\n",
       "      <th>160</th>\n",
       "      <td>Rwanda</td>\n",
       "      <td>RWA</td>\n",
       "      <td>AFR</td>\n",
       "      <td>1970-01-01 00:00:00.000002013</td>\n",
       "      <td>11776522</td>\n",
       "      <td>10000.0</td>\n",
       "      <td>810.0</td>\n",
       "      <td>490.0</td>\n",
       "      <td>8100.0</td>\n",
       "      <td>0.000849</td>\n",
       "      <td>0.081000</td>\n",
       "      <td>362409.4</td>\n",
       "    </tr>\n",
       "    <tr>\n",
       "      <th>66</th>\n",
       "      <td>Eritrea</td>\n",
       "      <td>ERI</td>\n",
       "      <td>AFR</td>\n",
       "      <td>1970-01-01 00:00:00.000002013</td>\n",
       "      <td>6333135</td>\n",
       "      <td>9700.0</td>\n",
       "      <td>1200.0</td>\n",
       "      <td>120.0</td>\n",
       "      <td>5800.0</td>\n",
       "      <td>0.001532</td>\n",
       "      <td>0.123711</td>\n",
       "      <td>362409.4</td>\n",
       "    </tr>\n",
       "    <tr>\n",
       "      <th>73</th>\n",
       "      <td>Gabon</td>\n",
       "      <td>GAB</td>\n",
       "      <td>AFR</td>\n",
       "      <td>1970-01-01 00:00:00.000002013</td>\n",
       "      <td>1671711</td>\n",
       "      <td>9700.0</td>\n",
       "      <td>910.0</td>\n",
       "      <td>180.0</td>\n",
       "      <td>7100.0</td>\n",
       "      <td>0.005802</td>\n",
       "      <td>0.093814</td>\n",
       "      <td>362409.4</td>\n",
       "    </tr>\n",
       "    <tr>\n",
       "      <th>84</th>\n",
       "      <td>Guinea-Bissau</td>\n",
       "      <td>GNB</td>\n",
       "      <td>AFR</td>\n",
       "      <td>1970-01-01 00:00:00.000002013</td>\n",
       "      <td>1704255</td>\n",
       "      <td>8800.0</td>\n",
       "      <td>1200.0</td>\n",
       "      <td>1400.0</td>\n",
       "      <td>6600.0</td>\n",
       "      <td>0.005164</td>\n",
       "      <td>0.136364</td>\n",
       "      <td>362409.4</td>\n",
       "    </tr>\n",
       "    <tr>\n",
       "      <th>120</th>\n",
       "      <td>Mauritania</td>\n",
       "      <td>MRT</td>\n",
       "      <td>AFR</td>\n",
       "      <td>1970-01-01 00:00:00.000002013</td>\n",
       "      <td>3889880</td>\n",
       "      <td>7900.0</td>\n",
       "      <td>1000.0</td>\n",
       "      <td>35.0</td>\n",
       "      <td>4500.0</td>\n",
       "      <td>0.002031</td>\n",
       "      <td>0.126582</td>\n",
       "      <td>362409.4</td>\n",
       "    </tr>\n",
       "    <tr>\n",
       "      <th>193</th>\n",
       "      <td>Togo</td>\n",
       "      <td>TGO</td>\n",
       "      <td>AFR</td>\n",
       "      <td>1970-01-01 00:00:00.000002013</td>\n",
       "      <td>6816982</td>\n",
       "      <td>7100.0</td>\n",
       "      <td>810.0</td>\n",
       "      <td>380.0</td>\n",
       "      <td>5000.0</td>\n",
       "      <td>0.001042</td>\n",
       "      <td>0.114085</td>\n",
       "      <td>362409.4</td>\n",
       "    </tr>\n",
       "    <tr>\n",
       "      <th>27</th>\n",
       "      <td>Botswana</td>\n",
       "      <td>BWA</td>\n",
       "      <td>AFR</td>\n",
       "      <td>1970-01-01 00:00:00.000002013</td>\n",
       "      <td>2021144</td>\n",
       "      <td>7000.0</td>\n",
       "      <td>440.0</td>\n",
       "      <td>930.0</td>\n",
       "      <td>8400.0</td>\n",
       "      <td>0.003463</td>\n",
       "      <td>0.062857</td>\n",
       "      <td>362409.4</td>\n",
       "    </tr>\n",
       "    <tr>\n",
       "      <th>74</th>\n",
       "      <td>Gambia</td>\n",
       "      <td>GMB</td>\n",
       "      <td>AFR</td>\n",
       "      <td>1970-01-01 00:00:00.000002013</td>\n",
       "      <td>1849285</td>\n",
       "      <td>2300.0</td>\n",
       "      <td>370.0</td>\n",
       "      <td>110.0</td>\n",
       "      <td>3200.0</td>\n",
       "      <td>0.001244</td>\n",
       "      <td>0.160870</td>\n",
       "      <td>362409.4</td>\n",
       "    </tr>\n",
       "    <tr>\n",
       "      <th>65</th>\n",
       "      <td>Equatorial Guinea</td>\n",
       "      <td>GNQ</td>\n",
       "      <td>AFR</td>\n",
       "      <td>1970-01-01 00:00:00.000002013</td>\n",
       "      <td>757014</td>\n",
       "      <td>1200.0</td>\n",
       "      <td>67.0</td>\n",
       "      <td>41.0</td>\n",
       "      <td>1100.0</td>\n",
       "      <td>0.001585</td>\n",
       "      <td>0.055833</td>\n",
       "      <td>362409.4</td>\n",
       "    </tr>\n",
       "    <tr>\n",
       "      <th>34</th>\n",
       "      <td>Cabo Verde</td>\n",
       "      <td>CPV</td>\n",
       "      <td>AFR</td>\n",
       "      <td>1970-01-01 00:00:00.000002013</td>\n",
       "      <td>498897</td>\n",
       "      <td>1200.0</td>\n",
       "      <td>150.0</td>\n",
       "      <td>15.0</td>\n",
       "      <td>710.0</td>\n",
       "      <td>0.002405</td>\n",
       "      <td>0.125000</td>\n",
       "      <td>362409.4</td>\n",
       "    </tr>\n",
       "    <tr>\n",
       "      <th>46</th>\n",
       "      <td>Comoros</td>\n",
       "      <td>COM</td>\n",
       "      <td>AFR</td>\n",
       "      <td>1970-01-01 00:00:00.000002013</td>\n",
       "      <td>734917</td>\n",
       "      <td>450.0</td>\n",
       "      <td>58.0</td>\n",
       "      <td>0.0</td>\n",
       "      <td>250.0</td>\n",
       "      <td>0.000612</td>\n",
       "      <td>0.128889</td>\n",
       "      <td>362409.4</td>\n",
       "    </tr>\n",
       "    <tr>\n",
       "      <th>121</th>\n",
       "      <td>Mauritius</td>\n",
       "      <td>MUS</td>\n",
       "      <td>AFR</td>\n",
       "      <td>1970-01-01 00:00:00.000002013</td>\n",
       "      <td>1244403</td>\n",
       "      <td>390.0</td>\n",
       "      <td>15.0</td>\n",
       "      <td>19.0</td>\n",
       "      <td>260.0</td>\n",
       "      <td>0.000313</td>\n",
       "      <td>0.038462</td>\n",
       "      <td>362409.4</td>\n",
       "    </tr>\n",
       "    <tr>\n",
       "      <th>166</th>\n",
       "      <td>Sao Tome and Principe</td>\n",
       "      <td>STP</td>\n",
       "      <td>AFR</td>\n",
       "      <td>1970-01-01 00:00:00.000002013</td>\n",
       "      <td>192993</td>\n",
       "      <td>220.0</td>\n",
       "      <td>18.0</td>\n",
       "      <td>9.0</td>\n",
       "      <td>180.0</td>\n",
       "      <td>0.001140</td>\n",
       "      <td>0.081818</td>\n",
       "      <td>362409.4</td>\n",
       "    </tr>\n",
       "    <tr>\n",
       "      <th>171</th>\n",
       "      <td>Seychelles</td>\n",
       "      <td>SYC</td>\n",
       "      <td>AFR</td>\n",
       "      <td>1970-01-01 00:00:00.000002013</td>\n",
       "      <td>92838</td>\n",
       "      <td>34.0</td>\n",
       "      <td>1.4</td>\n",
       "      <td>0.0</td>\n",
       "      <td>28.0</td>\n",
       "      <td>0.000366</td>\n",
       "      <td>0.041176</td>\n",
       "      <td>362409.4</td>\n",
       "    </tr>\n",
       "  </tbody>\n",
       "</table>\n",
       "</div>"
      ],
      "text/plain": [
       "                              country country_code region  \\\n",
       "140                           Nigeria          NGA    AFR   \n",
       "57   Democratic Republic of the Congo          COD    AFR   \n",
       "68                           Ethiopia          ETH    AFR   \n",
       "129                        Mozambique          MOZ    AFR   \n",
       "101                             Kenya          KEN    AFR   \n",
       "113                        Madagascar          MDG    AFR   \n",
       "5                              Angola          AGO    AFR   \n",
       "206       United Republic of Tanzania          TZA    AFR   \n",
       "36                           Cameroon          CMR    AFR   \n",
       "202                            Uganda          UGA    AFR   \n",
       "218                          Zimbabwe          ZWE    AFR   \n",
       "217                            Zambia          ZMB    AFR   \n",
       "2                             Algeria          DZA    AFR   \n",
       "50                      Côte d'Ivoire          CIV    AFR   \n",
       "180                       South Sudan          SSD    AFR   \n",
       "168                           Senegal          SEN    AFR   \n",
       "83                             Guinea          GIN    AFR   \n",
       "139                             Niger          NER    AFR   \n",
       "40                               Chad          TCD    AFR   \n",
       "172                      Sierra Leone          SLE    AFR   \n",
       "114                            Malawi          MWI    AFR   \n",
       "47                              Congo          COG    AFR   \n",
       "39           Central African Republic          CAF    AFR   \n",
       "33                            Burundi          BDI    AFR   \n",
       "109                           Liberia          LBR    AFR   \n",
       "77                              Ghana          GHA    AFR   \n",
       "131                           Namibia          NAM    AFR   \n",
       "117                              Mali          MLI    AFR   \n",
       "32                       Burkina Faso          BFA    AFR   \n",
       "108                           Lesotho          LSO    AFR   \n",
       "21                              Benin          BEN    AFR   \n",
       "160                            Rwanda          RWA    AFR   \n",
       "66                            Eritrea          ERI    AFR   \n",
       "73                              Gabon          GAB    AFR   \n",
       "84                      Guinea-Bissau          GNB    AFR   \n",
       "120                        Mauritania          MRT    AFR   \n",
       "193                              Togo          TGO    AFR   \n",
       "27                           Botswana          BWA    AFR   \n",
       "74                             Gambia          GMB    AFR   \n",
       "65                  Equatorial Guinea          GNQ    AFR   \n",
       "34                         Cabo Verde          CPV    AFR   \n",
       "46                            Comoros          COM    AFR   \n",
       "121                         Mauritius          MUS    AFR   \n",
       "166             Sao Tome and Principe          STP    AFR   \n",
       "171                        Seychelles          SYC    AFR   \n",
       "\n",
       "                             year  population  tb_prevalence_all_forms  \\\n",
       "140 1970-01-01 00:00:00.000002013   173615345                 570000.0   \n",
       "57  1970-01-01 00:00:00.000002013    67513677                 370000.0   \n",
       "68  1970-01-01 00:00:00.000002013    94100756                 200000.0   \n",
       "129 1970-01-01 00:00:00.000002013    25833752                 140000.0   \n",
       "101 1970-01-01 00:00:00.000002013    44353691                 130000.0   \n",
       "113 1970-01-01 00:00:00.000002013    22924851                  95000.0   \n",
       "5   1970-01-01 00:00:00.000002013    21471618                  91000.0   \n",
       "206 1970-01-01 00:00:00.000002013    49253126                  85000.0   \n",
       "36  1970-01-01 00:00:00.000002013    22253959                  66000.0   \n",
       "202 1970-01-01 00:00:00.000002013    37578876                  58000.0   \n",
       "218 1970-01-01 00:00:00.000002013    14149648                  58000.0   \n",
       "217 1970-01-01 00:00:00.000002013    14538640                  49000.0   \n",
       "2   1970-01-01 00:00:00.000002013    39208194                  49000.0   \n",
       "50  1970-01-01 00:00:00.000002013    20316086                  44000.0   \n",
       "180 1970-01-01 00:00:00.000002013    11296173                  32000.0   \n",
       "168 1970-01-01 00:00:00.000002013    14133280                  29000.0   \n",
       "83  1970-01-01 00:00:00.000002013    11745189                  29000.0   \n",
       "139 1970-01-01 00:00:00.000002013    17831270                  28000.0   \n",
       "40  1970-01-01 00:00:00.000002013    12825314                  26000.0   \n",
       "172 1970-01-01 00:00:00.000002013     6092075                  26000.0   \n",
       "114 1970-01-01 00:00:00.000002013    16362567                  22000.0   \n",
       "47  1970-01-01 00:00:00.000002013     4447632                  21000.0   \n",
       "39  1970-01-01 00:00:00.000002013     4616417                  20000.0   \n",
       "33  1970-01-01 00:00:00.000002013    10162532                  20000.0   \n",
       "109 1970-01-01 00:00:00.000002013     4294077                  19000.0   \n",
       "77  1970-01-01 00:00:00.000002013    25904598                  18000.0   \n",
       "131 1970-01-01 00:00:00.000002013     2303315                  15000.0   \n",
       "117 1970-01-01 00:00:00.000002013    15301650                  14000.0   \n",
       "32  1970-01-01 00:00:00.000002013    16934839                  14000.0   \n",
       "108 1970-01-01 00:00:00.000002013     2074465                  13000.0   \n",
       "21  1970-01-01 00:00:00.000002013    10323474                  11000.0   \n",
       "160 1970-01-01 00:00:00.000002013    11776522                  10000.0   \n",
       "66  1970-01-01 00:00:00.000002013     6333135                   9700.0   \n",
       "73  1970-01-01 00:00:00.000002013     1671711                   9700.0   \n",
       "84  1970-01-01 00:00:00.000002013     1704255                   8800.0   \n",
       "120 1970-01-01 00:00:00.000002013     3889880                   7900.0   \n",
       "193 1970-01-01 00:00:00.000002013     6816982                   7100.0   \n",
       "27  1970-01-01 00:00:00.000002013     2021144                   7000.0   \n",
       "74  1970-01-01 00:00:00.000002013     1849285                   2300.0   \n",
       "65  1970-01-01 00:00:00.000002013      757014                   1200.0   \n",
       "34  1970-01-01 00:00:00.000002013      498897                   1200.0   \n",
       "46  1970-01-01 00:00:00.000002013      734917                    450.0   \n",
       "121 1970-01-01 00:00:00.000002013     1244403                    390.0   \n",
       "166 1970-01-01 00:00:00.000002013      192993                    220.0   \n",
       "171 1970-01-01 00:00:00.000002013       92838                     34.0   \n",
       "\n",
       "     tb_deaths_exc_hiv  tb_death_hiv  num_incidents_all_forms  tb_prev_ratio  \\\n",
       "140           160000.0       85000.0                 590000.0       0.003283   \n",
       "57             46000.0        6400.0                 220000.0       0.005480   \n",
       "68             30000.0        5600.0                 210000.0       0.002125   \n",
       "129            18000.0       38000.0                 140000.0       0.005419   \n",
       "101             9100.0        9500.0                 120000.0       0.002931   \n",
       "113            12000.0         430.0                  53000.0       0.004144   \n",
       "5               6900.0        1600.0                  69000.0       0.004238   \n",
       "206             6000.0        6100.0                  81000.0       0.001726   \n",
       "36              7800.0        7900.0                  52000.0       0.002966   \n",
       "202             4100.0        7200.0                  62000.0       0.001543   \n",
       "218             5700.0       22000.0                  78000.0       0.004099   \n",
       "217             3600.0        8600.0                  60000.0       0.003370   \n",
       "2               5100.0          35.0                  32000.0       0.001250   \n",
       "50              4000.0        2100.0                  35000.0       0.002166   \n",
       "180             4500.0           0.0                  17000.0       0.002833   \n",
       "168             2900.0         420.0                  19000.0       0.002052   \n",
       "83              3200.0        1700.0                  21000.0       0.002469   \n",
       "139             3100.0         370.0                  18000.0       0.001570   \n",
       "40              2900.0        1500.0                  19000.0       0.002027   \n",
       "172             2600.0         610.0                  19000.0       0.004268   \n",
       "114             1500.0        3400.0                  26000.0       0.001345   \n",
       "47              2000.0        1600.0                  17000.0       0.004722   \n",
       "39              2200.0        2800.0                  17000.0       0.004332   \n",
       "33              2300.0         600.0                  13000.0       0.001968   \n",
       "109             2100.0         650.0                  13000.0       0.004425   \n",
       "77              1100.0         520.0                  17000.0       0.000695   \n",
       "131             1300.0        2100.0                  15000.0       0.006512   \n",
       "117             1600.0         190.0                   9200.0       0.000915   \n",
       "32              1500.0         330.0                   9100.0       0.000827   \n",
       "108              960.0        5200.0                  19000.0       0.006267   \n",
       "21              1300.0         350.0                   7200.0       0.001066   \n",
       "160              810.0         490.0                   8100.0       0.000849   \n",
       "66              1200.0         120.0                   5800.0       0.001532   \n",
       "73               910.0         180.0                   7100.0       0.005802   \n",
       "84              1200.0        1400.0                   6600.0       0.005164   \n",
       "120             1000.0          35.0                   4500.0       0.002031   \n",
       "193              810.0         380.0                   5000.0       0.001042   \n",
       "27               440.0         930.0                   8400.0       0.003463   \n",
       "74               370.0         110.0                   3200.0       0.001244   \n",
       "65                67.0          41.0                   1100.0       0.001585   \n",
       "34               150.0          15.0                    710.0       0.002405   \n",
       "46                58.0           0.0                    250.0       0.000612   \n",
       "121               15.0          19.0                    260.0       0.000313   \n",
       "166               18.0           9.0                    180.0       0.001140   \n",
       "171                1.4           0.0                     28.0       0.000366   \n",
       "\n",
       "     tb_death_ratio_to_prev  regions_grouped_total_deaths  \n",
       "140                0.280702                      362409.4  \n",
       "57                 0.124324                      362409.4  \n",
       "68                 0.150000                      362409.4  \n",
       "129                0.128571                      362409.4  \n",
       "101                0.070000                      362409.4  \n",
       "113                0.126316                      362409.4  \n",
       "5                  0.075824                      362409.4  \n",
       "206                0.070588                      362409.4  \n",
       "36                 0.118182                      362409.4  \n",
       "202                0.070690                      362409.4  \n",
       "218                0.098276                      362409.4  \n",
       "217                0.073469                      362409.4  \n",
       "2                  0.104082                      362409.4  \n",
       "50                 0.090909                      362409.4  \n",
       "180                0.140625                      362409.4  \n",
       "168                0.100000                      362409.4  \n",
       "83                 0.110345                      362409.4  \n",
       "139                0.110714                      362409.4  \n",
       "40                 0.111538                      362409.4  \n",
       "172                0.100000                      362409.4  \n",
       "114                0.068182                      362409.4  \n",
       "47                 0.095238                      362409.4  \n",
       "39                 0.110000                      362409.4  \n",
       "33                 0.115000                      362409.4  \n",
       "109                0.110526                      362409.4  \n",
       "77                 0.061111                      362409.4  \n",
       "131                0.086667                      362409.4  \n",
       "117                0.114286                      362409.4  \n",
       "32                 0.107143                      362409.4  \n",
       "108                0.073846                      362409.4  \n",
       "21                 0.118182                      362409.4  \n",
       "160                0.081000                      362409.4  \n",
       "66                 0.123711                      362409.4  \n",
       "73                 0.093814                      362409.4  \n",
       "84                 0.136364                      362409.4  \n",
       "120                0.126582                      362409.4  \n",
       "193                0.114085                      362409.4  \n",
       "27                 0.062857                      362409.4  \n",
       "74                 0.160870                      362409.4  \n",
       "65                 0.055833                      362409.4  \n",
       "34                 0.125000                      362409.4  \n",
       "46                 0.128889                      362409.4  \n",
       "121                0.038462                      362409.4  \n",
       "166                0.081818                      362409.4  \n",
       "171                0.041176                      362409.4  "
      ]
     },
     "execution_count": 41,
     "metadata": {},
     "output_type": "execute_result"
    }
   ],
   "source": [
    "#CAUTION: Statistics are messy and data visualizations as well... look at your data\n",
    "no_outliers.loc[no_outliers['region'] == 'AFR']\n",
    "#visually there is no .12... it added the entire set of records per region - not right\n",
    "\n",
    "\n",
    "#regions_grp_series = no_outliers.groupby('region')['tb_deaths_exc_hiv'].sum()\n",
    "##regions_grp_series.info() # this is now a pandas series --> not dataframe\n",
    "#print(regions_grp_series)"
   ]
  },
  {
   "cell_type": "code",
   "execution_count": 42,
   "id": "7d772814",
   "metadata": {},
   "outputs": [
    {
     "name": "stdout",
     "output_type": "stream",
     "text": [
      "<class 'pandas.core.series.Series'>\n",
      "Index: 6 entries, AFR to WPR\n",
      "Series name: tb_prev_ratio\n",
      "Non-Null Count  Dtype  \n",
      "--------------  -----  \n",
      "6 non-null      float64\n",
      "dtypes: float64(1)\n",
      "memory usage: 96.0+ bytes\n",
      "region\n",
      "AFR    0.002680\n",
      "AMR    0.000409\n",
      "EMR    0.000967\n",
      "EUR    0.000510\n",
      "SEA    0.002596\n",
      "WPR    0.001295\n",
      "Name: tb_prev_ratio, dtype: float64\n"
     ]
    }
   ],
   "source": [
    "# let's group again but this time while taking the average\n",
    "regions_grp_series_avg = no_outliers.groupby('region')['tb_prev_ratio'].mean()\n",
    "regions_grp_series_avg.info() # this is now a pandas series --> not dataframe\n",
    "print(regions_grp_series_avg)"
   ]
  },
  {
   "cell_type": "code",
   "execution_count": 43,
   "id": "666e1b5a",
   "metadata": {},
   "outputs": [
    {
     "data": {
      "text/html": [
       "<div>\n",
       "<style scoped>\n",
       "    .dataframe tbody tr th:only-of-type {\n",
       "        vertical-align: middle;\n",
       "    }\n",
       "\n",
       "    .dataframe tbody tr th {\n",
       "        vertical-align: top;\n",
       "    }\n",
       "\n",
       "    .dataframe thead th {\n",
       "        text-align: right;\n",
       "    }\n",
       "</style>\n",
       "<table border=\"1\" class=\"dataframe\">\n",
       "  <thead>\n",
       "    <tr style=\"text-align: right;\">\n",
       "      <th></th>\n",
       "      <th>region</th>\n",
       "      <th>tb_prev_ratio</th>\n",
       "    </tr>\n",
       "  </thead>\n",
       "  <tbody>\n",
       "    <tr>\n",
       "      <th>0</th>\n",
       "      <td>AFR</td>\n",
       "      <td>0.002680</td>\n",
       "    </tr>\n",
       "    <tr>\n",
       "      <th>1</th>\n",
       "      <td>AMR</td>\n",
       "      <td>0.000409</td>\n",
       "    </tr>\n",
       "    <tr>\n",
       "      <th>2</th>\n",
       "      <td>EMR</td>\n",
       "      <td>0.000967</td>\n",
       "    </tr>\n",
       "    <tr>\n",
       "      <th>3</th>\n",
       "      <td>EUR</td>\n",
       "      <td>0.000510</td>\n",
       "    </tr>\n",
       "    <tr>\n",
       "      <th>4</th>\n",
       "      <td>SEA</td>\n",
       "      <td>0.002596</td>\n",
       "    </tr>\n",
       "    <tr>\n",
       "      <th>5</th>\n",
       "      <td>WPR</td>\n",
       "      <td>0.001295</td>\n",
       "    </tr>\n",
       "  </tbody>\n",
       "</table>\n",
       "</div>"
      ],
      "text/plain": [
       "  region  tb_prev_ratio\n",
       "0    AFR       0.002680\n",
       "1    AMR       0.000409\n",
       "2    EMR       0.000967\n",
       "3    EUR       0.000510\n",
       "4    SEA       0.002596\n",
       "5    WPR       0.001295"
      ]
     },
     "execution_count": 43,
     "metadata": {},
     "output_type": "execute_result"
    }
   ],
   "source": [
    "#once again convert series back to df for data visualization\n",
    "regions_grouped_df_avg = regions_grp_series_avg.to_frame().reset_index()\n",
    "regions_grouped_df_avg"
   ]
  },
  {
   "cell_type": "code",
   "execution_count": 38,
   "id": "b1edf91a",
   "metadata": {},
   "outputs": [
    {
     "data": {
      "application/vnd.plotly.v1+json": {
       "config": {
        "plotlyServerURL": "https://plot.ly"
       },
       "data": [
        {
         "branchvalues": "total",
         "customdata": [
          [
           0.002679582141625395
          ],
          [
           0.0004092430458662062
          ],
          [
           0.000966986193725309
          ],
          [
           0.0005103904876550589
          ],
          [
           0.0025955063292135397
          ],
          [
           0.0012948140450973597
          ],
          [
           0.008456522243182869
          ]
         ],
         "domain": {
          "x": [
           0,
           1
          ],
          "y": [
           0,
           1
          ]
         },
         "hovertemplate": "labels=%{label}<br>tb_prev_ratio=%{customdata[0]}<br>parent=%{parent}<br>id=%{id}<extra></extra>",
         "ids": [
          "all/AFR",
          "all/AMR",
          "all/EMR",
          "all/EUR",
          "all/SEA",
          "all/WPR",
          "all"
         ],
         "labels": [
          "AFR",
          "AMR",
          "EMR",
          "EUR",
          "SEA",
          "WPR",
          "all"
         ],
         "name": "",
         "parents": [
          "all",
          "all",
          "all",
          "all",
          "all",
          "all",
          ""
         ],
         "type": "treemap",
         "values": [
          0.002679582141625395,
          0.0004092430458662062,
          0.000966986193725309,
          0.0005103904876550589,
          0.0025955063292135397,
          0.0012948140450973597,
          0.008456522243182869
         ]
        }
       ],
       "layout": {
        "legend": {
         "tracegroupgap": 0
        },
        "margin": {
         "t": 60
        },
        "template": {
         "data": {
          "bar": [
           {
            "error_x": {
             "color": "#2a3f5f"
            },
            "error_y": {
             "color": "#2a3f5f"
            },
            "marker": {
             "line": {
              "color": "#E5ECF6",
              "width": 0.5
             },
             "pattern": {
              "fillmode": "overlay",
              "size": 10,
              "solidity": 0.2
             }
            },
            "type": "bar"
           }
          ],
          "barpolar": [
           {
            "marker": {
             "line": {
              "color": "#E5ECF6",
              "width": 0.5
             },
             "pattern": {
              "fillmode": "overlay",
              "size": 10,
              "solidity": 0.2
             }
            },
            "type": "barpolar"
           }
          ],
          "carpet": [
           {
            "aaxis": {
             "endlinecolor": "#2a3f5f",
             "gridcolor": "white",
             "linecolor": "white",
             "minorgridcolor": "white",
             "startlinecolor": "#2a3f5f"
            },
            "baxis": {
             "endlinecolor": "#2a3f5f",
             "gridcolor": "white",
             "linecolor": "white",
             "minorgridcolor": "white",
             "startlinecolor": "#2a3f5f"
            },
            "type": "carpet"
           }
          ],
          "choropleth": [
           {
            "colorbar": {
             "outlinewidth": 0,
             "ticks": ""
            },
            "type": "choropleth"
           }
          ],
          "contour": [
           {
            "colorbar": {
             "outlinewidth": 0,
             "ticks": ""
            },
            "colorscale": [
             [
              0,
              "#0d0887"
             ],
             [
              0.1111111111111111,
              "#46039f"
             ],
             [
              0.2222222222222222,
              "#7201a8"
             ],
             [
              0.3333333333333333,
              "#9c179e"
             ],
             [
              0.4444444444444444,
              "#bd3786"
             ],
             [
              0.5555555555555556,
              "#d8576b"
             ],
             [
              0.6666666666666666,
              "#ed7953"
             ],
             [
              0.7777777777777778,
              "#fb9f3a"
             ],
             [
              0.8888888888888888,
              "#fdca26"
             ],
             [
              1,
              "#f0f921"
             ]
            ],
            "type": "contour"
           }
          ],
          "contourcarpet": [
           {
            "colorbar": {
             "outlinewidth": 0,
             "ticks": ""
            },
            "type": "contourcarpet"
           }
          ],
          "heatmap": [
           {
            "colorbar": {
             "outlinewidth": 0,
             "ticks": ""
            },
            "colorscale": [
             [
              0,
              "#0d0887"
             ],
             [
              0.1111111111111111,
              "#46039f"
             ],
             [
              0.2222222222222222,
              "#7201a8"
             ],
             [
              0.3333333333333333,
              "#9c179e"
             ],
             [
              0.4444444444444444,
              "#bd3786"
             ],
             [
              0.5555555555555556,
              "#d8576b"
             ],
             [
              0.6666666666666666,
              "#ed7953"
             ],
             [
              0.7777777777777778,
              "#fb9f3a"
             ],
             [
              0.8888888888888888,
              "#fdca26"
             ],
             [
              1,
              "#f0f921"
             ]
            ],
            "type": "heatmap"
           }
          ],
          "heatmapgl": [
           {
            "colorbar": {
             "outlinewidth": 0,
             "ticks": ""
            },
            "colorscale": [
             [
              0,
              "#0d0887"
             ],
             [
              0.1111111111111111,
              "#46039f"
             ],
             [
              0.2222222222222222,
              "#7201a8"
             ],
             [
              0.3333333333333333,
              "#9c179e"
             ],
             [
              0.4444444444444444,
              "#bd3786"
             ],
             [
              0.5555555555555556,
              "#d8576b"
             ],
             [
              0.6666666666666666,
              "#ed7953"
             ],
             [
              0.7777777777777778,
              "#fb9f3a"
             ],
             [
              0.8888888888888888,
              "#fdca26"
             ],
             [
              1,
              "#f0f921"
             ]
            ],
            "type": "heatmapgl"
           }
          ],
          "histogram": [
           {
            "marker": {
             "pattern": {
              "fillmode": "overlay",
              "size": 10,
              "solidity": 0.2
             }
            },
            "type": "histogram"
           }
          ],
          "histogram2d": [
           {
            "colorbar": {
             "outlinewidth": 0,
             "ticks": ""
            },
            "colorscale": [
             [
              0,
              "#0d0887"
             ],
             [
              0.1111111111111111,
              "#46039f"
             ],
             [
              0.2222222222222222,
              "#7201a8"
             ],
             [
              0.3333333333333333,
              "#9c179e"
             ],
             [
              0.4444444444444444,
              "#bd3786"
             ],
             [
              0.5555555555555556,
              "#d8576b"
             ],
             [
              0.6666666666666666,
              "#ed7953"
             ],
             [
              0.7777777777777778,
              "#fb9f3a"
             ],
             [
              0.8888888888888888,
              "#fdca26"
             ],
             [
              1,
              "#f0f921"
             ]
            ],
            "type": "histogram2d"
           }
          ],
          "histogram2dcontour": [
           {
            "colorbar": {
             "outlinewidth": 0,
             "ticks": ""
            },
            "colorscale": [
             [
              0,
              "#0d0887"
             ],
             [
              0.1111111111111111,
              "#46039f"
             ],
             [
              0.2222222222222222,
              "#7201a8"
             ],
             [
              0.3333333333333333,
              "#9c179e"
             ],
             [
              0.4444444444444444,
              "#bd3786"
             ],
             [
              0.5555555555555556,
              "#d8576b"
             ],
             [
              0.6666666666666666,
              "#ed7953"
             ],
             [
              0.7777777777777778,
              "#fb9f3a"
             ],
             [
              0.8888888888888888,
              "#fdca26"
             ],
             [
              1,
              "#f0f921"
             ]
            ],
            "type": "histogram2dcontour"
           }
          ],
          "mesh3d": [
           {
            "colorbar": {
             "outlinewidth": 0,
             "ticks": ""
            },
            "type": "mesh3d"
           }
          ],
          "parcoords": [
           {
            "line": {
             "colorbar": {
              "outlinewidth": 0,
              "ticks": ""
             }
            },
            "type": "parcoords"
           }
          ],
          "pie": [
           {
            "automargin": true,
            "type": "pie"
           }
          ],
          "scatter": [
           {
            "fillpattern": {
             "fillmode": "overlay",
             "size": 10,
             "solidity": 0.2
            },
            "type": "scatter"
           }
          ],
          "scatter3d": [
           {
            "line": {
             "colorbar": {
              "outlinewidth": 0,
              "ticks": ""
             }
            },
            "marker": {
             "colorbar": {
              "outlinewidth": 0,
              "ticks": ""
             }
            },
            "type": "scatter3d"
           }
          ],
          "scattercarpet": [
           {
            "marker": {
             "colorbar": {
              "outlinewidth": 0,
              "ticks": ""
             }
            },
            "type": "scattercarpet"
           }
          ],
          "scattergeo": [
           {
            "marker": {
             "colorbar": {
              "outlinewidth": 0,
              "ticks": ""
             }
            },
            "type": "scattergeo"
           }
          ],
          "scattergl": [
           {
            "marker": {
             "colorbar": {
              "outlinewidth": 0,
              "ticks": ""
             }
            },
            "type": "scattergl"
           }
          ],
          "scattermapbox": [
           {
            "marker": {
             "colorbar": {
              "outlinewidth": 0,
              "ticks": ""
             }
            },
            "type": "scattermapbox"
           }
          ],
          "scatterpolar": [
           {
            "marker": {
             "colorbar": {
              "outlinewidth": 0,
              "ticks": ""
             }
            },
            "type": "scatterpolar"
           }
          ],
          "scatterpolargl": [
           {
            "marker": {
             "colorbar": {
              "outlinewidth": 0,
              "ticks": ""
             }
            },
            "type": "scatterpolargl"
           }
          ],
          "scatterternary": [
           {
            "marker": {
             "colorbar": {
              "outlinewidth": 0,
              "ticks": ""
             }
            },
            "type": "scatterternary"
           }
          ],
          "surface": [
           {
            "colorbar": {
             "outlinewidth": 0,
             "ticks": ""
            },
            "colorscale": [
             [
              0,
              "#0d0887"
             ],
             [
              0.1111111111111111,
              "#46039f"
             ],
             [
              0.2222222222222222,
              "#7201a8"
             ],
             [
              0.3333333333333333,
              "#9c179e"
             ],
             [
              0.4444444444444444,
              "#bd3786"
             ],
             [
              0.5555555555555556,
              "#d8576b"
             ],
             [
              0.6666666666666666,
              "#ed7953"
             ],
             [
              0.7777777777777778,
              "#fb9f3a"
             ],
             [
              0.8888888888888888,
              "#fdca26"
             ],
             [
              1,
              "#f0f921"
             ]
            ],
            "type": "surface"
           }
          ],
          "table": [
           {
            "cells": {
             "fill": {
              "color": "#EBF0F8"
             },
             "line": {
              "color": "white"
             }
            },
            "header": {
             "fill": {
              "color": "#C8D4E3"
             },
             "line": {
              "color": "white"
             }
            },
            "type": "table"
           }
          ]
         },
         "layout": {
          "annotationdefaults": {
           "arrowcolor": "#2a3f5f",
           "arrowhead": 0,
           "arrowwidth": 1
          },
          "autotypenumbers": "strict",
          "coloraxis": {
           "colorbar": {
            "outlinewidth": 0,
            "ticks": ""
           }
          },
          "colorscale": {
           "diverging": [
            [
             0,
             "#8e0152"
            ],
            [
             0.1,
             "#c51b7d"
            ],
            [
             0.2,
             "#de77ae"
            ],
            [
             0.3,
             "#f1b6da"
            ],
            [
             0.4,
             "#fde0ef"
            ],
            [
             0.5,
             "#f7f7f7"
            ],
            [
             0.6,
             "#e6f5d0"
            ],
            [
             0.7,
             "#b8e186"
            ],
            [
             0.8,
             "#7fbc41"
            ],
            [
             0.9,
             "#4d9221"
            ],
            [
             1,
             "#276419"
            ]
           ],
           "sequential": [
            [
             0,
             "#0d0887"
            ],
            [
             0.1111111111111111,
             "#46039f"
            ],
            [
             0.2222222222222222,
             "#7201a8"
            ],
            [
             0.3333333333333333,
             "#9c179e"
            ],
            [
             0.4444444444444444,
             "#bd3786"
            ],
            [
             0.5555555555555556,
             "#d8576b"
            ],
            [
             0.6666666666666666,
             "#ed7953"
            ],
            [
             0.7777777777777778,
             "#fb9f3a"
            ],
            [
             0.8888888888888888,
             "#fdca26"
            ],
            [
             1,
             "#f0f921"
            ]
           ],
           "sequentialminus": [
            [
             0,
             "#0d0887"
            ],
            [
             0.1111111111111111,
             "#46039f"
            ],
            [
             0.2222222222222222,
             "#7201a8"
            ],
            [
             0.3333333333333333,
             "#9c179e"
            ],
            [
             0.4444444444444444,
             "#bd3786"
            ],
            [
             0.5555555555555556,
             "#d8576b"
            ],
            [
             0.6666666666666666,
             "#ed7953"
            ],
            [
             0.7777777777777778,
             "#fb9f3a"
            ],
            [
             0.8888888888888888,
             "#fdca26"
            ],
            [
             1,
             "#f0f921"
            ]
           ]
          },
          "colorway": [
           "#636efa",
           "#EF553B",
           "#00cc96",
           "#ab63fa",
           "#FFA15A",
           "#19d3f3",
           "#FF6692",
           "#B6E880",
           "#FF97FF",
           "#FECB52"
          ],
          "font": {
           "color": "#2a3f5f"
          },
          "geo": {
           "bgcolor": "white",
           "lakecolor": "white",
           "landcolor": "#E5ECF6",
           "showlakes": true,
           "showland": true,
           "subunitcolor": "white"
          },
          "hoverlabel": {
           "align": "left"
          },
          "hovermode": "closest",
          "mapbox": {
           "style": "light"
          },
          "paper_bgcolor": "white",
          "plot_bgcolor": "#E5ECF6",
          "polar": {
           "angularaxis": {
            "gridcolor": "white",
            "linecolor": "white",
            "ticks": ""
           },
           "bgcolor": "#E5ECF6",
           "radialaxis": {
            "gridcolor": "white",
            "linecolor": "white",
            "ticks": ""
           }
          },
          "scene": {
           "xaxis": {
            "backgroundcolor": "#E5ECF6",
            "gridcolor": "white",
            "gridwidth": 2,
            "linecolor": "white",
            "showbackground": true,
            "ticks": "",
            "zerolinecolor": "white"
           },
           "yaxis": {
            "backgroundcolor": "#E5ECF6",
            "gridcolor": "white",
            "gridwidth": 2,
            "linecolor": "white",
            "showbackground": true,
            "ticks": "",
            "zerolinecolor": "white"
           },
           "zaxis": {
            "backgroundcolor": "#E5ECF6",
            "gridcolor": "white",
            "gridwidth": 2,
            "linecolor": "white",
            "showbackground": true,
            "ticks": "",
            "zerolinecolor": "white"
           }
          },
          "shapedefaults": {
           "line": {
            "color": "#2a3f5f"
           }
          },
          "ternary": {
           "aaxis": {
            "gridcolor": "white",
            "linecolor": "white",
            "ticks": ""
           },
           "baxis": {
            "gridcolor": "white",
            "linecolor": "white",
            "ticks": ""
           },
           "bgcolor": "#E5ECF6",
           "caxis": {
            "gridcolor": "white",
            "linecolor": "white",
            "ticks": ""
           }
          },
          "title": {
           "x": 0.05
          },
          "xaxis": {
           "automargin": true,
           "gridcolor": "white",
           "linecolor": "white",
           "ticks": "",
           "title": {
            "standoff": 15
           },
           "zerolinecolor": "white",
           "zerolinewidth": 2
          },
          "yaxis": {
           "automargin": true,
           "gridcolor": "white",
           "linecolor": "white",
           "ticks": "",
           "title": {
            "standoff": 15
           },
           "zerolinecolor": "white",
           "zerolinewidth": 2
          }
         }
        }
       }
      },
      "text/html": [
       "<div>                            <div id=\"0145d9e9-ed81-4597-8f9f-38737b2595bb\" class=\"plotly-graph-div\" style=\"height:525px; width:100%;\"></div>            <script type=\"text/javascript\">                require([\"plotly\"], function(Plotly) {                    window.PLOTLYENV=window.PLOTLYENV || {};                                    if (document.getElementById(\"0145d9e9-ed81-4597-8f9f-38737b2595bb\")) {                    Plotly.newPlot(                        \"0145d9e9-ed81-4597-8f9f-38737b2595bb\",                        [{\"branchvalues\":\"total\",\"customdata\":[[0.002679582141625395],[0.0004092430458662062],[0.000966986193725309],[0.0005103904876550589],[0.0025955063292135397],[0.0012948140450973597],[0.008456522243182869]],\"domain\":{\"x\":[0.0,1.0],\"y\":[0.0,1.0]},\"hovertemplate\":\"labels=%{label}<br>tb_prev_ratio=%{customdata[0]}<br>parent=%{parent}<br>id=%{id}<extra></extra>\",\"ids\":[\"all/AFR\",\"all/AMR\",\"all/EMR\",\"all/EUR\",\"all/SEA\",\"all/WPR\",\"all\"],\"labels\":[\"AFR\",\"AMR\",\"EMR\",\"EUR\",\"SEA\",\"WPR\",\"all\"],\"name\":\"\",\"parents\":[\"all\",\"all\",\"all\",\"all\",\"all\",\"all\",\"\"],\"values\":[0.002679582141625395,0.0004092430458662062,0.000966986193725309,0.0005103904876550589,0.0025955063292135397,0.0012948140450973597,0.008456522243182869],\"type\":\"treemap\"}],                        {\"template\":{\"data\":{\"histogram2dcontour\":[{\"type\":\"histogram2dcontour\",\"colorbar\":{\"outlinewidth\":0,\"ticks\":\"\"},\"colorscale\":[[0.0,\"#0d0887\"],[0.1111111111111111,\"#46039f\"],[0.2222222222222222,\"#7201a8\"],[0.3333333333333333,\"#9c179e\"],[0.4444444444444444,\"#bd3786\"],[0.5555555555555556,\"#d8576b\"],[0.6666666666666666,\"#ed7953\"],[0.7777777777777778,\"#fb9f3a\"],[0.8888888888888888,\"#fdca26\"],[1.0,\"#f0f921\"]]}],\"choropleth\":[{\"type\":\"choropleth\",\"colorbar\":{\"outlinewidth\":0,\"ticks\":\"\"}}],\"histogram2d\":[{\"type\":\"histogram2d\",\"colorbar\":{\"outlinewidth\":0,\"ticks\":\"\"},\"colorscale\":[[0.0,\"#0d0887\"],[0.1111111111111111,\"#46039f\"],[0.2222222222222222,\"#7201a8\"],[0.3333333333333333,\"#9c179e\"],[0.4444444444444444,\"#bd3786\"],[0.5555555555555556,\"#d8576b\"],[0.6666666666666666,\"#ed7953\"],[0.7777777777777778,\"#fb9f3a\"],[0.8888888888888888,\"#fdca26\"],[1.0,\"#f0f921\"]]}],\"heatmap\":[{\"type\":\"heatmap\",\"colorbar\":{\"outlinewidth\":0,\"ticks\":\"\"},\"colorscale\":[[0.0,\"#0d0887\"],[0.1111111111111111,\"#46039f\"],[0.2222222222222222,\"#7201a8\"],[0.3333333333333333,\"#9c179e\"],[0.4444444444444444,\"#bd3786\"],[0.5555555555555556,\"#d8576b\"],[0.6666666666666666,\"#ed7953\"],[0.7777777777777778,\"#fb9f3a\"],[0.8888888888888888,\"#fdca26\"],[1.0,\"#f0f921\"]]}],\"heatmapgl\":[{\"type\":\"heatmapgl\",\"colorbar\":{\"outlinewidth\":0,\"ticks\":\"\"},\"colorscale\":[[0.0,\"#0d0887\"],[0.1111111111111111,\"#46039f\"],[0.2222222222222222,\"#7201a8\"],[0.3333333333333333,\"#9c179e\"],[0.4444444444444444,\"#bd3786\"],[0.5555555555555556,\"#d8576b\"],[0.6666666666666666,\"#ed7953\"],[0.7777777777777778,\"#fb9f3a\"],[0.8888888888888888,\"#fdca26\"],[1.0,\"#f0f921\"]]}],\"contourcarpet\":[{\"type\":\"contourcarpet\",\"colorbar\":{\"outlinewidth\":0,\"ticks\":\"\"}}],\"contour\":[{\"type\":\"contour\",\"colorbar\":{\"outlinewidth\":0,\"ticks\":\"\"},\"colorscale\":[[0.0,\"#0d0887\"],[0.1111111111111111,\"#46039f\"],[0.2222222222222222,\"#7201a8\"],[0.3333333333333333,\"#9c179e\"],[0.4444444444444444,\"#bd3786\"],[0.5555555555555556,\"#d8576b\"],[0.6666666666666666,\"#ed7953\"],[0.7777777777777778,\"#fb9f3a\"],[0.8888888888888888,\"#fdca26\"],[1.0,\"#f0f921\"]]}],\"surface\":[{\"type\":\"surface\",\"colorbar\":{\"outlinewidth\":0,\"ticks\":\"\"},\"colorscale\":[[0.0,\"#0d0887\"],[0.1111111111111111,\"#46039f\"],[0.2222222222222222,\"#7201a8\"],[0.3333333333333333,\"#9c179e\"],[0.4444444444444444,\"#bd3786\"],[0.5555555555555556,\"#d8576b\"],[0.6666666666666666,\"#ed7953\"],[0.7777777777777778,\"#fb9f3a\"],[0.8888888888888888,\"#fdca26\"],[1.0,\"#f0f921\"]]}],\"mesh3d\":[{\"type\":\"mesh3d\",\"colorbar\":{\"outlinewidth\":0,\"ticks\":\"\"}}],\"scatter\":[{\"fillpattern\":{\"fillmode\":\"overlay\",\"size\":10,\"solidity\":0.2},\"type\":\"scatter\"}],\"parcoords\":[{\"type\":\"parcoords\",\"line\":{\"colorbar\":{\"outlinewidth\":0,\"ticks\":\"\"}}}],\"scatterpolargl\":[{\"type\":\"scatterpolargl\",\"marker\":{\"colorbar\":{\"outlinewidth\":0,\"ticks\":\"\"}}}],\"bar\":[{\"error_x\":{\"color\":\"#2a3f5f\"},\"error_y\":{\"color\":\"#2a3f5f\"},\"marker\":{\"line\":{\"color\":\"#E5ECF6\",\"width\":0.5},\"pattern\":{\"fillmode\":\"overlay\",\"size\":10,\"solidity\":0.2}},\"type\":\"bar\"}],\"scattergeo\":[{\"type\":\"scattergeo\",\"marker\":{\"colorbar\":{\"outlinewidth\":0,\"ticks\":\"\"}}}],\"scatterpolar\":[{\"type\":\"scatterpolar\",\"marker\":{\"colorbar\":{\"outlinewidth\":0,\"ticks\":\"\"}}}],\"histogram\":[{\"marker\":{\"pattern\":{\"fillmode\":\"overlay\",\"size\":10,\"solidity\":0.2}},\"type\":\"histogram\"}],\"scattergl\":[{\"type\":\"scattergl\",\"marker\":{\"colorbar\":{\"outlinewidth\":0,\"ticks\":\"\"}}}],\"scatter3d\":[{\"type\":\"scatter3d\",\"line\":{\"colorbar\":{\"outlinewidth\":0,\"ticks\":\"\"}},\"marker\":{\"colorbar\":{\"outlinewidth\":0,\"ticks\":\"\"}}}],\"scattermapbox\":[{\"type\":\"scattermapbox\",\"marker\":{\"colorbar\":{\"outlinewidth\":0,\"ticks\":\"\"}}}],\"scatterternary\":[{\"type\":\"scatterternary\",\"marker\":{\"colorbar\":{\"outlinewidth\":0,\"ticks\":\"\"}}}],\"scattercarpet\":[{\"type\":\"scattercarpet\",\"marker\":{\"colorbar\":{\"outlinewidth\":0,\"ticks\":\"\"}}}],\"carpet\":[{\"aaxis\":{\"endlinecolor\":\"#2a3f5f\",\"gridcolor\":\"white\",\"linecolor\":\"white\",\"minorgridcolor\":\"white\",\"startlinecolor\":\"#2a3f5f\"},\"baxis\":{\"endlinecolor\":\"#2a3f5f\",\"gridcolor\":\"white\",\"linecolor\":\"white\",\"minorgridcolor\":\"white\",\"startlinecolor\":\"#2a3f5f\"},\"type\":\"carpet\"}],\"table\":[{\"cells\":{\"fill\":{\"color\":\"#EBF0F8\"},\"line\":{\"color\":\"white\"}},\"header\":{\"fill\":{\"color\":\"#C8D4E3\"},\"line\":{\"color\":\"white\"}},\"type\":\"table\"}],\"barpolar\":[{\"marker\":{\"line\":{\"color\":\"#E5ECF6\",\"width\":0.5},\"pattern\":{\"fillmode\":\"overlay\",\"size\":10,\"solidity\":0.2}},\"type\":\"barpolar\"}],\"pie\":[{\"automargin\":true,\"type\":\"pie\"}]},\"layout\":{\"autotypenumbers\":\"strict\",\"colorway\":[\"#636efa\",\"#EF553B\",\"#00cc96\",\"#ab63fa\",\"#FFA15A\",\"#19d3f3\",\"#FF6692\",\"#B6E880\",\"#FF97FF\",\"#FECB52\"],\"font\":{\"color\":\"#2a3f5f\"},\"hovermode\":\"closest\",\"hoverlabel\":{\"align\":\"left\"},\"paper_bgcolor\":\"white\",\"plot_bgcolor\":\"#E5ECF6\",\"polar\":{\"bgcolor\":\"#E5ECF6\",\"angularaxis\":{\"gridcolor\":\"white\",\"linecolor\":\"white\",\"ticks\":\"\"},\"radialaxis\":{\"gridcolor\":\"white\",\"linecolor\":\"white\",\"ticks\":\"\"}},\"ternary\":{\"bgcolor\":\"#E5ECF6\",\"aaxis\":{\"gridcolor\":\"white\",\"linecolor\":\"white\",\"ticks\":\"\"},\"baxis\":{\"gridcolor\":\"white\",\"linecolor\":\"white\",\"ticks\":\"\"},\"caxis\":{\"gridcolor\":\"white\",\"linecolor\":\"white\",\"ticks\":\"\"}},\"coloraxis\":{\"colorbar\":{\"outlinewidth\":0,\"ticks\":\"\"}},\"colorscale\":{\"sequential\":[[0.0,\"#0d0887\"],[0.1111111111111111,\"#46039f\"],[0.2222222222222222,\"#7201a8\"],[0.3333333333333333,\"#9c179e\"],[0.4444444444444444,\"#bd3786\"],[0.5555555555555556,\"#d8576b\"],[0.6666666666666666,\"#ed7953\"],[0.7777777777777778,\"#fb9f3a\"],[0.8888888888888888,\"#fdca26\"],[1.0,\"#f0f921\"]],\"sequentialminus\":[[0.0,\"#0d0887\"],[0.1111111111111111,\"#46039f\"],[0.2222222222222222,\"#7201a8\"],[0.3333333333333333,\"#9c179e\"],[0.4444444444444444,\"#bd3786\"],[0.5555555555555556,\"#d8576b\"],[0.6666666666666666,\"#ed7953\"],[0.7777777777777778,\"#fb9f3a\"],[0.8888888888888888,\"#fdca26\"],[1.0,\"#f0f921\"]],\"diverging\":[[0,\"#8e0152\"],[0.1,\"#c51b7d\"],[0.2,\"#de77ae\"],[0.3,\"#f1b6da\"],[0.4,\"#fde0ef\"],[0.5,\"#f7f7f7\"],[0.6,\"#e6f5d0\"],[0.7,\"#b8e186\"],[0.8,\"#7fbc41\"],[0.9,\"#4d9221\"],[1,\"#276419\"]]},\"xaxis\":{\"gridcolor\":\"white\",\"linecolor\":\"white\",\"ticks\":\"\",\"title\":{\"standoff\":15},\"zerolinecolor\":\"white\",\"automargin\":true,\"zerolinewidth\":2},\"yaxis\":{\"gridcolor\":\"white\",\"linecolor\":\"white\",\"ticks\":\"\",\"title\":{\"standoff\":15},\"zerolinecolor\":\"white\",\"automargin\":true,\"zerolinewidth\":2},\"scene\":{\"xaxis\":{\"backgroundcolor\":\"#E5ECF6\",\"gridcolor\":\"white\",\"linecolor\":\"white\",\"showbackground\":true,\"ticks\":\"\",\"zerolinecolor\":\"white\",\"gridwidth\":2},\"yaxis\":{\"backgroundcolor\":\"#E5ECF6\",\"gridcolor\":\"white\",\"linecolor\":\"white\",\"showbackground\":true,\"ticks\":\"\",\"zerolinecolor\":\"white\",\"gridwidth\":2},\"zaxis\":{\"backgroundcolor\":\"#E5ECF6\",\"gridcolor\":\"white\",\"linecolor\":\"white\",\"showbackground\":true,\"ticks\":\"\",\"zerolinecolor\":\"white\",\"gridwidth\":2}},\"shapedefaults\":{\"line\":{\"color\":\"#2a3f5f\"}},\"annotationdefaults\":{\"arrowcolor\":\"#2a3f5f\",\"arrowhead\":0,\"arrowwidth\":1},\"geo\":{\"bgcolor\":\"white\",\"landcolor\":\"#E5ECF6\",\"subunitcolor\":\"white\",\"showland\":true,\"showlakes\":true,\"lakecolor\":\"white\"},\"title\":{\"x\":0.05},\"mapbox\":{\"style\":\"light\"}}},\"legend\":{\"tracegroupgap\":0},\"margin\":{\"t\":60}},                        {\"responsive\": true}                    ).then(function(){\n",
       "                            \n",
       "var gd = document.getElementById('0145d9e9-ed81-4597-8f9f-38737b2595bb');\n",
       "var x = new MutationObserver(function (mutations, observer) {{\n",
       "        var display = window.getComputedStyle(gd).display;\n",
       "        if (!display || display === 'none') {{\n",
       "            console.log([gd, 'removed!']);\n",
       "            Plotly.purge(gd);\n",
       "            observer.disconnect();\n",
       "        }}\n",
       "}});\n",
       "\n",
       "// Listen for the removal of the full notebook cells\n",
       "var notebookContainer = gd.closest('#notebook-container');\n",
       "if (notebookContainer) {{\n",
       "    x.observe(notebookContainer, {childList: true});\n",
       "}}\n",
       "\n",
       "// Listen for the clearing of the current output cell\n",
       "var outputEl = gd.closest('.output');\n",
       "if (outputEl) {{\n",
       "    x.observe(outputEl, {childList: true});\n",
       "}}\n",
       "\n",
       "                        })                };                });            </script>        </div>"
      ]
     },
     "metadata": {},
     "output_type": "display_data"
    }
   ],
   "source": [
    "# let's plot to get better more accurate results --> compare actuals with ratio (prevelence to population) to assess magnitude\n",
    "fig_2 = px.treemap(regions_grouped_df_avg, path=[px.Constant(\"all\"), 'region'], values='tb_prev_ratio', hover_data=['tb_prev_ratio'])\n",
    "fig_2"
   ]
  },
  {
   "cell_type": "code",
   "execution_count": null,
   "id": "e2cfca13",
   "metadata": {},
   "outputs": [],
   "source": [
    "#note: While in ABSOLUTE number SEA has more TB deaths, both SEA and AFR fair about even in the\n",
    "#total number of TB prevelence cases. "
   ]
  },
  {
   "cell_type": "code",
   "execution_count": null,
   "id": "ef7c4cc9",
   "metadata": {},
   "outputs": [],
   "source": []
  },
  {
   "cell_type": "code",
   "execution_count": null,
   "id": "a0afa43e",
   "metadata": {},
   "outputs": [],
   "source": []
  },
  {
   "cell_type": "code",
   "execution_count": null,
   "id": "d71c2407",
   "metadata": {},
   "outputs": [],
   "source": []
  },
  {
   "cell_type": "code",
   "execution_count": 44,
   "id": "3aeb5a37",
   "metadata": {},
   "outputs": [],
   "source": [
    "df_2 = pd.read_csv('./local_data/TB_Burden_Country.csv')"
   ]
  },
  {
   "cell_type": "code",
   "execution_count": 45,
   "id": "2dcfe0e0",
   "metadata": {},
   "outputs": [
    {
     "data": {
      "text/html": [
       "<div>\n",
       "<style scoped>\n",
       "    .dataframe tbody tr th:only-of-type {\n",
       "        vertical-align: middle;\n",
       "    }\n",
       "\n",
       "    .dataframe tbody tr th {\n",
       "        vertical-align: top;\n",
       "    }\n",
       "\n",
       "    .dataframe thead th {\n",
       "        text-align: right;\n",
       "    }\n",
       "</style>\n",
       "<table border=\"1\" class=\"dataframe\">\n",
       "  <thead>\n",
       "    <tr style=\"text-align: right;\">\n",
       "      <th></th>\n",
       "      <th>Country or territory name</th>\n",
       "      <th>ISO 2-character country/territory code</th>\n",
       "      <th>ISO 3-character country/territory code</th>\n",
       "      <th>ISO numeric country/territory code</th>\n",
       "      <th>Region</th>\n",
       "      <th>Year</th>\n",
       "      <th>Estimated total population number</th>\n",
       "      <th>Estimated prevalence of TB (all forms) per 100 000 population</th>\n",
       "      <th>Estimated prevalence of TB (all forms) per 100 000 population, low bound</th>\n",
       "      <th>Estimated prevalence of TB (all forms) per 100 000 population, high bound</th>\n",
       "      <th>...</th>\n",
       "      <th>Estimated incidence of TB cases who are HIV-positive per 100 000 population</th>\n",
       "      <th>Estimated incidence of TB cases who are HIV-positive per 100 000 population, low bound</th>\n",
       "      <th>Estimated incidence of TB cases who are HIV-positive per 100 000 population, high bound</th>\n",
       "      <th>Estimated incidence of TB cases who are HIV-positive</th>\n",
       "      <th>Estimated incidence of TB cases who are HIV-positive, low bound</th>\n",
       "      <th>Estimated incidence of TB cases who are HIV-positive, high bound</th>\n",
       "      <th>Method to derive TBHIV estimates</th>\n",
       "      <th>Case detection rate (all forms), percent</th>\n",
       "      <th>Case detection rate (all forms), percent, low bound</th>\n",
       "      <th>Case detection rate (all forms), percent, high bound</th>\n",
       "    </tr>\n",
       "  </thead>\n",
       "  <tbody>\n",
       "    <tr>\n",
       "      <th>48</th>\n",
       "      <td>Algeria</td>\n",
       "      <td>DZ</td>\n",
       "      <td>DZA</td>\n",
       "      <td>12</td>\n",
       "      <td>AFR</td>\n",
       "      <td>1990</td>\n",
       "      <td>26239708</td>\n",
       "      <td>100.0</td>\n",
       "      <td>51.0</td>\n",
       "      <td>166.0</td>\n",
       "      <td>...</td>\n",
       "      <td>0.04</td>\n",
       "      <td>0.03</td>\n",
       "      <td>0.23</td>\n",
       "      <td>11.0</td>\n",
       "      <td>9.0</td>\n",
       "      <td>61.0</td>\n",
       "      <td>NaN</td>\n",
       "      <td>69.0</td>\n",
       "      <td>58.0</td>\n",
       "      <td>83.0</td>\n",
       "    </tr>\n",
       "    <tr>\n",
       "      <th>49</th>\n",
       "      <td>Algeria</td>\n",
       "      <td>DZ</td>\n",
       "      <td>DZA</td>\n",
       "      <td>12</td>\n",
       "      <td>AFR</td>\n",
       "      <td>1991</td>\n",
       "      <td>26893663</td>\n",
       "      <td>99.0</td>\n",
       "      <td>51.0</td>\n",
       "      <td>164.0</td>\n",
       "      <td>...</td>\n",
       "      <td>0.05</td>\n",
       "      <td>0.04</td>\n",
       "      <td>0.27</td>\n",
       "      <td>13.0</td>\n",
       "      <td>12.0</td>\n",
       "      <td>73.0</td>\n",
       "      <td>NaN</td>\n",
       "      <td>66.0</td>\n",
       "      <td>57.0</td>\n",
       "      <td>74.0</td>\n",
       "    </tr>\n",
       "    <tr>\n",
       "      <th>50</th>\n",
       "      <td>Algeria</td>\n",
       "      <td>DZ</td>\n",
       "      <td>DZA</td>\n",
       "      <td>12</td>\n",
       "      <td>AFR</td>\n",
       "      <td>1992</td>\n",
       "      <td>27535151</td>\n",
       "      <td>100.0</td>\n",
       "      <td>51.0</td>\n",
       "      <td>165.0</td>\n",
       "      <td>...</td>\n",
       "      <td>0.06</td>\n",
       "      <td>0.05</td>\n",
       "      <td>0.32</td>\n",
       "      <td>16.0</td>\n",
       "      <td>15.0</td>\n",
       "      <td>89.0</td>\n",
       "      <td>NaN</td>\n",
       "      <td>64.0</td>\n",
       "      <td>56.0</td>\n",
       "      <td>71.0</td>\n",
       "    </tr>\n",
       "    <tr>\n",
       "      <th>51</th>\n",
       "      <td>Algeria</td>\n",
       "      <td>DZ</td>\n",
       "      <td>DZA</td>\n",
       "      <td>12</td>\n",
       "      <td>AFR</td>\n",
       "      <td>1993</td>\n",
       "      <td>28157560</td>\n",
       "      <td>102.0</td>\n",
       "      <td>52.0</td>\n",
       "      <td>170.0</td>\n",
       "      <td>...</td>\n",
       "      <td>0.07</td>\n",
       "      <td>0.07</td>\n",
       "      <td>0.39</td>\n",
       "      <td>19.0</td>\n",
       "      <td>18.0</td>\n",
       "      <td>110.0</td>\n",
       "      <td>NaN</td>\n",
       "      <td>71.0</td>\n",
       "      <td>63.0</td>\n",
       "      <td>80.0</td>\n",
       "    </tr>\n",
       "    <tr>\n",
       "      <th>52</th>\n",
       "      <td>Algeria</td>\n",
       "      <td>DZ</td>\n",
       "      <td>DZA</td>\n",
       "      <td>12</td>\n",
       "      <td>AFR</td>\n",
       "      <td>1994</td>\n",
       "      <td>28752749</td>\n",
       "      <td>106.0</td>\n",
       "      <td>54.0</td>\n",
       "      <td>176.0</td>\n",
       "      <td>...</td>\n",
       "      <td>0.08</td>\n",
       "      <td>0.08</td>\n",
       "      <td>0.50</td>\n",
       "      <td>24.0</td>\n",
       "      <td>23.0</td>\n",
       "      <td>140.0</td>\n",
       "      <td>NaN</td>\n",
       "      <td>67.0</td>\n",
       "      <td>58.0</td>\n",
       "      <td>77.0</td>\n",
       "    </tr>\n",
       "    <tr>\n",
       "      <th>...</th>\n",
       "      <td>...</td>\n",
       "      <td>...</td>\n",
       "      <td>...</td>\n",
       "      <td>...</td>\n",
       "      <td>...</td>\n",
       "      <td>...</td>\n",
       "      <td>...</td>\n",
       "      <td>...</td>\n",
       "      <td>...</td>\n",
       "      <td>...</td>\n",
       "      <td>...</td>\n",
       "      <td>...</td>\n",
       "      <td>...</td>\n",
       "      <td>...</td>\n",
       "      <td>...</td>\n",
       "      <td>...</td>\n",
       "      <td>...</td>\n",
       "      <td>...</td>\n",
       "      <td>...</td>\n",
       "      <td>...</td>\n",
       "      <td>...</td>\n",
       "    </tr>\n",
       "    <tr>\n",
       "      <th>5115</th>\n",
       "      <td>Zimbabwe</td>\n",
       "      <td>ZW</td>\n",
       "      <td>ZWE</td>\n",
       "      <td>716</td>\n",
       "      <td>AFR</td>\n",
       "      <td>2009</td>\n",
       "      <td>12888918</td>\n",
       "      <td>449.0</td>\n",
       "      <td>258.0</td>\n",
       "      <td>692.0</td>\n",
       "      <td>...</td>\n",
       "      <td>511.00</td>\n",
       "      <td>460.00</td>\n",
       "      <td>566.00</td>\n",
       "      <td>66000.0</td>\n",
       "      <td>59000.0</td>\n",
       "      <td>73000.0</td>\n",
       "      <td>NaN</td>\n",
       "      <td>50.0</td>\n",
       "      <td>45.0</td>\n",
       "      <td>54.0</td>\n",
       "    </tr>\n",
       "    <tr>\n",
       "      <th>5116</th>\n",
       "      <td>Zimbabwe</td>\n",
       "      <td>ZW</td>\n",
       "      <td>ZWE</td>\n",
       "      <td>716</td>\n",
       "      <td>AFR</td>\n",
       "      <td>2010</td>\n",
       "      <td>13076978</td>\n",
       "      <td>415.0</td>\n",
       "      <td>239.0</td>\n",
       "      <td>639.0</td>\n",
       "      <td>...</td>\n",
       "      <td>487.00</td>\n",
       "      <td>433.00</td>\n",
       "      <td>545.00</td>\n",
       "      <td>64000.0</td>\n",
       "      <td>57000.0</td>\n",
       "      <td>71000.0</td>\n",
       "      <td>NaN</td>\n",
       "      <td>53.0</td>\n",
       "      <td>48.0</td>\n",
       "      <td>59.0</td>\n",
       "    </tr>\n",
       "    <tr>\n",
       "      <th>5117</th>\n",
       "      <td>Zimbabwe</td>\n",
       "      <td>ZW</td>\n",
       "      <td>ZWE</td>\n",
       "      <td>716</td>\n",
       "      <td>AFR</td>\n",
       "      <td>2011</td>\n",
       "      <td>13358738</td>\n",
       "      <td>417.0</td>\n",
       "      <td>241.0</td>\n",
       "      <td>639.0</td>\n",
       "      <td>...</td>\n",
       "      <td>448.00</td>\n",
       "      <td>403.00</td>\n",
       "      <td>502.00</td>\n",
       "      <td>60000.0</td>\n",
       "      <td>54000.0</td>\n",
       "      <td>67000.0</td>\n",
       "      <td>NaN</td>\n",
       "      <td>48.0</td>\n",
       "      <td>43.0</td>\n",
       "      <td>53.0</td>\n",
       "    </tr>\n",
       "    <tr>\n",
       "      <th>5118</th>\n",
       "      <td>Zimbabwe</td>\n",
       "      <td>ZW</td>\n",
       "      <td>ZWE</td>\n",
       "      <td>716</td>\n",
       "      <td>AFR</td>\n",
       "      <td>2012</td>\n",
       "      <td>13724317</td>\n",
       "      <td>425.0</td>\n",
       "      <td>245.0</td>\n",
       "      <td>654.0</td>\n",
       "      <td>...</td>\n",
       "      <td>411.00</td>\n",
       "      <td>362.00</td>\n",
       "      <td>471.00</td>\n",
       "      <td>56000.0</td>\n",
       "      <td>50000.0</td>\n",
       "      <td>65000.0</td>\n",
       "      <td>NaN</td>\n",
       "      <td>45.0</td>\n",
       "      <td>40.0</td>\n",
       "      <td>52.0</td>\n",
       "    </tr>\n",
       "    <tr>\n",
       "      <th>5119</th>\n",
       "      <td>Zimbabwe</td>\n",
       "      <td>ZW</td>\n",
       "      <td>ZWE</td>\n",
       "      <td>716</td>\n",
       "      <td>AFR</td>\n",
       "      <td>2013</td>\n",
       "      <td>14149648</td>\n",
       "      <td>409.0</td>\n",
       "      <td>235.0</td>\n",
       "      <td>630.0</td>\n",
       "      <td>...</td>\n",
       "      <td>395.00</td>\n",
       "      <td>341.00</td>\n",
       "      <td>464.00</td>\n",
       "      <td>56000.0</td>\n",
       "      <td>48000.0</td>\n",
       "      <td>66000.0</td>\n",
       "      <td>NaN</td>\n",
       "      <td>42.0</td>\n",
       "      <td>36.0</td>\n",
       "      <td>49.0</td>\n",
       "    </tr>\n",
       "  </tbody>\n",
       "</table>\n",
       "<p>1359 rows × 47 columns</p>\n",
       "</div>"
      ],
      "text/plain": [
       "     Country or territory name ISO 2-character country/territory code  \\\n",
       "48                     Algeria                                     DZ   \n",
       "49                     Algeria                                     DZ   \n",
       "50                     Algeria                                     DZ   \n",
       "51                     Algeria                                     DZ   \n",
       "52                     Algeria                                     DZ   \n",
       "...                        ...                                    ...   \n",
       "5115                  Zimbabwe                                     ZW   \n",
       "5116                  Zimbabwe                                     ZW   \n",
       "5117                  Zimbabwe                                     ZW   \n",
       "5118                  Zimbabwe                                     ZW   \n",
       "5119                  Zimbabwe                                     ZW   \n",
       "\n",
       "     ISO 3-character country/territory code  \\\n",
       "48                                      DZA   \n",
       "49                                      DZA   \n",
       "50                                      DZA   \n",
       "51                                      DZA   \n",
       "52                                      DZA   \n",
       "...                                     ...   \n",
       "5115                                    ZWE   \n",
       "5116                                    ZWE   \n",
       "5117                                    ZWE   \n",
       "5118                                    ZWE   \n",
       "5119                                    ZWE   \n",
       "\n",
       "      ISO numeric country/territory code Region  Year  \\\n",
       "48                                    12    AFR  1990   \n",
       "49                                    12    AFR  1991   \n",
       "50                                    12    AFR  1992   \n",
       "51                                    12    AFR  1993   \n",
       "52                                    12    AFR  1994   \n",
       "...                                  ...    ...   ...   \n",
       "5115                                 716    AFR  2009   \n",
       "5116                                 716    AFR  2010   \n",
       "5117                                 716    AFR  2011   \n",
       "5118                                 716    AFR  2012   \n",
       "5119                                 716    AFR  2013   \n",
       "\n",
       "      Estimated total population number  \\\n",
       "48                             26239708   \n",
       "49                             26893663   \n",
       "50                             27535151   \n",
       "51                             28157560   \n",
       "52                             28752749   \n",
       "...                                 ...   \n",
       "5115                           12888918   \n",
       "5116                           13076978   \n",
       "5117                           13358738   \n",
       "5118                           13724317   \n",
       "5119                           14149648   \n",
       "\n",
       "      Estimated prevalence of TB (all forms) per 100 000 population  \\\n",
       "48                                                100.0               \n",
       "49                                                 99.0               \n",
       "50                                                100.0               \n",
       "51                                                102.0               \n",
       "52                                                106.0               \n",
       "...                                                 ...               \n",
       "5115                                              449.0               \n",
       "5116                                              415.0               \n",
       "5117                                              417.0               \n",
       "5118                                              425.0               \n",
       "5119                                              409.0               \n",
       "\n",
       "      Estimated prevalence of TB (all forms) per 100 000 population, low bound  \\\n",
       "48                                                 51.0                          \n",
       "49                                                 51.0                          \n",
       "50                                                 51.0                          \n",
       "51                                                 52.0                          \n",
       "52                                                 54.0                          \n",
       "...                                                 ...                          \n",
       "5115                                              258.0                          \n",
       "5116                                              239.0                          \n",
       "5117                                              241.0                          \n",
       "5118                                              245.0                          \n",
       "5119                                              235.0                          \n",
       "\n",
       "      Estimated prevalence of TB (all forms) per 100 000 population, high bound  \\\n",
       "48                                                166.0                           \n",
       "49                                                164.0                           \n",
       "50                                                165.0                           \n",
       "51                                                170.0                           \n",
       "52                                                176.0                           \n",
       "...                                                 ...                           \n",
       "5115                                              692.0                           \n",
       "5116                                              639.0                           \n",
       "5117                                              639.0                           \n",
       "5118                                              654.0                           \n",
       "5119                                              630.0                           \n",
       "\n",
       "      ...  \\\n",
       "48    ...   \n",
       "49    ...   \n",
       "50    ...   \n",
       "51    ...   \n",
       "52    ...   \n",
       "...   ...   \n",
       "5115  ...   \n",
       "5116  ...   \n",
       "5117  ...   \n",
       "5118  ...   \n",
       "5119  ...   \n",
       "\n",
       "      Estimated incidence of TB cases who are HIV-positive per 100 000 population  \\\n",
       "48                                                 0.04                             \n",
       "49                                                 0.05                             \n",
       "50                                                 0.06                             \n",
       "51                                                 0.07                             \n",
       "52                                                 0.08                             \n",
       "...                                                 ...                             \n",
       "5115                                             511.00                             \n",
       "5116                                             487.00                             \n",
       "5117                                             448.00                             \n",
       "5118                                             411.00                             \n",
       "5119                                             395.00                             \n",
       "\n",
       "      Estimated incidence of TB cases who are HIV-positive per 100 000 population, low bound  \\\n",
       "48                                                 0.03                                        \n",
       "49                                                 0.04                                        \n",
       "50                                                 0.05                                        \n",
       "51                                                 0.07                                        \n",
       "52                                                 0.08                                        \n",
       "...                                                 ...                                        \n",
       "5115                                             460.00                                        \n",
       "5116                                             433.00                                        \n",
       "5117                                             403.00                                        \n",
       "5118                                             362.00                                        \n",
       "5119                                             341.00                                        \n",
       "\n",
       "      Estimated incidence of TB cases who are HIV-positive per 100 000 population, high bound  \\\n",
       "48                                                 0.23                                         \n",
       "49                                                 0.27                                         \n",
       "50                                                 0.32                                         \n",
       "51                                                 0.39                                         \n",
       "52                                                 0.50                                         \n",
       "...                                                 ...                                         \n",
       "5115                                             566.00                                         \n",
       "5116                                             545.00                                         \n",
       "5117                                             502.00                                         \n",
       "5118                                             471.00                                         \n",
       "5119                                             464.00                                         \n",
       "\n",
       "     Estimated incidence of TB cases who are HIV-positive  \\\n",
       "48                                                 11.0     \n",
       "49                                                 13.0     \n",
       "50                                                 16.0     \n",
       "51                                                 19.0     \n",
       "52                                                 24.0     \n",
       "...                                                 ...     \n",
       "5115                                            66000.0     \n",
       "5116                                            64000.0     \n",
       "5117                                            60000.0     \n",
       "5118                                            56000.0     \n",
       "5119                                            56000.0     \n",
       "\n",
       "      Estimated incidence of TB cases who are HIV-positive, low bound  \\\n",
       "48                                                  9.0                 \n",
       "49                                                 12.0                 \n",
       "50                                                 15.0                 \n",
       "51                                                 18.0                 \n",
       "52                                                 23.0                 \n",
       "...                                                 ...                 \n",
       "5115                                            59000.0                 \n",
       "5116                                            57000.0                 \n",
       "5117                                            54000.0                 \n",
       "5118                                            50000.0                 \n",
       "5119                                            48000.0                 \n",
       "\n",
       "      Estimated incidence of TB cases who are HIV-positive, high bound  \\\n",
       "48                                                 61.0                  \n",
       "49                                                 73.0                  \n",
       "50                                                 89.0                  \n",
       "51                                                110.0                  \n",
       "52                                                140.0                  \n",
       "...                                                 ...                  \n",
       "5115                                            73000.0                  \n",
       "5116                                            71000.0                  \n",
       "5117                                            67000.0                  \n",
       "5118                                            65000.0                  \n",
       "5119                                            66000.0                  \n",
       "\n",
       "      Method to derive TBHIV estimates  \\\n",
       "48                                 NaN   \n",
       "49                                 NaN   \n",
       "50                                 NaN   \n",
       "51                                 NaN   \n",
       "52                                 NaN   \n",
       "...                                ...   \n",
       "5115                               NaN   \n",
       "5116                               NaN   \n",
       "5117                               NaN   \n",
       "5118                               NaN   \n",
       "5119                               NaN   \n",
       "\n",
       "      Case detection rate (all forms), percent  \\\n",
       "48                                        69.0   \n",
       "49                                        66.0   \n",
       "50                                        64.0   \n",
       "51                                        71.0   \n",
       "52                                        67.0   \n",
       "...                                        ...   \n",
       "5115                                      50.0   \n",
       "5116                                      53.0   \n",
       "5117                                      48.0   \n",
       "5118                                      45.0   \n",
       "5119                                      42.0   \n",
       "\n",
       "      Case detection rate (all forms), percent, low bound  \\\n",
       "48                                                 58.0     \n",
       "49                                                 57.0     \n",
       "50                                                 56.0     \n",
       "51                                                 63.0     \n",
       "52                                                 58.0     \n",
       "...                                                 ...     \n",
       "5115                                               45.0     \n",
       "5116                                               48.0     \n",
       "5117                                               43.0     \n",
       "5118                                               40.0     \n",
       "5119                                               36.0     \n",
       "\n",
       "      Case detection rate (all forms), percent, high bound  \n",
       "48                                                 83.0     \n",
       "49                                                 74.0     \n",
       "50                                                 71.0     \n",
       "51                                                 80.0     \n",
       "52                                                 77.0     \n",
       "...                                                 ...     \n",
       "5115                                               54.0     \n",
       "5116                                               59.0     \n",
       "5117                                               53.0     \n",
       "5118                                               52.0     \n",
       "5119                                               49.0     \n",
       "\n",
       "[1359 rows x 47 columns]"
      ]
     },
     "execution_count": 45,
     "metadata": {},
     "output_type": "execute_result"
    }
   ],
   "source": [
    "new_df2 = df_2.loc[(df_2['Region'] == 'SEA') | (df_2['Region'] == 'AFR')]\n",
    "new_df2"
   ]
  },
  {
   "cell_type": "code",
   "execution_count": 43,
   "id": "47244827",
   "metadata": {},
   "outputs": [
    {
     "name": "stderr",
     "output_type": "stream",
     "text": [
      "/var/folders/bg/npdy939j01xfcxncr1f4gps80000gn/T/ipykernel_76417/3291266480.py:4: SettingWithCopyWarning:\n",
      "\n",
      "\n",
      "A value is trying to be set on a copy of a slice from a DataFrame\n",
      "\n",
      "See the caveats in the documentation: https://pandas.pydata.org/pandas-docs/stable/user_guide/indexing.html#returning-a-view-versus-a-copy\n",
      "\n"
     ]
    },
    {
     "data": {
      "text/html": [
       "<div>\n",
       "<style scoped>\n",
       "    .dataframe tbody tr th:only-of-type {\n",
       "        vertical-align: middle;\n",
       "    }\n",
       "\n",
       "    .dataframe tbody tr th {\n",
       "        vertical-align: top;\n",
       "    }\n",
       "\n",
       "    .dataframe thead th {\n",
       "        text-align: right;\n",
       "    }\n",
       "</style>\n",
       "<table border=\"1\" class=\"dataframe\">\n",
       "  <thead>\n",
       "    <tr style=\"text-align: right;\">\n",
       "      <th></th>\n",
       "      <th>country</th>\n",
       "      <th>country_code</th>\n",
       "      <th>region</th>\n",
       "      <th>year</th>\n",
       "      <th>population</th>\n",
       "      <th>tb_prevalence_all_forms</th>\n",
       "      <th>prevalence_method</th>\n",
       "      <th>tb_deaths_exc_hiv</th>\n",
       "      <th>tb_death_hiv</th>\n",
       "      <th>mortality_method</th>\n",
       "      <th>num_incidents_all_forms</th>\n",
       "    </tr>\n",
       "  </thead>\n",
       "  <tbody>\n",
       "    <tr>\n",
       "      <th>48</th>\n",
       "      <td>Algeria</td>\n",
       "      <td>DZA</td>\n",
       "      <td>AFR</td>\n",
       "      <td>1990</td>\n",
       "      <td>26239708</td>\n",
       "      <td>26000.0</td>\n",
       "      <td>predicted</td>\n",
       "      <td>2800.0</td>\n",
       "      <td>3.0</td>\n",
       "      <td>Indirect</td>\n",
       "      <td>17000.0</td>\n",
       "    </tr>\n",
       "    <tr>\n",
       "      <th>49</th>\n",
       "      <td>Algeria</td>\n",
       "      <td>DZA</td>\n",
       "      <td>AFR</td>\n",
       "      <td>1991</td>\n",
       "      <td>26893663</td>\n",
       "      <td>27000.0</td>\n",
       "      <td>predicted</td>\n",
       "      <td>2700.0</td>\n",
       "      <td>4.0</td>\n",
       "      <td>Indirect</td>\n",
       "      <td>17000.0</td>\n",
       "    </tr>\n",
       "    <tr>\n",
       "      <th>50</th>\n",
       "      <td>Algeria</td>\n",
       "      <td>DZA</td>\n",
       "      <td>AFR</td>\n",
       "      <td>1992</td>\n",
       "      <td>27535151</td>\n",
       "      <td>27000.0</td>\n",
       "      <td>predicted</td>\n",
       "      <td>2800.0</td>\n",
       "      <td>5.0</td>\n",
       "      <td>Indirect</td>\n",
       "      <td>18000.0</td>\n",
       "    </tr>\n",
       "    <tr>\n",
       "      <th>51</th>\n",
       "      <td>Algeria</td>\n",
       "      <td>DZA</td>\n",
       "      <td>AFR</td>\n",
       "      <td>1993</td>\n",
       "      <td>28157560</td>\n",
       "      <td>29000.0</td>\n",
       "      <td>predicted</td>\n",
       "      <td>2900.0</td>\n",
       "      <td>6.0</td>\n",
       "      <td>Indirect</td>\n",
       "      <td>19000.0</td>\n",
       "    </tr>\n",
       "    <tr>\n",
       "      <th>52</th>\n",
       "      <td>Algeria</td>\n",
       "      <td>DZA</td>\n",
       "      <td>AFR</td>\n",
       "      <td>1994</td>\n",
       "      <td>28752749</td>\n",
       "      <td>31000.0</td>\n",
       "      <td>predicted</td>\n",
       "      <td>3100.0</td>\n",
       "      <td>7.0</td>\n",
       "      <td>Indirect</td>\n",
       "      <td>20000.0</td>\n",
       "    </tr>\n",
       "    <tr>\n",
       "      <th>...</th>\n",
       "      <td>...</td>\n",
       "      <td>...</td>\n",
       "      <td>...</td>\n",
       "      <td>...</td>\n",
       "      <td>...</td>\n",
       "      <td>...</td>\n",
       "      <td>...</td>\n",
       "      <td>...</td>\n",
       "      <td>...</td>\n",
       "      <td>...</td>\n",
       "      <td>...</td>\n",
       "    </tr>\n",
       "    <tr>\n",
       "      <th>5115</th>\n",
       "      <td>Zimbabwe</td>\n",
       "      <td>ZWE</td>\n",
       "      <td>AFR</td>\n",
       "      <td>2009</td>\n",
       "      <td>12888918</td>\n",
       "      <td>58000.0</td>\n",
       "      <td>predicted</td>\n",
       "      <td>5000.0</td>\n",
       "      <td>27000.0</td>\n",
       "      <td>Indirect</td>\n",
       "      <td>87000.0</td>\n",
       "    </tr>\n",
       "    <tr>\n",
       "      <th>5116</th>\n",
       "      <td>Zimbabwe</td>\n",
       "      <td>ZWE</td>\n",
       "      <td>AFR</td>\n",
       "      <td>2010</td>\n",
       "      <td>13076978</td>\n",
       "      <td>54000.0</td>\n",
       "      <td>predicted</td>\n",
       "      <td>4700.0</td>\n",
       "      <td>26000.0</td>\n",
       "      <td>Indirect</td>\n",
       "      <td>83000.0</td>\n",
       "    </tr>\n",
       "    <tr>\n",
       "      <th>5117</th>\n",
       "      <td>Zimbabwe</td>\n",
       "      <td>ZWE</td>\n",
       "      <td>AFR</td>\n",
       "      <td>2011</td>\n",
       "      <td>13358738</td>\n",
       "      <td>56000.0</td>\n",
       "      <td>predicted</td>\n",
       "      <td>5100.0</td>\n",
       "      <td>24000.0</td>\n",
       "      <td>Indirect</td>\n",
       "      <td>80000.0</td>\n",
       "    </tr>\n",
       "    <tr>\n",
       "      <th>5118</th>\n",
       "      <td>Zimbabwe</td>\n",
       "      <td>ZWE</td>\n",
       "      <td>AFR</td>\n",
       "      <td>2012</td>\n",
       "      <td>13724317</td>\n",
       "      <td>58000.0</td>\n",
       "      <td>predicted</td>\n",
       "      <td>5600.0</td>\n",
       "      <td>22000.0</td>\n",
       "      <td>Indirect</td>\n",
       "      <td>79000.0</td>\n",
       "    </tr>\n",
       "    <tr>\n",
       "      <th>5119</th>\n",
       "      <td>Zimbabwe</td>\n",
       "      <td>ZWE</td>\n",
       "      <td>AFR</td>\n",
       "      <td>2013</td>\n",
       "      <td>14149648</td>\n",
       "      <td>58000.0</td>\n",
       "      <td>predicted</td>\n",
       "      <td>5700.0</td>\n",
       "      <td>22000.0</td>\n",
       "      <td>Indirect</td>\n",
       "      <td>78000.0</td>\n",
       "    </tr>\n",
       "  </tbody>\n",
       "</table>\n",
       "<p>1359 rows × 11 columns</p>\n",
       "</div>"
      ],
      "text/plain": [
       "       country country_code region  year  population  tb_prevalence_all_forms  \\\n",
       "48     Algeria          DZA    AFR  1990    26239708                  26000.0   \n",
       "49     Algeria          DZA    AFR  1991    26893663                  27000.0   \n",
       "50     Algeria          DZA    AFR  1992    27535151                  27000.0   \n",
       "51     Algeria          DZA    AFR  1993    28157560                  29000.0   \n",
       "52     Algeria          DZA    AFR  1994    28752749                  31000.0   \n",
       "...        ...          ...    ...   ...         ...                      ...   \n",
       "5115  Zimbabwe          ZWE    AFR  2009    12888918                  58000.0   \n",
       "5116  Zimbabwe          ZWE    AFR  2010    13076978                  54000.0   \n",
       "5117  Zimbabwe          ZWE    AFR  2011    13358738                  56000.0   \n",
       "5118  Zimbabwe          ZWE    AFR  2012    13724317                  58000.0   \n",
       "5119  Zimbabwe          ZWE    AFR  2013    14149648                  58000.0   \n",
       "\n",
       "     prevalence_method  tb_deaths_exc_hiv  tb_death_hiv mortality_method  \\\n",
       "48           predicted             2800.0           3.0         Indirect   \n",
       "49           predicted             2700.0           4.0         Indirect   \n",
       "50           predicted             2800.0           5.0         Indirect   \n",
       "51           predicted             2900.0           6.0         Indirect   \n",
       "52           predicted             3100.0           7.0         Indirect   \n",
       "...                ...                ...           ...              ...   \n",
       "5115         predicted             5000.0       27000.0         Indirect   \n",
       "5116         predicted             4700.0       26000.0         Indirect   \n",
       "5117         predicted             5100.0       24000.0         Indirect   \n",
       "5118         predicted             5600.0       22000.0         Indirect   \n",
       "5119         predicted             5700.0       22000.0         Indirect   \n",
       "\n",
       "      num_incidents_all_forms  \n",
       "48                    17000.0  \n",
       "49                    17000.0  \n",
       "50                    18000.0  \n",
       "51                    19000.0  \n",
       "52                    20000.0  \n",
       "...                       ...  \n",
       "5115                  87000.0  \n",
       "5116                  83000.0  \n",
       "5117                  80000.0  \n",
       "5118                  79000.0  \n",
       "5119                  78000.0  \n",
       "\n",
       "[1359 rows x 11 columns]"
      ]
     },
     "execution_count": 43,
     "metadata": {},
     "output_type": "execute_result"
    }
   ],
   "source": [
    "#new_df2 = new_df2[columns_keep]\n",
    "#print(new_df2.shape)\n",
    "\n",
    "new_df2.rename(columns=col_mapping, inplace=True)\n",
    "new_df2"
   ]
  },
  {
   "cell_type": "code",
   "execution_count": 46,
   "id": "b7de3c5c",
   "metadata": {},
   "outputs": [
    {
     "ename": "KeyError",
     "evalue": "'tb_prevalence_all_forms'",
     "output_type": "error",
     "traceback": [
      "\u001b[0;31m---------------------------------------------------------------------------\u001b[0m",
      "\u001b[0;31mKeyError\u001b[0m                                  Traceback (most recent call last)",
      "File \u001b[0;32m/opt/anaconda3/lib/python3.11/site-packages/pandas/core/indexes/base.py:3791\u001b[0m, in \u001b[0;36mIndex.get_loc\u001b[0;34m(self, key)\u001b[0m\n\u001b[1;32m   3790\u001b[0m \u001b[38;5;28;01mtry\u001b[39;00m:\n\u001b[0;32m-> 3791\u001b[0m     \u001b[38;5;28;01mreturn\u001b[39;00m \u001b[38;5;28mself\u001b[39m\u001b[38;5;241m.\u001b[39m_engine\u001b[38;5;241m.\u001b[39mget_loc(casted_key)\n\u001b[1;32m   3792\u001b[0m \u001b[38;5;28;01mexcept\u001b[39;00m \u001b[38;5;167;01mKeyError\u001b[39;00m \u001b[38;5;28;01mas\u001b[39;00m err:\n",
      "File \u001b[0;32mindex.pyx:152\u001b[0m, in \u001b[0;36mpandas._libs.index.IndexEngine.get_loc\u001b[0;34m()\u001b[0m\n",
      "File \u001b[0;32mindex.pyx:181\u001b[0m, in \u001b[0;36mpandas._libs.index.IndexEngine.get_loc\u001b[0;34m()\u001b[0m\n",
      "File \u001b[0;32mpandas/_libs/hashtable_class_helper.pxi:7080\u001b[0m, in \u001b[0;36mpandas._libs.hashtable.PyObjectHashTable.get_item\u001b[0;34m()\u001b[0m\n",
      "File \u001b[0;32mpandas/_libs/hashtable_class_helper.pxi:7088\u001b[0m, in \u001b[0;36mpandas._libs.hashtable.PyObjectHashTable.get_item\u001b[0;34m()\u001b[0m\n",
      "\u001b[0;31mKeyError\u001b[0m: 'tb_prevalence_all_forms'",
      "\nThe above exception was the direct cause of the following exception:\n",
      "\u001b[0;31mKeyError\u001b[0m                                  Traceback (most recent call last)",
      "Cell \u001b[0;32mIn[46], line 2\u001b[0m\n\u001b[1;32m      1\u001b[0m \u001b[38;5;66;03m### Create new columns for comparative analysis\u001b[39;00m\n\u001b[0;32m----> 2\u001b[0m new_df2[\u001b[38;5;124m'\u001b[39m\u001b[38;5;124mtb_prev_ratio\u001b[39m\u001b[38;5;124m'\u001b[39m] \u001b[38;5;241m=\u001b[39m new_df2[\u001b[38;5;124m'\u001b[39m\u001b[38;5;124mtb_prevalence_all_forms\u001b[39m\u001b[38;5;124m'\u001b[39m]\u001b[38;5;241m.\u001b[39mdiv(new_df2[\u001b[38;5;124m'\u001b[39m\u001b[38;5;124mpopulation\u001b[39m\u001b[38;5;124m'\u001b[39m], axis\u001b[38;5;241m=\u001b[39m\u001b[38;5;241m0\u001b[39m)\n\u001b[1;32m      3\u001b[0m new_df2[\u001b[38;5;124m'\u001b[39m\u001b[38;5;124mtb_death_ratio_to_prev\u001b[39m\u001b[38;5;124m'\u001b[39m] \u001b[38;5;241m=\u001b[39m new_df2[\u001b[38;5;124m'\u001b[39m\u001b[38;5;124mtb_deaths_exc_hiv\u001b[39m\u001b[38;5;124m'\u001b[39m]\u001b[38;5;241m.\u001b[39mdiv(new_df2[\u001b[38;5;124m'\u001b[39m\u001b[38;5;124mtb_prevalence_all_forms\u001b[39m\u001b[38;5;124m'\u001b[39m], axis\u001b[38;5;241m=\u001b[39m\u001b[38;5;241m0\u001b[39m)\n\u001b[1;32m      4\u001b[0m new_df2\n",
      "File \u001b[0;32m/opt/anaconda3/lib/python3.11/site-packages/pandas/core/frame.py:3893\u001b[0m, in \u001b[0;36mDataFrame.__getitem__\u001b[0;34m(self, key)\u001b[0m\n\u001b[1;32m   3891\u001b[0m \u001b[38;5;28;01mif\u001b[39;00m \u001b[38;5;28mself\u001b[39m\u001b[38;5;241m.\u001b[39mcolumns\u001b[38;5;241m.\u001b[39mnlevels \u001b[38;5;241m>\u001b[39m \u001b[38;5;241m1\u001b[39m:\n\u001b[1;32m   3892\u001b[0m     \u001b[38;5;28;01mreturn\u001b[39;00m \u001b[38;5;28mself\u001b[39m\u001b[38;5;241m.\u001b[39m_getitem_multilevel(key)\n\u001b[0;32m-> 3893\u001b[0m indexer \u001b[38;5;241m=\u001b[39m \u001b[38;5;28mself\u001b[39m\u001b[38;5;241m.\u001b[39mcolumns\u001b[38;5;241m.\u001b[39mget_loc(key)\n\u001b[1;32m   3894\u001b[0m \u001b[38;5;28;01mif\u001b[39;00m is_integer(indexer):\n\u001b[1;32m   3895\u001b[0m     indexer \u001b[38;5;241m=\u001b[39m [indexer]\n",
      "File \u001b[0;32m/opt/anaconda3/lib/python3.11/site-packages/pandas/core/indexes/base.py:3798\u001b[0m, in \u001b[0;36mIndex.get_loc\u001b[0;34m(self, key)\u001b[0m\n\u001b[1;32m   3793\u001b[0m     \u001b[38;5;28;01mif\u001b[39;00m \u001b[38;5;28misinstance\u001b[39m(casted_key, \u001b[38;5;28mslice\u001b[39m) \u001b[38;5;129;01mor\u001b[39;00m (\n\u001b[1;32m   3794\u001b[0m         \u001b[38;5;28misinstance\u001b[39m(casted_key, abc\u001b[38;5;241m.\u001b[39mIterable)\n\u001b[1;32m   3795\u001b[0m         \u001b[38;5;129;01mand\u001b[39;00m \u001b[38;5;28many\u001b[39m(\u001b[38;5;28misinstance\u001b[39m(x, \u001b[38;5;28mslice\u001b[39m) \u001b[38;5;28;01mfor\u001b[39;00m x \u001b[38;5;129;01min\u001b[39;00m casted_key)\n\u001b[1;32m   3796\u001b[0m     ):\n\u001b[1;32m   3797\u001b[0m         \u001b[38;5;28;01mraise\u001b[39;00m InvalidIndexError(key)\n\u001b[0;32m-> 3798\u001b[0m     \u001b[38;5;28;01mraise\u001b[39;00m \u001b[38;5;167;01mKeyError\u001b[39;00m(key) \u001b[38;5;28;01mfrom\u001b[39;00m \u001b[38;5;21;01merr\u001b[39;00m\n\u001b[1;32m   3799\u001b[0m \u001b[38;5;28;01mexcept\u001b[39;00m \u001b[38;5;167;01mTypeError\u001b[39;00m:\n\u001b[1;32m   3800\u001b[0m     \u001b[38;5;66;03m# If we have a listlike key, _check_indexing_error will raise\u001b[39;00m\n\u001b[1;32m   3801\u001b[0m     \u001b[38;5;66;03m#  InvalidIndexError. Otherwise we fall through and re-raise\u001b[39;00m\n\u001b[1;32m   3802\u001b[0m     \u001b[38;5;66;03m#  the TypeError.\u001b[39;00m\n\u001b[1;32m   3803\u001b[0m     \u001b[38;5;28mself\u001b[39m\u001b[38;5;241m.\u001b[39m_check_indexing_error(key)\n",
      "\u001b[0;31mKeyError\u001b[0m: 'tb_prevalence_all_forms'"
     ]
    }
   ],
   "source": [
    "### Create new columns for comparative analysis\n",
    "new_df2['tb_prev_ratio'] = new_df2['tb_prevalence_all_forms'].div(new_df2['population'], axis=0)\n",
    "new_df2['tb_death_ratio_to_prev'] = new_df2['tb_deaths_exc_hiv'].div(new_df2['tb_prevalence_all_forms'], axis=0)\n",
    "new_df2"
   ]
  },
  {
   "cell_type": "code",
   "execution_count": null,
   "id": "4a26a7c6",
   "metadata": {},
   "outputs": [],
   "source": [
    "sns.lineplot(data=new_df2, x='year', y='tb_death_ratio_to_prev', label='line1')"
   ]
  },
  {
   "cell_type": "code",
   "execution_count": null,
   "id": "d994d539",
   "metadata": {
    "collapsed": true
   },
   "outputs": [],
   "source": []
  },
  {
   "cell_type": "code",
   "execution_count": null,
   "id": "d93e6075",
   "metadata": {},
   "outputs": [],
   "source": []
  },
  {
   "cell_type": "code",
   "execution_count": null,
   "id": "78261d81",
   "metadata": {},
   "outputs": [],
   "source": []
  },
  {
   "cell_type": "code",
   "execution_count": null,
   "id": "017b60d4",
   "metadata": {},
   "outputs": [],
   "source": []
  },
  {
   "cell_type": "code",
   "execution_count": null,
   "id": "256b30cd",
   "metadata": {},
   "outputs": [],
   "source": []
  },
  {
   "cell_type": "code",
   "execution_count": null,
   "id": "e5b0f6be",
   "metadata": {},
   "outputs": [],
   "source": []
  },
  {
   "cell_type": "code",
   "execution_count": null,
   "id": "6dbdfe61",
   "metadata": {},
   "outputs": [],
   "source": []
  },
  {
   "cell_type": "code",
   "execution_count": 62,
   "id": "f980a9e2",
   "metadata": {
    "collapsed": true
   },
   "outputs": [
    {
     "data": {
      "text/html": [
       "<div>\n",
       "<style scoped>\n",
       "    .dataframe tbody tr th:only-of-type {\n",
       "        vertical-align: middle;\n",
       "    }\n",
       "\n",
       "    .dataframe tbody tr th {\n",
       "        vertical-align: top;\n",
       "    }\n",
       "\n",
       "    .dataframe thead th {\n",
       "        text-align: right;\n",
       "    }\n",
       "</style>\n",
       "<table border=\"1\" class=\"dataframe\">\n",
       "  <thead>\n",
       "    <tr style=\"text-align: right;\">\n",
       "      <th></th>\n",
       "      <th>population</th>\n",
       "      <th>tb_prevalence_all_forms</th>\n",
       "      <th>tb_deaths_exc_hiv</th>\n",
       "      <th>tb_death_hiv</th>\n",
       "      <th>num_incidents_all_forms</th>\n",
       "      <th>tb_prev_ratio</th>\n",
       "      <th>tb_death_ratio_to_prev</th>\n",
       "    </tr>\n",
       "  </thead>\n",
       "  <tbody>\n",
       "    <tr>\n",
       "      <th>23</th>\n",
       "      <td>30551674</td>\n",
       "      <td>100000.0</td>\n",
       "      <td>13000.00</td>\n",
       "      <td>82.00</td>\n",
       "      <td>58000.0</td>\n",
       "      <td>0.003273</td>\n",
       "      <td>0.130000</td>\n",
       "    </tr>\n",
       "    <tr>\n",
       "      <th>47</th>\n",
       "      <td>3173271</td>\n",
       "      <td>850.0</td>\n",
       "      <td>20.00</td>\n",
       "      <td>0.00</td>\n",
       "      <td>590.0</td>\n",
       "      <td>0.000268</td>\n",
       "      <td>0.023529</td>\n",
       "    </tr>\n",
       "    <tr>\n",
       "      <th>71</th>\n",
       "      <td>39208194</td>\n",
       "      <td>49000.0</td>\n",
       "      <td>5100.00</td>\n",
       "      <td>35.00</td>\n",
       "      <td>32000.0</td>\n",
       "      <td>0.001250</td>\n",
       "      <td>0.104082</td>\n",
       "    </tr>\n",
       "    <tr>\n",
       "      <th>95</th>\n",
       "      <td>55165</td>\n",
       "      <td>5.2</td>\n",
       "      <td>0.35</td>\n",
       "      <td>0.00</td>\n",
       "      <td>4.0</td>\n",
       "      <td>0.000094</td>\n",
       "      <td>0.067308</td>\n",
       "    </tr>\n",
       "    <tr>\n",
       "      <th>119</th>\n",
       "      <td>79218</td>\n",
       "      <td>6.5</td>\n",
       "      <td>0.26</td>\n",
       "      <td>0.00</td>\n",
       "      <td>5.8</td>\n",
       "      <td>0.000082</td>\n",
       "      <td>0.040000</td>\n",
       "    </tr>\n",
       "    <tr>\n",
       "      <th>...</th>\n",
       "      <td>...</td>\n",
       "      <td>...</td>\n",
       "      <td>...</td>\n",
       "      <td>...</td>\n",
       "      <td>...</td>\n",
       "      <td>...</td>\n",
       "      <td>...</td>\n",
       "    </tr>\n",
       "    <tr>\n",
       "      <th>5023</th>\n",
       "      <td>13272</td>\n",
       "      <td>2.2</td>\n",
       "      <td>0.30</td>\n",
       "      <td>0.00</td>\n",
       "      <td>1.2</td>\n",
       "      <td>0.000166</td>\n",
       "      <td>0.136364</td>\n",
       "    </tr>\n",
       "    <tr>\n",
       "      <th>5047</th>\n",
       "      <td>4326295</td>\n",
       "      <td>310.0</td>\n",
       "      <td>8.90</td>\n",
       "      <td>0.56</td>\n",
       "      <td>200.0</td>\n",
       "      <td>0.000072</td>\n",
       "      <td>0.028710</td>\n",
       "    </tr>\n",
       "    <tr>\n",
       "      <th>5071</th>\n",
       "      <td>24407381</td>\n",
       "      <td>15000.0</td>\n",
       "      <td>990.00</td>\n",
       "      <td>18.00</td>\n",
       "      <td>12000.0</td>\n",
       "      <td>0.000615</td>\n",
       "      <td>0.066000</td>\n",
       "    </tr>\n",
       "    <tr>\n",
       "      <th>5095</th>\n",
       "      <td>14538640</td>\n",
       "      <td>49000.0</td>\n",
       "      <td>3600.00</td>\n",
       "      <td>8600.00</td>\n",
       "      <td>60000.0</td>\n",
       "      <td>0.003370</td>\n",
       "      <td>0.073469</td>\n",
       "    </tr>\n",
       "    <tr>\n",
       "      <th>5119</th>\n",
       "      <td>14149648</td>\n",
       "      <td>58000.0</td>\n",
       "      <td>5700.00</td>\n",
       "      <td>22000.00</td>\n",
       "      <td>78000.0</td>\n",
       "      <td>0.004099</td>\n",
       "      <td>0.098276</td>\n",
       "    </tr>\n",
       "  </tbody>\n",
       "</table>\n",
       "<p>219 rows × 7 columns</p>\n",
       "</div>"
      ],
      "text/plain": [
       "      population  tb_prevalence_all_forms  tb_deaths_exc_hiv  tb_death_hiv  \\\n",
       "23      30551674                 100000.0           13000.00         82.00   \n",
       "47       3173271                    850.0              20.00          0.00   \n",
       "71      39208194                  49000.0            5100.00         35.00   \n",
       "95         55165                      5.2               0.35          0.00   \n",
       "119        79218                      6.5               0.26          0.00   \n",
       "...          ...                      ...                ...           ...   \n",
       "5023       13272                      2.2               0.30          0.00   \n",
       "5047     4326295                    310.0               8.90          0.56   \n",
       "5071    24407381                  15000.0             990.00         18.00   \n",
       "5095    14538640                  49000.0            3600.00       8600.00   \n",
       "5119    14149648                  58000.0            5700.00      22000.00   \n",
       "\n",
       "      num_incidents_all_forms  tb_prev_ratio  tb_death_ratio_to_prev  \n",
       "23                    58000.0       0.003273                0.130000  \n",
       "47                      590.0       0.000268                0.023529  \n",
       "71                    32000.0       0.001250                0.104082  \n",
       "95                        4.0       0.000094                0.067308  \n",
       "119                       5.8       0.000082                0.040000  \n",
       "...                       ...            ...                     ...  \n",
       "5023                      1.2       0.000166                0.136364  \n",
       "5047                    200.0       0.000072                0.028710  \n",
       "5071                  12000.0       0.000615                0.066000  \n",
       "5095                  60000.0       0.003370                0.073469  \n",
       "5119                  78000.0       0.004099                0.098276  \n",
       "\n",
       "[219 rows x 7 columns]"
      ]
     },
     "execution_count": 62,
     "metadata": {},
     "output_type": "execute_result"
    }
   ],
   "source": [
    "# First create new dataframe with numeric values only\n",
    "df_numeric = df.select_dtypes(include='number')\n",
    "df_numeric"
   ]
  },
  {
   "cell_type": "code",
   "execution_count": 65,
   "id": "74f8927a",
   "metadata": {
    "collapsed": true
   },
   "outputs": [
    {
     "data": {
      "text/html": [
       "<div>\n",
       "<style scoped>\n",
       "    .dataframe tbody tr th:only-of-type {\n",
       "        vertical-align: middle;\n",
       "    }\n",
       "\n",
       "    .dataframe tbody tr th {\n",
       "        vertical-align: top;\n",
       "    }\n",
       "\n",
       "    .dataframe thead th {\n",
       "        text-align: right;\n",
       "    }\n",
       "</style>\n",
       "<table border=\"1\" class=\"dataframe\">\n",
       "  <thead>\n",
       "    <tr style=\"text-align: right;\">\n",
       "      <th></th>\n",
       "      <th>population</th>\n",
       "      <th>tb_prevalence_all_forms</th>\n",
       "      <th>tb_deaths_exc_hiv</th>\n",
       "      <th>tb_death_hiv</th>\n",
       "      <th>num_incidents_all_forms</th>\n",
       "      <th>tb_prev_ratio</th>\n",
       "      <th>tb_death_ratio_to_prev</th>\n",
       "    </tr>\n",
       "  </thead>\n",
       "  <tbody>\n",
       "    <tr>\n",
       "      <th>23</th>\n",
       "      <td>0.022050</td>\n",
       "      <td>3.846154e-02</td>\n",
       "      <td>0.054167</td>\n",
       "      <td>0.000965</td>\n",
       "      <td>2.761905e-02</td>\n",
       "      <td>0.340820</td>\n",
       "      <td>0.0</td>\n",
       "    </tr>\n",
       "    <tr>\n",
       "      <th>47</th>\n",
       "      <td>0.002290</td>\n",
       "      <td>3.269231e-04</td>\n",
       "      <td>0.000083</td>\n",
       "      <td>0.000000</td>\n",
       "      <td>2.809524e-04</td>\n",
       "      <td>0.027891</td>\n",
       "      <td>0.0</td>\n",
       "    </tr>\n",
       "    <tr>\n",
       "      <th>71</th>\n",
       "      <td>0.028298</td>\n",
       "      <td>1.884615e-02</td>\n",
       "      <td>0.021250</td>\n",
       "      <td>0.000412</td>\n",
       "      <td>1.523810e-02</td>\n",
       "      <td>0.130131</td>\n",
       "      <td>0.0</td>\n",
       "    </tr>\n",
       "    <tr>\n",
       "      <th>95</th>\n",
       "      <td>0.000040</td>\n",
       "      <td>2.000000e-06</td>\n",
       "      <td>0.000001</td>\n",
       "      <td>0.000000</td>\n",
       "      <td>1.904762e-06</td>\n",
       "      <td>0.009815</td>\n",
       "      <td>0.0</td>\n",
       "    </tr>\n",
       "    <tr>\n",
       "      <th>119</th>\n",
       "      <td>0.000057</td>\n",
       "      <td>2.500000e-06</td>\n",
       "      <td>0.000001</td>\n",
       "      <td>0.000000</td>\n",
       "      <td>2.761905e-06</td>\n",
       "      <td>0.008544</td>\n",
       "      <td>0.0</td>\n",
       "    </tr>\n",
       "    <tr>\n",
       "      <th>...</th>\n",
       "      <td>...</td>\n",
       "      <td>...</td>\n",
       "      <td>...</td>\n",
       "      <td>...</td>\n",
       "      <td>...</td>\n",
       "      <td>...</td>\n",
       "      <td>...</td>\n",
       "    </tr>\n",
       "    <tr>\n",
       "      <th>5023</th>\n",
       "      <td>0.000010</td>\n",
       "      <td>8.461538e-07</td>\n",
       "      <td>0.000001</td>\n",
       "      <td>0.000000</td>\n",
       "      <td>5.714286e-07</td>\n",
       "      <td>0.017260</td>\n",
       "      <td>0.0</td>\n",
       "    </tr>\n",
       "    <tr>\n",
       "      <th>5047</th>\n",
       "      <td>0.003122</td>\n",
       "      <td>1.192308e-04</td>\n",
       "      <td>0.000037</td>\n",
       "      <td>0.000007</td>\n",
       "      <td>9.523810e-05</td>\n",
       "      <td>0.007461</td>\n",
       "      <td>0.0</td>\n",
       "    </tr>\n",
       "    <tr>\n",
       "      <th>5071</th>\n",
       "      <td>0.017615</td>\n",
       "      <td>5.769231e-03</td>\n",
       "      <td>0.004125</td>\n",
       "      <td>0.000212</td>\n",
       "      <td>5.714286e-03</td>\n",
       "      <td>0.063993</td>\n",
       "      <td>0.0</td>\n",
       "    </tr>\n",
       "    <tr>\n",
       "      <th>5095</th>\n",
       "      <td>0.010493</td>\n",
       "      <td>1.884615e-02</td>\n",
       "      <td>0.015000</td>\n",
       "      <td>0.101176</td>\n",
       "      <td>2.857143e-02</td>\n",
       "      <td>0.350939</td>\n",
       "      <td>0.0</td>\n",
       "    </tr>\n",
       "    <tr>\n",
       "      <th>5119</th>\n",
       "      <td>0.010212</td>\n",
       "      <td>2.230769e-02</td>\n",
       "      <td>0.023750</td>\n",
       "      <td>0.258824</td>\n",
       "      <td>3.714286e-02</td>\n",
       "      <td>0.426818</td>\n",
       "      <td>0.0</td>\n",
       "    </tr>\n",
       "  </tbody>\n",
       "</table>\n",
       "<p>219 rows × 7 columns</p>\n",
       "</div>"
      ],
      "text/plain": [
       "      population  tb_prevalence_all_forms  tb_deaths_exc_hiv  tb_death_hiv  \\\n",
       "23      0.022050             3.846154e-02           0.054167      0.000965   \n",
       "47      0.002290             3.269231e-04           0.000083      0.000000   \n",
       "71      0.028298             1.884615e-02           0.021250      0.000412   \n",
       "95      0.000040             2.000000e-06           0.000001      0.000000   \n",
       "119     0.000057             2.500000e-06           0.000001      0.000000   \n",
       "...          ...                      ...                ...           ...   \n",
       "5023    0.000010             8.461538e-07           0.000001      0.000000   \n",
       "5047    0.003122             1.192308e-04           0.000037      0.000007   \n",
       "5071    0.017615             5.769231e-03           0.004125      0.000212   \n",
       "5095    0.010493             1.884615e-02           0.015000      0.101176   \n",
       "5119    0.010212             2.230769e-02           0.023750      0.258824   \n",
       "\n",
       "      num_incidents_all_forms  tb_prev_ratio  tb_death_ratio_to_prev  \n",
       "23               2.761905e-02       0.340820                     0.0  \n",
       "47               2.809524e-04       0.027891                     0.0  \n",
       "71               1.523810e-02       0.130131                     0.0  \n",
       "95               1.904762e-06       0.009815                     0.0  \n",
       "119              2.761905e-06       0.008544                     0.0  \n",
       "...                       ...            ...                     ...  \n",
       "5023             5.714286e-07       0.017260                     0.0  \n",
       "5047             9.523810e-05       0.007461                     0.0  \n",
       "5071             5.714286e-03       0.063993                     0.0  \n",
       "5095             2.857143e-02       0.350939                     0.0  \n",
       "5119             3.714286e-02       0.426818                     0.0  \n",
       "\n",
       "[219 rows x 7 columns]"
      ]
     },
     "execution_count": 65,
     "metadata": {},
     "output_type": "execute_result"
    }
   ],
   "source": [
    "#Let us normalize the data first (put the data between -1 and 1 for easier comparative purposes)\n",
    "\n",
    "df_numeric_normalized = df_numeric.copy()\n",
    "for column in df_numeric_normalized.columns:\n",
    "    df_numeric_normalized[column] = df_numeric_normalized[column] / df_numeric_normalized[column].abs().max()\n",
    "df_numeric_normalized"
   ]
  },
  {
   "cell_type": "code",
   "execution_count": 66,
   "id": "4767289f",
   "metadata": {
    "collapsed": true
   },
   "outputs": [
    {
     "data": {
      "text/plain": [
       "<Axes: xlabel='tb_prev_ratio'>"
      ]
     },
     "execution_count": 66,
     "metadata": {},
     "output_type": "execute_result"
    },
    {
     "data": {
      "image/png": "[encoded data removed]",
      "text/plain": [
       "<Figure size 640x480 with 1 Axes>"
      ]
     },
     "metadata": {},
     "output_type": "display_data"
    }
   ],
   "source": [
    "#let's verify visually again with scaled values\n",
    "sns.boxplot(x=df_numeric_normalized['tb_prev_ratio'])"
   ]
  },
  {
   "cell_type": "code",
   "execution_count": 67,
   "id": "c16f73f4",
   "metadata": {
    "collapsed": true
   },
   "outputs": [
    {
     "data": {
      "text/html": [
       "<div>\n",
       "<style scoped>\n",
       "    .dataframe tbody tr th:only-of-type {\n",
       "        vertical-align: middle;\n",
       "    }\n",
       "\n",
       "    .dataframe tbody tr th {\n",
       "        vertical-align: top;\n",
       "    }\n",
       "\n",
       "    .dataframe thead th {\n",
       "        text-align: right;\n",
       "    }\n",
       "</style>\n",
       "<table border=\"1\" class=\"dataframe\">\n",
       "  <thead>\n",
       "    <tr style=\"text-align: right;\">\n",
       "      <th></th>\n",
       "      <th>population</th>\n",
       "      <th>tb_prevalence_all_forms</th>\n",
       "      <th>tb_deaths_exc_hiv</th>\n",
       "      <th>tb_death_hiv</th>\n",
       "      <th>num_incidents_all_forms</th>\n",
       "      <th>tb_prev_ratio</th>\n",
       "      <th>tb_death_ratio_to_prev</th>\n",
       "    </tr>\n",
       "  </thead>\n",
       "  <tbody>\n",
       "  </tbody>\n",
       "</table>\n",
       "</div>"
      ],
      "text/plain": [
       "Empty DataFrame\n",
       "Columns: [population, tb_prevalence_all_forms, tb_deaths_exc_hiv, tb_death_hiv, num_incidents_all_forms, tb_prev_ratio, tb_death_ratio_to_prev]\n",
       "Index: []"
      ]
     },
     "execution_count": 67,
     "metadata": {},
     "output_type": "execute_result"
    }
   ],
   "source": [
    "# here are the outliers in TB_PREV_RATIO (Turberculosis Prevelance Ratio - if any)\n",
    "tb_prev_ratio_outliers = outliers_zscore(df_numeric_normalized, 'tb_prev_ratio')\n",
    "tb_prev_ratio_outliers"
   ]
  },
  {
   "cell_type": "code",
   "execution_count": 72,
   "id": "0f4909db",
   "metadata": {
    "collapsed": true
   },
   "outputs": [
    {
     "data": {
      "text/html": [
       "<div>\n",
       "<style scoped>\n",
       "    .dataframe tbody tr th:only-of-type {\n",
       "        vertical-align: middle;\n",
       "    }\n",
       "\n",
       "    .dataframe tbody tr th {\n",
       "        vertical-align: top;\n",
       "    }\n",
       "\n",
       "    .dataframe thead th {\n",
       "        text-align: right;\n",
       "    }\n",
       "</style>\n",
       "<table border=\"1\" class=\"dataframe\">\n",
       "  <thead>\n",
       "    <tr style=\"text-align: right;\">\n",
       "      <th></th>\n",
       "      <th>population</th>\n",
       "      <th>tb_prevalence_all_forms</th>\n",
       "      <th>tb_deaths_exc_hiv</th>\n",
       "      <th>tb_death_hiv</th>\n",
       "      <th>num_incidents_all_forms</th>\n",
       "      <th>tb_prev_ratio</th>\n",
       "      <th>tb_death_ratio_to_prev</th>\n",
       "    </tr>\n",
       "  </thead>\n",
       "  <tbody>\n",
       "    <tr>\n",
       "      <th>23</th>\n",
       "      <td>30551674</td>\n",
       "      <td>100000.0</td>\n",
       "      <td>13000.00</td>\n",
       "      <td>82.00</td>\n",
       "      <td>58000.0</td>\n",
       "      <td>0.003273</td>\n",
       "      <td>0.130000</td>\n",
       "    </tr>\n",
       "    <tr>\n",
       "      <th>47</th>\n",
       "      <td>3173271</td>\n",
       "      <td>850.0</td>\n",
       "      <td>20.00</td>\n",
       "      <td>0.00</td>\n",
       "      <td>590.0</td>\n",
       "      <td>0.000268</td>\n",
       "      <td>0.023529</td>\n",
       "    </tr>\n",
       "    <tr>\n",
       "      <th>71</th>\n",
       "      <td>39208194</td>\n",
       "      <td>49000.0</td>\n",
       "      <td>5100.00</td>\n",
       "      <td>35.00</td>\n",
       "      <td>32000.0</td>\n",
       "      <td>0.001250</td>\n",
       "      <td>0.104082</td>\n",
       "    </tr>\n",
       "    <tr>\n",
       "      <th>95</th>\n",
       "      <td>55165</td>\n",
       "      <td>5.2</td>\n",
       "      <td>0.35</td>\n",
       "      <td>0.00</td>\n",
       "      <td>4.0</td>\n",
       "      <td>0.000094</td>\n",
       "      <td>0.067308</td>\n",
       "    </tr>\n",
       "    <tr>\n",
       "      <th>119</th>\n",
       "      <td>79218</td>\n",
       "      <td>6.5</td>\n",
       "      <td>0.26</td>\n",
       "      <td>0.00</td>\n",
       "      <td>5.8</td>\n",
       "      <td>0.000082</td>\n",
       "      <td>0.040000</td>\n",
       "    </tr>\n",
       "    <tr>\n",
       "      <th>...</th>\n",
       "      <td>...</td>\n",
       "      <td>...</td>\n",
       "      <td>...</td>\n",
       "      <td>...</td>\n",
       "      <td>...</td>\n",
       "      <td>...</td>\n",
       "      <td>...</td>\n",
       "    </tr>\n",
       "    <tr>\n",
       "      <th>5023</th>\n",
       "      <td>13272</td>\n",
       "      <td>2.2</td>\n",
       "      <td>0.30</td>\n",
       "      <td>0.00</td>\n",
       "      <td>1.2</td>\n",
       "      <td>0.000166</td>\n",
       "      <td>0.136364</td>\n",
       "    </tr>\n",
       "    <tr>\n",
       "      <th>5047</th>\n",
       "      <td>4326295</td>\n",
       "      <td>310.0</td>\n",
       "      <td>8.90</td>\n",
       "      <td>0.56</td>\n",
       "      <td>200.0</td>\n",
       "      <td>0.000072</td>\n",
       "      <td>0.028710</td>\n",
       "    </tr>\n",
       "    <tr>\n",
       "      <th>5071</th>\n",
       "      <td>24407381</td>\n",
       "      <td>15000.0</td>\n",
       "      <td>990.00</td>\n",
       "      <td>18.00</td>\n",
       "      <td>12000.0</td>\n",
       "      <td>0.000615</td>\n",
       "      <td>0.066000</td>\n",
       "    </tr>\n",
       "    <tr>\n",
       "      <th>5095</th>\n",
       "      <td>14538640</td>\n",
       "      <td>49000.0</td>\n",
       "      <td>3600.00</td>\n",
       "      <td>8600.00</td>\n",
       "      <td>60000.0</td>\n",
       "      <td>0.003370</td>\n",
       "      <td>0.073469</td>\n",
       "    </tr>\n",
       "    <tr>\n",
       "      <th>5119</th>\n",
       "      <td>14149648</td>\n",
       "      <td>58000.0</td>\n",
       "      <td>5700.00</td>\n",
       "      <td>22000.00</td>\n",
       "      <td>78000.0</td>\n",
       "      <td>0.004099</td>\n",
       "      <td>0.098276</td>\n",
       "    </tr>\n",
       "  </tbody>\n",
       "</table>\n",
       "<p>219 rows × 7 columns</p>\n",
       "</div>"
      ],
      "text/plain": [
       "      population  tb_prevalence_all_forms  tb_deaths_exc_hiv  tb_death_hiv  \\\n",
       "23      30551674                 100000.0           13000.00         82.00   \n",
       "47       3173271                    850.0              20.00          0.00   \n",
       "71      39208194                  49000.0            5100.00         35.00   \n",
       "95         55165                      5.2               0.35          0.00   \n",
       "119        79218                      6.5               0.26          0.00   \n",
       "...          ...                      ...                ...           ...   \n",
       "5023       13272                      2.2               0.30          0.00   \n",
       "5047     4326295                    310.0               8.90          0.56   \n",
       "5071    24407381                  15000.0             990.00         18.00   \n",
       "5095    14538640                  49000.0            3600.00       8600.00   \n",
       "5119    14149648                  58000.0            5700.00      22000.00   \n",
       "\n",
       "      num_incidents_all_forms  tb_prev_ratio  tb_death_ratio_to_prev  \n",
       "23                    58000.0       0.003273                0.130000  \n",
       "47                      590.0       0.000268                0.023529  \n",
       "71                    32000.0       0.001250                0.104082  \n",
       "95                        4.0       0.000094                0.067308  \n",
       "119                       5.8       0.000082                0.040000  \n",
       "...                       ...            ...                     ...  \n",
       "5023                      1.2       0.000166                0.136364  \n",
       "5047                    200.0       0.000072                0.028710  \n",
       "5071                  12000.0       0.000615                0.066000  \n",
       "5095                  60000.0       0.003370                0.073469  \n",
       "5119                  78000.0       0.004099                0.098276  \n",
       "\n",
       "[219 rows x 7 columns]"
      ]
     },
     "execution_count": 72,
     "metadata": {},
     "output_type": "execute_result"
    }
   ],
   "source": [
    "from scipy import stats\n",
    "df_numeric"
   ]
  },
  {
   "cell_type": "code",
   "execution_count": 73,
   "id": "956fded0",
   "metadata": {},
   "outputs": [
    {
     "data": {
      "text/plain": [
       "23      1.006485\n",
       "47      0.610925\n",
       "71      0.082489\n",
       "95      0.704354\n",
       "119     0.710926\n",
       "          ...   \n",
       "5023    0.665874\n",
       "5047    0.716522\n",
       "5071    0.424331\n",
       "5095    1.058790\n",
       "5119    1.450975\n",
       "Name: tb_prev_ratio, Length: 219, dtype: float64"
      ]
     },
     "execution_count": 73,
     "metadata": {},
     "output_type": "execute_result"
    }
   ],
   "source": [
    "z = np.abs(stats.zscore(df_numeric['tb_prev_ratio']))\n",
    "z"
   ]
  },
  {
   "cell_type": "code",
   "execution_count": 76,
   "id": "35af82e3",
   "metadata": {
    "collapsed": true
   },
   "outputs": [
    {
     "ename": "KeyError",
     "evalue": "'[35, 59, 102, 179, 185, 192] not found in axis'",
     "output_type": "error",
     "traceback": [
      "\u001b[0;31m---------------------------------------------------------------------------\u001b[0m",
      "\u001b[0;31mKeyError\u001b[0m                                  Traceback (most recent call last)",
      "Cell \u001b[0;32mIn[76], line 3\u001b[0m\n\u001b[1;32m      1\u001b[0m threshold \u001b[38;5;241m=\u001b[39m \u001b[38;5;241m3\u001b[39m\n\u001b[1;32m      2\u001b[0m outlier_indices \u001b[38;5;241m=\u001b[39m np\u001b[38;5;241m.\u001b[39mwhere(z \u001b[38;5;241m>\u001b[39m threshold)[\u001b[38;5;241m0\u001b[39m]\n\u001b[0;32m----> 3\u001b[0m no_outliers \u001b[38;5;241m=\u001b[39m df_numeric\u001b[38;5;241m.\u001b[39mdrop(outlier_indices, axis\u001b[38;5;241m=\u001b[39m\u001b[38;5;241m1\u001b[39m)\n\u001b[1;32m      4\u001b[0m \u001b[38;5;28mprint\u001b[39m(\u001b[38;5;124m'\u001b[39m\u001b[38;5;124moriginal dataframe shape: \u001b[39m\u001b[38;5;124m'\u001b[39m, df_numeric\u001b[38;5;241m.\u001b[39mshape)\n\u001b[1;32m      5\u001b[0m \u001b[38;5;28mprint\u001b[39m(\u001b[38;5;124m'\u001b[39m\u001b[38;5;124mdataframe after removal of outliers: \u001b[39m\u001b[38;5;124m'\u001b[39m, no_outliers\u001b[38;5;241m.\u001b[39mshape)\n",
      "File \u001b[0;32m/opt/anaconda3/lib/python3.11/site-packages/pandas/core/frame.py:5344\u001b[0m, in \u001b[0;36mDataFrame.drop\u001b[0;34m(self, labels, axis, index, columns, level, inplace, errors)\u001b[0m\n\u001b[1;32m   5196\u001b[0m \u001b[38;5;28;01mdef\u001b[39;00m \u001b[38;5;21mdrop\u001b[39m(\n\u001b[1;32m   5197\u001b[0m     \u001b[38;5;28mself\u001b[39m,\n\u001b[1;32m   5198\u001b[0m     labels: IndexLabel \u001b[38;5;241m|\u001b[39m \u001b[38;5;28;01mNone\u001b[39;00m \u001b[38;5;241m=\u001b[39m \u001b[38;5;28;01mNone\u001b[39;00m,\n\u001b[0;32m   (...)\u001b[0m\n\u001b[1;32m   5205\u001b[0m     errors: IgnoreRaise \u001b[38;5;241m=\u001b[39m \u001b[38;5;124m\"\u001b[39m\u001b[38;5;124mraise\u001b[39m\u001b[38;5;124m\"\u001b[39m,\n\u001b[1;32m   5206\u001b[0m ) \u001b[38;5;241m-\u001b[39m\u001b[38;5;241m>\u001b[39m DataFrame \u001b[38;5;241m|\u001b[39m \u001b[38;5;28;01mNone\u001b[39;00m:\n\u001b[1;32m   5207\u001b[0m \u001b[38;5;250m    \u001b[39m\u001b[38;5;124;03m\"\"\"\u001b[39;00m\n\u001b[1;32m   5208\u001b[0m \u001b[38;5;124;03m    Drop specified labels from rows or columns.\u001b[39;00m\n\u001b[1;32m   5209\u001b[0m \n\u001b[0;32m   (...)\u001b[0m\n\u001b[1;32m   5342\u001b[0m \u001b[38;5;124;03m            weight  1.0     0.8\u001b[39;00m\n\u001b[1;32m   5343\u001b[0m \u001b[38;5;124;03m    \"\"\"\u001b[39;00m\n\u001b[0;32m-> 5344\u001b[0m     \u001b[38;5;28;01mreturn\u001b[39;00m \u001b[38;5;28msuper\u001b[39m()\u001b[38;5;241m.\u001b[39mdrop(\n\u001b[1;32m   5345\u001b[0m         labels\u001b[38;5;241m=\u001b[39mlabels,\n\u001b[1;32m   5346\u001b[0m         axis\u001b[38;5;241m=\u001b[39maxis,\n\u001b[1;32m   5347\u001b[0m         index\u001b[38;5;241m=\u001b[39mindex,\n\u001b[1;32m   5348\u001b[0m         columns\u001b[38;5;241m=\u001b[39mcolumns,\n\u001b[1;32m   5349\u001b[0m         level\u001b[38;5;241m=\u001b[39mlevel,\n\u001b[1;32m   5350\u001b[0m         inplace\u001b[38;5;241m=\u001b[39minplace,\n\u001b[1;32m   5351\u001b[0m         errors\u001b[38;5;241m=\u001b[39merrors,\n\u001b[1;32m   5352\u001b[0m     )\n",
      "File \u001b[0;32m/opt/anaconda3/lib/python3.11/site-packages/pandas/core/generic.py:4711\u001b[0m, in \u001b[0;36mNDFrame.drop\u001b[0;34m(self, labels, axis, index, columns, level, inplace, errors)\u001b[0m\n\u001b[1;32m   4709\u001b[0m \u001b[38;5;28;01mfor\u001b[39;00m axis, labels \u001b[38;5;129;01min\u001b[39;00m axes\u001b[38;5;241m.\u001b[39mitems():\n\u001b[1;32m   4710\u001b[0m     \u001b[38;5;28;01mif\u001b[39;00m labels \u001b[38;5;129;01mis\u001b[39;00m \u001b[38;5;129;01mnot\u001b[39;00m \u001b[38;5;28;01mNone\u001b[39;00m:\n\u001b[0;32m-> 4711\u001b[0m         obj \u001b[38;5;241m=\u001b[39m obj\u001b[38;5;241m.\u001b[39m_drop_axis(labels, axis, level\u001b[38;5;241m=\u001b[39mlevel, errors\u001b[38;5;241m=\u001b[39merrors)\n\u001b[1;32m   4713\u001b[0m \u001b[38;5;28;01mif\u001b[39;00m inplace:\n\u001b[1;32m   4714\u001b[0m     \u001b[38;5;28mself\u001b[39m\u001b[38;5;241m.\u001b[39m_update_inplace(obj)\n",
      "File \u001b[0;32m/opt/anaconda3/lib/python3.11/site-packages/pandas/core/generic.py:4753\u001b[0m, in \u001b[0;36mNDFrame._drop_axis\u001b[0;34m(self, labels, axis, level, errors, only_slice)\u001b[0m\n\u001b[1;32m   4751\u001b[0m         new_axis \u001b[38;5;241m=\u001b[39m axis\u001b[38;5;241m.\u001b[39mdrop(labels, level\u001b[38;5;241m=\u001b[39mlevel, errors\u001b[38;5;241m=\u001b[39merrors)\n\u001b[1;32m   4752\u001b[0m     \u001b[38;5;28;01melse\u001b[39;00m:\n\u001b[0;32m-> 4753\u001b[0m         new_axis \u001b[38;5;241m=\u001b[39m axis\u001b[38;5;241m.\u001b[39mdrop(labels, errors\u001b[38;5;241m=\u001b[39merrors)\n\u001b[1;32m   4754\u001b[0m     indexer \u001b[38;5;241m=\u001b[39m axis\u001b[38;5;241m.\u001b[39mget_indexer(new_axis)\n\u001b[1;32m   4756\u001b[0m \u001b[38;5;66;03m# Case for non-unique axis\u001b[39;00m\n\u001b[1;32m   4757\u001b[0m \u001b[38;5;28;01melse\u001b[39;00m:\n",
      "File \u001b[0;32m/opt/anaconda3/lib/python3.11/site-packages/pandas/core/indexes/base.py:7000\u001b[0m, in \u001b[0;36mIndex.drop\u001b[0;34m(self, labels, errors)\u001b[0m\n\u001b[1;32m   6998\u001b[0m \u001b[38;5;28;01mif\u001b[39;00m mask\u001b[38;5;241m.\u001b[39many():\n\u001b[1;32m   6999\u001b[0m     \u001b[38;5;28;01mif\u001b[39;00m errors \u001b[38;5;241m!=\u001b[39m \u001b[38;5;124m\"\u001b[39m\u001b[38;5;124mignore\u001b[39m\u001b[38;5;124m\"\u001b[39m:\n\u001b[0;32m-> 7000\u001b[0m         \u001b[38;5;28;01mraise\u001b[39;00m \u001b[38;5;167;01mKeyError\u001b[39;00m(\u001b[38;5;124mf\u001b[39m\u001b[38;5;124m\"\u001b[39m\u001b[38;5;132;01m{\u001b[39;00mlabels[mask]\u001b[38;5;241m.\u001b[39mtolist()\u001b[38;5;132;01m}\u001b[39;00m\u001b[38;5;124m not found in axis\u001b[39m\u001b[38;5;124m\"\u001b[39m)\n\u001b[1;32m   7001\u001b[0m     indexer \u001b[38;5;241m=\u001b[39m indexer[\u001b[38;5;241m~\u001b[39mmask]\n\u001b[1;32m   7002\u001b[0m \u001b[38;5;28;01mreturn\u001b[39;00m \u001b[38;5;28mself\u001b[39m\u001b[38;5;241m.\u001b[39mdelete(indexer)\n",
      "\u001b[0;31mKeyError\u001b[0m: '[35, 59, 102, 179, 185, 192] not found in axis'"
     ]
    }
   ],
   "source": [
    "threshold = 3\n",
    "outlier_indices = np.where(z > threshold)[0]\n",
    "no_outliers = df_numeric.drop(outlier_indices, axis=1)\n",
    "print('original dataframe shape: ', df_numeric.shape)\n",
    "print('dataframe after removal of outliers: ', no_outliers.shape)"
   ]
  },
  {
   "cell_type": "code",
   "execution_count": null,
   "id": "d2278886",
   "metadata": {
    "collapsed": true
   },
   "outputs": [],
   "source": []
  }
 ],
 "metadata": {
  "kernelspec": {
   "display_name": "Python 3 (ipykernel)",
   "language": "python",
   "name": "python3"
  },
  "language_info": {
   "codemirror_mode": {
    "name": "ipython",
    "version": 3
   },
   "file_extension": ".py",
   "mimetype": "text/x-python",
   "name": "python",
   "nbconvert_exporter": "python",
   "pygments_lexer": "ipython3",
   "version": "3.11.7"
  }
 },
 "nbformat": 4,
 "nbformat_minor": 5
}
